{
  "nbformat": 4,
  "nbformat_minor": 0,
  "metadata": {
    "colab": {
      "provenance": [],
      "toc_visible": true
    },
    "kernelspec": {
      "name": "python3",
      "display_name": "Python 3"
    }
  },
  "cells": [
    {
      "cell_type": "markdown",
      "source": [
        "<center>\n",
        "        <a href=\"https://colab.research.google.com/drive/12B1VK-QLECECe-GpIhRRXFbqoSLxXGj5#scrollTo=xEUsse99e8Tj\" target=\"_parent\">\n",
        "        <img src=\"https://colab.research.google.com/assets/colab-badge.svg\" alt=\"Open In Colab\"/>\n",
        "        </a>\n",
        "</center>\n",
        "\n",
        "# <center><b>🐍Control Flow - Python Statement🐍</b></center>\n"
      ],
      "metadata": {
        "id": "xEUsse99e8Tj"
      }
    },
    {
      "cell_type": "markdown",
      "metadata": {
        "id": "EzWKi_PpwGSn"
      },
      "source": [
        "# **`if` `elif` & `else`**\n"
      ]
    },
    {
      "cell_type": "markdown",
      "source": [
        "```python\n",
        "if test expression:\n",
        "    statement(s)\n",
        "```\n"
      ],
      "metadata": {
        "id": "B4RWrCra3TWz"
      }
    },
    {
      "cell_type": "code",
      "metadata": {
        "id": "aukRatazeP8r",
        "outputId": "7dc24e3a-f8a8-4af6-f460-91a04c1f7736",
        "colab": {
          "base_uri": "https://localhost:8080/"
        }
      },
      "source": [
        "hungry = True \n",
        "\n",
        "if hungry:\n",
        "    print('Feed Me!')\n",
        "else:\n",
        "    print('I m not hungry')"
      ],
      "execution_count": 1,
      "outputs": [
        {
          "output_type": "stream",
          "name": "stdout",
          "text": [
            "Feed Me!\n"
          ]
        }
      ]
    },
    {
      "cell_type": "code",
      "metadata": {
        "id": "FnXmMawinvcg",
        "outputId": "9a66fa85-ed05-49a5-b6f3-b37f3f933c98",
        "colab": {
          "base_uri": "https://localhost:8080/"
        }
      },
      "source": [
        "loc = 'Auto shop'\n",
        "\n",
        "if loc == 'Auto shop':\n",
        "    print('Cars are cool!')\n",
        "elif loc == 'Bank':\n",
        "    print('Monry is cool!')\n",
        "elif loc == 'Store':\n",
        "    print('Welcome to the Store!')\n",
        "else:\n",
        "    print('I do not know the much')"
      ],
      "execution_count": 2,
      "outputs": [
        {
          "output_type": "stream",
          "name": "stdout",
          "text": [
            "Cars are cool!\n"
          ]
        }
      ]
    },
    {
      "cell_type": "code",
      "source": [
        "# If the number is positive, we print an appropriate message\n",
        "num = 3\n",
        "if num > 0:\n",
        "    print(num, \"is a positive number.\")\n",
        "\n",
        "print(\"This is always printed.\")       # as its outside the loop\n",
        "\n",
        "num = -1\n",
        "if num > 0:\n",
        "    print(num, \"is a positive number.\")\n",
        "\n",
        "print(\"This is also always printed.\")  # as its outside the loop"
      ],
      "metadata": {
        "colab": {
          "base_uri": "https://localhost:8080/"
        },
        "id": "C6UAnYp73eKW",
        "outputId": "0ba84be9-beb1-4719-e081-d9bd246ce508"
      },
      "execution_count": 3,
      "outputs": [
        {
          "output_type": "stream",
          "name": "stdout",
          "text": [
            "3 is a positive number.\n",
            "This is always printed.\n",
            "This is also always printed.\n"
          ]
        }
      ]
    },
    {
      "cell_type": "markdown",
      "source": [
        "Complex Examples"
      ],
      "metadata": {
        "id": "iN65_QjlUnf8"
      }
    },
    {
      "cell_type": "code",
      "source": [
        "import math\n",
        "\n",
        "def get_roots(a, b, c):\n",
        "  # Calculate the discriminant\n",
        "  discriminant = b**2 - 4*a*c\n",
        "  \n",
        "  # Check the value of the discriminant\n",
        "  if discriminant > 0:\n",
        "    # Calculate the two roots\n",
        "    root1 = (-b + math.sqrt(discriminant)) / (2*a)\n",
        "    root2 = (-b - math.sqrt(discriminant)) / (2*a)\n",
        "    return (root1, root2)\n",
        "  elif discriminant == 0:\n",
        "    # Calculate the single root\n",
        "    root = -b / (2*a)\n",
        "    return (root,)\n",
        "  else:\n",
        "    # The discriminant is negative, so there are no real roots\n",
        "    return None\n",
        "\n",
        "# Test the function\n",
        "roots = get_roots(1, 2, 1)\n",
        "\n",
        "if roots is not None:\n",
        "  if len(roots) == 1:\n",
        "    print(f\"The root is {roots[0]}\")\n",
        "  else:\n",
        "    print(f\"The roots are {roots[0]} and {roots[1]}\")\n",
        "else:\n",
        "  print(\"There are no real roots\")"
      ],
      "metadata": {
        "colab": {
          "base_uri": "https://localhost:8080/"
        },
        "id": "_TsaMODk6Qdk",
        "outputId": "d55603ad-216b-4e6f-9c1f-d3169ab07d7c"
      },
      "execution_count": 4,
      "outputs": [
        {
          "output_type": "stream",
          "name": "stdout",
          "text": [
            "The root is -1.0\n"
          ]
        }
      ]
    },
    {
      "cell_type": "code",
      "source": [
        "def classify_triangle(a, b, c):\n",
        "  # Check if the sides form a valid triangle\n",
        "  if a + b > c and a + c > b and b + c > a:\n",
        "    # Check the type of triangle\n",
        "    if a == b and b == c:\n",
        "      return \"equilateral\"\n",
        "    elif a == b or a == c or b == c:\n",
        "      return \"isosceles\"\n",
        "    else:\n",
        "      return \"scalene\"\n",
        "  else:\n",
        "    return \"not a triangle\"\n",
        "\n",
        "# Test the function\n",
        "print(classify_triangle(3, 3, 3))  # Output: \"equilateral\"\n",
        "print(classify_triangle(3, 3, 4))  # Output: \"isosceles\"\n",
        "print(classify_triangle(3, 4, 5))  # Output: \"scalene\"\n",
        "print(classify_triangle(1, 1, 3))  # Output: \"not a triangle\"\n"
      ],
      "metadata": {
        "colab": {
          "base_uri": "https://localhost:8080/"
        },
        "id": "3G_MHQXZ7ZJw",
        "outputId": "998ac390-892d-4d91-c845-fa2049b9557f"
      },
      "execution_count": 5,
      "outputs": [
        {
          "output_type": "stream",
          "name": "stdout",
          "text": [
            "equilateral\n",
            "isosceles\n",
            "scalene\n",
            "not a triangle\n"
          ]
        }
      ]
    },
    {
      "cell_type": "code",
      "source": [
        "def get_discount(price, age):\n",
        "  if age < 18:\n",
        "    discount = 0.1\n",
        "  elif age < 65:\n",
        "    discount = 0.3\n",
        "  else:\n",
        "    discount = 0.5\n",
        "  return price * (1 - discount)\n",
        "\n",
        "# Test the function\n",
        "print(get_discount(100, 17))  # Output: 90.0\n",
        "print(get_discount(100, 35))  # Output: 70.0\n",
        "print(get_discount(100, 65))  # Output: 50.0\n",
        "print(get_discount(100, 85))  # Output: 50.0"
      ],
      "metadata": {
        "colab": {
          "base_uri": "https://localhost:8080/"
        },
        "id": "Q2vsI4QGTa1r",
        "outputId": "ba936c2d-22f3-4a5b-d4a0-1a86eb4c9c13"
      },
      "execution_count": 6,
      "outputs": [
        {
          "output_type": "stream",
          "name": "stdout",
          "text": [
            "90.0\n",
            "70.0\n",
            "50.0\n",
            "50.0\n"
          ]
        }
      ]
    },
    {
      "cell_type": "markdown",
      "metadata": {
        "id": "j24R_yC6p1fJ"
      },
      "source": [
        "# **`for` Loop**"
      ]
    },
    {
      "cell_type": "code",
      "metadata": {
        "id": "Yhf2y96NpfqO",
        "outputId": "2c3e0ba4-bd4e-4d74-8766-14311fa1dfcf",
        "colab": {
          "base_uri": "https://localhost:8080/"
        }
      },
      "source": [
        "# Iterating through the list\n",
        "mylist = [1, 2, 3, 4, 5]\n",
        "\n",
        "for num in mylist:\n",
        "    print(num, end='  ')"
      ],
      "execution_count": 7,
      "outputs": [
        {
          "output_type": "stream",
          "name": "stdout",
          "text": [
            "1  2  3  4  5  "
          ]
        }
      ]
    },
    {
      "cell_type": "code",
      "metadata": {
        "id": "yZZ__UzjsF6U",
        "outputId": "58950faa-8f9d-4665-bb18-a93ddec7c3ee",
        "colab": {
          "base_uri": "https://localhost:8080/"
        }
      },
      "source": [
        "mylist = [1, 2, 3, 4, 5]\n",
        "\n",
        "for num in mylist:\n",
        "    print('Hello!')"
      ],
      "execution_count": 8,
      "outputs": [
        {
          "output_type": "stream",
          "name": "stdout",
          "text": [
            "Hello!\n",
            "Hello!\n",
            "Hello!\n",
            "Hello!\n",
            "Hello!\n"
          ]
        }
      ]
    },
    {
      "cell_type": "code",
      "metadata": {
        "id": "IHdVdUGZsYP8",
        "outputId": "c5d81642-8ee7-4604-8201-01a6154972a9",
        "colab": {
          "base_uri": "https://localhost:8080/"
        }
      },
      "source": [
        "# Printing odd and even number of a list\n",
        "\n",
        "my_list = [1, 2, 3, 4, 5, 6, 7, 8, 9, 10]\n",
        "\n",
        "for num in my_list:\n",
        "    if num % 2 == 0:\n",
        "        print(f'even Number: {num}')\n",
        "    else:\n",
        "        print(f'odd Number:  {num}')"
      ],
      "execution_count": 9,
      "outputs": [
        {
          "output_type": "stream",
          "name": "stdout",
          "text": [
            "odd Number:  1\n",
            "even Number: 2\n",
            "odd Number:  3\n",
            "even Number: 4\n",
            "odd Number:  5\n",
            "even Number: 6\n",
            "odd Number:  7\n",
            "even Number: 8\n",
            "odd Number:  9\n",
            "even Number: 10\n"
          ]
        }
      ]
    },
    {
      "cell_type": "code",
      "metadata": {
        "id": "TxUAhX13-wFB",
        "outputId": "0eeee1a5-85e3-4c01-abe4-9d8480d6a487",
        "colab": {
          "base_uri": "https://localhost:8080/"
        }
      },
      "source": [
        "my_list = [1, 2, 3, 4, 5, 6, 7, 8, 9, 10]\n",
        "\n",
        "list_sum = 0   \n",
        "\n",
        "for num in my_list:\n",
        "    list_sum = list_sum + num\n",
        "    print(list_sum)"
      ],
      "execution_count": 10,
      "outputs": [
        {
          "output_type": "stream",
          "name": "stdout",
          "text": [
            "1\n",
            "3\n",
            "6\n",
            "10\n",
            "15\n",
            "21\n",
            "28\n",
            "36\n",
            "45\n",
            "55\n"
          ]
        }
      ]
    },
    {
      "cell_type": "markdown",
      "metadata": {
        "id": "HKQcWm_6BiUk"
      },
      "source": [
        "- [How to remove last comma from `print(string, end=“, ”)`](https://newdevzone.com/posts/how-to-remove-last-comma-from-printstring-end)\n",
        "\n",
        "- [Why the we initlized the `sum=0`](https://stackoverflow.com/questions/56191112/i-dont-understand-the-why-is-sum-0)"
      ]
    },
    {
      "cell_type": "code",
      "source": [
        "my_list = [1, 2, 3, 4, 5, 6, 7, 8, 9, 10]\n",
        "\n",
        "list_sum = 0\n",
        "\n",
        "for num in my_list:\n",
        "    list_sum = list_sum + num\n",
        "    print(list_sum, end = ', ')\n",
        "\n",
        "print(\"\\b\\b \") # This removes the last comma.\n",
        "               # \\b is considered as an escape sequence in python\n",
        "               # It's is a Non-Graphic character used to replicate backspace"
      ],
      "metadata": {
        "colab": {
          "base_uri": "https://localhost:8080/"
        },
        "id": "id3adIQULrr_",
        "outputId": "66954c87-a003-41e9-f853-5871acafdd9b"
      },
      "execution_count": 11,
      "outputs": [
        {
          "output_type": "stream",
          "name": "stdout",
          "text": [
            "1, 3, 6, 10, 15, 21, 28, 36, 45, 55, \b\b \n"
          ]
        }
      ]
    },
    {
      "cell_type": "markdown",
      "source": [
        "**Iterating through string**"
      ],
      "metadata": {
        "id": "K9TD9P_6UUyb"
      }
    },
    {
      "cell_type": "code",
      "metadata": {
        "id": "D0E0cAuNC_2X",
        "outputId": "cd87264b-9bdc-4f2a-b281-47c06e0c4924",
        "colab": {
          "base_uri": "https://localhost:8080/"
        }
      },
      "source": [
        "mystring = 'APPLE'\n",
        "for letter in mystring:\n",
        "     print(letter, end =' ')"
      ],
      "execution_count": 12,
      "outputs": [
        {
          "output_type": "stream",
          "name": "stdout",
          "text": [
            "A P P L E "
          ]
        }
      ]
    },
    {
      "cell_type": "code",
      "metadata": {
        "id": "VKO-9T_iDe2p",
        "outputId": "3a7ab23e-359b-4b08-98c0-de4f42bbd4b7",
        "colab": {
          "base_uri": "https://localhost:8080/"
        }
      },
      "source": [
        "for _ in 'ICE':\n",
        "    print('Cool!')"
      ],
      "execution_count": 13,
      "outputs": [
        {
          "output_type": "stream",
          "name": "stdout",
          "text": [
            "Cool!\n",
            "Cool!\n",
            "Cool!\n"
          ]
        }
      ]
    },
    {
      "cell_type": "markdown",
      "source": [
        "**Iteration through Tuple**"
      ],
      "metadata": {
        "id": "Y968wa71UQvz"
      }
    },
    {
      "cell_type": "code",
      "metadata": {
        "id": "raFSgj4pE2cM",
        "outputId": "e3176f15-79df-4734-8a5b-bf2c80ae0be8",
        "colab": {
          "base_uri": "https://localhost:8080/"
        }
      },
      "source": [
        "tup = (1, 2, 3)\n",
        "for item in tup:\n",
        "    print(item)"
      ],
      "execution_count": 14,
      "outputs": [
        {
          "output_type": "stream",
          "name": "stdout",
          "text": [
            "1\n",
            "2\n",
            "3\n"
          ]
        }
      ]
    },
    {
      "cell_type": "markdown",
      "source": [
        "**Tuple Un-packing**\n"
      ],
      "metadata": {
        "id": "8fFp5BzbUJld"
      }
    },
    {
      "cell_type": "code",
      "metadata": {
        "id": "F3k-QqclFUxd",
        "outputId": "79b635a7-f0c6-46b2-eacc-6667113d99fd",
        "colab": {
          "base_uri": "https://localhost:8080/"
        }
      },
      "source": [
        "mylist_1 = [(1,2), (3,4), (5,6), (7,8)]\n",
        "\n",
        "for (a,b) in mylist_1:\n",
        "    print(a)\n",
        "    print(b)"
      ],
      "execution_count": 15,
      "outputs": [
        {
          "output_type": "stream",
          "name": "stdout",
          "text": [
            "1\n",
            "2\n",
            "3\n",
            "4\n",
            "5\n",
            "6\n",
            "7\n",
            "8\n"
          ]
        }
      ]
    },
    {
      "cell_type": "code",
      "metadata": {
        "id": "I4PUYNtOJ6JN",
        "outputId": "5c16f305-4491-4518-c3f9-fb4f4d57b43c",
        "colab": {
          "base_uri": "https://localhost:8080/"
        }
      },
      "source": [
        "my_list_1 = [(1,2,3), (4,5,6), (7,8,9)]\n",
        "\n",
        "for (a,b,c) in my_list_1:\n",
        "    print(a, c)"
      ],
      "execution_count": 16,
      "outputs": [
        {
          "output_type": "stream",
          "name": "stdout",
          "text": [
            "1 3\n",
            "4 6\n",
            "7 9\n"
          ]
        }
      ]
    },
    {
      "cell_type": "markdown",
      "source": [
        "**Iteration through a dictionary**\n",
        "\n",
        "$\\color{red}{\\textbf{Note}}$ By default we iterate through Keys\n"
      ],
      "metadata": {
        "id": "YemlIVbWw_7B"
      }
    },
    {
      "cell_type": "code",
      "source": [
        "dict_1 = {'k1': 1, 'k2': 2, 'k3': 3}\n",
        "\n",
        "for i in dict_1.items():\n",
        "    print(i)"
      ],
      "metadata": {
        "colab": {
          "base_uri": "https://localhost:8080/"
        },
        "id": "g2oNz39By7ZU",
        "outputId": "774feb5b-b747-497b-f374-4514e9e9d7d3"
      },
      "execution_count": 17,
      "outputs": [
        {
          "output_type": "stream",
          "name": "stdout",
          "text": [
            "('k1', 1)\n",
            "('k2', 2)\n",
            "('k3', 3)\n"
          ]
        }
      ]
    },
    {
      "cell_type": "markdown",
      "source": [
        "`keys`"
      ],
      "metadata": {
        "id": "p3U9gIolzWko"
      }
    },
    {
      "cell_type": "code",
      "source": [
        "dict_1 = {'k1': 1, 'k2': 2, 'k3': 3}\n",
        "\n",
        "for (keys, values) in dict_1.items():\n",
        "    print(keys)"
      ],
      "metadata": {
        "colab": {
          "base_uri": "https://localhost:8080/"
        },
        "id": "62N31UprzOIk",
        "outputId": "25f72a04-90c2-4927-f9c9-b2f7c53c8d80"
      },
      "execution_count": 18,
      "outputs": [
        {
          "output_type": "stream",
          "name": "stdout",
          "text": [
            "k1\n",
            "k2\n",
            "k3\n"
          ]
        }
      ]
    },
    {
      "cell_type": "code",
      "metadata": {
        "id": "hkCQk0xCKXEZ",
        "outputId": "809b765c-46d5-42b7-c97d-b08607d8e3aa",
        "colab": {
          "base_uri": "https://localhost:8080/"
        }
      },
      "source": [
        "dict_1 = {'k1': 1, 'k2': 2, 'k3': 3}\n",
        "\n",
        "for (keys, values) in dict_1.items():\n",
        "    print(values)"
      ],
      "execution_count": 19,
      "outputs": [
        {
          "output_type": "stream",
          "name": "stdout",
          "text": [
            "1\n",
            "2\n",
            "3\n"
          ]
        }
      ]
    },
    {
      "cell_type": "code",
      "source": [
        "numbers = [1 + 2j, 3 + 4j, 5 + 6j]\n",
        "\n",
        "for number in numbers:\n",
        "    print(\"Real part:\", number.real)\n",
        "    print(\"Imaginary part:\", number.imag)"
      ],
      "metadata": {
        "colab": {
          "base_uri": "https://localhost:8080/"
        },
        "id": "vPVRyiMIUuHc",
        "outputId": "48458ab0-a30b-4d72-c19d-ae4fcaacd51d"
      },
      "execution_count": 20,
      "outputs": [
        {
          "output_type": "stream",
          "name": "stdout",
          "text": [
            "Real part: 1.0\n",
            "Imaginary part: 2.0\n",
            "Real part: 3.0\n",
            "Imaginary part: 4.0\n",
            "Real part: 5.0\n",
            "Imaginary part: 6.0\n"
          ]
        }
      ]
    },
    {
      "cell_type": "code",
      "source": [
        "# A list of dictionaries representing a collection of books\n",
        "books = [\n",
        "    {'title': 'The Great Gatsby', 'author': 'F. Scott Fitzgerald', 'year': 1925},\n",
        "    {'title': 'To Kill a Mockingbird', 'author': 'Harper Lee', 'year': 1960},\n",
        "    {'title': 'The Catcher in the Rye', 'author': 'J.D. Salinger', 'year': 1951},\n",
        "    {'title': 'The Lord of the Rings', 'author': 'J.R.R. Tolkien', 'year': 1954}\n",
        "]\n",
        "\n",
        "# Iterate through the list of books\n",
        "for book in books:\n",
        "    # Check if the book was published before 1950\n",
        "    if book['year'] < 1950:\n",
        "        # Print the title and author of the book\n",
        "        print(f\"{book['title']} by {book['author']}\")\n",
        "    else:\n",
        "        # Print a message for books published in or after 1950\n",
        "        print(f\"{book['title']} is a modern classic\")\n"
      ],
      "metadata": {
        "colab": {
          "base_uri": "https://localhost:8080/"
        },
        "id": "I2jaYewdW5cg",
        "outputId": "f9999e3b-baab-4219-9b8d-ba12f5ff229b"
      },
      "execution_count": 21,
      "outputs": [
        {
          "output_type": "stream",
          "name": "stdout",
          "text": [
            "The Great Gatsby by F. Scott Fitzgerald\n",
            "To Kill a Mockingbird is a modern classic\n",
            "The Catcher in the Rye is a modern classic\n",
            "The Lord of the Rings is a modern classic\n"
          ]
        }
      ]
    },
    {
      "cell_type": "markdown",
      "metadata": {
        "id": "ubPvHVApBr5W"
      },
      "source": [
        "# **`while` loop**\n",
        "\n",
        "\n"
      ]
    },
    {
      "cell_type": "markdown",
      "source": [
        "\n",
        "Three important things while using `while` loop -:\n",
        "\n",
        "\n",
        "1.   Initialization `i=0` or `i=1`\n",
        "2.   condition e.g. `while i<=5:`\n",
        "3.   Increment/Decrement `i+=1` or `i-=1`"
      ],
      "metadata": {
        "id": "D07jq9B-Ttpj"
      }
    },
    {
      "cell_type": "code",
      "metadata": {
        "id": "6A1BVs60CPZ_",
        "outputId": "3072d558-91b5-4d31-a585-36d8e39072c1",
        "colab": {
          "base_uri": "https://localhost:8080/"
        }
      },
      "source": [
        "x = 0\n",
        "\n",
        "while x<5:\n",
        "    print(f'The current value of x is {x}')\n",
        "    x=x+1\n",
        "else:\n",
        "    print('x is Not less then 5')"
      ],
      "execution_count": 22,
      "outputs": [
        {
          "output_type": "stream",
          "name": "stdout",
          "text": [
            "The current value of x is 0\n",
            "The current value of x is 1\n",
            "The current value of x is 2\n",
            "The current value of x is 3\n",
            "The current value of x is 4\n",
            "x is Not less then 5\n"
          ]
        }
      ]
    },
    {
      "cell_type": "code",
      "source": [
        "n = 1\n",
        "\n",
        "while n < 5:\n",
        "    print(\"Hello Pythonista\")\n",
        "    n=n+1"
      ],
      "metadata": {
        "colab": {
          "base_uri": "https://localhost:8080/"
        },
        "id": "-_TK08D75Xms",
        "outputId": "71a75e57-1be5-410a-b620-e54ab492c9ef"
      },
      "execution_count": 23,
      "outputs": [
        {
          "output_type": "stream",
          "name": "stdout",
          "text": [
            "Hello Pythonista\n",
            "Hello Pythonista\n",
            "Hello Pythonista\n",
            "Hello Pythonista\n"
          ]
        }
      ]
    },
    {
      "cell_type": "code",
      "source": [
        "# Adding element to the list using while loop\n",
        "myList = []\n",
        "i = 0\n",
        "\n",
        "while len(myList) < 4 :\n",
        "    myList.append(i)\n",
        "    i += 1\n",
        "  \n",
        "print(myList)"
      ],
      "metadata": {
        "colab": {
          "base_uri": "https://localhost:8080/"
        },
        "id": "lXad-F1W8CHT",
        "outputId": "1556c3a6-c57f-428c-f846-51b734a73c54"
      },
      "execution_count": 24,
      "outputs": [
        {
          "output_type": "stream",
          "name": "stdout",
          "text": [
            "[0, 1, 2, 3]\n"
          ]
        }
      ]
    },
    {
      "cell_type": "code",
      "source": [
        "# Finding the sum of numbers in a list using while loop\n",
        "myList = [23,45,12,10,25]\n",
        "i = 0 \n",
        "sum = 0\n",
        "\n",
        "while i < len(myList):\n",
        "    sum += myList[i]\n",
        "    i += 1\n",
        "\n",
        "print(sum)"
      ],
      "metadata": {
        "colab": {
          "base_uri": "https://localhost:8080/"
        },
        "id": "LdCI4UKqDCAK",
        "outputId": "7c9ac37f-c323-4b57-ed3b-4aafd0cfeaff"
      },
      "execution_count": 25,
      "outputs": [
        {
          "output_type": "stream",
          "name": "stdout",
          "text": [
            "115\n"
          ]
        }
      ]
    },
    {
      "cell_type": "code",
      "source": [
        "# Popping out elements from a list using while loop\n",
        "fruitsList = [\"Mango\",\"Apple\",\"Orange\",\"Guava\"]\n",
        "\n",
        "while fruitsList:\n",
        "    print(fruitsList.pop())\n",
        "\n",
        "print(fruitsList)\n"
      ],
      "metadata": {
        "colab": {
          "base_uri": "https://localhost:8080/"
        },
        "id": "92BlBOZ_DZqW",
        "outputId": "efc6ce6d-236f-406b-a7d9-c48d19ba1876"
      },
      "execution_count": 26,
      "outputs": [
        {
          "output_type": "stream",
          "name": "stdout",
          "text": [
            "Guava\n",
            "Orange\n",
            "Apple\n",
            "Mango\n",
            "[]\n"
          ]
        }
      ]
    },
    {
      "cell_type": "code",
      "source": [
        "# Printing all letters except some using Python while loop\n",
        "i = 0 \n",
        "word = \"Hello\"\n",
        "\n",
        "#print all letters except `e` and `o`\n",
        "\n",
        "while i < len(word):\n",
        "    if word[i] == \"e\" or word[i] ==\"o\":\n",
        "        i += 1\n",
        "        continue\n",
        "\n",
        "    print(\"Returned letter\",word[i])\n",
        "    i += 1"
      ],
      "metadata": {
        "colab": {
          "base_uri": "https://localhost:8080/"
        },
        "id": "vnaf2w5HDor8",
        "outputId": "2cf6b9de-33ab-4434-e5ca-fda47783125d"
      },
      "execution_count": 27,
      "outputs": [
        {
          "output_type": "stream",
          "name": "stdout",
          "text": [
            "Returned letter H\n",
            "Returned letter l\n",
            "Returned letter l\n"
          ]
        }
      ]
    },
    {
      "cell_type": "code",
      "source": [
        "# A variable to keep track of the number of iterations\n",
        "counter = 0\n",
        "\n",
        "# The maximum number of iterations\n",
        "max_iterations = 5\n",
        "\n",
        "# The while loop that will iterate as long as the counter is less than the maximum number of iterations\n",
        "while counter < max_iterations:\n",
        "    # Print the current iteration number\n",
        "    print(\"Iteration\", counter + 1)\n",
        "    # Increment the counter by 1\n",
        "    counter += 1\n"
      ],
      "metadata": {
        "colab": {
          "base_uri": "https://localhost:8080/"
        },
        "id": "6FAqz47yXnqH",
        "outputId": "e5b53c84-18bc-4fa7-e2d9-101ceb0f7915"
      },
      "execution_count": 28,
      "outputs": [
        {
          "output_type": "stream",
          "name": "stdout",
          "text": [
            "Iteration 1\n",
            "Iteration 2\n",
            "Iteration 3\n",
            "Iteration 4\n",
            "Iteration 5\n"
          ]
        }
      ]
    },
    {
      "cell_type": "code",
      "source": [
        "# A variable to store user input\n",
        "user_input = \"\"\n",
        "\n",
        "# The while loop that will continue until the user enters \"exit\"\n",
        "while user_input != \"exit\":\n",
        "    # Get user input\n",
        "    user_input = input(\"Enter a command (or 'exit' to quit): \")\n",
        "    # Print the user input\n",
        "    print(\"You entered:\", user_input)"
      ],
      "metadata": {
        "colab": {
          "base_uri": "https://localhost:8080/"
        },
        "id": "fJ_EUVi6XuHx",
        "outputId": "adb3e250-e8be-49f7-d559-805f957d7964"
      },
      "execution_count": 29,
      "outputs": [
        {
          "output_type": "stream",
          "name": "stdout",
          "text": [
            "Enter a command (or 'exit' to quit): stop\n",
            "You entered: stop\n",
            "Enter a command (or 'exit' to quit): exit\n",
            "You entered: exit\n"
          ]
        }
      ]
    },
    {
      "cell_type": "markdown",
      "metadata": {
        "id": "DEqlGaMZVWKj"
      },
      "source": [
        "# **`break, continue, pass`**\n",
        "\n"
      ]
    },
    {
      "cell_type": "markdown",
      "metadata": {
        "id": "oYjp5MaFqfOW"
      },
      "source": [
        "**`break`**"
      ]
    },
    {
      "cell_type": "code",
      "metadata": {
        "id": "NEYu-gdAqt-7",
        "outputId": "e7184371-2e02-42de-c88a-a424170eb045",
        "colab": {
          "base_uri": "https://localhost:8080/"
        }
      },
      "source": [
        "x = 0\n",
        "\n",
        "while x < 5:\n",
        "    if x == 3:\n",
        "        break\n",
        "    print(x)\n",
        "    x += 1 "
      ],
      "execution_count": 30,
      "outputs": [
        {
          "output_type": "stream",
          "name": "stdout",
          "text": [
            "0\n",
            "1\n",
            "2\n"
          ]
        }
      ]
    },
    {
      "cell_type": "code",
      "source": [
        "my_list = [1, 2, 3, 4, 5]\n",
        "\n",
        "for num in my_list:\n",
        "    if num == 2:\n",
        "        continue\n",
        "    elif num == 4:\n",
        "        break\n",
        "    print(num)"
      ],
      "metadata": {
        "colab": {
          "base_uri": "https://localhost:8080/"
        },
        "id": "5Qyq82Y118ul",
        "outputId": "282b17a1-9091-46b6-cddc-aea08b2ab893"
      },
      "execution_count": 31,
      "outputs": [
        {
          "output_type": "stream",
          "name": "stdout",
          "text": [
            "1\n",
            "3\n"
          ]
        }
      ]
    },
    {
      "cell_type": "code",
      "source": [
        "n = 1\n",
        "\n",
        "while n < 5:\n",
        "    print(\"Hello Pythonista\")\n",
        "    n+=1\n",
        "    if n == 3:\n",
        "        break"
      ],
      "metadata": {
        "colab": {
          "base_uri": "https://localhost:8080/"
        },
        "id": "-8d5Kf8u5maC",
        "outputId": "0f2402f0-33ab-4fed-cb80-5f564a911db3"
      },
      "execution_count": 32,
      "outputs": [
        {
          "output_type": "stream",
          "name": "stdout",
          "text": [
            "Hello Pythonista\n",
            "Hello Pythonista\n"
          ]
        }
      ]
    },
    {
      "cell_type": "markdown",
      "metadata": {
        "id": "Is9gU9BYYQu-"
      },
      "source": [
        "__`continue`__"
      ]
    },
    {
      "cell_type": "code",
      "metadata": {
        "id": "GU1tgpf0Xs3l",
        "outputId": "8eee1b5d-5713-430d-e1d0-c8f2b333130d",
        "colab": {
          "base_uri": "https://localhost:8080/"
        }
      },
      "source": [
        "mystring = 'faizy'\n",
        "\n",
        "for letter in mystring:\n",
        "    if letter == 'a':\n",
        "        continue\n",
        "    print(letter)"
      ],
      "execution_count": 33,
      "outputs": [
        {
          "output_type": "stream",
          "name": "stdout",
          "text": [
            "f\n",
            "i\n",
            "z\n",
            "y\n"
          ]
        }
      ]
    },
    {
      "cell_type": "code",
      "source": [
        "n = 1\n",
        "\n",
        "while n < 5:\n",
        "    if n == 2:\n",
        "        n+=1\n",
        "        continue\n",
        "    print(\"Hello Pythonista\")\n",
        "    n+=1"
      ],
      "metadata": {
        "colab": {
          "base_uri": "https://localhost:8080/"
        },
        "id": "EcR02AXE6LeQ",
        "outputId": "4ce34414-d235-480f-b5f1-53b76012ae21"
      },
      "execution_count": 34,
      "outputs": [
        {
          "output_type": "stream",
          "name": "stdout",
          "text": [
            "Hello Pythonista\n",
            "Hello Pythonista\n",
            "Hello Pythonista\n"
          ]
        }
      ]
    },
    {
      "cell_type": "markdown",
      "metadata": {
        "id": "orUORl2HWmdP"
      },
      "source": [
        "`pass` - *Do nothing at all*\n",
        "\n",
        "\n",
        ">Programer sometimes keep it as a `placeholder` to avoide errors to fill it later when working on the larger codes.\n"
      ]
    },
    {
      "cell_type": "code",
      "metadata": {
        "id": "9t4i68LlVVCw"
      },
      "source": [
        "x = [1,2,3]\n",
        " \n",
        "for items in x:\n",
        "    pass"
      ],
      "execution_count": 35,
      "outputs": []
    },
    {
      "cell_type": "code",
      "source": [
        "# A list of numbers\n",
        "numbers = [1, 2, 3, 4, 5, 6, 7, 8, 9, 10]\n",
        "\n",
        "# Iterate through the list of numbers\n",
        "for number in numbers:\n",
        "    # Check if the number is even\n",
        "    if number % 2 == 0:\n",
        "        # If the number is even, print it\n",
        "        print(number)\n",
        "        continue\n",
        "    # Check if the number is greater than 8\n",
        "    elif number > 8:\n",
        "        # If the number is greater than 8, exit the loop\n",
        "        print(\"Exiting the loop\")\n",
        "        break\n",
        "    # If the number is odd and not greater than 8, do nothing\n",
        "    else:\n",
        "        pass"
      ],
      "metadata": {
        "colab": {
          "base_uri": "https://localhost:8080/"
        },
        "id": "UgUDbUdxYY0e",
        "outputId": "18c02348-560c-4bd8-ead8-bebb20f4c821"
      },
      "execution_count": 36,
      "outputs": [
        {
          "output_type": "stream",
          "name": "stdout",
          "text": [
            "2\n",
            "4\n",
            "6\n",
            "8\n",
            "Exiting the loop\n"
          ]
        }
      ]
    },
    {
      "cell_type": "markdown",
      "metadata": {
        "id": "1FJzpEwKxra2"
      },
      "source": [
        "# **Useful Operators in Python**"
      ]
    },
    {
      "cell_type": "markdown",
      "metadata": {
        "id": "xoJ4cN7A8VZx"
      },
      "source": [
        "**`range`** **operater**"
      ]
    },
    {
      "cell_type": "code",
      "metadata": {
        "id": "g-KtN3rgx0f-",
        "outputId": "da9615d6-aaaa-4328-d0a7-376b715f17a9",
        "colab": {
          "base_uri": "https://localhost:8080/"
        }
      },
      "source": [
        "for num in range(0, 10, 2):\n",
        "    print(num)"
      ],
      "execution_count": 37,
      "outputs": [
        {
          "output_type": "stream",
          "name": "stdout",
          "text": [
            "0\n",
            "2\n",
            "4\n",
            "6\n",
            "8\n"
          ]
        }
      ]
    },
    {
      "cell_type": "markdown",
      "metadata": {
        "id": "yOdD2i8c97yu"
      },
      "source": [
        "**Genrating the `list` of number**"
      ]
    },
    {
      "cell_type": "code",
      "metadata": {
        "id": "yYsBr7GV9S6s",
        "outputId": "94f14659-7a2c-4133-e0bf-83d07a9b6731",
        "colab": {
          "base_uri": "https://localhost:8080/"
        }
      },
      "source": [
        "list(range(0, 20, 3))"
      ],
      "execution_count": 38,
      "outputs": [
        {
          "output_type": "execute_result",
          "data": {
            "text/plain": [
              "[0, 3, 6, 9, 12, 15, 18]"
            ]
          },
          "metadata": {},
          "execution_count": 38
        }
      ]
    },
    {
      "cell_type": "markdown",
      "metadata": {
        "id": "QzJnQJKj93zF"
      },
      "source": [
        "`Enumertate`\n"
      ]
    },
    {
      "cell_type": "code",
      "metadata": {
        "id": "Z6DYFxMW927E",
        "outputId": "ab29b242-0b9b-4929-bdba-e488defe129e",
        "colab": {
          "base_uri": "https://localhost:8080/"
        }
      },
      "source": [
        "my_string = 'abcde'\n",
        "index_count = 0\n",
        "\n",
        "for letter in my_string:\n",
        "    print(f\"At index {index_count} the letter is {letter}\")\n",
        "    index_count += 1"
      ],
      "execution_count": 39,
      "outputs": [
        {
          "output_type": "stream",
          "name": "stdout",
          "text": [
            "At index 0 the letter is a\n",
            "At index 1 the letter is b\n",
            "At index 2 the letter is c\n",
            "At index 3 the letter is d\n",
            "At index 4 the letter is e\n"
          ]
        }
      ]
    },
    {
      "cell_type": "code",
      "metadata": {
        "id": "76fr_0UwHYPy",
        "outputId": "96572fec-accc-4b8b-c178-6dddfd414f94",
        "colab": {
          "base_uri": "https://localhost:8080/"
        }
      },
      "source": [
        "word = 'APPLE'\n",
        "index_counts = 0\n",
        "\n",
        "for letter in word:\n",
        "    print(word[index_counts])\n",
        "    index_counts += 1"
      ],
      "execution_count": 40,
      "outputs": [
        {
          "output_type": "stream",
          "name": "stdout",
          "text": [
            "A\n",
            "P\n",
            "P\n",
            "L\n",
            "E\n"
          ]
        }
      ]
    },
    {
      "cell_type": "markdown",
      "metadata": {
        "id": "OFUwbIpvKj6M"
      },
      "source": [
        "`enumerate` function is an **index counter** and a **function** itself."
      ]
    },
    {
      "cell_type": "code",
      "metadata": {
        "id": "ZXqJv7YWJW-v",
        "outputId": "6b5217de-2efc-4b24-8ba2-b2ff163dfcea",
        "colab": {
          "base_uri": "https://localhost:8080/"
        }
      },
      "source": [
        "word = 'abcde'\n",
        "for items in enumerate(word):\n",
        "    print(items)             # Return the tuples              "
      ],
      "execution_count": 41,
      "outputs": [
        {
          "output_type": "stream",
          "name": "stdout",
          "text": [
            "(0, 'a')\n",
            "(1, 'b')\n",
            "(2, 'c')\n",
            "(3, 'd')\n",
            "(4, 'e')\n"
          ]
        }
      ]
    },
    {
      "cell_type": "code",
      "metadata": {
        "id": "-llKUdbUIkhD",
        "outputId": "ffbbec61-3716-481d-894b-6c127b2e62d3",
        "colab": {
          "base_uri": "https://localhost:8080/"
        }
      },
      "source": [
        "word = 'abcde'\n",
        "for (index, letter) in enumerate(word):\n",
        "    print(index, letter)"
      ],
      "execution_count": 42,
      "outputs": [
        {
          "output_type": "stream",
          "name": "stdout",
          "text": [
            "0 a\n",
            "1 b\n",
            "2 c\n",
            "3 d\n",
            "4 e\n"
          ]
        }
      ]
    },
    {
      "cell_type": "markdown",
      "metadata": {
        "id": "-nFI6UGGLNdR"
      },
      "source": [
        "**Zip function** - zips the two list together"
      ]
    },
    {
      "cell_type": "code",
      "metadata": {
        "id": "HW3gACwrLMig",
        "outputId": "9802aa59-fbbe-44a6-f64d-e1c1099ee0d3",
        "colab": {
          "base_uri": "https://localhost:8080/"
        }
      },
      "source": [
        "mylist1 = [1, 2, 3, 4]       \n",
        "mylist2 = ['a', 'b', 'c']\n",
        "\n",
        "for items in zip(mylist1, mylist2):\n",
        "    print(items) # ignore everything that is extra & zip the shortest                   "
      ],
      "execution_count": 43,
      "outputs": [
        {
          "output_type": "stream",
          "name": "stdout",
          "text": [
            "(1, 'a')\n",
            "(2, 'b')\n",
            "(3, 'c')\n"
          ]
        }
      ]
    },
    {
      "cell_type": "code",
      "metadata": {
        "id": "jcqsoC5Bk9-Y",
        "outputId": "35365c65-6f77-4fd2-ea90-d4288ad66899",
        "colab": {
          "base_uri": "https://localhost:8080/"
        }
      },
      "source": [
        "# To check wether the object is presrnt in the list/dict\n",
        "\n",
        "# list\n",
        "'a' in ['a', 'b', 'c']\n",
        "\n",
        "# dict\n",
        "'k1' in {\"k1\":11, 'k2':22, 'k3':33} "
      ],
      "execution_count": 44,
      "outputs": [
        {
          "output_type": "execute_result",
          "data": {
            "text/plain": [
              "True"
            ]
          },
          "metadata": {},
          "execution_count": 44
        }
      ]
    },
    {
      "cell_type": "code",
      "metadata": {
        "id": "9ZkFjHW0ltdi",
        "outputId": "8cc50a7b-945e-48be-dd8e-c50ee232aa2b",
        "colab": {
          "base_uri": "https://localhost:8080/"
        }
      },
      "source": [
        "d = {\"k1\":11, 'k2':22, 'k3':33}\n",
        "11 in d.values()"
      ],
      "execution_count": 45,
      "outputs": [
        {
          "output_type": "execute_result",
          "data": {
            "text/plain": [
              "True"
            ]
          },
          "metadata": {},
          "execution_count": 45
        }
      ]
    },
    {
      "cell_type": "code",
      "metadata": {
        "id": "5ccEf69Gl47-",
        "outputId": "aad97c96-2bd6-4d92-8fe9-03412ab79328",
        "colab": {
          "base_uri": "https://localhost:8080/"
        }
      },
      "source": [
        "list_x = [10, 20, 30, 40, 50, 100, 101]\n",
        "print(min(list_x))\n",
        "print(max(list_x))"
      ],
      "execution_count": 46,
      "outputs": [
        {
          "output_type": "stream",
          "name": "stdout",
          "text": [
            "10\n",
            "101\n"
          ]
        }
      ]
    },
    {
      "cell_type": "markdown",
      "metadata": {
        "id": "EbYMRNGPmhPO"
      },
      "source": [
        "__`Random`__ library"
      ]
    },
    {
      "cell_type": "code",
      "metadata": {
        "id": "UykQMktcm2HM",
        "outputId": "1785f7b2-3261-4953-e7de-0fde6a740ca5",
        "colab": {
          "base_uri": "https://localhost:8080/"
        }
      },
      "source": [
        "import random\n",
        "\n",
        "mylist_x = [1, 2, 3, 4, 5, 6, 7, 8, 9, 10]\n",
        "random.shuffle(mylist_x)\n",
        "print(mylist_x)"
      ],
      "execution_count": 47,
      "outputs": [
        {
          "output_type": "stream",
          "name": "stdout",
          "text": [
            "[4, 6, 2, 7, 5, 10, 9, 3, 8, 1]\n"
          ]
        }
      ]
    },
    {
      "cell_type": "code",
      "metadata": {
        "id": "O6csP_FJns4L",
        "outputId": "31a9571c-fffe-4506-c86d-06329309a87b",
        "colab": {
          "base_uri": "https://localhost:8080/"
        }
      },
      "source": [
        "import random\n",
        "\n",
        "mynum = random.randint(0,100)\n",
        "print(mynum)"
      ],
      "execution_count": 48,
      "outputs": [
        {
          "output_type": "stream",
          "name": "stdout",
          "text": [
            "86\n"
          ]
        }
      ]
    },
    {
      "cell_type": "code",
      "source": [],
      "metadata": {
        "id": "NQ0FldWT35iX"
      },
      "execution_count": 48,
      "outputs": []
    },
    {
      "cell_type": "code",
      "metadata": {
        "id": "t0_O1IuEoxd-",
        "outputId": "a3c2c104-9f52-4c77-f37c-959a47b8aae7",
        "colab": {
          "base_uri": "https://localhost:8080/"
        }
      },
      "source": [
        "# input function \n",
        "result = input('Favorite Number:')\n",
        "type(result)\n",
        "print(int(result))"
      ],
      "execution_count": 49,
      "outputs": [
        {
          "output_type": "stream",
          "name": "stdout",
          "text": [
            "Favorite Number:7\n",
            "7\n"
          ]
        }
      ]
    },
    {
      "cell_type": "markdown",
      "source": [
        "[**Python Random Data Genration Exercise**](https://pynative.com/python-random-number-generation-exercise-questions-and-challenge/)"
      ],
      "metadata": {
        "id": "LTRKC19r8zyo"
      }
    },
    {
      "cell_type": "markdown",
      "metadata": {
        "id": "pdWoUqtvuV1M"
      },
      "source": [
        "# **List Comprehensions**"
      ]
    },
    {
      "cell_type": "code",
      "metadata": {
        "id": "oN819GIC3h4D",
        "outputId": "0f0fe94c-09c5-43f1-c629-633234efcfb7",
        "colab": {
          "base_uri": "https://localhost:8080/"
        }
      },
      "source": [
        "# Appending the item to the list\n",
        "  \n",
        "mystring = 'Hello'\n",
        "mylist = []\n",
        "\n",
        "for letter in mystring:\n",
        "    mylist.append(letter)\n",
        "print(mylist)"
      ],
      "execution_count": 50,
      "outputs": [
        {
          "output_type": "stream",
          "name": "stdout",
          "text": [
            "['H', 'e', 'l', 'l', 'o']\n"
          ]
        }
      ]
    },
    {
      "cell_type": "code",
      "metadata": {
        "id": "BMqECtZ022DM",
        "outputId": "2350cc7c-f817-4765-dfe1-98a2af2cc3a3",
        "colab": {
          "base_uri": "https://localhost:8080/"
        }
      },
      "source": [
        "# List Comprehensions -- flatning the for loop \n",
        "string_n ='APPLE'\n",
        "mylist_n = [letter for letter in string_n]\n",
        "print(mylist_n)"
      ],
      "execution_count": 51,
      "outputs": [
        {
          "output_type": "stream",
          "name": "stdout",
          "text": [
            "['A', 'P', 'P', 'L', 'E']\n"
          ]
        }
      ]
    },
    {
      "cell_type": "code",
      "metadata": {
        "id": "xa11iT-D3pjx",
        "outputId": "eb6a9029-5ec6-42e9-9787-7ca447bf8907",
        "colab": {
          "base_uri": "https://localhost:8080/"
        }
      },
      "source": [
        "list_n = [x for x in 'word']\n",
        "print(list_n)"
      ],
      "execution_count": 52,
      "outputs": [
        {
          "output_type": "stream",
          "name": "stdout",
          "text": [
            "['w', 'o', 'r', 'd']\n"
          ]
        }
      ]
    },
    {
      "cell_type": "code",
      "metadata": {
        "id": "Jg23xccD4EgI",
        "outputId": "5f6d87ff-3a39-4de5-9df4-a82519b908d8",
        "colab": {
          "base_uri": "https://localhost:8080/"
        }
      },
      "source": [
        "mylist = [num**2 for num in range(0,11)]\n",
        "print(mylist)"
      ],
      "execution_count": 53,
      "outputs": [
        {
          "output_type": "stream",
          "name": "stdout",
          "text": [
            "[0, 1, 4, 9, 16, 25, 36, 49, 64, 81, 100]\n"
          ]
        }
      ]
    },
    {
      "cell_type": "code",
      "metadata": {
        "id": "Y5EwMQy34uhV",
        "outputId": "3a0add22-e47a-4271-8736-728a34b8b542",
        "colab": {
          "base_uri": "https://localhost:8080/"
        }
      },
      "source": [
        "# printing the even number in the flaten for loop\n",
        "\n",
        "mylist = [x**2 for x in range(0,11) if x%2 == 0]\n",
        "print(mylist)"
      ],
      "execution_count": 54,
      "outputs": [
        {
          "output_type": "stream",
          "name": "stdout",
          "text": [
            "[0, 4, 16, 36, 64, 100]\n"
          ]
        }
      ]
    },
    {
      "cell_type": "code",
      "metadata": {
        "id": "wypWKuBv5RIQ",
        "outputId": "5e35a77d-33d8-454f-d4f6-a0b01e8a3fa7",
        "colab": {
          "base_uri": "https://localhost:8080/"
        }
      },
      "source": [
        "# fahrenheit to celcius\n",
        "celcius = [0, 10, 20, 34.5, 100]\n",
        "fahrenheit = [((9/5)*temp +32) for temp in celcius]\n",
        "print(fahrenheit)"
      ],
      "execution_count": 55,
      "outputs": [
        {
          "output_type": "stream",
          "name": "stdout",
          "text": [
            "[32.0, 50.0, 68.0, 94.1, 212.0]\n"
          ]
        }
      ]
    },
    {
      "cell_type": "code",
      "metadata": {
        "id": "gmU8-3UI63pp",
        "outputId": "1c0f058b-d63c-4f0d-a8a0-e01e79b3d486",
        "colab": {
          "base_uri": "https://localhost:8080/"
        }
      },
      "source": [
        "celcius = [0, 10, 20, 34.5, 100]\n",
        "fahrenheit = []\n",
        "\n",
        "for temp in celcius:\n",
        "    fahrenheit.append((9/5)*temp +32)\n",
        "print(fahrenheit)"
      ],
      "execution_count": 56,
      "outputs": [
        {
          "output_type": "stream",
          "name": "stdout",
          "text": [
            "[32.0, 50.0, 68.0, 94.1, 212.0]\n"
          ]
        }
      ]
    },
    {
      "cell_type": "code",
      "metadata": {
        "id": "2GJGTUIT8KE0",
        "outputId": "52428caf-8ff1-483c-cc64-33c625c18bcb",
        "colab": {
          "base_uri": "https://localhost:8080/"
        }
      },
      "source": [
        "mylist = []\n",
        "\n",
        "for x in [1, 2, 3]:\n",
        "    for y in [2, 3, 4]:\n",
        "        mylist.append(x**y) # x to the power y\n",
        "print(mylist)"
      ],
      "execution_count": 57,
      "outputs": [
        {
          "output_type": "stream",
          "name": "stdout",
          "text": [
            "[1, 1, 1, 4, 8, 16, 9, 27, 81]\n"
          ]
        }
      ]
    },
    {
      "cell_type": "markdown",
      "source": [
        "<p align='center'>\n",
        "  <a href=\"#\"><img src='https://tymsai.netlify.app/resource/1.gif' height='10' width=100% alt=\"div\"></a>\n",
        "</p>\n",
        "\n",
        "# $\\color{skyblue}{\\textbf{Connect with me:}}$\n",
        "\n",
        "\n",
        "[<img align=\"left\" src=\"https://cdn4.iconfinder.com/data/icons/social-media-icons-the-circle-set/48/twitter_circle-512.png\" width=\"32px\"/>][twitter]\n",
        "[<img align=\"left\" src=\"https://cdn-icons-png.flaticon.com/512/145/145807.png\" width=\"32px\"/>][linkedin]\n",
        "[<img align=\"left\" src=\"https://d31pjuirwqbaad.cloudfront.net/wp-content/uploads/2019/08/kissclipart-website-icon-png-clipart-computer-icons-ac62ecb3b8ae4d41.png?x61175\" width=\"32px\"/>][Portfolio]\n",
        "\n",
        "[twitter]: https://twitter.com/F4izy\n",
        "[linkedin]: https://www.linkedin.com/in/mohd-faizy/\n",
        "[Portfolio]: https://mohdfaizy.com/\n",
        "\n",
        "---"
      ],
      "metadata": {
        "id": "wslJOeVn1SAH"
      }
    }
  ]
}