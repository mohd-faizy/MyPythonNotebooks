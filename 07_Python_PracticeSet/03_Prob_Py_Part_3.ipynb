{
  "cells": [
    {
      "cell_type": "markdown",
      "metadata": {
        "id": "7sIXGj0EJFas"
      },
      "source": [
        "---\n",
        "<strong>\n",
        "    <h1 align='center'><strong>Practice-Sheet-2024</strong></h1>\n",
        "</strong>\n",
        "\n",
        "---"
      ]
    },
    {
      "cell_type": "code",
      "execution_count": null,
      "metadata": {
        "id": "FrTPjbxt_vYY"
      },
      "outputs": [],
      "source": [
        "pip -q install pyttsx3"
      ]
    },
    {
      "cell_type": "markdown",
      "source": [
        "**Text to Speech**"
      ],
      "metadata": {
        "id": "xl1i6D4pLtt_"
      }
    },
    {
      "cell_type": "code",
      "execution_count": null,
      "metadata": {
        "id": "qEi1-5Mw_vYZ"
      },
      "outputs": [],
      "source": [
        "import pyttsx3\n",
        "\n",
        "engine = pyttsx3.init()\n",
        "engine.say(\"I love Python\")\n",
        "engine.runAndWait()"
      ]
    },
    {
      "cell_type": "code",
      "execution_count": null,
      "metadata": {
        "colab": {
          "base_uri": "https://localhost:8080/"
        },
        "id": "nDnxs0rU_vYa",
        "outputId": "0fd0ccda-663e-4c5b-8e24-80ee3ef3fe9f"
      },
      "outputs": [
        {
          "output_type": "stream",
          "name": "stdout",
          "text": [
            "['README.md', 'anscombe.json', 'mnist_train_small.csv', 'california_housing_train.csv', 'california_housing_test.csv', 'mnist_test.csv']\n"
          ]
        }
      ],
      "source": [
        "import os\n",
        "\n",
        "# Select the directory whose content you want to list\n",
        "directory_path = '/content/sample_data'\n",
        "\n",
        "# Use the os module to list the directory content\n",
        "contents = os.listdir(directory_path)\n",
        "\n",
        "# Print the contents of the directory\n",
        "print(contents)"
      ]
    },
    {
      "cell_type": "markdown",
      "source": [
        "## **Loops**"
      ],
      "metadata": {
        "id": "av9BCs2vCKCM"
      }
    },
    {
      "cell_type": "markdown",
      "metadata": {
        "id": "sFGoXttT_vYb"
      },
      "source": [
        "**1. Write a program to print multiplication table of a given number using for loop.**"
      ]
    },
    {
      "cell_type": "code",
      "execution_count": null,
      "metadata": {
        "colab": {
          "base_uri": "https://localhost:8080/"
        },
        "id": "6JXOWZKU_vYb",
        "outputId": "a54a0eb3-544a-4019-b673-db71cbd4599d"
      },
      "outputs": [
        {
          "output_type": "stream",
          "name": "stdout",
          "text": [
            "Enter a Number: 9\n",
            "9 X 1 = 9\n",
            "9 X 2 = 18\n",
            "9 X 3 = 27\n",
            "9 X 4 = 36\n",
            "9 X 5 = 45\n",
            "9 X 6 = 54\n",
            "9 X 7 = 63\n",
            "9 X 8 = 72\n",
            "9 X 9 = 81\n",
            "9 X 10 = 90\n"
          ]
        }
      ],
      "source": [
        "n = int(input(\"Enter the Number: \"))\n",
        "\n",
        "for i in range(1, 11):\n",
        "    print(f\"{n} X {i} = {i*n}\")"
      ]
    },
    {
      "cell_type": "markdown",
      "source": [
        "**2. Write a program to greet all the person names stored in a list `l` and which starts with `S`.**\n",
        "\n",
        "- `l = [\"Harry\", \"Soham\", \"Sachin\", \"Rahul\"]`"
      ],
      "metadata": {
        "id": "M5y0a8B9BXCG"
      }
    },
    {
      "cell_type": "code",
      "source": [
        "l = [\"Harry\", \"Soham\", \"Sachin\", \"Rahul\"]\n",
        "\n",
        "for name in l:\n",
        "    if (name.startswith(\"S\")):\n",
        "        print(f\"Hello {name}\")"
      ],
      "metadata": {
        "colab": {
          "base_uri": "https://localhost:8080/"
        },
        "id": "YRaoHp4zAC00",
        "outputId": "94a61f68-cf0b-4322-b12c-90666f291f5a"
      },
      "execution_count": null,
      "outputs": [
        {
          "output_type": "stream",
          "name": "stdout",
          "text": [
            "Hello Soham\n",
            "Hello Sachin\n"
          ]
        }
      ]
    },
    {
      "cell_type": "markdown",
      "source": [
        "**3. Write a program to print multiplication table of a given number using while loop.**"
      ],
      "metadata": {
        "id": "8aFWU3QNCdwM"
      }
    },
    {
      "cell_type": "code",
      "source": [
        "n = int(input(\"Enter the Number: \"))\n",
        "\n",
        "i=1\n",
        "\n",
        "while i<11:\n",
        "    print(f\"{n} X {i} = {n*i}\")\n",
        "    i += 1"
      ],
      "metadata": {
        "colab": {
          "base_uri": "https://localhost:8080/"
        },
        "id": "LqA9AW1CBtEt",
        "outputId": "31f3762d-0ec7-4314-951c-40f622cc2d08"
      },
      "execution_count": null,
      "outputs": [
        {
          "output_type": "stream",
          "name": "stdout",
          "text": [
            "Enter a Number: 5\n",
            "5 X 1 = 5\n",
            "5 X 2 = 10\n",
            "5 X 3 = 15\n",
            "5 X 4 = 20\n",
            "5 X 5 = 25\n",
            "5 X 6 = 30\n",
            "5 X 7 = 35\n",
            "5 X 8 = 40\n",
            "5 X 9 = 45\n",
            "5 X 10 = 50\n"
          ]
        }
      ]
    },
    {
      "cell_type": "markdown",
      "source": [
        "**4. Write a program to find whether a given number is prime or not.**"
      ],
      "metadata": {
        "id": "tCq7na_iDiKl"
      }
    },
    {
      "cell_type": "code",
      "source": [
        "n = int(input(\"Enter the Number: \"))\n",
        "\n",
        "for i in range(2, n):\n",
        "    if (n%i) == 0:\n",
        "        print(\"number is not prime\")\n",
        "        break\n",
        "else:\n",
        "    print(\"number is prime\")"
      ],
      "metadata": {
        "colab": {
          "base_uri": "https://localhost:8080/"
        },
        "id": "72CmCZpHC-g1",
        "outputId": "4c919df2-9a42-45d2-99c8-532647ec0029"
      },
      "execution_count": null,
      "outputs": [
        {
          "output_type": "stream",
          "name": "stdout",
          "text": [
            "Enter a Number: 11\n",
            "number is prime\n"
          ]
        }
      ]
    },
    {
      "cell_type": "markdown",
      "source": [
        "**5. Write a program to find the sum of first n natural numbers using while loop.**"
      ],
      "metadata": {
        "id": "STVxFDjWFFHe"
      }
    },
    {
      "cell_type": "code",
      "source": [
        "n = int(input(\"Enter the Number: \"))\n",
        "\n",
        "i = 1\n",
        "sum = 0 #Note: for addition, we initialize the sum with zero.\n",
        "\n",
        "while(i<=n):\n",
        "    sum += i\n",
        "    i += 1\n",
        "\n",
        "print(sum)"
      ],
      "metadata": {
        "colab": {
          "base_uri": "https://localhost:8080/"
        },
        "id": "R8dJ_dfWD_8V",
        "outputId": "978710fc-b7c5-4414-8ad9-993f31e029b2"
      },
      "execution_count": null,
      "outputs": [
        {
          "output_type": "stream",
          "name": "stdout",
          "text": [
            "Enter the Number: 4\n",
            "10\n"
          ]
        }
      ]
    },
    {
      "cell_type": "markdown",
      "source": [
        "**Arithmetic mean**"
      ],
      "metadata": {
        "id": "uRNjS2ICKAp5"
      }
    },
    {
      "cell_type": "code",
      "source": [
        "n = int(input(\"Enter the Number: \"))\n",
        "\n",
        "i = 1\n",
        "sum = 0 # Note: for addition, we initialize the sum with zero.\n",
        "\n",
        "while(i <= n):\n",
        "    sum += i\n",
        "    i += 1\n",
        "\n",
        "arithmetic_mean = sum / n\n",
        "print(f\"Arithmetic Mean is {sum}/{n} =\", arithmetic_mean)\n"
      ],
      "metadata": {
        "colab": {
          "base_uri": "https://localhost:8080/"
        },
        "id": "y_evow5_JlHW",
        "outputId": "5dd67bfc-f6ab-4470-8e06-de771bf36029"
      },
      "execution_count": null,
      "outputs": [
        {
          "output_type": "stream",
          "name": "stdout",
          "text": [
            "Enter the Number: 5\n",
            "Arithmetic Mean is 15/5 = 3.0\n"
          ]
        }
      ]
    },
    {
      "cell_type": "markdown",
      "source": [
        "**6. Write a program to calculate the factorial of a given number using for loop.**"
      ],
      "metadata": {
        "id": "n2z10iXmGDPH"
      }
    },
    {
      "cell_type": "code",
      "source": [
        "# 5! = 1 X 2 X 3 X 4 X 5\n",
        "\n",
        "n = int(input(\"Enter the Number: \"))\n",
        "\n",
        "product = 1 # Note: for product, we initialize the sum with one.\n",
        "\n",
        "for i in range(1, n+1):\n",
        "    product = product * i\n",
        "\n",
        "print(product)"
      ],
      "metadata": {
        "colab": {
          "base_uri": "https://localhost:8080/"
        },
        "id": "QcqdHM2sFthm",
        "outputId": "9cc6813b-dce0-48b7-b8bb-9f0b501f62d2"
      },
      "execution_count": null,
      "outputs": [
        {
          "output_type": "stream",
          "name": "stdout",
          "text": [
            "Enter the Number: 6\n",
            "720\n"
          ]
        }
      ]
    },
    {
      "cell_type": "markdown",
      "source": [
        "**8. Write a program to print the following star pattern.**\n",
        "\n",
        "- for `n = 5`\n",
        "\n",
        "```\n",
        "    *      space=4, star=1\n",
        "   ***     space=3, star=3\n",
        "  *****    space=2, star=5\n",
        " *******   space=1, star=7\n",
        "*********  space=0, star=9\n",
        "```\n"
      ],
      "metadata": {
        "id": "XYRCBzwxIyz1"
      }
    },
    {
      "cell_type": "code",
      "source": [
        "n = int(input(\"Enter the Number: \"))\n",
        "\n",
        "for i in range(1, n+1):\n",
        "    print(\" \"*(n-i), end=\"\")    # space\n",
        "    print(\"*\"*(2*i-1), end=\"\")  # star ~ odd number\n",
        "    print(\"\")"
      ],
      "metadata": {
        "colab": {
          "base_uri": "https://localhost:8080/"
        },
        "id": "hglkLHELJSb1",
        "outputId": "6eba48e5-76bb-4372-a671-0949457f0cfd"
      },
      "execution_count": null,
      "outputs": [
        {
          "output_type": "stream",
          "name": "stdout",
          "text": [
            "Enter the Number: 5\n",
            "    *\n",
            "   ***\n",
            "  *****\n",
            " *******\n",
            "*********\n"
          ]
        }
      ]
    },
    {
      "cell_type": "markdown",
      "source": [
        "**8. Write a program to print the following star pattern.**\n",
        "\n",
        "- for `n = 5`\n",
        "\n",
        "```\n",
        "*          space=0, star=1\n",
        "***        space=0, star=3\n",
        "*****      space=0, star=5\n",
        "*******    space=0, star=7\n",
        "*********  space=0, star=9\n",
        "```"
      ],
      "metadata": {
        "id": "WY-UaPWBJFu1"
      }
    },
    {
      "cell_type": "code",
      "source": [
        "n = int(input(\"Enter the Number: \"))\n",
        "\n",
        "for i in range(1, n+1):\n",
        "    print(\" \", end=\"\")          # space\n",
        "    print(\"*\"*(2*i-1), end=\"\")  # star ~ odd number\n",
        "    print(\"\")"
      ],
      "metadata": {
        "colab": {
          "base_uri": "https://localhost:8080/"
        },
        "id": "-EWAMd07JTF1",
        "outputId": "6000bbce-90dc-4af6-a259-5e3e87502899"
      },
      "execution_count": null,
      "outputs": [
        {
          "output_type": "stream",
          "name": "stdout",
          "text": [
            "Enter the Number: 5\n",
            " *\n",
            " ***\n",
            " *****\n",
            " *******\n",
            " *********\n"
          ]
        }
      ]
    },
    {
      "cell_type": "markdown",
      "source": [
        "**9. Write a program to print the following star pattern.**\n",
        "\n",
        "- for `n = 4`\n",
        "\n",
        "```\n",
        "   *        space=3, star=1\n",
        "  ***       space=2, star=3\n",
        " *****      space=1, star=5\n",
        "*******     space=0, star=7\n",
        " *****      space=1, star=5\n",
        "  ***       space=2, star=3\n",
        "   *        space=3, star=1\n",
        "\n",
        "```\n"
      ],
      "metadata": {
        "id": "ywoIq4aQUpfP"
      }
    },
    {
      "cell_type": "code",
      "source": [
        "n = int(input(\"Enter the Number: \"))\n",
        "\n",
        "# Upper part of the pattern\n",
        "for i in range(1, n+1):\n",
        "    print(\" \"*(n-i), end=\"\")\n",
        "    print(\"*\"*(2*i-1), end=\"\")\n",
        "    print(\"\")\n",
        "\n",
        "# Lower part of the pattern\n",
        "for j in range(n-1, 0, -1):\n",
        "    print(\" \"*(n-j), end=\"\")\n",
        "    print(\"*\"*(2*j-1), end=\"\")\n",
        "    print(\"\")\n"
      ],
      "metadata": {
        "colab": {
          "base_uri": "https://localhost:8080/"
        },
        "id": "cVrHq2C0UpNg",
        "outputId": "80159be7-12de-4e11-8f3a-a354933c3c08"
      },
      "execution_count": null,
      "outputs": [
        {
          "output_type": "stream",
          "name": "stdout",
          "text": [
            "Enter the Number: 4\n",
            "   *\n",
            "  ***\n",
            " *****\n",
            "*******\n",
            " *****\n",
            "  ***\n",
            "   *\n"
          ]
        }
      ]
    },
    {
      "cell_type": "markdown",
      "source": [
        "**10. Write a program to print the following star pattern.**\n",
        "\n",
        "```\n",
        "***\n",
        "* *\n",
        "***\n",
        "```\n",
        "\n",
        "for `n = 3`.\n",
        "\n",
        "```\n",
        "****\n",
        "*  *\n",
        "*  *\n",
        "****\n",
        "```\n",
        "\n",
        "for `n = 4`."
      ],
      "metadata": {
        "id": "9h8svRffJGsV"
      }
    },
    {
      "cell_type": "code",
      "source": [
        "n = int(input(\"Enter the Number: \"))\n",
        "\n",
        "# Upper part of the pattern\n",
        "for i in range(1, n+1):\n",
        "    if(i==1 or i==n):\n",
        "        print(\"*\"*n, end=\"\")\n",
        "    else:\n",
        "        print(\"*\", end=\"\")\n",
        "        print(\" \"*(n-2), end=\"\")\n",
        "        print(\"*\", end=\"\")\n",
        "    print(\"\")"
      ],
      "metadata": {
        "colab": {
          "base_uri": "https://localhost:8080/"
        },
        "id": "V1Jk0xQtHFTW",
        "outputId": "869138a3-c953-4e30-ced7-d3d451fbf951"
      },
      "execution_count": null,
      "outputs": [
        {
          "output_type": "stream",
          "name": "stdout",
          "text": [
            "Enter the Number: 7\n",
            "*******\n",
            "*     *\n",
            "*     *\n",
            "*     *\n",
            "*     *\n",
            "*     *\n",
            "*******\n"
          ]
        }
      ]
    },
    {
      "cell_type": "markdown",
      "source": [
        "**11. Write a program to print multiplication table of n using for loops in reversed order.**"
      ],
      "metadata": {
        "id": "HG1JHc4th3fu"
      }
    },
    {
      "cell_type": "code",
      "source": [
        "n = int(input(\"Enter the Number: \"))\n",
        "\n",
        "for i in range(1, 11):\n",
        "    print(f\"{n} X {11-i} = {n*(11-i)}\")"
      ],
      "metadata": {
        "colab": {
          "base_uri": "https://localhost:8080/"
        },
        "id": "A0CSSQzofU2W",
        "outputId": "c9bc060f-cdd1-4d96-c003-f8b76126d3f2"
      },
      "execution_count": null,
      "outputs": [
        {
          "output_type": "stream",
          "name": "stdout",
          "text": [
            "Enter the Number: 689\n",
            "689 X 10 = 6890\n",
            "689 X 9 = 6201\n",
            "689 X 8 = 5512\n",
            "689 X 7 = 4823\n",
            "689 X 6 = 4134\n",
            "689 X 5 = 3445\n",
            "689 X 4 = 2756\n",
            "689 X 3 = 2067\n",
            "689 X 2 = 1378\n",
            "689 X 1 = 689\n"
          ]
        }
      ]
    },
    {
      "cell_type": "code",
      "source": [],
      "metadata": {
        "id": "Pz_7XiSkiKPD"
      },
      "execution_count": null,
      "outputs": []
    }
  ],
  "metadata": {
    "colab": {
      "provenance": [],
      "toc_visible": true
    },
    "kernelspec": {
      "display_name": "Python 3",
      "name": "python3"
    },
    "language_info": {
      "codemirror_mode": {
        "name": "ipython",
        "version": 3
      },
      "file_extension": ".py",
      "mimetype": "text/x-python",
      "name": "python",
      "nbconvert_exporter": "python",
      "pygments_lexer": "ipython3",
      "version": "3.11.2"
    }
  },
  "nbformat": 4,
  "nbformat_minor": 0
}