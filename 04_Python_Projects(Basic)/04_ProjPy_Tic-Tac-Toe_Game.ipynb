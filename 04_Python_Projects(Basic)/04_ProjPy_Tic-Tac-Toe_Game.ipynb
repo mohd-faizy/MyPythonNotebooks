{
  "nbformat": 4,
  "nbformat_minor": 0,
  "metadata": {
    "colab": {
      "name": "Z01_PYTHON_PROJECT_01.ipynb",
      "provenance": [],
      "toc_visible": true,
      "authorship_tag": "ABX9TyNXC3mjnYUzskYUMXV72J4q",
      "include_colab_link": true
    },
    "kernelspec": {
      "name": "python3",
      "display_name": "Python 3"
    }
  },
  "cells": [
    {
      "cell_type": "markdown",
      "metadata": {
        "id": "view-in-github",
        "colab_type": "text"
      },
      "source": [
        "<a href=\"https://colab.research.google.com/github/mohd-faizy/00_Python_Notebooks_Concept/blob/master/Z01_PYTHON_PROJECT_01.ipynb\" target=\"_parent\"><img src=\"https://colab.research.google.com/assets/colab-badge.svg\" alt=\"Open In Colab\"/></a>"
      ]
    },
    {
      "cell_type": "markdown",
      "metadata": {
        "id": "55jmoEnRC2r8",
        "colab_type": "text"
      },
      "source": [
        "# __TIC TAC TOE IN PYTHON__"
      ]
    },
    {
      "cell_type": "markdown",
      "metadata": {
        "id": "wVWukxZ0CzWR",
        "colab_type": "text"
      },
      "source": [
        "1. **Printing a Board**\n",
        "2. **Player input.**\n",
        "3. **('X' or 'O') Place marker**\n",
        "4. **Win Checker**\n",
        "5. **Randomly decide which player goes first**\n",
        "6. **whether a space on the board is freely available**\n",
        "7. **If the board is full and returns a boolean value**\n",
        "8. **Asks for a player's next position (as a number 1-9) & Then uses the function from step 6 to check if its a free position**\n",
        "9. **If the Player wants to play again**\n",
        "10. __MAIN LOGIC__"
      ]
    },
    {
      "cell_type": "markdown",
      "metadata": {
        "id": "zj1uMclTkDLE",
        "colab_type": "text"
      },
      "source": [
        "# __1. Display board__"
      ]
    },
    {
      "cell_type": "code",
      "metadata": {
        "id": "rP6hrPBHRx6R",
        "colab_type": "code",
        "colab": {
          "base_uri": "https://localhost:8080/",
          "height": 105
        },
        "outputId": "1c175202-971b-495f-9db3-f741665e76fc"
      },
      "source": [
        "from IPython.display import  clear_output\n",
        " \n",
        "def display_board(board):\n",
        "     clear_output()\n",
        "\n",
        "     print(' ' + board[7] + ' | '+ board[8]+ ' | ' +board[9])\n",
        "     print('---+---+---')\n",
        "     print(' ' + board[4] + ' | '+ board[5]+ ' | ' +board[6])\n",
        "     print('---+---+---')\n",
        "     print(' ' + board[1] + ' | '+ board[2]+ ' | ' +board[3]) \n",
        "\n",
        "\n",
        "test_board = ['#','X','O','X','O','X','O','X','O','X']\n",
        "display_board(test_board)"
      ],
      "execution_count": 1,
      "outputs": [
        {
          "output_type": "stream",
          "text": [
            " X | O | X\n",
            "---+---+---\n",
            " O | X | O\n",
            "---+---+---\n",
            " X | O | X\n"
          ],
          "name": "stdout"
        }
      ]
    },
    {
      "cell_type": "markdown",
      "metadata": {
        "id": "YrOu07pPkl1N",
        "colab_type": "text"
      },
      "source": [
        "# __2. Choose the Marker ('X' or 'O')__"
      ]
    },
    {
      "cell_type": "code",
      "metadata": {
        "id": "eLqETmptklaJ",
        "colab_type": "code",
        "colab": {
          "base_uri": "https://localhost:8080/",
          "height": 72
        },
        "outputId": "51111e48-49c4-4220-80cf-ae3d75ecf489"
      },
      "source": [
        "def player_input():\n",
        "    \n",
        "    '''\n",
        "    OUTPUT: Player 1 marker, Player 2 marker\n",
        "    '''\n",
        "\n",
        "    marker = ''\n",
        "\n",
        "    while not (marker == 'X' or marker == 'O'):\n",
        "        marker= input('Choose: Do you want X or O? ').upper()\n",
        "\n",
        "    if marker == 'X':\n",
        "        return ('X', 'O')   # Tuple Unpacking\n",
        "    \n",
        "    else:                 \n",
        "        return('X','O')     # Tuple Unpacking\n",
        "\n",
        "player_input()"
      ],
      "execution_count": 2,
      "outputs": [
        {
          "output_type": "stream",
          "text": [
            "Choose: Do you want X or O? X\n"
          ],
          "name": "stdout"
        },
        {
          "output_type": "execute_result",
          "data": {
            "text/plain": [
              "('X', 'O')"
            ]
          },
          "metadata": {
            "tags": []
          },
          "execution_count": 2
        }
      ]
    },
    {
      "cell_type": "markdown",
      "metadata": {
        "id": "owk7BmoIsq5a",
        "colab_type": "text"
      },
      "source": [
        "# __3. Place Marker ('X' or 'O')__"
      ]
    },
    {
      "cell_type": "code",
      "metadata": {
        "id": "iAWfLLmwsR0M",
        "colab_type": "code",
        "colab": {
          "base_uri": "https://localhost:8080/",
          "height": 105
        },
        "outputId": "3df41b3c-9d0a-41bb-da3e-9745c86fb091"
      },
      "source": [
        "def place_marker(board, marker, position):\n",
        "    board[position] = marker\n",
        "\n",
        "place_marker(test_board,'$',8)\n",
        "display_board(test_board)\n",
        " "
      ],
      "execution_count": 3,
      "outputs": [
        {
          "output_type": "stream",
          "text": [
            " X | $ | X\n",
            "---+---+---\n",
            " O | X | O\n",
            "---+---+---\n",
            " X | O | X\n"
          ],
          "name": "stdout"
        }
      ]
    },
    {
      "cell_type": "markdown",
      "metadata": {
        "id": "YVxjgn2l9640",
        "colab_type": "text"
      },
      "source": [
        "# __4. WIN Check__"
      ]
    },
    {
      "cell_type": "code",
      "metadata": {
        "id": "KElZK2ev-GPU",
        "colab_type": "code",
        "colab": {
          "base_uri": "https://localhost:8080/",
          "height": 34
        },
        "outputId": "1f9cb09b-b834-4aef-abdf-262ff0a856c0"
      },
      "source": [
        " \n",
        "def win_check(board,mark):\n",
        "    \n",
        "    return ((board[7] == mark and board[8] == mark and board[9] == mark) or # across the top\n",
        "            (board[4] == mark and board[5] == mark and board[6] == mark) or # across the middle\n",
        "            (board[1] == mark and board[2] == mark and board[3] == mark) or # across the bottom\n",
        "            (board[7] == mark and board[4] == mark and board[1] == mark) or # down the middle\n",
        "            (board[8] == mark and board[5] == mark and board[2] == mark) or # down the middle\n",
        "            (board[9] == mark and board[6] == mark and board[3] == mark) or # down the right side\n",
        "            (board[7] == mark and board[5] == mark and board[3] == mark) or # diagonal\n",
        "            (board[9] == mark and board[5] == mark and board[1] == mark))   # diagonal\n",
        " \n",
        "win_check(test_board,'X')"
      ],
      "execution_count": 4,
      "outputs": [
        {
          "output_type": "execute_result",
          "data": {
            "text/plain": [
              "True"
            ]
          },
          "metadata": {
            "tags": []
          },
          "execution_count": 4
        }
      ]
    },
    {
      "cell_type": "markdown",
      "metadata": {
        "id": "BWOGxsGZwz1f",
        "colab_type": "text"
      },
      "source": [
        "# __5. Randomly Decide which palayer goes first__"
      ]
    },
    {
      "cell_type": "code",
      "metadata": {
        "id": "-KV7GFixUA9e",
        "colab_type": "code",
        "colab": {}
      },
      "source": [
        "import random\n",
        "\n",
        "def choose_first():\n",
        "\n",
        "    if random.randint(0,1) == 0:\n",
        "        return 'Player 2'\n",
        "    else:\n",
        "        return 'Player 1'"
      ],
      "execution_count": 5,
      "outputs": []
    },
    {
      "cell_type": "markdown",
      "metadata": {
        "id": "q6Dd8UFpx303",
        "colab_type": "text"
      },
      "source": [
        "# __6. Space Check__"
      ]
    },
    {
      "cell_type": "markdown",
      "metadata": {
        "id": "56JgcrXqz479",
        "colab_type": "text"
      },
      "source": [
        "*Wether the board is freely avalible*\n",
        "\n",
        " if it returns **False** $\\Rightarrow $ *Space is not avalible*"
      ]
    },
    {
      "cell_type": "code",
      "metadata": {
        "id": "PDTEDvhmz36f",
        "colab_type": "code",
        "colab": {}
      },
      "source": [
        "def space_check(board, position):\n",
        "\n",
        "    return board[position] == ' ' "
      ],
      "execution_count": 6,
      "outputs": []
    },
    {
      "cell_type": "markdown",
      "metadata": {
        "id": "27rZaAR8525o",
        "colab_type": "text"
      },
      "source": [
        "# __7. Full Board Check__"
      ]
    },
    {
      "cell_type": "markdown",
      "metadata": {
        "id": "5UaIijub6GJq",
        "colab_type": "text"
      },
      "source": [
        "*If the board is full and returns a boolean value*"
      ]
    },
    {
      "cell_type": "code",
      "metadata": {
        "id": "fApCAyZL5meP",
        "colab_type": "code",
        "colab": {}
      },
      "source": [
        "def full_board_check(board):\n",
        "\n",
        "    for i in range(1,10):\n",
        "        if space_check(board, i):\n",
        "            return False\n",
        "            \n",
        "    return True"
      ],
      "execution_count": 7,
      "outputs": []
    },
    {
      "cell_type": "markdown",
      "metadata": {
        "id": "P-CQ8GqxHU2b",
        "colab_type": "text"
      },
      "source": [
        "# __8. Player Choice__\n"
      ]
    },
    {
      "cell_type": "markdown",
      "metadata": {
        "id": "GrIuquwAHKQo",
        "colab_type": "text"
      },
      "source": [
        "- *Asks for a player's next position (as a number 1-9)*\n",
        "- *Then uses the function from step 6 to check if its a free position*\n",
        " "
      ]
    },
    {
      "cell_type": "code",
      "metadata": {
        "id": "vhI5EQZq7Rq0",
        "colab_type": "code",
        "colab": {}
      },
      "source": [
        "def player_choice(board):\n",
        "    position = 0\n",
        "    \n",
        "    while position not in [1,2,3,4,5,6,7,8,9] or not space_check(board, position):\n",
        "        position = int(input('Choose your next position: (1-9) '))\n",
        "        \n",
        "    return position"
      ],
      "execution_count": 8,
      "outputs": []
    },
    {
      "cell_type": "markdown",
      "metadata": {
        "id": "Eand6uNBPFUk",
        "colab_type": "text"
      },
      "source": [
        "# __9. Replay__\n"
      ]
    },
    {
      "cell_type": "markdown",
      "metadata": {
        "id": "T4A6rnoXPR51",
        "colab_type": "text"
      },
      "source": [
        "*if the palyer want  to play again.*"
      ]
    },
    {
      "cell_type": "code",
      "metadata": {
        "id": "ti2S7XrBOtvK",
        "colab_type": "code",
        "colab": {}
      },
      "source": [
        "def replay():\n",
        "    \n",
        "    return input('Do you want to play again? Enter Yes or No: ').lower().startswith('y')"
      ],
      "execution_count": 9,
      "outputs": []
    },
    {
      "cell_type": "markdown",
      "metadata": {
        "id": "G-xwEt5iRm2Y",
        "colab_type": "text"
      },
      "source": [
        "# __10. Main Logic__"
      ]
    },
    {
      "cell_type": "code",
      "metadata": {
        "id": "cVLBTNT8ui_h",
        "colab_type": "code",
        "colab": {
          "base_uri": "https://localhost:8080/",
          "height": 161
        },
        "outputId": "ee5db3d7-f645-45c2-aedb-01b93d3b5b6a"
      },
      "source": [
        "# While loop to keep palying the GAME\n",
        "print('Welcome to Tic Tac Toe!')\n",
        " \n",
        "while True:\n",
        "    # Play the GAME\n",
        "    ## Set Everything UP (Board. Whos First, Choose Marker X,O)\n",
        "   \n",
        "    the_board = [' '] * 10                                        # 1\n",
        "    player1_marker, player2_marker = player_input()               # 2    \n",
        "    turn = choose_first()                                         # 5\n",
        "    print(turn + ' will go first.')\n",
        "    \n",
        "    play_game = input('Are you ready to play? Enter Yes or No: ')\n",
        "    \n",
        "    if play_game.lower()[0] == 'y':\n",
        "        game_on = True\n",
        "    else:\n",
        "        game_on = False\n",
        " \n",
        "    while game_on:\n",
        "\n",
        "        if turn == 'Player 1':\n",
        "\n",
        "            # ----------Player1's turn----------\n",
        "            \n",
        "            # Show the Board \n",
        "            display_board(the_board)\n",
        "            # Choose the Position                                 # 1\n",
        "            position = player_choice(the_board)\n",
        "            # Place the marker on the position                    # 8\n",
        "            place_marker(the_board, player1_marker, position)     # 3\n",
        "            # Check if they WON\n",
        "            if win_check(the_board, player1_marker):              # 4\n",
        "                display_board(the_board)                          # 1\n",
        "                print('Congratulations! You have won the game!')\n",
        "                game_on = False\n",
        "            else:\n",
        "                # Or Check if there is a tie\n",
        "                if full_board_check(the_board):\n",
        "                    display_board(the_board)\n",
        "                    print('The game is a draw!')\n",
        "                    break\n",
        "                else:\n",
        "                    # No Tie/No Win, Then its nest player turn\n",
        "                    turn = 'Player 2'\n",
        " \n",
        "        else:\n",
        "            # ----------Player2's turn----------\n",
        "            \n",
        "            display_board(the_board)\n",
        "            position = player_choice(the_board)\n",
        "            place_marker(the_board, player2_marker, position)\n",
        " \n",
        "            if win_check(the_board, player2_marker):\n",
        "                display_board(the_board)\n",
        "                print('Player 2 has won!')\n",
        "                game_on = False\n",
        "            else:\n",
        "                if full_board_check(the_board):\n",
        "                    display_board(the_board)\n",
        "                    print('The game is a draw!')\n",
        "                    break\n",
        "                else:\n",
        "                    turn = 'Player 1'\n",
        " \n",
        "    if not replay():                                                # 9 \n",
        "        break"
      ],
      "execution_count": 10,
      "outputs": [
        {
          "output_type": "stream",
          "text": [
            " O |   |  \n",
            "---+---+---\n",
            " X | O | X\n",
            "---+---+---\n",
            " O | X | O\n",
            "Player 2 has won!\n",
            "Do you want to play again? Enter Yes or No: n\n"
          ],
          "name": "stdout"
        }
      ]
    }
  ]
}