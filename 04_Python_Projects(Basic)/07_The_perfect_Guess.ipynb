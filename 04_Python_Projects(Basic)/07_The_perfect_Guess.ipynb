{
  "nbformat": 4,
  "nbformat_minor": 0,
  "metadata": {
    "colab": {
      "provenance": [],
      "collapsed_sections": [],
      "toc_visible": true
    },
    "kernelspec": {
      "name": "python3",
      "display_name": "Python 3"
    },
    "language_info": {
      "name": "python"
    }
  },
  "cells": [
    {
      "cell_type": "markdown",
      "source": [
        "# <center><strong>⌛️The perfect Guess⏳ </strong></center>"
      ],
      "metadata": {
        "id": "8zYWN5IZWwLc"
      }
    },
    {
      "cell_type": "markdown",
      "source": [
        "📢**Write a program that genrates a random number and ask user to guess it.**\n",
        "\n",
        "- ✔️If the player guess is higher than the actual number, the program displays `\"Lower number please\"`. \n",
        "- ✔️Similarly if the user guess is too low, the program prints `\"higher number please\"`.\n",
        "- ✔️when the user guess the correct number, 👉**the program displays the number of guess.**"
      ],
      "metadata": {
        "id": "ihRDfHQgXF2-"
      }
    },
    {
      "cell_type": "code",
      "source": [
        "! pwd"
      ],
      "metadata": {
        "colab": {
          "base_uri": "https://localhost:8080/"
        },
        "id": "BxJJDP-DfrVH",
        "outputId": "7eff4a16-41d5-42a5-9e5c-c09b5a5dcd34"
      },
      "execution_count": null,
      "outputs": [
        {
          "output_type": "stream",
          "name": "stdout",
          "text": [
            "/content\n"
          ]
        }
      ]
    },
    {
      "cell_type": "code",
      "source": [
        "# This creates empty file name hiscore.txt\n",
        "! touch hiscore.txt"
      ],
      "metadata": {
        "id": "Qp9cfplkfmtS"
      },
      "execution_count": null,
      "outputs": []
    },
    {
      "cell_type": "code",
      "source": [
        "guessHiScore = 9 # setting the high score to 9\n",
        "\n",
        "with open(\"/content/hiscore.txt\", \"w\") as f:\n",
        "  f.write('%d' %guessHiScore)"
      ],
      "metadata": {
        "id": "gzMqVFBdkeXJ"
      },
      "execution_count": null,
      "outputs": []
    },
    {
      "cell_type": "markdown",
      "source": [
        "Play ▶▶"
      ],
      "metadata": {
        "id": "zQGTn-2sl6Z-"
      }
    },
    {
      "cell_type": "code",
      "execution_count": null,
      "metadata": {
        "colab": {
          "base_uri": "https://localhost:8080/"
        },
        "id": "yq_37frYCdgi",
        "outputId": "65e56e9a-6fb7-4f6c-eaab-d50139235253"
      },
      "outputs": [
        {
          "output_type": "stream",
          "name": "stdout",
          "text": [
            "Enter your guess: 50\n",
            "You guessed it wrong! Enter a smaller number\n",
            "Enter your guess: 25\n",
            "You guessed it wrong! Enter a larger number\n",
            "Enter your guess: 37\n",
            "You guessed it right!\n",
            "You guessed the number in 3 guesses\n",
            "You have just broken the high score!\n"
          ]
        }
      ],
      "source": [
        "import random\n",
        "randNumber = random.randint(1, 100)\n",
        "userGuess = None                # becasue when we enter the loop we have not guessed anything\n",
        "guesses = 0                     # becasue we have not guessed anything \n",
        "\n",
        "while(userGuess != randNumber): # this loop will continue untill the user has not guessed the number\n",
        "    userGuess = int(input(\"Enter your guess: \"))\n",
        "    guesses += 1                # this will increment the guesses by 1 everytime the user guesses\n",
        "    if(userGuess==randNumber):\n",
        "        print(\"You guessed it right!\")\n",
        "    else:\n",
        "        if(userGuess>randNumber):\n",
        "            print(\"You guessed it wrong! Enter a smaller number\")\n",
        "        else:\n",
        "            print(\"You guessed it wrong! Enter a larger number\")\n",
        "\n",
        "print(f\"You guessed the number in {guesses} guesses\")\n",
        "\n",
        "with open(\"/content/hiscore.txt\", \"r\") as f:\n",
        "    hiscore = int(f.read())\n",
        "\n",
        "if(guesses<hiscore): #\n",
        "    print(\"Congratulations! You have just broken the high score!\")\n",
        "    with open(\"hiscore.txt\", \"w\") as f:\n",
        "        f.write(str(guesses))\n",
        "else:\n",
        "    print(\"this isn't the high Score\") "
      ]
    },
    {
      "cell_type": "markdown",
      "source": [
        "### $\\color{skyblue}{\\textbf{Connect with me:}}$\n",
        "\n",
        "\n",
        "[<img align=\"left\" src=\"https://cdn.jsdelivr.net/npm/simple-icons@v3/icons/twitter.svg\" width=\"32px\"/>][twitter]\n",
        "[<img align=\"left\" src=\"https://cdn.jsdelivr.net/npm/simple-icons@v3/icons/linkedin.svg\" width=\"32px\"/>][linkedin]\n",
        "[<img align=\"left\" src=\"https://raw.githubusercontent.com/iconic/open-iconic/master/svg/globe.svg\" width=\"32px\"/>][StackExchange AI]\n",
        "\n",
        "[twitter]: https://twitter.com/F4izy\n",
        "[linkedin]: https://www.linkedin.com/in/mohd-faizy/\n",
        "[StackExchange AI]: https://ai.stackexchange.com/users/36737/cypher"
      ],
      "metadata": {
        "id": "oltoRuqUzU6e"
      }
    }
  ]
}