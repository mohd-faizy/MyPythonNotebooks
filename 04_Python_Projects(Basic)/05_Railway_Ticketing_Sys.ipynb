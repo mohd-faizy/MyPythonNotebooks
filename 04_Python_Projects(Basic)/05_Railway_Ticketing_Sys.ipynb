{
  "nbformat": 4,
  "nbformat_minor": 0,
  "metadata": {
    "colab": {
      "provenance": [],
      "collapsed_sections": [],
      "toc_visible": true
    },
    "kernelspec": {
      "name": "python3",
      "display_name": "Python 3"
    },
    "language_info": {
      "name": "python"
    }
  },
  "cells": [
    {
      "cell_type": "markdown",
      "source": [
        "# <center><b>🚂Railway Ticketing System🚂</b></center>"
      ],
      "metadata": {
        "id": "8GtEPn2Oo3aU"
      }
    },
    {
      "cell_type": "markdown",
      "source": [
        "<p align='center'>\n",
        "  <a href=\"#\">\n",
        "    <img src='https://raw.githubusercontent.com/mohd-faizy/learn_python/master/_img/train_berth_bp.jpg'>\n",
        "  </a>\n",
        "</p>"
      ],
      "metadata": {
        "id": "_sHKOqaBplpF"
      }
    },
    {
      "cell_type": "code",
      "source": [
        "class Train:\n",
        "    def __init__(self, name, seats):\n",
        "        self.name = name\n",
        "        self.seats = seats\n",
        "\n",
        "    def getStatus(self):\n",
        "        if self.seats > 0 and self.seats < 73:\n",
        "            print(\"--------------------------------------------------\")\n",
        "            print(f\"Seats available : {self.seats}\")\n",
        "            print(\"--------------------------------------------------\")\n",
        "        else:\n",
        "            print(\"No! seats are avalible\")\n",
        "\n",
        "    def bookTicket(self):\n",
        "        if self.seats > 0 and self.seats < 73:\n",
        "            print(\"--------------------------------------------------\")\n",
        "            print(f\"Your ticket has been booked!\")\n",
        "            print(\"--------------------------------------------------\")\n",
        "            print(f\"Train name: {self.name}\")\n",
        "            self.seats = self.seats - 1\n",
        "        else:\n",
        "            print(\"Sorry this train is full! Kindly try in tatkal\")\n",
        "\n",
        "    @staticmethod\n",
        "    def fareInfo(s):\n",
        "        if s > 0 and s < 73:\n",
        "            if s % 8 == 1 or s % 8 == 4:\n",
        "                return \"Rs 100\"\n",
        "            elif s % 8 == 2 or s % 8 == 5:\n",
        "                return \"Rs 90\"\n",
        "            elif s % 8 == 3 or s % 8 == 6:\n",
        "                return \"Rs 80\"\n",
        "            elif s % 8 == 7:\n",
        "                return \"Rs 120\"\n",
        "            else:\n",
        "                return \"Rs 140\"\n",
        "        else:\n",
        "            return \"Error :( Try again\"\n",
        "                            \n",
        "    @staticmethod\n",
        "    def berth_type(s):\n",
        "        if s > 0 and s < 73:\n",
        "            if s % 8 == 1 or s % 8 == 4:\n",
        "                return \"Lower Berth\"\n",
        "            elif s % 8 == 2 or s % 8 == 5:\n",
        "                return \"Middle Berth\"\n",
        "            elif s % 8 == 3 or s % 8 == 6:\n",
        "                return \"Upper Berth\"\n",
        "            elif s % 8 == 7:\n",
        "                return \"Side Lower Berth\"\n",
        "            else:\n",
        "                return \"Side Upper Berth\"\n",
        "        else:\n",
        "            return \"Invalid seat Number\"\n",
        "    \n",
        "    def cancleTicket(self):\n",
        "        if self.seats > 0 and self.seats < 73:\n",
        "            print(f\"Your ticket has been cancelled! Your seat number is {self.seats+1}\")\n",
        "            self.seats = self.seats + 1\n",
        "        else:\n",
        "            print(\"No ticket to cancel\")\n",
        "\n",
        "\n",
        "s = int(input(\"Enter the seat number: \")) \n",
        "# Creating the object of a class\n",
        "intercity = Train(\"Intercity Express: 12036\", s)\n",
        "\n",
        "intercity.bookTicket()                        # Booking the ticket\n",
        "print(f\"Seat number: {s}\")\n",
        "print(f\"seat location: {intercity.berth_type(s)}\") \n",
        "print(f\"Seat fare: {intercity.fareInfo(s)}\")\n",
        "intercity.getStatus()                         # Status after booking \n",
        "intercity.cancleTicket()                      # ticket Cancellation  \n",
        "intercity.getStatus()                         # Status after Cancellation"
      ],
      "metadata": {
        "colab": {
          "base_uri": "https://localhost:8080/"
        },
        "id": "FsC_Kei8VWhu",
        "outputId": "2c9bd6fb-16d2-4dfb-cc9f-235d743130c4"
      },
      "execution_count": 52,
      "outputs": [
        {
          "output_type": "stream",
          "name": "stdout",
          "text": [
            "Enter the seat number: 2\n",
            "--------------------------------------------------\n",
            "Your ticket has been booked!\n",
            "--------------------------------------------------\n",
            "Train name: Intercity Express: 12036\n",
            "Seat number: 2\n",
            "seat location: Middle Berth\n",
            "Seat fare: Rs 90\n",
            "--------------------------------------------------\n",
            "Seats available : 1\n",
            "--------------------------------------------------\n",
            "Your ticket has been cancelled! Your seat number is 2\n",
            "--------------------------------------------------\n",
            "Seats available : 2\n",
            "--------------------------------------------------\n"
          ]
        }
      ]
    }
  ]
}