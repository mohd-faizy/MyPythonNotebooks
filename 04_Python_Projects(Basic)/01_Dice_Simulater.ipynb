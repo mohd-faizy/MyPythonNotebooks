{
  "nbformat": 4,
  "nbformat_minor": 0,
  "metadata": {
    "colab": {
      "name": "01_Dice_Simulater.ipynb",
      "provenance": [],
      "toc_visible": true,
      "authorship_tag": "ABX9TyNZcLwbtTy08QK5CHrMi4WV",
      "include_colab_link": true
    },
    "kernelspec": {
      "name": "python3",
      "display_name": "Python 3"
    }
  },
  "cells": [
    {
      "cell_type": "markdown",
      "metadata": {
        "id": "view-in-github",
        "colab_type": "text"
      },
      "source": [
        "<a href=\"https://colab.research.google.com/github/mohd-faizy/Python-Concept-Jupyer-Notebooks/blob/master/01_Dice_Simulater.ipynb\" target=\"_parent\"><img src=\"https://colab.research.google.com/assets/colab-badge.svg\" alt=\"Open In Colab\"/></a>"
      ]
    },
    {
      "cell_type": "markdown",
      "metadata": {
        "id": "sE1CDvR6olkz"
      },
      "source": [
        "--- \r\n",
        "<strong> \r\n",
        "    <h1 align='center'>Dice Rolling Simulator</h1> \r\n",
        "</strong>\r\n",
        "\r\n",
        "---\r\n",
        "\r\n",
        "\r\n",
        "<p align='center'>\r\n",
        "  <a href=\"#\">\r\n",
        "    <img src='https://kalebujordan.com/wp-content/uploads/2020/05/il_570xN.1602409486_ji1e.jpg' width=250px height=200px alt=\"\">\r\n",
        "  </a>\r\n",
        "</p>"
      ]
    },
    {
      "cell_type": "code",
      "metadata": {
        "colab": {
          "base_uri": "https://localhost:8080/"
        },
        "id": "iV3G_Na0gee4",
        "outputId": "bc4895e2-bf87-43cc-8753-ed99336d9a4c"
      },
      "source": [
        "# dice Simulater\r\n",
        "'''\r\n",
        "Think:\r\n",
        "1. dice UI\r\n",
        "2. random face number\r\n",
        "3. Looping\r\n",
        "\r\n",
        "Algorithm:\r\n",
        "1. generating the random numbeer\r\n",
        "2. check the number\r\n",
        "3. print the face\r\n",
        "4. looping\r\n",
        "'''\r\n",
        "import random\r\n",
        "\r\n",
        "x = 'y'\r\n",
        "\r\n",
        "while x == \"y\":\r\n",
        "    number = random.randint(1, 6)\r\n",
        "\r\n",
        "    if number == 1:\r\n",
        "        print('-----------')\r\n",
        "        print('|         |')\r\n",
        "        print('|    0    |')\r\n",
        "        print('|         |')\r\n",
        "        print('-----------')\r\n",
        "\r\n",
        "    if number == 2:\r\n",
        "        print('-----------')\r\n",
        "        print('|         |')\r\n",
        "        print('|0       0|')\r\n",
        "        print('|         |')\r\n",
        "        print('-----------')\r\n",
        "\r\n",
        "    if number == 3:\r\n",
        "        print('-----------')\r\n",
        "        print('|        0|')\r\n",
        "        print('|    0    |')\r\n",
        "        print('|0        |')\r\n",
        "        print('-----------')\r\n",
        "\r\n",
        "    if number == 4:\r\n",
        "        print('-----------')\r\n",
        "        print('|0       0|')\r\n",
        "        print('|         |')\r\n",
        "        print('|0       0|')\r\n",
        "        print('-----------')\r\n",
        "\r\n",
        "    if number == 5:\r\n",
        "        print('-----------')\r\n",
        "        print('|0       0|')\r\n",
        "        print('|    0    |')\r\n",
        "        print('|0       0|')\r\n",
        "        print('-----------')\r\n",
        "\r\n",
        "    if number == 6:\r\n",
        "        print('--------- -')\r\n",
        "        print('|0       0|')\r\n",
        "        print('|0       0|')\r\n",
        "        print('|0       0|')\r\n",
        "        print('-----------')\r\n",
        "\r\n",
        "    x = input(\"Press y to roll again \")\r\n"
      ],
      "execution_count": null,
      "outputs": [
        {
          "output_type": "stream",
          "text": [
            "-----------\n",
            "|0       0|\n",
            "|    0    |\n",
            "|0       0|\n",
            "-----------\n",
            "Press y to roll again y\n",
            "-----------\n",
            "|0       0|\n",
            "|         |\n",
            "|0       0|\n",
            "-----------\n",
            "Press y to roll again y\n",
            "-----------\n",
            "|0       0|\n",
            "|         |\n",
            "|0       0|\n",
            "-----------\n",
            "Press y to roll again y\n",
            "-----------\n",
            "|         |\n",
            "|    0    |\n",
            "|         |\n",
            "-----------\n",
            "Press y to roll again y\n",
            "--------- -\n",
            "|0       0|\n",
            "|0       0|\n",
            "|0       0|\n",
            "-----------\n",
            "Press y to roll again y\n",
            "-----------\n",
            "|         |\n",
            "|    0    |\n",
            "|         |\n",
            "-----------\n",
            "Press y to roll again y\n",
            "-----------\n",
            "|         |\n",
            "|0       0|\n",
            "|         |\n",
            "-----------\n",
            "Press y to roll again y\n",
            "--------- -\n",
            "|0       0|\n",
            "|0       0|\n",
            "|0       0|\n",
            "-----------\n",
            "Press y to roll again \n"
          ],
          "name": "stdout"
        }
      ]
    }
  ]
}