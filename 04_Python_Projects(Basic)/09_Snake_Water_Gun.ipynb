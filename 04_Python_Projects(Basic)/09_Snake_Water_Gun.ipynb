{
  "cells": [
    {
      "cell_type": "markdown",
      "metadata": {
        "id": "u-xbAvTyG91w"
      },
      "source": [
        "# <center><b>Snake🐍Water💧Gun🔫</b></center>  "
      ]
    },
    {
      "cell_type": "markdown",
      "metadata": {
        "id": "LHECf4Sr8tt3"
      },
      "source": [
        "- **Hands Up:** Players show one hand forming either a snake , water , or gun .\n",
        "- **Who Wins?**\n",
        "    - Snake drinks water (Snake wins over Water).\n",
        "    - Water douses gun (Water wins over Gun).\n",
        "    - Gun shoots snake (Gun wins over Snake).\n",
        "- **Tie?** If both players choose the same symbol, it's a draw and you play again."
      ]
    },
    {
      "cell_type": "code",
      "source": [
        "import random\n",
        "\n",
        "def check(comp, user):\n",
        "  if comp ==user:\n",
        "    return 0\n",
        "\n",
        "  if(comp == 0 and user ==1):\n",
        "    return -1\n",
        "\n",
        "  if(comp == 1 and user ==2):\n",
        "    return -1\n",
        "\n",
        "  if(comp == 2 and user == 0):\n",
        "    return -1\n",
        "\n",
        "  return 1\n",
        "\n",
        "\n",
        "comp = random.randint(0, 2)\n",
        "user = int(input(\"0 for Snake, 1 for water and 2 for Gun:\\n\"))\n",
        "\n",
        "score = check(comp, user)\n",
        "\n",
        "print(\"You: \", user)\n",
        "print(\"Computer: \", comp)\n",
        "\n",
        "if(score == 0):\n",
        "  print(\"Its a draw\")\n",
        "elif (score == -1):\n",
        "  print(\"You Lose\")\n",
        "else:\n",
        "  print(\"You Won\")"
      ],
      "metadata": {
        "colab": {
          "base_uri": "https://localhost:8080/"
        },
        "id": "YuYihPuF8uu5",
        "outputId": "6d8df43e-41e4-4c3d-9d82-6cf4ea3acc59"
      },
      "execution_count": 1,
      "outputs": [
        {
          "output_type": "stream",
          "name": "stdout",
          "text": [
            "0 for Snake, 1 for water and 2 for Gun:\n",
            "1\n",
            "You:  1\n",
            "Computer:  2\n",
            "You Won\n"
          ]
        }
      ]
    },
    {
      "cell_type": "code",
      "execution_count": null,
      "metadata": {
        "id": "drZP6jnmG7TN",
        "outputId": "d681e6a4-49c5-484c-c6d5-3764fabd8f1a"
      },
      "outputs": [
        {
          "name": "stdout",
          "output_type": "stream",
          "text": [
            "You chose: s\n",
            "Computer chose: w\n",
            "You win!\n"
          ]
        }
      ],
      "source": [
        "import random\n",
        "\n",
        "def get_user_choice():\n",
        "    valid_choices = ['s', 'w', 'g']\n",
        "    while True:\n",
        "        user_choice = input(\"Enter 's' for Snake, 'w' for Water, or 'g' for Gun: \")\n",
        "        if user_choice.lower() in valid_choices:\n",
        "            return user_choice.lower()\n",
        "        else:\n",
        "            print(\"Invalid input. Please enter 's', 'w', or 'g'.\")\n",
        "\n",
        "\n",
        "def check_win(user_choice, computer_choice):\n",
        "    win_conditions = {\n",
        "        's': 'w',  # Snake beats Water\n",
        "        'w': 'g',  # Water beats Gun\n",
        "        'g': 's'   # Gun beats Snake\n",
        "    }\n",
        "\n",
        "    if user_choice == computer_choice:\n",
        "        return None  # Tie\n",
        "    elif win_conditions[user_choice] == computer_choice:\n",
        "        return True  # User wins\n",
        "    else:\n",
        "        return False  # Computer wins\n",
        "\n",
        "\n",
        "def play_game():\n",
        "    choices = ['s', 'w', 'g']\n",
        "    computer_choice = random.choice(choices)\n",
        "\n",
        "    user_choice = get_user_choice()\n",
        "\n",
        "    print(f\"You chose: {user_choice}\")\n",
        "    print(f\"Computer chose: {computer_choice}\")\n",
        "\n",
        "    result = check_win(user_choice, computer_choice)\n",
        "\n",
        "    if result is None:\n",
        "        print(\"It's a tie!\")\n",
        "    elif result:\n",
        "        print(\"You win!\")\n",
        "    else:\n",
        "        print(\"You lose.\")\n",
        "\n",
        "\n",
        "def main():\n",
        "    while True:\n",
        "        play_game()\n",
        "        play_again = input(\"Play again? (y/n): \")\n",
        "        if play_again.lower() not in ('y', 'yes'):\n",
        "            break\n",
        "\n",
        "if __name__ == \"__main__\":\n",
        "    main()"
      ]
    },
    {
      "cell_type": "markdown",
      "metadata": {
        "id": "Z1SvYf8R8tt6"
      },
      "source": [
        "**What is this???**\n",
        "\n",
        "```python\n",
        "if __name__ == \"__main__\":\n",
        "    main()\n",
        "```\n",
        "\n",
        "[Click here](https://www.youtube.com/watch?v=o4XveLyI6YU&loop=0)"
      ]
    }
  ],
  "metadata": {
    "colab": {
      "provenance": []
    },
    "kernelspec": {
      "display_name": "Python 3",
      "name": "python3"
    },
    "language_info": {
      "codemirror_mode": {
        "name": "ipython",
        "version": 3
      },
      "file_extension": ".py",
      "mimetype": "text/x-python",
      "name": "python",
      "nbconvert_exporter": "python",
      "pygments_lexer": "ipython3",
      "version": "3.11.2"
    }
  },
  "nbformat": 4,
  "nbformat_minor": 0
}