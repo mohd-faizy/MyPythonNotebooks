{
  "nbformat": 4,
  "nbformat_minor": 0,
  "metadata": {
    "colab": {
      "name": "02_Python_Dictionary.ipynb",
      "provenance": [],
      "authorship_tag": "ABX9TyNtIti9BqYAD+HNN4gx74yC",
      "include_colab_link": true
    },
    "kernelspec": {
      "name": "python3",
      "display_name": "Python 3"
    }
  },
  "cells": [
    {
      "cell_type": "markdown",
      "metadata": {
        "id": "view-in-github",
        "colab_type": "text"
      },
      "source": [
        "<a href=\"https://colab.research.google.com/github/mohd-faizy/Python-Concept-Jupyer-Notebooks/blob/master/02_Python_Dictionary.ipynb\" target=\"_parent\"><img src=\"https://colab.research.google.com/assets/colab-badge.svg\" alt=\"Open In Colab\"/></a>"
      ]
    },
    {
      "cell_type": "markdown",
      "metadata": {
        "id": "8SGrKDlNp2pW"
      },
      "source": [
        "--- \r\n",
        "<strong> \r\n",
        "    <h1 align='center'>Python Dictionary</h1> \r\n",
        "</strong>\r\n",
        "\r\n",
        "---"
      ]
    },
    {
      "cell_type": "markdown",
      "metadata": {
        "id": "FuqJ6PERqGgP"
      },
      "source": [
        "<p align='center'>\r\n",
        "  <a href=\"#\">\r\n",
        "    <img src='https://mlephil.files.wordpress.com/2010/03/dictnry.gif' width=220px height=220px alt=\"\">\r\n",
        "  </a>\r\n",
        "</p>"
      ]
    },
    {
      "cell_type": "markdown",
      "metadata": {
        "id": "iUI_ykN5rlVU"
      },
      "source": [
        "## __download the .json file__"
      ]
    },
    {
      "cell_type": "code",
      "metadata": {
        "colab": {
          "base_uri": "https://localhost:8080/"
        },
        "id": "SDJ86NHwpySf",
        "outputId": "b73e8e8a-6407-4b12-8484-91dd57a180c5"
      },
      "source": [
        "! wget https://github.com/mohd-faizy/Python-Concept-Jupyer-Notebooks/raw/master/Python_Projects_py/02_Python_dictionary/dictionary.json"
      ],
      "execution_count": 1,
      "outputs": [
        {
          "output_type": "stream",
          "text": [
            "--2020-12-12 22:58:17--  https://github.com/mohd-faizy/Python-Concept-Jupyer-Notebooks/raw/master/Python_Projects_py/02_Python_dictionary/dictionary.json\n",
            "Resolving github.com (github.com)... 192.30.255.112\n",
            "Connecting to github.com (github.com)|192.30.255.112|:443... connected.\n",
            "HTTP request sent, awaiting response... 302 Found\n",
            "Location: https://raw.githubusercontent.com/mohd-faizy/Python-Concept-Jupyer-Notebooks/master/Python_Projects_py/02_Python_dictionary/dictionary.json [following]\n",
            "--2020-12-12 22:58:17--  https://raw.githubusercontent.com/mohd-faizy/Python-Concept-Jupyer-Notebooks/master/Python_Projects_py/02_Python_dictionary/dictionary.json\n",
            "Resolving raw.githubusercontent.com (raw.githubusercontent.com)... 151.101.0.133, 151.101.64.133, 151.101.128.133, ...\n",
            "Connecting to raw.githubusercontent.com (raw.githubusercontent.com)|151.101.0.133|:443... connected.\n",
            "HTTP request sent, awaiting response... 200 OK\n",
            "Length: 22970019 (22M) [text/plain]\n",
            "Saving to: ‘dictionary.json’\n",
            "\n",
            "dictionary.json     100%[===================>]  21.91M   120MB/s    in 0.2s    \n",
            "\n",
            "2020-12-12 22:58:18 (120 MB/s) - ‘dictionary.json’ saved [22970019/22970019]\n",
            "\n"
          ],
          "name": "stdout"
        }
      ]
    },
    {
      "cell_type": "markdown",
      "metadata": {
        "id": "GFjNgPgcInr3"
      },
      "source": [
        "## __Simple Dictionary Setup__"
      ]
    },
    {
      "cell_type": "code",
      "metadata": {
        "colab": {
          "base_uri": "https://localhost:8080/"
        },
        "id": "Ov_ogFCOrbq1",
        "outputId": "834b468f-607b-4665-9b42-e8ad770fa1ac"
      },
      "source": [
        "# Design the Interface\r\n",
        "# Develop the word matching\r\n",
        "# Modify the program\r\n",
        "\r\n",
        "# Simple Dictionary Setup\r\n",
        "import json\r\n",
        "\r\n",
        "data = json.load(open('/content/dictionary.json'))\r\n",
        "\r\n",
        "def translate(word):\r\n",
        "    if word in data:\r\n",
        "        return data[word]\r\n",
        "    \r\n",
        "word = input('Enter the word you want to search: ')\r\n",
        "output = translate(word)\r\n",
        "\r\n",
        "print(output)"
      ],
      "execution_count": 10,
      "outputs": [
        {
          "output_type": "stream",
          "text": [
            "Enter the word you want to search: cat\n",
            "1. (Zoöl.)  An animal of various species of the genera Felis and Lynx. The domestic cat is Felis domestica. The European wild cat (Felis catus) is much larger than the domestic cat. In the United States the name wild cat is commonly applied to the bay lynx (Lynx rufus) See Wild cat, and Tiger cat. Note: The domestic cat includes many varieties named from their place of origin or from some peculiarity; as, the Angora cat; the Maltese cat; the Manx cat. Note: The word cat is also used to designate other animals, from some fancied resemblance; as, civet cat, fisher cat, catbird, catfish shark, sea cat. 2. (Naut.) (a) A strong vessel with a narrow stern, projecting quarters, and deep waist. It is employed in the coal and timber trade. (b) A strong tackle used to draw an anchor up to the cathead of a ship. Totten. 3. A double tripod (for holding a plate, etc.), having six feet, of which three rest on the ground, in whatever position in is placed. 4. An old game; (a) The game of tipcat and the implement with which it is played. See Tipcat. (c) A game of ball, called, according to the number of batters, one old cat, two old cat, etc. 5. A cat o' nine tails. See below. Angora cat, blind cat, See under Angora, Blind. -- Black cat the fisher. See under Black. -- Cat and dog, like a cat and dog; quarrelsome; inharmonius. \"I am sure we have lived a cat and dog life of it.\" Coleridge. -- Cat block (Naut.), a heavy iron-strapped block with a large hook, part of the tackle used in drawing an anchor up to the cathead. -- Cat hook (Naut.), a strong hook attached to a cat block. -- Cat nap, a very short sleep. [Colloq.] -- Cat o' nine tails, an instrument of punishment consisting of nine pieces of knotted line or cord fastened to a handle; -- formerly used to flog offenders on the bare back. -- Cat's cradle, game played, esp. by children, with a string looped on the fingers so, as to resemble small cradle. The string is transferred from the fingers of one to those of another, at each transfer with a change of form. See Cratch, Cratch cradle. -- To let the cat out of the bag, to tell a secret, carelessly or willfully. [Colloq.] -- Bush cat, the serval. See Serval.\n",
            "\n",
            "To bring to the cathead; as, to cat an anchor. See Anchor. Totten.\n"
          ],
          "name": "stdout"
        }
      ]
    },
    {
      "cell_type": "markdown",
      "metadata": {
        "id": "5X3wNVbdIsLb"
      },
      "source": [
        "## __Modification - 1__"
      ]
    },
    {
      "cell_type": "code",
      "metadata": {
        "colab": {
          "base_uri": "https://localhost:8080/"
        },
        "id": "n0IHR2SGwPzG",
        "outputId": "c4d0dda0-1bdc-4abc-80bb-f5c2a7620553"
      },
      "source": [
        "# Modification_1\r\n",
        "import json\r\n",
        "\r\n",
        "data = json.load(open('/content/dictionary.json'))\r\n",
        "\r\n",
        "def translate(word):\r\n",
        "    if word in data:\r\n",
        "        return data[word]\r\n",
        "    else:\r\n",
        "        print('You have entered a worng word')\r\n",
        "    \r\n",
        "word = input('Enter the word you want to search: ')\r\n",
        "output = translate(word)\r\n",
        "\r\n",
        "print(output)"
      ],
      "execution_count": 3,
      "outputs": [
        {
          "output_type": "stream",
          "text": [
            "Enter the word you want to search: cat\n",
            "1. (Zoöl.)  An animal of various species of the genera Felis and Lynx. The domestic cat is Felis domestica. The European wild cat (Felis catus) is much larger than the domestic cat. In the United States the name wild cat is commonly applied to the bay lynx (Lynx rufus) See Wild cat, and Tiger cat. Note: The domestic cat includes many varieties named from their place of origin or from some peculiarity; as, the Angora cat; the Maltese cat; the Manx cat. Note: The word cat is also used to designate other animals, from some fancied resemblance; as, civet cat, fisher cat, catbird, catfish shark, sea cat. 2. (Naut.) (a) A strong vessel with a narrow stern, projecting quarters, and deep waist. It is employed in the coal and timber trade. (b) A strong tackle used to draw an anchor up to the cathead of a ship. Totten. 3. A double tripod (for holding a plate, etc.), having six feet, of which three rest on the ground, in whatever position in is placed. 4. An old game; (a) The game of tipcat and the implement with which it is played. See Tipcat. (c) A game of ball, called, according to the number of batters, one old cat, two old cat, etc. 5. A cat o' nine tails. See below. Angora cat, blind cat, See under Angora, Blind. -- Black cat the fisher. See under Black. -- Cat and dog, like a cat and dog; quarrelsome; inharmonius. \"I am sure we have lived a cat and dog life of it.\" Coleridge. -- Cat block (Naut.), a heavy iron-strapped block with a large hook, part of the tackle used in drawing an anchor up to the cathead. -- Cat hook (Naut.), a strong hook attached to a cat block. -- Cat nap, a very short sleep. [Colloq.] -- Cat o' nine tails, an instrument of punishment consisting of nine pieces of knotted line or cord fastened to a handle; -- formerly used to flog offenders on the bare back. -- Cat's cradle, game played, esp. by children, with a string looped on the fingers so, as to resemble small cradle. The string is transferred from the fingers of one to those of another, at each transfer with a change of form. See Cratch, Cratch cradle. -- To let the cat out of the bag, to tell a secret, carelessly or willfully. [Colloq.] -- Bush cat, the serval. See Serval.\n",
            "\n",
            "To bring to the cathead; as, to cat an anchor. See Anchor. Totten.\n"
          ],
          "name": "stdout"
        }
      ]
    },
    {
      "cell_type": "markdown",
      "metadata": {
        "id": "6GG6fwJ_1m-N"
      },
      "source": [
        "```python \r\n",
        "str = \"this is string example....wow!!!\"\r\n",
        "print (str.title())\r\n",
        "\r\n",
        "# Output\r\n",
        "This Is String Example....Wow!!!\r\n",
        "```"
      ]
    },
    {
      "cell_type": "markdown",
      "metadata": {
        "id": "xa-degTUI0tP"
      },
      "source": [
        "## __Modification - 2__"
      ]
    },
    {
      "cell_type": "code",
      "metadata": {
        "colab": {
          "base_uri": "https://localhost:8080/"
        },
        "id": "vFt5-wHP0JV4",
        "outputId": "c75fbd62-a22c-4708-968c-c389d2e7bd59"
      },
      "source": [
        "# Modification_2\r\n",
        "# Fix Title issue -- Snake/sanke\r\n",
        "\r\n",
        "import json\r\n",
        "\r\n",
        "data = json.load(open('/content/dictionary.json'))\r\n",
        "\r\n",
        "def translate(word):\r\n",
        "    word = word.lower()\r\n",
        "    if word in data:\r\n",
        "        return data[word]\r\n",
        "    elif word.title() in data:\r\n",
        "        return data[word.title()] \r\n",
        "    else:\r\n",
        "        print('You have entered a worng word')\r\n",
        "    \r\n",
        "word = input('Enter the word you want to search: ')\r\n",
        "output = translate(word)\r\n",
        "\r\n",
        "print(output)"
      ],
      "execution_count": 4,
      "outputs": [
        {
          "output_type": "stream",
          "text": [
            "Enter the word you want to search: Cat\n",
            "1. (Zoöl.)  An animal of various species of the genera Felis and Lynx. The domestic cat is Felis domestica. The European wild cat (Felis catus) is much larger than the domestic cat. In the United States the name wild cat is commonly applied to the bay lynx (Lynx rufus) See Wild cat, and Tiger cat. Note: The domestic cat includes many varieties named from their place of origin or from some peculiarity; as, the Angora cat; the Maltese cat; the Manx cat. Note: The word cat is also used to designate other animals, from some fancied resemblance; as, civet cat, fisher cat, catbird, catfish shark, sea cat. 2. (Naut.) (a) A strong vessel with a narrow stern, projecting quarters, and deep waist. It is employed in the coal and timber trade. (b) A strong tackle used to draw an anchor up to the cathead of a ship. Totten. 3. A double tripod (for holding a plate, etc.), having six feet, of which three rest on the ground, in whatever position in is placed. 4. An old game; (a) The game of tipcat and the implement with which it is played. See Tipcat. (c) A game of ball, called, according to the number of batters, one old cat, two old cat, etc. 5. A cat o' nine tails. See below. Angora cat, blind cat, See under Angora, Blind. -- Black cat the fisher. See under Black. -- Cat and dog, like a cat and dog; quarrelsome; inharmonius. \"I am sure we have lived a cat and dog life of it.\" Coleridge. -- Cat block (Naut.), a heavy iron-strapped block with a large hook, part of the tackle used in drawing an anchor up to the cathead. -- Cat hook (Naut.), a strong hook attached to a cat block. -- Cat nap, a very short sleep. [Colloq.] -- Cat o' nine tails, an instrument of punishment consisting of nine pieces of knotted line or cord fastened to a handle; -- formerly used to flog offenders on the bare back. -- Cat's cradle, game played, esp. by children, with a string looped on the fingers so, as to resemble small cradle. The string is transferred from the fingers of one to those of another, at each transfer with a change of form. See Cratch, Cratch cradle. -- To let the cat out of the bag, to tell a secret, carelessly or willfully. [Colloq.] -- Bush cat, the serval. See Serval.\n",
            "\n",
            "To bring to the cathead; as, to cat an anchor. See Anchor. Totten.\n"
          ],
          "name": "stdout"
        }
      ]
    },
    {
      "cell_type": "markdown",
      "metadata": {
        "id": "LhpkF-ikI3mh"
      },
      "source": [
        "## __Modification - 3__"
      ]
    },
    {
      "cell_type": "code",
      "metadata": {
        "colab": {
          "base_uri": "https://localhost:8080/"
        },
        "id": "Svvm4_nN23ci",
        "outputId": "bacba87d-460f-4337-f5cb-d6fede3a659e"
      },
      "source": [
        "# Modification_3\r\n",
        "# fix Capitalization -- example if word --> USA\r\n",
        "\r\n",
        "import json\r\n",
        "\r\n",
        "data = json.load(open('/content/dictionary.json'))\r\n",
        "\r\n",
        "def translate(word):\r\n",
        "    word = word.lower()\r\n",
        "    if word in data:\r\n",
        "        return data[word]\r\n",
        "    elif word.title() in data:\r\n",
        "        return data[word.title()]\r\n",
        "    elif word.upper() in data:\r\n",
        "        return data[word.upper()]\r\n",
        "    else:\r\n",
        "        print('You have entered a worng word')\r\n",
        "    \r\n",
        "word = input('Enter the word you want to search: ')\r\n",
        "output = translate(word)\r\n",
        "\r\n",
        "print(output)"
      ],
      "execution_count": 5,
      "outputs": [
        {
          "output_type": "stream",
          "text": [
            "Enter the word you want to search: CAT\n",
            "1. (Zoöl.)  An animal of various species of the genera Felis and Lynx. The domestic cat is Felis domestica. The European wild cat (Felis catus) is much larger than the domestic cat. In the United States the name wild cat is commonly applied to the bay lynx (Lynx rufus) See Wild cat, and Tiger cat. Note: The domestic cat includes many varieties named from their place of origin or from some peculiarity; as, the Angora cat; the Maltese cat; the Manx cat. Note: The word cat is also used to designate other animals, from some fancied resemblance; as, civet cat, fisher cat, catbird, catfish shark, sea cat. 2. (Naut.) (a) A strong vessel with a narrow stern, projecting quarters, and deep waist. It is employed in the coal and timber trade. (b) A strong tackle used to draw an anchor up to the cathead of a ship. Totten. 3. A double tripod (for holding a plate, etc.), having six feet, of which three rest on the ground, in whatever position in is placed. 4. An old game; (a) The game of tipcat and the implement with which it is played. See Tipcat. (c) A game of ball, called, according to the number of batters, one old cat, two old cat, etc. 5. A cat o' nine tails. See below. Angora cat, blind cat, See under Angora, Blind. -- Black cat the fisher. See under Black. -- Cat and dog, like a cat and dog; quarrelsome; inharmonius. \"I am sure we have lived a cat and dog life of it.\" Coleridge. -- Cat block (Naut.), a heavy iron-strapped block with a large hook, part of the tackle used in drawing an anchor up to the cathead. -- Cat hook (Naut.), a strong hook attached to a cat block. -- Cat nap, a very short sleep. [Colloq.] -- Cat o' nine tails, an instrument of punishment consisting of nine pieces of knotted line or cord fastened to a handle; -- formerly used to flog offenders on the bare back. -- Cat's cradle, game played, esp. by children, with a string looped on the fingers so, as to resemble small cradle. The string is transferred from the fingers of one to those of another, at each transfer with a change of form. See Cratch, Cratch cradle. -- To let the cat out of the bag, to tell a secret, carelessly or willfully. [Colloq.] -- Bush cat, the serval. See Serval.\n",
            "\n",
            "To bring to the cathead; as, to cat an anchor. See Anchor. Totten.\n"
          ],
          "name": "stdout"
        }
      ]
    },
    {
      "cell_type": "markdown",
      "metadata": {
        "id": "o3TpzQipJEkV"
      },
      "source": [
        "## __Modification - 4__"
      ]
    },
    {
      "cell_type": "code",
      "metadata": {
        "colab": {
          "base_uri": "https://localhost:8080/"
        },
        "id": "vJHDj1T-5zrQ",
        "outputId": "2c8f86d2-8e78-4ded-fd45-305963219535"
      },
      "source": [
        "# Modification_4\r\n",
        "# fixing the output Readability                                                                                                                             \r\n",
        "\r\n",
        "import json\r\n",
        "\r\n",
        "data = json.load(open('/content/dictionary.json'))\r\n",
        "\r\n",
        "def translate(word):\r\n",
        "    word = word.lower()\r\n",
        "    if word in data:\r\n",
        "        return data[word]\r\n",
        "    elif word.title() in data:\r\n",
        "        return data[word.title()]\r\n",
        "    elif word.upper() in data:\r\n",
        "        return data[word.upper()]\r\n",
        "    else:\r\n",
        "        print('You have entered a worng word')\r\n",
        "    \r\n",
        "word = input('Enter the word you want to search: ')\r\n",
        "output = translate(word)\r\n",
        "\r\n",
        "if type(output) == list:\r\n",
        "    \r\n",
        "    for item in output:\r\n",
        "        print(item)\r\n",
        "else:\r\n",
        "    print(output)"
      ],
      "execution_count": 6,
      "outputs": [
        {
          "output_type": "stream",
          "text": [
            "Enter the word you want to search: APPLE\n",
            "1. The fleshy pome or fruit of a rosaceous tree (Pyrus malus) cultivated in numberless varieties in the temperate zones. Note: The European crab apple is supposed to be the original kind, from which all others have sprung. 2. (bot.)  Any tree genus Pyrus which has the stalk sunken into the base of the fruit; an apple tree. 3. Any fruit or other vegetable production resembling, or supposed to resemble, the apple; as, apple of love, or love apple (a tomato), balsam apple, egg apple, oak apple. 4. Anything round like an apple; as, an apple of gold. Note: Apple is used either adjectively or in combination; as, apple paper or apple-paper, apple-shaped, apple blossom, apple dumpling, apple pudding. Apple blight, an aphid which injures apple trees. See Blight, n. -- Apple borer (Zoöl.), a coleopterous insect (Saperda candida or bivittata), the larva of which bores into the trunk of the apple tree and pear tree. -- Apple brandy, brandy made from apples. -- Apple butter, a sauce made of apples stewed down in cider. Bartlett. -- Apple corer, an instrument for removing the cores from apples. -- Apple fly (Zoöl.), any dipterous insect, the larva of which burrows in apples. Apple flies belong to the genera Drosophila and Trypeta. -- Apple midge (Zoöl.) a small dipterous insect (Sciara mali), the larva of which bores in apples. -- Apple of the eye, the pupil. -- Apple of discord, a subject of contention and envy, so called from the mythological golden apple, inscribed \"For the fairest,\" which was thrown into an assembly of the gods by Eris, the goddess of discord. It was contended for by Juno, Minerva, and Venus, and was adjudged to the latter. -- Apple of love, or Love apple, the tomato (Lycopersicum esculentum). -- Apple of Peru, a large coarse herb (Nicandra physaloides) bearing pale blue flowers, and a bladderlike fruit inclosing a dry berry. -- Apples of Sodom, a fruit described by ancient writers as externally of air appearance but dissolving into smoke and ashes plucked; Dead Sea apples. The name is often given to the fruit of Solanum Sodomæum, a prickly shrub with fruit not unlike a small yellow tomato. -- Apple sauce, stewed apples. [U. S.] -- Apple snail or Apple shell (Zoöl.), a fresh-water, operculated, spiral shell of the genus Ampullaria. -- Apple tart, a tart containing apples. -- Apple tree, a tree naturally bears apples. See Apple, 2. -- Apple wine, cider. -- Apple worm (Zoöl.), the larva of a small moth (Carpocapsa pomonella) which burrows in the interior of apples. See Codling moth. -- Dead Sea Apple. (a) pl. Apples of Sodom. Also Fig. \"To seek the Dead Sea apples of politics.\" S. B. Griffin. (b) A kind of gallnut coming from Arabia. See Gallnut.\n",
            "\n",
            "To grow like an apple; to bear apples. Holland.\n"
          ],
          "name": "stdout"
        }
      ]
    },
    {
      "cell_type": "markdown",
      "metadata": {
        "id": "9xe7vPv6JG6v"
      },
      "source": [
        "## __Modification - 5__"
      ]
    },
    {
      "cell_type": "code",
      "metadata": {
        "colab": {
          "base_uri": "https://localhost:8080/"
        },
        "id": "LQ4ItiC3D1VG",
        "outputId": "c7df50bd-6d13-41f6-c814-e02c4a7fd532"
      },
      "source": [
        "# Modification_5\r\n",
        "# Upgrading the program to get the close matches                                                                                                                             \r\n",
        "\r\n",
        "import json\r\n",
        "from difflib import get_close_matches\r\n",
        "\r\n",
        "data = json.load(open('/content/dictionary.json'))\r\n",
        "\r\n",
        "def translate(word):\r\n",
        "    word = word.lower()\r\n",
        "    if word in data:\r\n",
        "        return data[word]\r\n",
        "    elif word.title() in data:\r\n",
        "        return data[word.title()]\r\n",
        "    elif word.upper() in data:\r\n",
        "        return data[word.upper()]\r\n",
        "    elif len(get_close_matches(word , data.keys())) > 0 :\r\n",
        "        print(\"did you mean %s instead\" %get_close_matches(word, data.keys())[0])\r\n",
        "        decide = input(\"press y for yes or n for no:\")\r\n",
        "        if decide == \"y\":\r\n",
        "            return data[get_close_matches(word , data.keys())[0]]\r\n",
        "        elif decide == \"n\":\r\n",
        "            return('You have entered a worng word ')\r\n",
        "        else:\r\n",
        "            return(\"You have entered wrong input please enter just y or n\")\r\n",
        "    else:\r\n",
        "        print('You have entered a worng word ')\r\n",
        "    \r\n",
        "word = input('Enter the word you want to search: ')\r\n",
        "output = translate(word)\r\n",
        "\r\n",
        "if type(output) == list:\r\n",
        "    \r\n",
        "    for item in output:\r\n",
        "        print(item)\r\n",
        "else:\r\n",
        "    print(output)"
      ],
      "execution_count": 7,
      "outputs": [
        {
          "output_type": "stream",
          "text": [
            "Enter the word you want to search: AppLLe\n",
            "did you mean apple instead\n",
            "press y for yes or n for no:y\n",
            "1. The fleshy pome or fruit of a rosaceous tree (Pyrus malus) cultivated in numberless varieties in the temperate zones. Note: The European crab apple is supposed to be the original kind, from which all others have sprung. 2. (bot.)  Any tree genus Pyrus which has the stalk sunken into the base of the fruit; an apple tree. 3. Any fruit or other vegetable production resembling, or supposed to resemble, the apple; as, apple of love, or love apple (a tomato), balsam apple, egg apple, oak apple. 4. Anything round like an apple; as, an apple of gold. Note: Apple is used either adjectively or in combination; as, apple paper or apple-paper, apple-shaped, apple blossom, apple dumpling, apple pudding. Apple blight, an aphid which injures apple trees. See Blight, n. -- Apple borer (Zoöl.), a coleopterous insect (Saperda candida or bivittata), the larva of which bores into the trunk of the apple tree and pear tree. -- Apple brandy, brandy made from apples. -- Apple butter, a sauce made of apples stewed down in cider. Bartlett. -- Apple corer, an instrument for removing the cores from apples. -- Apple fly (Zoöl.), any dipterous insect, the larva of which burrows in apples. Apple flies belong to the genera Drosophila and Trypeta. -- Apple midge (Zoöl.) a small dipterous insect (Sciara mali), the larva of which bores in apples. -- Apple of the eye, the pupil. -- Apple of discord, a subject of contention and envy, so called from the mythological golden apple, inscribed \"For the fairest,\" which was thrown into an assembly of the gods by Eris, the goddess of discord. It was contended for by Juno, Minerva, and Venus, and was adjudged to the latter. -- Apple of love, or Love apple, the tomato (Lycopersicum esculentum). -- Apple of Peru, a large coarse herb (Nicandra physaloides) bearing pale blue flowers, and a bladderlike fruit inclosing a dry berry. -- Apples of Sodom, a fruit described by ancient writers as externally of air appearance but dissolving into smoke and ashes plucked; Dead Sea apples. The name is often given to the fruit of Solanum Sodomæum, a prickly shrub with fruit not unlike a small yellow tomato. -- Apple sauce, stewed apples. [U. S.] -- Apple snail or Apple shell (Zoöl.), a fresh-water, operculated, spiral shell of the genus Ampullaria. -- Apple tart, a tart containing apples. -- Apple tree, a tree naturally bears apples. See Apple, 2. -- Apple wine, cider. -- Apple worm (Zoöl.), the larva of a small moth (Carpocapsa pomonella) which burrows in the interior of apples. See Codling moth. -- Dead Sea Apple. (a) pl. Apples of Sodom. Also Fig. \"To seek the Dead Sea apples of politics.\" S. B. Griffin. (b) A kind of gallnut coming from Arabia. See Gallnut.\n",
            "\n",
            "To grow like an apple; to bear apples. Holland.\n"
          ],
          "name": "stdout"
        }
      ]
    },
    {
      "cell_type": "markdown",
      "metadata": {
        "id": "j9xPIW15Iikh"
      },
      "source": [
        "### __difflib module__\r\n",
        "\r\n",
        "The difflib module contains **tools for computing and working with differences between sequences**. It is especially useful for **comparing text**, and includes functions that produce reports using several common difference formats."
      ]
    },
    {
      "cell_type": "markdown",
      "metadata": {
        "id": "USMP43i1J_O7"
      },
      "source": [
        ">[__difflib__](https://medium.com/boring-tech/python-programming-the-standard-library-difflib-28ffaf5c1155)"
      ]
    },
    {
      "cell_type": "code",
      "metadata": {
        "colab": {
          "base_uri": "https://localhost:8080/"
        },
        "id": "8bk60Dj0Ih8D",
        "outputId": "efa421dd-bc00-4439-9b22-93124d5c953b"
      },
      "source": [
        "import difflib\r\n",
        "print(difflib.get_close_matches(\r\n",
        "    \"abcd\", [\"abc\", \"acd\", \"abdc\", \"dcba\"])\r\n",
        ")"
      ],
      "execution_count": 8,
      "outputs": [
        {
          "output_type": "stream",
          "text": [
            "['acd', 'abc', 'abdc']\n"
          ],
          "name": "stdout"
        }
      ]
    },
    {
      "cell_type": "code",
      "metadata": {
        "colab": {
          "base_uri": "https://localhost:8080/"
        },
        "id": "k7YqKzCXKP41",
        "outputId": "b7f348ae-1224-42b8-c8ca-51ab30ed06b1"
      },
      "source": [
        "import difflib\r\n",
        "sequences = [\r\n",
        "    [1, 2, 3],\r\n",
        "    [1, 3, 4],\r\n",
        "    [1, 2, 4, 3],\r\n",
        "    [4, 3, 2, 1]]\r\n",
        "    \r\n",
        "print(difflib.get_close_matches(\r\n",
        "    [1, 2, 3, 4], sequences\r\n",
        "    )\r\n",
        ")"
      ],
      "execution_count": 9,
      "outputs": [
        {
          "output_type": "stream",
          "text": [
            "[[1, 3, 4], [1, 2, 3], [1, 2, 4, 3]]\n"
          ],
          "name": "stdout"
        }
      ]
    }
  ]
}