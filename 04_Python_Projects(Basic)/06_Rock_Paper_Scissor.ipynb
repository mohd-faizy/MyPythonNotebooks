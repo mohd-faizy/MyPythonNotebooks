{
  "nbformat": 4,
  "nbformat_minor": 0,
  "metadata": {
    "colab": {
      "provenance": [],
      "collapsed_sections": [],
      "toc_visible": true
    },
    "kernelspec": {
      "name": "python3",
      "display_name": "Python 3"
    },
    "language_info": {
      "name": "python"
    }
  },
  "cells": [
    {
      "cell_type": "markdown",
      "source": [
        "# <center><b>Rock⛰Paper📃Scissors✂️</b></center> "
      ],
      "metadata": {
        "id": "EM35IK9X9Z-t"
      }
    },
    {
      "cell_type": "markdown",
      "source": [
        "<p align='center'>\n",
        "  <a href=\"#\">\n",
        "    <img src='https://upload.wikimedia.org/wikipedia/commons/thumb/6/67/Rock-paper-scissors.svg/1200px-Rock-paper-scissors.svg.png' width=300px height=300px alt=\"\">\n",
        "  </a>\n",
        "</p>"
      ],
      "metadata": {
        "id": "qcLnwUHKliv1"
      }
    },
    {
      "cell_type": "code",
      "source": [
        "import random\n",
        "\n",
        "# Rock Paper Scissors\n",
        "def gameWin(comp, you):\n",
        "    # If two values are equal, declare a tie!\n",
        "    if comp == you:\n",
        "        return None\n",
        "\n",
        "    # Check for all possibilities when computer chose rock\n",
        "    elif comp == 'r':\n",
        "        if you == 'p':\n",
        "            return True\n",
        "        elif you == 's':\n",
        "            return False\n",
        "    \n",
        "    # Check for all possibilities when computer chose paper\n",
        "    elif comp == 'p':\n",
        "        if you == 's':\n",
        "            return True\n",
        "        elif you == 'r':\n",
        "            return False\n",
        "    \n",
        "    # Check for all possibilities when computer chose scissors\n",
        "    elif  comp == 's':\n",
        "        if you == 'r':\n",
        "            return True\n",
        "        elif you == 'p':\n",
        "            return False\n",
        "\n",
        "print(\"Comp Turn: Rock(r) Paper(p) or Scissors(s)?\")\n",
        "randNo = random.randint(1, 3) \n",
        "if randNo == 1:\n",
        "    comp = 'r'\n",
        "elif randNo == 2:\n",
        "    comp = 'p'\n",
        "elif randNo == 3:\n",
        "    comp = 's'\n",
        "\n",
        "you = input(\"Your Turn: Rock(r) Paper(p) or Scissors(s)?\")\n",
        "a = gameWin(comp, you)\n",
        "\n",
        "print(f\"Computer chose {comp}\")\n",
        "print(f\"You chose {you}\")\n",
        "\n",
        "if a == None:\n",
        "    print(\"The game is a tie!\")\n",
        "elif a:\n",
        "    print(\"You Win!\")\n",
        "else:\n",
        "    print(\"You Lose!\")"
      ],
      "metadata": {
        "colab": {
          "base_uri": "https://localhost:8080/"
        },
        "id": "tEoeJCUBhOBP",
        "outputId": "e6d79802-5922-4d4b-ec15-8d5966fee041"
      },
      "execution_count": 1,
      "outputs": [
        {
          "output_type": "stream",
          "name": "stdout",
          "text": [
            "Comp Turn: Rock(r) Paper(p) or Scissors(s)?\n",
            "Your Turn: Rock(r) Paper(p) or Scissors(s)?r\n",
            "Computer chose p\n",
            "You chose r\n",
            "You Lose!\n"
          ]
        }
      ]
    }
  ]
}