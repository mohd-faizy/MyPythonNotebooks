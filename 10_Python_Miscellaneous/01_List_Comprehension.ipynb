{
  "nbformat": 4,
  "nbformat_minor": 0,
  "metadata": {
    "colab": {
      "provenance": [],
      "toc_visible": true
    },
    "kernelspec": {
      "name": "python3",
      "display_name": "Python 3"
    },
    "language_info": {
      "name": "python"
    }
  },
  "cells": [
    {
      "cell_type": "markdown",
      "source": [
        "---\n",
        "<strong>\n",
        "    <h1 align='center'><strong>List comprehension</strong></h1>\n",
        "</strong>\n",
        "\n",
        "---"
      ],
      "metadata": {
        "id": "7sIXGj0EJFas"
      }
    },
    {
      "cell_type": "markdown",
      "source": [
        "## **Syntax**"
      ],
      "metadata": {
        "id": "XwxpidjOh2Wf"
      }
    },
    {
      "cell_type": "markdown",
      "source": [
        "```python\n",
        "new_list = [expression for item in iterable]\n",
        "\n",
        "```"
      ],
      "metadata": {
        "id": "7VDHmZ-gJReT"
      }
    },
    {
      "cell_type": "code",
      "execution_count": 4,
      "metadata": {
        "colab": {
          "base_uri": "https://localhost:8080/"
        },
        "id": "C_qi3PPPCM1Y",
        "outputId": "406f6284-7027-4ff1-81fa-1d9531ee3e92"
      },
      "outputs": [
        {
          "output_type": "stream",
          "name": "stdout",
          "text": [
            "[1, 4, 9, 16, 25, 36, 49, 64, 81, 100]\n"
          ]
        }
      ],
      "source": [
        "squares = [x**2 for x in range(1, 11)]\n",
        "print(squares)"
      ]
    },
    {
      "cell_type": "markdown",
      "source": [
        "```python\n",
        "new_list = [expression for item in iterable if condition]\n",
        "```"
      ],
      "metadata": {
        "id": "OKD_ctRRJfzU"
      }
    },
    {
      "cell_type": "code",
      "source": [
        "even_squares = [x**2 for x in range(1, 11) if x%2 == 0]\n",
        "print(even_squares)"
      ],
      "metadata": {
        "colab": {
          "base_uri": "https://localhost:8080/"
        },
        "id": "q2SGIHgZJeQL",
        "outputId": "cb9b8cd3-c53e-4040-82c3-177f5078a9ab"
      },
      "execution_count": null,
      "outputs": [
        {
          "output_type": "stream",
          "name": "stdout",
          "text": [
            "[4, 16, 36, 64, 100]\n"
          ]
        }
      ]
    },
    {
      "cell_type": "markdown",
      "source": [
        "## **Cartesian Product**"
      ],
      "metadata": {
        "id": "PnqhkEblKEet"
      }
    },
    {
      "cell_type": "code",
      "source": [
        "colors = ['red', 'blue', 'green']\n",
        "sizes = ['small', 'medium', 'large']\n",
        "\n",
        "combinations = []  # Initialize an empty list\n",
        "# Using nested for loops\n",
        "for color in colors:\n",
        "    for size in sizes:\n",
        "        combinations.append((color, size))\n",
        "\n",
        "# Equivalent list comprehension to generate combinations\n",
        "combinations_comprehension = [(color, size) for color in colors for size in sizes]\n",
        "\n",
        "print(combinations)\n",
        "print(combinations_comprehension)"
      ],
      "metadata": {
        "colab": {
          "base_uri": "https://localhost:8080/"
        },
        "id": "pFbNjp2SJ9X1",
        "outputId": "d9aa6b7d-feb8-4e01-f350-1dc217ce3bc8"
      },
      "execution_count": 20,
      "outputs": [
        {
          "output_type": "stream",
          "name": "stdout",
          "text": [
            "[('red', 'small'), ('red', 'medium'), ('red', 'large'), ('blue', 'small'), ('blue', 'medium'), ('blue', 'large'), ('green', 'small'), ('green', 'medium'), ('green', 'large')]\n",
            "[('red', 'small'), ('red', 'medium'), ('red', 'large'), ('blue', 'small'), ('blue', 'medium'), ('blue', 'large'), ('green', 'small'), ('green', 'medium'), ('green', 'large')]\n"
          ]
        }
      ]
    },
    {
      "cell_type": "markdown",
      "source": [
        "## **Flattening a 2D List**"
      ],
      "metadata": {
        "id": "laXqAZXbKF_a"
      }
    },
    {
      "cell_type": "code",
      "source": [
        "matrix = [[1, 2, 3], [4, 5, 6], [7, 8, 9]]\n",
        "\n",
        "# Using nested for loops\n",
        "flattened = []\n",
        "for row in matrix:\n",
        "    for element in row:\n",
        "        flattened.append(element)\n",
        "\n",
        "# Using a list comprehension\n",
        "flattened_comprehension = [element for row in matrix for element in row]\n",
        "\n",
        "print(flattened)\n",
        "print(flattened_comprehension)"
      ],
      "metadata": {
        "colab": {
          "base_uri": "https://localhost:8080/"
        },
        "id": "nYbe4SHUKI1U",
        "outputId": "6106f557-8b73-4c38-f9a4-46aff5d54add"
      },
      "execution_count": 21,
      "outputs": [
        {
          "output_type": "stream",
          "name": "stdout",
          "text": [
            "[1, 2, 3, 4, 5, 6, 7, 8, 9]\n",
            "[1, 2, 3, 4, 5, 6, 7, 8, 9]\n"
          ]
        }
      ]
    },
    {
      "cell_type": "markdown",
      "source": [
        "## **Filtering and Transformation**"
      ],
      "metadata": {
        "id": "VxxK0tmeKRZv"
      }
    },
    {
      "cell_type": "code",
      "source": [
        "numbers = [1, 2, 3, 4, 5, 6, 7, 8, 9, 10]\n",
        "\n",
        "even_squares = [x**3 for x in numbers if x%3 == 0]\n",
        "print(even_squares)"
      ],
      "metadata": {
        "colab": {
          "base_uri": "https://localhost:8080/"
        },
        "id": "IP6Y1WT9KSlG",
        "outputId": "70165cc5-a167-41ec-9fde-4747edf47c84"
      },
      "execution_count": 6,
      "outputs": [
        {
          "output_type": "stream",
          "name": "stdout",
          "text": [
            "[27, 216, 729]\n"
          ]
        }
      ]
    },
    {
      "cell_type": "markdown",
      "source": [
        "## **List of Prime Numbers**"
      ],
      "metadata": {
        "id": "JAyIAHkUKeGU"
      }
    },
    {
      "cell_type": "code",
      "source": [
        "from math import sqrt\n",
        "\n",
        "def is_prime(n):\n",
        "    if n <= 1:\n",
        "        return False\n",
        "    for i in range(2, int(sqrt(n)) + 1):\n",
        "        if n % i == 0:\n",
        "            return False\n",
        "    return True\n",
        "\n",
        "prime_numbers = [x for x in range(2, 100) if is_prime(x)]\n",
        "print(prime_numbers)"
      ],
      "metadata": {
        "id": "T5x6HsHjKapm",
        "colab": {
          "base_uri": "https://localhost:8080/"
        },
        "outputId": "207fc06c-a5c3-4fa4-bf35-692d673a0d97"
      },
      "execution_count": 39,
      "outputs": [
        {
          "output_type": "stream",
          "name": "stdout",
          "text": [
            "[2, 3, 5, 7, 11, 13, 17, 19, 23, 29, 31, 37, 41, 43, 47, 53, 59, 61, 67, 71, 73, 79, 83, 89, 97]\n"
          ]
        }
      ]
    },
    {
      "cell_type": "markdown",
      "source": [
        "## **Finding Common Elements**"
      ],
      "metadata": {
        "id": "f5pW7ZZBKkJD"
      }
    },
    {
      "cell_type": "code",
      "source": [
        "list1 = [1, 2, 3, 4, 5]\n",
        "list2 = [3, 4, 5, 6, 7]\n",
        "\n",
        "# using nested loops\n",
        "comm_list = []\n",
        "for x in list1:\n",
        "    if x in list2:\n",
        "        comm_list.append(x)\n",
        "print(comm_list)\n",
        "\n",
        "# Using a list comprehension\n",
        "common_elements = [x for x in list1 if x in list2]\n",
        "print(common_elements)"
      ],
      "metadata": {
        "colab": {
          "base_uri": "https://localhost:8080/"
        },
        "id": "PfZNQ_XjKlg9",
        "outputId": "313ba73f-0d38-4a81-daaa-372c07845229"
      },
      "execution_count": 37,
      "outputs": [
        {
          "output_type": "stream",
          "name": "stdout",
          "text": [
            "[3, 4, 5]\n",
            "[3, 4, 5]\n"
          ]
        }
      ]
    },
    {
      "cell_type": "markdown",
      "source": [
        "## **Transposing a Matrix**"
      ],
      "metadata": {
        "id": "tJB2qhCgKtiA"
      }
    },
    {
      "cell_type": "code",
      "source": [
        "matrix = [[1, 2, 3], [4, 5, 6], [7, 8, 9]]\n",
        "\n",
        "transposed = [[row[i] for row in matrix] for i in range(len(matrix[0]))]\n",
        "print(transposed)"
      ],
      "metadata": {
        "colab": {
          "base_uri": "https://localhost:8080/"
        },
        "id": "Pe-8VvZ5Kuj7",
        "outputId": "1736ed99-f513-4246-dd90-cfbb8c7e4623"
      },
      "execution_count": null,
      "outputs": [
        {
          "output_type": "stream",
          "name": "stdout",
          "text": [
            "[[1, 4, 7], [2, 5, 8], [3, 6, 9]]\n"
          ]
        }
      ]
    },
    {
      "cell_type": "markdown",
      "source": [
        "## **Filtering Palindromic Words**"
      ],
      "metadata": {
        "id": "2gCksZy1KzMT"
      }
    },
    {
      "cell_type": "code",
      "source": [
        "words = [\"level\", \"hello\", \"world\", \"deified\", \"python\"]\n",
        "\n",
        "palindromic_words = [word for word in words if word == word[::-1]]\n",
        "print(palindromic_words)"
      ],
      "metadata": {
        "colab": {
          "base_uri": "https://localhost:8080/"
        },
        "id": "0htE1zYMK1tW",
        "outputId": "5bf1b0d7-ffb3-4d3d-80d7-83688dc9f4e8"
      },
      "execution_count": null,
      "outputs": [
        {
          "output_type": "stream",
          "name": "stdout",
          "text": [
            "['level', 'deified']\n"
          ]
        }
      ]
    },
    {
      "cell_type": "markdown",
      "source": [
        "## **List of Pythagorean Triples**"
      ],
      "metadata": {
        "id": "QnOQxLEGK4Wl"
      }
    },
    {
      "cell_type": "code",
      "source": [
        "n = 10  # Maximum value for a, b, c\n",
        "\n",
        "pythagorean_triples = [(a, b, c) for a in range(1, n) for b in range(a, n) for c in range(b, n) if a**2 + b**2 == c**2]\n",
        "print(pythagorean_triples)"
      ],
      "metadata": {
        "colab": {
          "base_uri": "https://localhost:8080/"
        },
        "id": "-d6CbtOKLJtk",
        "outputId": "1e1279bc-c972-444a-a24e-343f86022a85"
      },
      "execution_count": null,
      "outputs": [
        {
          "output_type": "stream",
          "name": "stdout",
          "text": [
            "[(3, 4, 5)]\n"
          ]
        }
      ]
    }
  ]
}