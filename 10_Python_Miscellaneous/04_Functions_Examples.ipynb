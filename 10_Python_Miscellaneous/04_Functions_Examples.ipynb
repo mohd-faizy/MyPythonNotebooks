{
  "cells": [
    {
      "cell_type": "markdown",
      "metadata": {
        "id": "0R-pVup8vE5Z"
      },
      "source": [
        "## **Functions Examples**\n"
      ]
    },
    {
      "cell_type": "markdown",
      "metadata": {
        "id": "mDdmsgrTvE5b"
      },
      "source": [
        "#### **Example 1: Temperature Conversion**"
      ]
    },
    {
      "cell_type": "code",
      "execution_count": 2,
      "metadata": {
        "colab": {
          "base_uri": "https://localhost:8080/"
        },
        "id": "lY0Yv5qzvE5c",
        "outputId": "6f37bd99-363f-41fd-c052-4f76d6d61bfc"
      },
      "outputs": [
        {
          "output_type": "stream",
          "name": "stdout",
          "text": [
            "77.0\n",
            "25.0\n"
          ]
        }
      ],
      "source": [
        "def convert_temperature(temp,unit):\n",
        "    \"\"\"This function converts temperature between Celsius and Fahrenheit\"\"\"\n",
        "    if unit=='C':\n",
        "        return (temp*9/5)+32  # Celsius To Fahrenheit\n",
        "    elif unit==\"F\":\n",
        "        return (temp-32)*5/9  # Fahrenheit to celsius\n",
        "    else:\n",
        "        return None\n",
        "\n",
        "print(convert_temperature(25,'C'))\n",
        "print(convert_temperature(77,'F'))"
      ]
    },
    {
      "cell_type": "code",
      "source": [
        "def celsius_to_fahrenheit(temp):\n",
        "    return temp * 9/5 + 32\n",
        "\n",
        "def fahrenheit_to_celsius(temp):\n",
        "    return (temp - 32) * 5/9\n",
        "\n",
        "def convert_temperature(temp, unit):\n",
        "    \"\"\"This function converts temperature between Celsius and Fahrenheit\"\"\"\n",
        "    conversions = {\n",
        "        'C': celsius_to_fahrenheit,\n",
        "        'F': fahrenheit_to_celsius\n",
        "    }\n",
        "    return conversions.get(unit, lambda x: None)(temp)\n",
        "\n",
        "print(convert_temperature(25, 'C'))\n",
        "print(convert_temperature(77, 'F'))"
      ],
      "metadata": {
        "colab": {
          "base_uri": "https://localhost:8080/"
        },
        "id": "T8qZV1xrvcFu",
        "outputId": "b95174b1-9733-4e3a-c609-de32a9a462b3"
      },
      "execution_count": 3,
      "outputs": [
        {
          "output_type": "stream",
          "name": "stdout",
          "text": [
            "77.0\n",
            "25.0\n"
          ]
        }
      ]
    },
    {
      "cell_type": "markdown",
      "metadata": {
        "id": "4Hx9lTtLvE5d"
      },
      "source": [
        "##### **Example 2: Password Strength Checker**"
      ]
    },
    {
      "cell_type": "markdown",
      "source": [
        "> `any()` function in Python is used to check if at least one element in an iterable (like a list, tuple, or set) is `True`"
      ],
      "metadata": {
        "id": "CvFGQyYc5Mx5"
      }
    },
    {
      "cell_type": "code",
      "source": [
        "numbers = [-1, -2, -3, 0, 1, -4]\n",
        "\n",
        "# Check if there is any positive number in the list\n",
        "has_positive = any(num > 0 for num in numbers)\n",
        "\n",
        "print(has_positive)  # Output: True"
      ],
      "metadata": {
        "colab": {
          "base_uri": "https://localhost:8080/"
        },
        "id": "ovvT9llq5Hx2",
        "outputId": "20fc9dd6-ec96-4d8b-b28b-b5a1ec0194b3"
      },
      "execution_count": 13,
      "outputs": [
        {
          "output_type": "stream",
          "name": "stdout",
          "text": [
            "True\n"
          ]
        }
      ]
    },
    {
      "cell_type": "code",
      "execution_count": 4,
      "metadata": {
        "colab": {
          "base_uri": "https://localhost:8080/"
        },
        "id": "lKFoZVBIvE5e",
        "outputId": "065709ee-9200-47a1-d757-1ddb47e8dda4"
      },
      "outputs": [
        {
          "output_type": "stream",
          "name": "stdout",
          "text": [
            "False\n",
            "True\n"
          ]
        }
      ],
      "source": [
        "def is_strong_password(password):\n",
        "    \"\"\"This function checks if the password is strong or not\"\"\"\n",
        "    if len(password)<8:\n",
        "        return False\n",
        "    if not any(char.isdigit() for char in password):\n",
        "        return False\n",
        "    if not any(char.islower() for char in password):\n",
        "        return False\n",
        "    if not any(char.isupper() for char in password):\n",
        "        return False\n",
        "    if not any(char in '!@#$%^&*()_+' for char in password):\n",
        "        return False\n",
        "    return True\n",
        "\n",
        "## calling the function\n",
        "print(is_strong_password(\"WeakPwd\"))\n",
        "print(is_strong_password(\"Str0ngPwd!\"))"
      ]
    },
    {
      "cell_type": "markdown",
      "source": [
        "**Using Regular Expression**"
      ],
      "metadata": {
        "id": "1BQXUfmgwKpi"
      }
    },
    {
      "cell_type": "code",
      "source": [
        "import re\n",
        "\n",
        "def is_strong_password(password):\n",
        "    \"\"\"This function checks if the password is strong or not\"\"\"\n",
        "    if len(password) < 8:\n",
        "        return False\n",
        "    if not re.search(r'\\d', password):\n",
        "        return False\n",
        "    if not re.search(r'[a-z]', password):\n",
        "        return False\n",
        "    if not re.search(r'[A-Z]', password):\n",
        "        return False\n",
        "    if not re.search(r'[!@#$%^&*()_+]', password):\n",
        "        return False\n",
        "    return True\n",
        "\n",
        "# Calling the function\n",
        "print(is_strong_password(\"WeakPwd\"))\n",
        "print(is_strong_password(\"Str0ngPwd!\"))\n"
      ],
      "metadata": {
        "colab": {
          "base_uri": "https://localhost:8080/"
        },
        "id": "WdKLNGJdvsYc",
        "outputId": "9a4407e7-f381-416c-e0b9-da1aeee05bac"
      },
      "execution_count": 5,
      "outputs": [
        {
          "output_type": "stream",
          "name": "stdout",
          "text": [
            "False\n",
            "True\n"
          ]
        }
      ]
    },
    {
      "cell_type": "markdown",
      "metadata": {
        "id": "-j_KYMIkvE5f"
      },
      "source": [
        "##### **Example 3: Calculate the Total Cost Of Items In a Shopping Cart**"
      ]
    },
    {
      "cell_type": "code",
      "execution_count": 6,
      "metadata": {
        "colab": {
          "base_uri": "https://localhost:8080/"
        },
        "id": "5pQ0NhqtvE5f",
        "outputId": "41c19120-a789-46e5-c6b6-38c7ed479a2f"
      },
      "outputs": [
        {
          "output_type": "stream",
          "name": "stdout",
          "text": [
            "5.8999999999999995\n"
          ]
        }
      ],
      "source": [
        "def calculate_total_cost(cart):\n",
        "    total_cost=0\n",
        "    for item in cart:\n",
        "        total_cost+=item['price']* item['quantity']\n",
        "\n",
        "    return total_cost\n",
        "\n",
        "\n",
        "## Example cart data\n",
        "\n",
        "cart=[\n",
        "    {'name':'Apple','price':0.5,'quantity':4},\n",
        "    {'name':'Banana','price':0.3,'quantity':6},\n",
        "    {'name':'Orange','price':0.7,'quantity':3}\n",
        "\n",
        "]\n",
        "\n",
        "## calling the function\n",
        "total_cost=calculate_total_cost(cart)\n",
        "print(total_cost)"
      ]
    },
    {
      "cell_type": "markdown",
      "metadata": {
        "id": "jZhUwiYSvE5g"
      },
      "source": [
        "##### **Example 4: Check IF a String Is Palindrome**"
      ]
    },
    {
      "cell_type": "code",
      "execution_count": 7,
      "metadata": {
        "colab": {
          "base_uri": "https://localhost:8080/"
        },
        "id": "jkTMHDjwvE5h",
        "outputId": "1b3fcde5-3ed5-4a62-fea2-c7bca70e66fd"
      },
      "outputs": [
        {
          "output_type": "stream",
          "name": "stdout",
          "text": [
            "True\n",
            "False\n"
          ]
        }
      ],
      "source": [
        "def is_palindrome(s):\n",
        "    s=s.lower().replace(\" \",\"\")\n",
        "    return s==s[::-1]\n",
        "\n",
        "print(is_palindrome(\"A man a plan a canal Panama\"))\n",
        "print(is_palindrome(\"Hello\"))"
      ]
    },
    {
      "cell_type": "markdown",
      "metadata": {
        "id": "kkDrefwtvE5h"
      },
      "source": [
        "##### **Example 5: Calculate the factorials of a number using recursion**"
      ]
    },
    {
      "cell_type": "code",
      "execution_count": 8,
      "metadata": {
        "colab": {
          "base_uri": "https://localhost:8080/"
        },
        "id": "VYcvucJgvE5i",
        "outputId": "77d952cc-dce8-46b0-bd83-669744bda15c"
      },
      "outputs": [
        {
          "output_type": "stream",
          "name": "stdout",
          "text": [
            "720\n"
          ]
        }
      ],
      "source": [
        "def factorial(n):\n",
        "    if n==0:\n",
        "        return 1\n",
        "    else:\n",
        "        return n * factorial(n-1)\n",
        "\n",
        "print(factorial(6))"
      ]
    },
    {
      "cell_type": "markdown",
      "metadata": {
        "id": "u34VNjtCvE5i"
      },
      "source": [
        "##### **Example 6: A Function To Read A File and count the frequency of each word**"
      ]
    },
    {
      "cell_type": "code",
      "execution_count": 11,
      "metadata": {
        "colab": {
          "base_uri": "https://localhost:8080/"
        },
        "id": "gApkNgWuvE5j",
        "outputId": "dfd81cac-05b8-4f16-e4f3-ca4d3631a978"
      },
      "outputs": [
        {
          "output_type": "stream",
          "name": "stdout",
          "text": [
            "{'this': 2, 'is': 3, 'a': 1, 'test': 3, 'simple': 2, 'good': 1}\n"
          ]
        }
      ],
      "source": [
        "# Create a sample text file\n",
        "sample_text = \"\"\"This is a test. This test is simple. Simple test is good.\"\"\"\n",
        "\n",
        "with open('sample.txt', 'w') as file:\n",
        "    file.write(sample_text)\n",
        "\n",
        "# Define the function\n",
        "def count_word_frequency(file_path):\n",
        "    word_count = {}\n",
        "    with open(file_path, 'r') as file:\n",
        "        for line in file:\n",
        "            words = line.split()\n",
        "            for word in words:\n",
        "                word = word.lower().strip('.,!?;:\"\\'')\n",
        "                word_count[word] = word_count.get(word, 0) + 1\n",
        "    return word_count\n",
        "\n",
        "# Use the created file\n",
        "filepath = 'sample.txt'\n",
        "word_frequency = count_word_frequency(filepath)\n",
        "print(word_frequency)"
      ]
    },
    {
      "cell_type": "markdown",
      "metadata": {
        "id": "snYe8QNyvE5j"
      },
      "source": [
        "##### **Example 7: Validate Email Address**"
      ]
    },
    {
      "cell_type": "code",
      "execution_count": 12,
      "metadata": {
        "colab": {
          "base_uri": "https://localhost:8080/"
        },
        "id": "Y0yZmub4vE5j",
        "outputId": "90d35379-9dbe-47df-a029-e6071aa8b012"
      },
      "outputs": [
        {
          "output_type": "stream",
          "name": "stdout",
          "text": [
            "True\n",
            "False\n"
          ]
        }
      ],
      "source": [
        "import re\n",
        "\n",
        "# Email validation function\n",
        "def is_valid_email(email):\n",
        "    \"\"\"This function checks if the email is valid.\"\"\"\n",
        "    pattern = r'^[a-zA-Z0-9_.+-]+@[a-zA-Z0-9-]+\\.[a-zA-Z0-9-.]+$'\n",
        "    return re.match(pattern, email) is not None\n",
        "\n",
        "# Calling the function\n",
        "print(is_valid_email(\"test@example.com\"))  # Output: True\n",
        "print(is_valid_email(\"invalid-email\"))  # Output: False\n"
      ]
    }
  ],
  "metadata": {
    "kernelspec": {
      "display_name": "Python 3",
      "language": "python",
      "name": "python3"
    },
    "language_info": {
      "codemirror_mode": {
        "name": "ipython",
        "version": 3
      },
      "file_extension": ".py",
      "mimetype": "text/x-python",
      "name": "python",
      "nbconvert_exporter": "python",
      "pygments_lexer": "ipython3",
      "version": "3.12.0"
    },
    "colab": {
      "provenance": []
    }
  },
  "nbformat": 4,
  "nbformat_minor": 0
}