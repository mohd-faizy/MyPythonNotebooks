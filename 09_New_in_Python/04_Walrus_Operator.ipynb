{
  "nbformat": 4,
  "nbformat_minor": 0,
  "metadata": {
    "colab": {
      "provenance": [],
      "toc_visible": true
    },
    "kernelspec": {
      "name": "python3",
      "display_name": "Python 3"
    },
    "language_info": {
      "name": "python"
    }
  },
  "cells": [
    {
      "cell_type": "code",
      "source": [
        "# walrus operator :=\n",
        "# new to Python 3.8\n",
        "# assignment expression aka walrus operator\n",
        "# assigns values to variables as part of a larger expression"
      ],
      "metadata": {
        "id": "sZZKTbCR_o5Y"
      },
      "execution_count": 5,
      "outputs": []
    },
    {
      "cell_type": "code",
      "source": [
        "# Without walrus operator\n",
        "numbers = [1, 2, 3, 4, 5]\n",
        "evens = []\n",
        "for num in numbers:\n",
        "    if num % 2 == 0:\n",
        "        evens.append(num)\n",
        "print(evens)"
      ],
      "metadata": {
        "colab": {
          "base_uri": "https://localhost:8080/"
        },
        "id": "WSg8Wn0zALAQ",
        "outputId": "4603f21f-9ac4-4def-8c4d-ad20ccfd08ed"
      },
      "execution_count": 6,
      "outputs": [
        {
          "output_type": "stream",
          "name": "stdout",
          "text": [
            "[2, 4]\n"
          ]
        }
      ]
    },
    {
      "cell_type": "code",
      "source": [
        "# With walrus operator\n",
        "numbers = [1, 2, 3, 4, 5]\n",
        "evens = [num for num in numbers if (remainder := num % 2) == 0]\n",
        "print(evens)\n",
        "print(remainder)  # This will print the value of remainder outside the list comprehension"
      ],
      "metadata": {
        "colab": {
          "base_uri": "https://localhost:8080/"
        },
        "id": "7C6hUY37AKKw",
        "outputId": "0c1cf607-2119-421c-845f-ab1e525637d5"
      },
      "execution_count": 7,
      "outputs": [
        {
          "output_type": "stream",
          "name": "stdout",
          "text": [
            "[2, 4]\n",
            "1\n"
          ]
        }
      ]
    },
    {
      "cell_type": "code",
      "execution_count": 8,
      "metadata": {
        "colab": {
          "base_uri": "https://localhost:8080/"
        },
        "id": "BBomFredWaJZ",
        "outputId": "c97f8c26-14fd-476c-8a6e-7b6f806bf5d2"
      },
      "outputs": [
        {
          "output_type": "stream",
          "name": "stdout",
          "text": [
            "With Python 3.8 Walrus Operator:\n",
            "Found name: \"rahul\"\n",
            "Found name: \"rohit\"\n",
            "Found name: \"ram\"\n",
            "Found name: \"ravan\"\n",
            "Without Walrus operator:\n",
            "Found name: \"rahul\"\n",
            "Found name: \"rohit\"\n",
            "Found name: \"ram\"\n",
            "Found name: \"ravan\"\n"
          ]
        }
      ],
      "source": [
        "sample_data = [\n",
        "    {\"userId\": 1,  \"name\": \"rahul\", \"completed\": False},\n",
        "    {\"userId\": 1, \"name\": \"rohit\", \"completed\": False},\n",
        "    {\"userId\": 1,  \"name\": \"ram\", \"completed\": False},\n",
        "    {\"userId\": 1,  \"name\": \"ravan\", \"completed\": True}\n",
        "]\n",
        "\n",
        "print(\"With Python 3.8 Walrus Operator:\")\n",
        "for entry in sample_data:\n",
        "    if name := entry.get(\"name\"):\n",
        "        print(f'Found name: \"{name}\"')\n",
        "\n",
        "print(\"Without Walrus operator:\")\n",
        "for entry in sample_data:\n",
        "    name = entry.get(\"name\")\n",
        "    if name:\n",
        "        print(f'Found name: \"{name}\"')\n"
      ]
    }
  ]
}