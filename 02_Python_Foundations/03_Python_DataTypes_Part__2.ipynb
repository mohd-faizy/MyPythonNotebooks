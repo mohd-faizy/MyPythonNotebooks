{
  "nbformat": 4,
  "nbformat_minor": 0,
  "metadata": {
    "colab": {
      "name": "02_Python_DataTypes_Part _2.ipynb",
      "provenance": [],
      "collapsed_sections": [],
      "authorship_tag": "ABX9TyNmPl7pB1zHV2iDbFneAGpZ",
      "include_colab_link": true
    },
    "kernelspec": {
      "name": "python3",
      "display_name": "Python 3"
    }
  },
  "cells": [
    {
      "cell_type": "markdown",
      "metadata": {
        "id": "view-in-github",
        "colab_type": "text"
      },
      "source": [
        "<a href=\"https://colab.research.google.com/github/mohd-faizy/Python_Notebooks_Concept/blob/master/02_Python_DataTypes_Part__2.ipynb\" target=\"_parent\"><img src=\"https://colab.research.google.com/assets/colab-badge.svg\" alt=\"Open In Colab\"/></a>"
      ]
    },
    {
      "cell_type": "markdown",
      "metadata": {
        "id": "rDVyBfNo0AKY"
      },
      "source": [
        "--- \r\n",
        "<strong> \r\n",
        "    <h1 align='center'>Python Data Types Part -2</h1> \r\n",
        "</strong>\r\n",
        "\r\n",
        "---"
      ]
    },
    {
      "cell_type": "markdown",
      "metadata": {
        "id": "UN_8jDEzm4QL"
      },
      "source": [
        "## __6. Lists__\r\n",
        "\r\n",
        "- __Ordered__\r\n",
        "- __Changeable(Mutable)__\r\n",
        "- __Allow Duplicate values__"
      ]
    },
    {
      "cell_type": "markdown",
      "metadata": {
        "id": "FG2aTkwkRe4_"
      },
      "source": [
        "#### __a. Python list__"
      ]
    },
    {
      "cell_type": "code",
      "metadata": {
        "colab": {
          "base_uri": "https://localhost:8080/"
        },
        "id": "EK-kbS7uWcr0",
        "outputId": "9a0333cd-6967-4d76-80a8-438efa876376"
      },
      "source": [
        "thislist = [\"apple\", \"banana\", \"cherry\"]\r\n",
        "print(thislist)"
      ],
      "execution_count": 1,
      "outputs": [
        {
          "output_type": "stream",
          "text": [
            "['apple', 'banana', 'cherry']\n"
          ],
          "name": "stdout"
        }
      ]
    },
    {
      "cell_type": "code",
      "metadata": {
        "id": "iH8U2g1BWd_-"
      },
      "source": [
        "# Allow Duplicates\r\n",
        "\r\n",
        "thislist = [\"apple\", \"banana\", \"cherry\", \"apple\", \"cherry\"]\r\n",
        "print(thislist)"
      ],
      "execution_count": null,
      "outputs": []
    },
    {
      "cell_type": "code",
      "metadata": {
        "id": "_jsU1c7tWmwk"
      },
      "source": [
        "# List Length\r\n",
        "\r\n",
        "thislist = [\"apple\", \"banana\", \"cherry\"]\r\n",
        "print(len(thislist))"
      ],
      "execution_count": null,
      "outputs": []
    },
    {
      "cell_type": "markdown",
      "metadata": {
        "id": "0I9JFpNOWwzc"
      },
      "source": [
        "```python\r\n",
        "# String, int and boolean data types\r\n",
        "\r\n",
        "list1 = [\"apple\", \"banana\", \"cherry\"]\r\n",
        "list2 = [1, 5, 7, 9, 3]\r\n",
        "list3 = [True, False, False]\r\n",
        "\r\n",
        "# A list can contain different data types\r\n",
        "\r\n",
        "list4 = [\"abc\", 34, True, 40, \"male\"]\r\n",
        "```"
      ]
    },
    {
      "cell_type": "code",
      "metadata": {
        "colab": {
          "base_uri": "https://localhost:8080/"
        },
        "id": "ti3nxdOFXI-n",
        "outputId": "df79d3e7-cedf-44e9-dbc1-8a3e65c5c344"
      },
      "source": [
        "mylist = [\"apple\", \"banana\", \"cherry\"]\r\n",
        "print(type(mylist))"
      ],
      "execution_count": 2,
      "outputs": [
        {
          "output_type": "stream",
          "text": [
            "<class 'list'>\n"
          ],
          "name": "stdout"
        }
      ]
    },
    {
      "cell_type": "code",
      "metadata": {
        "colab": {
          "base_uri": "https://localhost:8080/"
        },
        "id": "d5X-c3GGXQGn",
        "outputId": "0258ef2b-36b7-42fa-e139-4b98b15eb143"
      },
      "source": [
        "# The list() Constructor\r\n",
        "\r\n",
        "thislist = list((\"apple\", \"banana\", \"cherry\"))\r\n",
        "print(thislist)"
      ],
      "execution_count": 3,
      "outputs": [
        {
          "output_type": "stream",
          "text": [
            "['apple', 'banana', 'cherry']\n"
          ],
          "name": "stdout"
        }
      ]
    },
    {
      "cell_type": "code",
      "metadata": {
        "id": "m3mrFQ2hXaIr"
      },
      "source": [
        ""
      ],
      "execution_count": null,
      "outputs": []
    },
    {
      "cell_type": "markdown",
      "metadata": {
        "id": "iqp3-7TrRsfU"
      },
      "source": [
        "#### __b. Access list Item__"
      ]
    },
    {
      "cell_type": "code",
      "metadata": {
        "colab": {
          "base_uri": "https://localhost:8080/"
        },
        "id": "62go3ckFbfTl",
        "outputId": "2d0b6ee1-484d-42d4-ff5a-8339c57a7bd1"
      },
      "source": [
        "thislist = [\"apple\", \"banana\", \"cherry\"]\r\n",
        "\r\n",
        "print(thislist[1])\r\n",
        "print(thislist[-1])"
      ],
      "execution_count": 5,
      "outputs": [
        {
          "output_type": "stream",
          "text": [
            "banana\n",
            "cherry\n"
          ],
          "name": "stdout"
        }
      ]
    },
    {
      "cell_type": "code",
      "metadata": {
        "colab": {
          "base_uri": "https://localhost:8080/"
        },
        "id": "OjwR_wP2bfNc",
        "outputId": "69180884-bb8e-4b7a-96ba-c68c63fdcdf7"
      },
      "source": [
        "thislist = [\"apple\", \"banana\", \"cherry\", \"orange\", \"kiwi\", \"melon\", \"mango\"]\r\n",
        "\r\n",
        "print(thislist[2:5])\r\n",
        "print(thislist[:4])\r\n",
        "print(thislist[2:])\r\n",
        "print(thislist[-4:-1])"
      ],
      "execution_count": 6,
      "outputs": [
        {
          "output_type": "stream",
          "text": [
            "['cherry', 'orange', 'kiwi']\n",
            "['apple', 'banana', 'cherry', 'orange']\n",
            "['cherry', 'orange', 'kiwi', 'melon', 'mango']\n",
            "['orange', 'kiwi', 'melon']\n"
          ],
          "name": "stdout"
        }
      ]
    },
    {
      "cell_type": "code",
      "metadata": {
        "colab": {
          "base_uri": "https://localhost:8080/"
        },
        "id": "GDeZXsHMb7D1",
        "outputId": "63c348c2-78e5-41c8-b11a-4e5446a0e5d1"
      },
      "source": [
        "thislist = [\"apple\", \"banana\", \"cherry\"]\r\n",
        "if \"apple\" in thislist:\r\n",
        "  print(\"Yes, 'apple' is in the fruits list\")"
      ],
      "execution_count": 7,
      "outputs": [
        {
          "output_type": "stream",
          "text": [
            "Yes, 'apple' is in the fruits list\n"
          ],
          "name": "stdout"
        }
      ]
    },
    {
      "cell_type": "markdown",
      "metadata": {
        "id": "uOmtuSacR1Bw"
      },
      "source": [
        "#### __c. Change list Items__\r\n",
        "\r\n",
        "thislist = [\"apple\", \"banana\", \"cherry\"]\r\n",
        "thislist[1] = \"blackcurrant\"\r\n",
        "print(thislist)"
      ]
    },
    {
      "cell_type": "code",
      "metadata": {
        "colab": {
          "base_uri": "https://localhost:8080/"
        },
        "id": "JYHjYdsEcL9o",
        "outputId": "3d77847a-bdf2-40b6-e341-83cd0089abc0"
      },
      "source": [
        "thislist = [\"apple\", \"banana\", \"cherry\", \"orange\", \"kiwi\", \"mango\"]\r\n",
        "thislist[1:3] = [\"blackcurrant\", \"watermelon\"]\r\n",
        "print(thislist)"
      ],
      "execution_count": 8,
      "outputs": [
        {
          "output_type": "stream",
          "text": [
            "['apple', 'blackcurrant', 'watermelon', 'orange', 'kiwi', 'mango']\n"
          ],
          "name": "stdout"
        }
      ]
    },
    {
      "cell_type": "code",
      "metadata": {
        "colab": {
          "base_uri": "https://localhost:8080/"
        },
        "id": "jOIGTBUYcSBk",
        "outputId": "be1dcaa3-27fe-4f68-ec9c-fc65380e485c"
      },
      "source": [
        "thislist = [\"apple\", \"banana\", \"cherry\"]\r\n",
        "thislist[1:2] = [\"blackcurrant\", \"watermelon\"]\r\n",
        "print(thislist)"
      ],
      "execution_count": 9,
      "outputs": [
        {
          "output_type": "stream",
          "text": [
            "['apple', 'blackcurrant', 'watermelon', 'cherry']\n"
          ],
          "name": "stdout"
        }
      ]
    },
    {
      "cell_type": "code",
      "metadata": {
        "colab": {
          "base_uri": "https://localhost:8080/"
        },
        "id": "11MofFqwcX5L",
        "outputId": "a11f57cb-7b3e-4900-af07-ee349e5c03c4"
      },
      "source": [
        "thislist = [\"apple\", \"banana\", \"cherry\"]\r\n",
        "thislist[1:3] = [\"watermelon\"]\r\n",
        "print(thislist)"
      ],
      "execution_count": 10,
      "outputs": [
        {
          "output_type": "stream",
          "text": [
            "['apple', 'watermelon']\n"
          ],
          "name": "stdout"
        }
      ]
    },
    {
      "cell_type": "code",
      "metadata": {
        "colab": {
          "base_uri": "https://localhost:8080/"
        },
        "id": "qhH2mo-ccsaR",
        "outputId": "9de7fcfa-c622-4235-8682-934386f0df64"
      },
      "source": [
        "thislist = [\"apple\", \"banana\", \"cherry\"]\r\n",
        "thislist.insert(2, \"watermelon\")\r\n",
        "print(thislist)"
      ],
      "execution_count": 11,
      "outputs": [
        {
          "output_type": "stream",
          "text": [
            "['apple', 'banana', 'watermelon', 'cherry']\n"
          ],
          "name": "stdout"
        }
      ]
    },
    {
      "cell_type": "markdown",
      "metadata": {
        "id": "KBMa4h_YR8AB"
      },
      "source": [
        "#### __d. Add list Items__"
      ]
    },
    {
      "cell_type": "markdown",
      "metadata": {
        "id": "OPGA4Dudeme_"
      },
      "source": [
        "__`.append()`__"
      ]
    },
    {
      "cell_type": "code",
      "metadata": {
        "colab": {
          "base_uri": "https://localhost:8080/"
        },
        "id": "FLSt1UL8dYsk",
        "outputId": "19b87a54-babe-4ffa-abe5-df9a7bff57f8"
      },
      "source": [
        "thislist = [\"apple\", \"banana\", \"cherry\"]\r\n",
        "thislist.append(\"orange\")\r\n",
        "print(thislist)"
      ],
      "execution_count": 12,
      "outputs": [
        {
          "output_type": "stream",
          "text": [
            "['apple', 'banana', 'cherry', 'orange']\n"
          ],
          "name": "stdout"
        }
      ]
    },
    {
      "cell_type": "markdown",
      "metadata": {
        "id": "fpumQSceesmu"
      },
      "source": [
        "__`.insert()`__"
      ]
    },
    {
      "cell_type": "code",
      "metadata": {
        "colab": {
          "base_uri": "https://localhost:8080/"
        },
        "id": "cuWarepPdYf5",
        "outputId": "eeb0a199-5468-4875-d944-db53e9a05f3d"
      },
      "source": [
        "thislist = [\"apple\", \"banana\", \"cherry\"]\r\n",
        "thislist.insert(1, \"orange\")\r\n",
        "print(thislist)"
      ],
      "execution_count": 13,
      "outputs": [
        {
          "output_type": "stream",
          "text": [
            "['apple', 'orange', 'banana', 'cherry']\n"
          ],
          "name": "stdout"
        }
      ]
    },
    {
      "cell_type": "markdown",
      "metadata": {
        "id": "JmJnNE5LewKc"
      },
      "source": [
        "__`.extend()`__"
      ]
    },
    {
      "cell_type": "code",
      "metadata": {
        "colab": {
          "base_uri": "https://localhost:8080/"
        },
        "id": "lLaJ0FeJdYOz",
        "outputId": "cbb3870a-a24f-4820-a7b8-65c5c200bc70"
      },
      "source": [
        "thislist = [\"apple\", \"banana\", \"cherry\"]\r\n",
        "tropical = [\"mango\", \"pineapple\", \"papaya\"]\r\n",
        "thislist.extend(tropical)\r\n",
        "print(thislist)"
      ],
      "execution_count": 15,
      "outputs": [
        {
          "output_type": "stream",
          "text": [
            "['apple', 'banana', 'cherry', 'mango', 'pineapple', 'papaya']\n"
          ],
          "name": "stdout"
        }
      ]
    },
    {
      "cell_type": "code",
      "metadata": {
        "colab": {
          "base_uri": "https://localhost:8080/"
        },
        "id": "JjoCMeb3dijA",
        "outputId": "77a83805-57c9-4ea7-ad82-0f3d24bfbe54"
      },
      "source": [
        "# we can add any iterable object tuples, sets, dictionaries etc\r\n",
        "\r\n",
        "thislist = [\"apple\", \"banana\", \"cherry\"]\r\n",
        "thistuple = (\"kiwi\", \"orange\")\r\n",
        "thislist.extend(thistuple)\r\n",
        "print(thislist)"
      ],
      "execution_count": 14,
      "outputs": [
        {
          "output_type": "stream",
          "text": [
            "['apple', 'banana', 'cherry', 'kiwi', 'orange']\n"
          ],
          "name": "stdout"
        }
      ]
    },
    {
      "cell_type": "markdown",
      "metadata": {
        "id": "5sMo3b7gR_68"
      },
      "source": [
        "#### __e. Remove list__"
      ]
    },
    {
      "cell_type": "markdown",
      "metadata": {
        "id": "3HY4U9pWeV9V"
      },
      "source": [
        "__`.remove()`__"
      ]
    },
    {
      "cell_type": "code",
      "metadata": {
        "id": "TtXmGeu-eQjL"
      },
      "source": [
        "thislist = [\"apple\", \"banana\", \"cherry\"]\r\n",
        "thislist.remove(\"banana\")\r\n",
        "print(thislist)"
      ],
      "execution_count": null,
      "outputs": []
    },
    {
      "cell_type": "markdown",
      "metadata": {
        "id": "i90B7BtTedm0"
      },
      "source": [
        "__`.pop()`__"
      ]
    },
    {
      "cell_type": "code",
      "metadata": {
        "colab": {
          "base_uri": "https://localhost:8080/"
        },
        "id": "FtbYzS-ueQKE",
        "outputId": "2ea103a9-5a08-460e-9d41-d6411660365c"
      },
      "source": [
        "thislist = [\"apple\", \"banana\", \"cherry\"]\r\n",
        "thislist.pop(1)\r\n",
        "print(thislist)"
      ],
      "execution_count": 17,
      "outputs": [
        {
          "output_type": "stream",
          "text": [
            "['apple', 'cherry']\n"
          ],
          "name": "stdout"
        }
      ]
    },
    {
      "cell_type": "code",
      "metadata": {
        "colab": {
          "base_uri": "https://localhost:8080/"
        },
        "id": "n5evxuyueP6U",
        "outputId": "515516ec-722f-495d-b13b-06997873af96"
      },
      "source": [
        "# If you do not specify the index\r\n",
        "# the pop() method removes the last item\r\n",
        "\r\n",
        "thislist = [\"apple\", \"banana\", \"cherry\"]\r\n",
        "thislist.pop()\r\n",
        "print(thislist)"
      ],
      "execution_count": 18,
      "outputs": [
        {
          "output_type": "stream",
          "text": [
            "['apple', 'banana']\n"
          ],
          "name": "stdout"
        }
      ]
    },
    {
      "cell_type": "markdown",
      "metadata": {
        "id": "FxgGgKYWfMV9"
      },
      "source": [
        "__`del`__"
      ]
    },
    {
      "cell_type": "code",
      "metadata": {
        "colab": {
          "base_uri": "https://localhost:8080/"
        },
        "id": "2Mo8keBSePqd",
        "outputId": "0f881ed8-8020-484b-fc99-28587b4e67db"
      },
      "source": [
        "thislist = [\"apple\", \"banana\", \"cherry\"]\r\n",
        "del thislist[0]\r\n",
        "print(thislist)"
      ],
      "execution_count": 16,
      "outputs": [
        {
          "output_type": "stream",
          "text": [
            "['banana', 'cherry']\n"
          ],
          "name": "stdout"
        }
      ]
    },
    {
      "cell_type": "markdown",
      "metadata": {
        "id": "KbrRPml8gCxn"
      },
      "source": [
        "__`clear`__\r\n",
        "\r\n"
      ]
    },
    {
      "cell_type": "code",
      "metadata": {
        "id": "Tsz5gKg7gLek"
      },
      "source": [
        "thislist = [\"apple\", \"banana\", \"cherry\"]\r\n",
        "thislist.clear()\r\n",
        "print(thislist)"
      ],
      "execution_count": null,
      "outputs": []
    },
    {
      "cell_type": "markdown",
      "metadata": {
        "id": "N_09a-D6g18_"
      },
      "source": [
        "#### __f. Loop list__"
      ]
    },
    {
      "cell_type": "code",
      "metadata": {
        "colab": {
          "base_uri": "https://localhost:8080/"
        },
        "id": "J3JcvnOEjboY",
        "outputId": "3366fbce-f6d7-47d9-d8f7-64cb6faeca29"
      },
      "source": [
        "thislist = [\"apple\", \"banana\", \"cherry\"]\r\n",
        "for x in thislist:\r\n",
        "  print(x)"
      ],
      "execution_count": 19,
      "outputs": [
        {
          "output_type": "stream",
          "text": [
            "apple\n",
            "banana\n",
            "cherry\n"
          ],
          "name": "stdout"
        }
      ]
    },
    {
      "cell_type": "code",
      "metadata": {
        "colab": {
          "base_uri": "https://localhost:8080/"
        },
        "id": "wswKkbkojgqa",
        "outputId": "62518aae-8d71-4cfe-e202-1eb5cd87dea3"
      },
      "source": [
        "thislist = [\"apple\", \"banana\", \"cherry\"]\r\n",
        "for i in range(len(thislist)):\r\n",
        "  print(thislist[i])"
      ],
      "execution_count": 20,
      "outputs": [
        {
          "output_type": "stream",
          "text": [
            "apple\n",
            "banana\n",
            "cherry\n"
          ],
          "name": "stdout"
        }
      ]
    },
    {
      "cell_type": "code",
      "metadata": {
        "colab": {
          "base_uri": "https://localhost:8080/"
        },
        "id": "VMCZ2xEHjleE",
        "outputId": "f0a92fc0-041b-4a97-ffba-576b6dced959"
      },
      "source": [
        "thislist = [\"apple\", \"banana\", \"cherry\"]\r\n",
        "i = 0\r\n",
        "while i < len(thislist):\r\n",
        "  print(thislist[i])\r\n",
        "  i = i + 1"
      ],
      "execution_count": 21,
      "outputs": [
        {
          "output_type": "stream",
          "text": [
            "apple\n",
            "banana\n",
            "cherry\n"
          ],
          "name": "stdout"
        }
      ]
    },
    {
      "cell_type": "code",
      "metadata": {
        "colab": {
          "base_uri": "https://localhost:8080/"
        },
        "id": "WSqWmtGYjoiF",
        "outputId": "0fbd94f1-4999-4d48-feb2-08a9b0fd942e"
      },
      "source": [
        "thislist = [\"apple\", \"banana\", \"cherry\"]\r\n",
        "[print(x) for x in thislist]"
      ],
      "execution_count": 22,
      "outputs": [
        {
          "output_type": "stream",
          "text": [
            "apple\n",
            "banana\n",
            "cherry\n"
          ],
          "name": "stdout"
        },
        {
          "output_type": "execute_result",
          "data": {
            "text/plain": [
              "[None, None, None]"
            ]
          },
          "metadata": {
            "tags": []
          },
          "execution_count": 22
        }
      ]
    },
    {
      "cell_type": "markdown",
      "metadata": {
        "id": "iI7-xTcBSQYy"
      },
      "source": [
        "#### __g. List Comprehension__"
      ]
    },
    {
      "cell_type": "code",
      "metadata": {
        "colab": {
          "base_uri": "https://localhost:8080/"
        },
        "id": "JthAr6W2morU",
        "outputId": "36280fb2-539a-41c9-c951-f22c89a42166"
      },
      "source": [
        "fruits = [\"apple\", \"banana\", \"cherry\", \"kiwi\", \"mango\"]\r\n",
        "newlist = []\r\n",
        "\r\n",
        "for x in fruits:\r\n",
        "  if \"a\" in x:\r\n",
        "    newlist.append(x)\r\n",
        "\r\n",
        "print(newlist)"
      ],
      "execution_count": 25,
      "outputs": [
        {
          "output_type": "stream",
          "text": [
            "['apple', 'banana', 'mango']\n"
          ],
          "name": "stdout"
        }
      ]
    },
    {
      "cell_type": "code",
      "metadata": {
        "colab": {
          "base_uri": "https://localhost:8080/"
        },
        "id": "Zsnk9VpfmvqP",
        "outputId": "3a8057d8-956c-4b62-98a4-87baf14f3c75"
      },
      "source": [
        "fruits = [\"apple\", \"banana\", \"cherry\", \"kiwi\", \"mango\"]\r\n",
        "newlist = [x for x in fruits if \"a\" in x]\r\n",
        "print(newlist)"
      ],
      "execution_count": 26,
      "outputs": [
        {
          "output_type": "stream",
          "text": [
            "['apple', 'banana', 'mango']\n"
          ],
          "name": "stdout"
        }
      ]
    },
    {
      "cell_type": "markdown",
      "metadata": {
        "id": "lKodpwDYnTly"
      },
      "source": [
        "```python\r\n",
        "# The Syntax\r\n",
        "\r\n",
        "newlist = [expression for item in iterable if condition == True]\r\n",
        "\r\n",
        "```"
      ]
    },
    {
      "cell_type": "code",
      "metadata": {
        "colab": {
          "base_uri": "https://localhost:8080/"
        },
        "id": "Yy3hYfEwttoV",
        "outputId": "3a0aace2-641f-417e-e940-45546d743466"
      },
      "source": [
        "fruits = [\"apple\", \"banana\", \"cherry\", \"kiwi\", \"mango\"]\r\n",
        "\r\n",
        "newlist_1 = [x for x in fruits if x != \"apple\"]\r\n",
        "newlist_2 = [x for x in fruits]\r\n",
        "newlist_3 = [x if x != \"banana\" else \"orange\" for x in fruits]\r\n",
        "\r\n",
        "newlist_4 = [x.upper() for x in fruits]\r\n",
        "newlist_5 = ['hello' for x in fruits]\r\n",
        "\r\n",
        "# Range\r\n",
        "newlist_6 = [x for x in range(10) if x < 5]\r\n",
        "newlist_7 = [x for x in range(10)]\r\n",
        "\r\n",
        "print(newlist_1)\r\n",
        "print(newlist_2)\r\n",
        "print(newlist_3)\r\n",
        "print(newlist_4)\r\n",
        "print(newlist_5)\r\n",
        "print(newlist_6)\r\n",
        "print(newlist_7)"
      ],
      "execution_count": 30,
      "outputs": [
        {
          "output_type": "stream",
          "text": [
            "['banana', 'cherry', 'kiwi', 'mango']\n",
            "['apple', 'banana', 'cherry', 'kiwi', 'mango']\n",
            "['apple', 'orange', 'cherry', 'kiwi', 'mango']\n",
            "['APPLE', 'BANANA', 'CHERRY', 'KIWI', 'MANGO']\n",
            "['hello', 'hello', 'hello', 'hello', 'hello']\n",
            "[0, 1, 2, 3, 4]\n",
            "[0, 1, 2, 3, 4, 5, 6, 7, 8, 9]\n"
          ],
          "name": "stdout"
        }
      ]
    },
    {
      "cell_type": "markdown",
      "metadata": {
        "id": "qI5LUwP1SYYC"
      },
      "source": [
        "#### __h. Sort list__"
      ]
    },
    {
      "cell_type": "markdown",
      "metadata": {
        "id": "w19M_xI5wAnw"
      },
      "source": [
        "__`.sort()`__"
      ]
    },
    {
      "cell_type": "code",
      "metadata": {
        "colab": {
          "base_uri": "https://localhost:8080/"
        },
        "id": "juRLfP7Av7VS",
        "outputId": "2f9d9132-cae5-4a95-ba59-6a7ea16e3fdc"
      },
      "source": [
        "# sort the list alphanumerically, ascending, by default\r\n",
        "\r\n",
        "thislist = [\"orange\", \"mango\", \"kiwi\", \"pineapple\", \"banana\"]\r\n",
        "thislist.sort()\r\n",
        "print(thislist)"
      ],
      "execution_count": 31,
      "outputs": [
        {
          "output_type": "stream",
          "text": [
            "['banana', 'kiwi', 'mango', 'orange', 'pineapple']\n"
          ],
          "name": "stdout"
        }
      ]
    },
    {
      "cell_type": "code",
      "metadata": {
        "colab": {
          "base_uri": "https://localhost:8080/"
        },
        "id": "_bFxiH3Tv7Eu",
        "outputId": "25b4a039-1f30-4e56-c109-040c03ff9497"
      },
      "source": [
        "thislist = [100, 50, 65, 82, 23]\r\n",
        "thislist.sort()\r\n",
        "print(thislist)"
      ],
      "execution_count": 32,
      "outputs": [
        {
          "output_type": "stream",
          "text": [
            "[23, 50, 65, 82, 100]\n"
          ],
          "name": "stdout"
        }
      ]
    },
    {
      "cell_type": "code",
      "metadata": {
        "colab": {
          "base_uri": "https://localhost:8080/"
        },
        "id": "Jokvmejyv60Y",
        "outputId": "5608821d-d778-4086-d404-9c308f410656"
      },
      "source": [
        "thislist = [\"orange\", \"mango\", \"kiwi\", \"pineapple\", \"banana\"]\r\n",
        "thislist.sort(reverse = True)\r\n",
        "print(thislist)"
      ],
      "execution_count": 33,
      "outputs": [
        {
          "output_type": "stream",
          "text": [
            "['pineapple', 'orange', 'mango', 'kiwi', 'banana']\n"
          ],
          "name": "stdout"
        }
      ]
    },
    {
      "cell_type": "code",
      "metadata": {
        "colab": {
          "base_uri": "https://localhost:8080/"
        },
        "id": "5Y4s5JvTyTFJ",
        "outputId": "a5af6a0b-3c36-4276-fda5-3d0774d2d161"
      },
      "source": [
        "thislist = [100, 50, 65, 82, 23]\r\n",
        "thislist.sort(reverse = True)\r\n",
        "print(thislist)"
      ],
      "execution_count": 34,
      "outputs": [
        {
          "output_type": "stream",
          "text": [
            "[100, 82, 65, 50, 23]\n"
          ],
          "name": "stdout"
        }
      ]
    },
    {
      "cell_type": "code",
      "metadata": {
        "colab": {
          "base_uri": "https://localhost:8080/"
        },
        "id": "j0NmJLOPyVlp",
        "outputId": "f3e24820-48f5-4fb8-a34b-6a8c885aa25b"
      },
      "source": [
        "def myfunc(n):\r\n",
        "  return abs(n - 50)\r\n",
        "\r\n",
        "thislist = [100, 50, 65, 82, 23]\r\n",
        "thislist.sort(key = myfunc)\r\n",
        "print(thislist)"
      ],
      "execution_count": 35,
      "outputs": [
        {
          "output_type": "stream",
          "text": [
            "[50, 65, 23, 82, 100]\n"
          ],
          "name": "stdout"
        }
      ]
    },
    {
      "cell_type": "code",
      "metadata": {
        "colab": {
          "base_uri": "https://localhost:8080/"
        },
        "id": "zni6YLAByYOc",
        "outputId": "3532f806-c158-4f24-8286-0d4814b8e1e6"
      },
      "source": [
        "# Case Insensitive sort\r\n",
        "# All capital letters being sorted after lower case letters\r\n",
        "\r\n",
        "thislist = [\"banana\", \"Orange\", \"Kiwi\", \"cherry\"]\r\n",
        "thislist.sort()\r\n",
        "print(thislist)"
      ],
      "execution_count": 36,
      "outputs": [
        {
          "output_type": "stream",
          "text": [
            "['Kiwi', 'Orange', 'banana', 'cherry']\n"
          ],
          "name": "stdout"
        }
      ]
    },
    {
      "cell_type": "code",
      "metadata": {
        "colab": {
          "base_uri": "https://localhost:8080/"
        },
        "id": "XMJ7AMsGya9d",
        "outputId": "b9c67ca3-5cb9-49ec-d62a-171b87f680f5"
      },
      "source": [
        "# Perform a case-insensitive sort of the list\r\n",
        "\r\n",
        "thislist = [\"banana\", \"Orange\", \"Kiwi\", \"cherry\"]\r\n",
        "thislist.sort(key = str.lower)\r\n",
        "print(thislist)"
      ],
      "execution_count": 38,
      "outputs": [
        {
          "output_type": "stream",
          "text": [
            "['banana', 'cherry', 'Kiwi', 'Orange']\n"
          ],
          "name": "stdout"
        }
      ]
    },
    {
      "cell_type": "code",
      "metadata": {
        "colab": {
          "base_uri": "https://localhost:8080/"
        },
        "id": "KHfxEfcIIW_4",
        "outputId": "81f7a571-87ed-48d2-aee0-63ced7ad566c"
      },
      "source": [
        "# Reverse the order of the list items\r\n",
        "\r\n",
        "thislist = [\"banana\", \"Orange\", \"Kiwi\", \"cherry\"]\r\n",
        "thislist.reverse()\r\n",
        "print(thislist)"
      ],
      "execution_count": 39,
      "outputs": [
        {
          "output_type": "stream",
          "text": [
            "['cherry', 'Kiwi', 'Orange', 'banana']\n"
          ],
          "name": "stdout"
        }
      ]
    },
    {
      "cell_type": "markdown",
      "metadata": {
        "id": "RyXxEJpbSfr-"
      },
      "source": [
        "#### __i. Copy list__"
      ]
    },
    {
      "cell_type": "markdown",
      "metadata": {
        "id": "GOE74Vk7ZRk-"
      },
      "source": [
        "__`.copy()`__"
      ]
    },
    {
      "cell_type": "code",
      "metadata": {
        "colab": {
          "base_uri": "https://localhost:8080/"
        },
        "id": "n8GXEQnPZL8y",
        "outputId": "abd7e078-8c2a-484d-8744-11525216e2d2"
      },
      "source": [
        "thislist = [\"apple\", \"banana\", \"cherry\"]\r\n",
        "mylist = thislist.copy()\r\n",
        "print(mylist)"
      ],
      "execution_count": 40,
      "outputs": [
        {
          "output_type": "stream",
          "text": [
            "['apple', 'banana', 'cherry']\n"
          ],
          "name": "stdout"
        }
      ]
    },
    {
      "cell_type": "markdown",
      "metadata": {
        "id": "6flJ0WI8Z162"
      },
      "source": [
        "__`list()`__"
      ]
    },
    {
      "cell_type": "code",
      "metadata": {
        "colab": {
          "base_uri": "https://localhost:8080/"
        },
        "id": "e7GqidK2Z0qu",
        "outputId": "c0c7d88b-68b1-4ec8-ef74-2d428e62cea1"
      },
      "source": [
        "thislist = [\"apple\", \"banana\", \"cherry\"]\r\n",
        "mylist = list(thislist)\r\n",
        "print(mylist)"
      ],
      "execution_count": 42,
      "outputs": [
        {
          "output_type": "stream",
          "text": [
            "['apple', 'banana', 'cherry']\n"
          ],
          "name": "stdout"
        }
      ]
    },
    {
      "cell_type": "markdown",
      "metadata": {
        "id": "7UEqA1n7SGZf"
      },
      "source": [
        "#### __j. Join list__"
      ]
    },
    {
      "cell_type": "code",
      "metadata": {
        "colab": {
          "base_uri": "https://localhost:8080/"
        },
        "id": "LPV_w4qHaJy-",
        "outputId": "eda0c568-7847-4f0d-a534-7223af53a569"
      },
      "source": [
        "list1 = [\"a\", \"b\", \"c\"]\r\n",
        "list2 = [1, 2, 3]\r\n",
        "\r\n",
        "list3 = list1 + list2\r\n",
        "print(list3)"
      ],
      "execution_count": 43,
      "outputs": [
        {
          "output_type": "stream",
          "text": [
            "['a', 'b', 'c', 1, 2, 3]\n"
          ],
          "name": "stdout"
        }
      ]
    },
    {
      "cell_type": "code",
      "metadata": {
        "colab": {
          "base_uri": "https://localhost:8080/"
        },
        "id": "CA2oulfBaMXX",
        "outputId": "a3d580c7-602e-43dc-f8fd-9c2cf16eeedb"
      },
      "source": [
        "list1 = [\"a\", \"b\" , \"c\"]\r\n",
        "list2 = [1, 2, 3]\r\n",
        "\r\n",
        "for x in list2:\r\n",
        "  list1.append(x)\r\n",
        "\r\n",
        "print(list1)"
      ],
      "execution_count": 44,
      "outputs": [
        {
          "output_type": "stream",
          "text": [
            "['a', 'b', 'c', 1, 2, 3]\n"
          ],
          "name": "stdout"
        }
      ]
    },
    {
      "cell_type": "code",
      "metadata": {
        "colab": {
          "base_uri": "https://localhost:8080/"
        },
        "id": "jk7DGfTyaTYe",
        "outputId": "7dd80927-6ef7-425b-d496-28dbe728b529"
      },
      "source": [
        "list1 = [\"a\", \"b\" , \"c\"]\r\n",
        "list2 = [1, 2, 3]\r\n",
        "\r\n",
        "list1.extend(list2)\r\n",
        "print(list1)"
      ],
      "execution_count": 45,
      "outputs": [
        {
          "output_type": "stream",
          "text": [
            "['a', 'b', 'c', 1, 2, 3]\n"
          ],
          "name": "stdout"
        }
      ]
    },
    {
      "cell_type": "markdown",
      "metadata": {
        "id": "EzEY4gI2S32E"
      },
      "source": [
        "#### __k. List Methods__"
      ]
    },
    {
      "cell_type": "markdown",
      "metadata": {
        "id": "TBaMfSutakfv"
      },
      "source": [
        "<table class=\"w3-table-all notranslate\" style=\"height: 419px\" width=\"641\">\r\n",
        "  <tbody>\r\n",
        "    <tr>\r\n",
        "      <th style=\"width: 71px\">Method</th>\r\n",
        "      <th style=\"width: 554px\">Description</th>\r\n",
        "    </tr>\r\n",
        "    <tr>\r\n",
        "      <td style=\"width: 71px\">\r\n",
        "        <h4>\r\n",
        "          <a href=\"https://www.w3schools.com/python/ref_list_append.asp\"\r\n",
        "            >append()</a\r\n",
        "          >\r\n",
        "        </h4>\r\n",
        "      </td>\r\n",
        "      <td style=\"width: 554px\">\r\n",
        "        <strong>Adds an element at the end of the list</strong>\r\n",
        "      </td>\r\n",
        "    </tr>\r\n",
        "    <tr>\r\n",
        "      <td style=\"width: 71px\">\r\n",
        "        <h4>\r\n",
        "          <a href=\"https://www.w3schools.com/python/ref_list_clear.asp\"\r\n",
        "            >clear()</a\r\n",
        "          >\r\n",
        "        </h4>\r\n",
        "      </td>\r\n",
        "      <td style=\"width: 554px\">\r\n",
        "        <strong>Removes all the elements from the list</strong>\r\n",
        "      </td>\r\n",
        "    </tr>\r\n",
        "    <tr>\r\n",
        "      <td style=\"width: 71px\">\r\n",
        "        <h4>\r\n",
        "          <a href=\"https://www.w3schools.com/python/ref_list_copy.asp\"\r\n",
        "            >copy()</a\r\n",
        "          >\r\n",
        "        </h4>\r\n",
        "      </td>\r\n",
        "      <td style=\"width: 554px\"><strong>Returns a copy of the list</strong></td>\r\n",
        "    </tr>\r\n",
        "    <tr>\r\n",
        "      <td style=\"width: 71px\">\r\n",
        "        <h4>\r\n",
        "          <a href=\"https://www.w3schools.com/python/ref_list_count.asp\"\r\n",
        "            >count()</a\r\n",
        "          >\r\n",
        "        </h4>\r\n",
        "      </td>\r\n",
        "      <td style=\"width: 554px\">\r\n",
        "        <strong>Returns the number of elements with the specified value</strong>\r\n",
        "      </td>\r\n",
        "    </tr>\r\n",
        "    <tr>\r\n",
        "      <td style=\"width: 71px\">\r\n",
        "        <h4>\r\n",
        "          <a href=\"https://www.w3schools.com/python/ref_list_extend.asp\"\r\n",
        "            >extend()</a\r\n",
        "          >\r\n",
        "        </h4>\r\n",
        "      </td>\r\n",
        "      <td style=\"width: 554px\">\r\n",
        "        <strong\r\n",
        "          >Add the elements of a list (or any iterable), to the end of the\r\n",
        "          current list</strong\r\n",
        "        >\r\n",
        "      </td>\r\n",
        "    </tr>\r\n",
        "    <tr>\r\n",
        "      <td style=\"width: 71px\">\r\n",
        "        <h4>\r\n",
        "          <a href=\"https://www.w3schools.com/python/ref_list_index.asp\"\r\n",
        "            >index()</a\r\n",
        "          >\r\n",
        "        </h4>\r\n",
        "      </td>\r\n",
        "      <td style=\"width: 554px\">\r\n",
        "        <strong\r\n",
        "          >Returns the index of the first element with the specified\r\n",
        "          value</strong\r\n",
        "        >\r\n",
        "      </td>\r\n",
        "    </tr>\r\n",
        "    <tr>\r\n",
        "      <td style=\"width: 71px\">\r\n",
        "        <h4>\r\n",
        "          <a href=\"https://www.w3schools.com/python/ref_list_insert.asp\"\r\n",
        "            >insert()</a\r\n",
        "          >\r\n",
        "        </h4>\r\n",
        "      </td>\r\n",
        "      <td style=\"width: 554px\">\r\n",
        "        <strong>Adds an element at the specified position</strong>\r\n",
        "      </td>\r\n",
        "    </tr>\r\n",
        "    <tr>\r\n",
        "      <td style=\"width: 71px\">\r\n",
        "        <h4>\r\n",
        "          <a href=\"https://www.w3schools.com/python/ref_list_pop.asp\">pop()</a>\r\n",
        "        </h4>\r\n",
        "      </td>\r\n",
        "      <td style=\"width: 554px\">\r\n",
        "        <strong>Removes the element at the specified position</strong>\r\n",
        "      </td>\r\n",
        "    </tr>\r\n",
        "    <tr>\r\n",
        "      <td style=\"width: 71px\">\r\n",
        "        <h4>\r\n",
        "          <a href=\"https://www.w3schools.com/python/ref_list_remove.asp\"\r\n",
        "            >remove()</a\r\n",
        "          >\r\n",
        "        </h4>\r\n",
        "      </td>\r\n",
        "      <td style=\"width: 554px\">\r\n",
        "        <strong>Removes the item with the specified value</strong>\r\n",
        "      </td>\r\n",
        "    </tr>\r\n",
        "    <tr>\r\n",
        "      <td style=\"width: 71px\">\r\n",
        "        <h4>\r\n",
        "          <a href=\"https://www.w3schools.com/python/ref_list_reverse.asp\"\r\n",
        "            >reverse()</a\r\n",
        "          >\r\n",
        "        </h4>\r\n",
        "      </td>\r\n",
        "      <td style=\"width: 554px\">\r\n",
        "        <strong>Reverses the order of the list</strong>\r\n",
        "      </td>\r\n",
        "    </tr>\r\n",
        "    <tr>\r\n",
        "      <td style=\"width: 71px\">\r\n",
        "        <h4>\r\n",
        "          <a href=\"https://www.w3schools.com/python/ref_list_sort.asp\"\r\n",
        "            >sort()</a\r\n",
        "          >\r\n",
        "        </h4>\r\n",
        "      </td>\r\n",
        "      <td style=\"width: 554px\"><strong>Sorts the list</strong></td>\r\n",
        "    </tr>\r\n",
        "  </tbody>\r\n",
        "</table>"
      ]
    },
    {
      "cell_type": "markdown",
      "metadata": {
        "id": "LqyhoyYDnIRk"
      },
      "source": [
        "## __7. Tuples__\r\n",
        "\r\n",
        "- __Ordered__\r\n",
        "- __Unchangeable(Immutable)__\r\n",
        "- __Allow Duplicate values__"
      ]
    },
    {
      "cell_type": "markdown",
      "metadata": {
        "id": "9pqJe8YnbgZ1"
      },
      "source": [
        "#### __a. Python Tuple__"
      ]
    },
    {
      "cell_type": "code",
      "metadata": {
        "colab": {
          "base_uri": "https://localhost:8080/"
        },
        "id": "4_OgCEzIccx5",
        "outputId": "4fd09098-2f5a-493c-e9ba-5cfbad5914f8"
      },
      "source": [
        "thistuple = (\"apple\", \"banana\", \"cherry\")\r\n",
        "print(thistuple)"
      ],
      "execution_count": 47,
      "outputs": [
        {
          "output_type": "stream",
          "text": [
            "('apple', 'banana', 'cherry')\n"
          ],
          "name": "stdout"
        }
      ]
    },
    {
      "cell_type": "code",
      "metadata": {
        "id": "z_utYThLccpV"
      },
      "source": [
        "# Tuples allow duplicate values\r\n",
        "thistuple = (\"apple\", \"banana\", \"cherry\", \"apple\", \"cherry\")\r\n",
        "print(thistuple)"
      ],
      "execution_count": null,
      "outputs": []
    },
    {
      "cell_type": "markdown",
      "metadata": {
        "id": "RnmmFIuIbnhL"
      },
      "source": [
        "#### __b. Access Tuple__"
      ]
    },
    {
      "cell_type": "code",
      "metadata": {
        "id": "bjwSc2_8nN0u",
        "colab": {
          "base_uri": "https://localhost:8080/"
        },
        "outputId": "e9b696a1-98b7-4241-e25e-1dfaa91e234a"
      },
      "source": [
        "thistuple = (\"apple\", \"banana\", \"cherry\", \"orange\", \"kiwi\", \"melon\", \"mango\")\r\n",
        "\r\n",
        "print(thistuple[1])   # Remember that the first item has index 0.\r\n",
        "print(thistuple[-1])\r\n",
        "print(thistuple[2:5]) # start at index 2(included) & end at index 5 (not-included)\r\n",
        "print(thistuple[:4])\r\n",
        "print(thistuple[2:])\r\n",
        "print(thistuple[-4:-1])"
      ],
      "execution_count": 48,
      "outputs": [
        {
          "output_type": "stream",
          "text": [
            "banana\n",
            "mango\n",
            "('cherry', 'orange', 'kiwi')\n",
            "('apple', 'banana', 'cherry', 'orange')\n",
            "('cherry', 'orange', 'kiwi', 'melon', 'mango')\n",
            "('orange', 'kiwi', 'melon')\n"
          ],
          "name": "stdout"
        }
      ]
    },
    {
      "cell_type": "code",
      "metadata": {
        "colab": {
          "base_uri": "https://localhost:8080/"
        },
        "id": "y51e3s4ged0W",
        "outputId": "15ff4a3e-e034-4bca-fe7a-c06dae3c9aa8"
      },
      "source": [
        "thistuple = (\"apple\", \"banana\", \"cherry\")\r\n",
        "if \"apple\" in thistuple:\r\n",
        "  print(\"Yes, 'apple' is in the fruits tuple\")"
      ],
      "execution_count": 49,
      "outputs": [
        {
          "output_type": "stream",
          "text": [
            "Yes, 'apple' is in the fruits tuple\n"
          ],
          "name": "stdout"
        }
      ]
    },
    {
      "cell_type": "markdown",
      "metadata": {
        "id": "nd3mc6W6bvVz"
      },
      "source": [
        "#### __c. Update Tuple__"
      ]
    },
    {
      "cell_type": "code",
      "metadata": {
        "colab": {
          "base_uri": "https://localhost:8080/"
        },
        "id": "bStU6zYvcS7h",
        "outputId": "4333b657-c610-436a-fcdf-25fc5377abb9"
      },
      "source": [
        "# Convert the tuple into a list to be able to change it:\r\n",
        "\r\n",
        "x = (\"apple\", \"banana\", \"cherry\")\r\n",
        "y = list(x)\r\n",
        "y[1] = \"kiwi\"\r\n",
        "x = tuple(y)\r\n",
        "\r\n",
        "print(x)"
      ],
      "execution_count": 50,
      "outputs": [
        {
          "output_type": "stream",
          "text": [
            "('apple', 'kiwi', 'cherry')\n"
          ],
          "name": "stdout"
        }
      ]
    },
    {
      "cell_type": "markdown",
      "metadata": {
        "id": "h-rrShyuezuW"
      },
      "source": [
        "$\\color{red}{\\textbf{NOTE:}}$  __Once a tuple is created, we cannot add items to it__\r\n",
        "```python\r\n",
        "thistuple = (\"apple\", \"banana\", \"cherry\")\r\n",
        "thistuple.append(\"orange\") # This will raise an error\r\n",
        "print(thistuple)\r\n",
        "---\r\n",
        "AttributeError                            Traceback (most recent call last)\r\n",
        "<ipython-input-51-e438d96bc894> in <module>()\r\n",
        "      1 thistuple = (\"apple\", \"banana\", \"cherry\")\r\n",
        "----> 2 thistuple.append(\"orange\") # This will raise an error\r\n",
        "      3 print(thistuple)\r\n",
        "\r\n",
        "AttributeError: 'tuple' object has no attribute 'append'\r\n",
        "```"
      ]
    },
    {
      "cell_type": "code",
      "metadata": {
        "colab": {
          "base_uri": "https://localhost:8080/"
        },
        "id": "mzJcQQOdf2f0",
        "outputId": "27f7196a-93a5-4e3f-c056-4fa9d2cdd076"
      },
      "source": [
        "# To add iten we can convert it into a list\r\n",
        "# then add item(s), and convert it back into a tuple\r\n",
        "\r\n",
        "thistuple = (\"apple\", \"banana\", \"cherry\")\r\n",
        "\r\n",
        "y = list(thistuple)\r\n",
        "y.append(\"orange\")\r\n",
        "thistuple = tuple(y)\r\n",
        "\r\n",
        "print(thistuple)"
      ],
      "execution_count": 54,
      "outputs": [
        {
          "output_type": "stream",
          "text": [
            "('apple', 'banana', 'cherry', 'orange')\n"
          ],
          "name": "stdout"
        }
      ]
    },
    {
      "cell_type": "code",
      "metadata": {
        "colab": {
          "base_uri": "https://localhost:8080/"
        },
        "id": "93FIQORMgS7W",
        "outputId": "d0b32d29-5e4d-4953-d120-4e2c484d7706"
      },
      "source": [
        "# Removing the item form Tuple\r\n",
        "\r\n",
        "thistuple = (\"apple\", \"banana\", \"cherry\")\r\n",
        "\r\n",
        "y = list(thistuple)\r\n",
        "y.remove(\"apple\")\r\n",
        "thistuple = tuple(y)\r\n",
        "\r\n",
        "print(thistuple)"
      ],
      "execution_count": 55,
      "outputs": [
        {
          "output_type": "stream",
          "text": [
            "('banana', 'cherry')\n"
          ],
          "name": "stdout"
        }
      ]
    },
    {
      "cell_type": "markdown",
      "metadata": {
        "id": "fez-7uYFhiJf"
      },
      "source": [
        "```python\r\n",
        "# Deleting the tuple completely\r\n",
        "\r\n",
        "thistuple = (\"apple\", \"banana\", \"cherry\")\r\n",
        "del thistuple\r\n",
        "print(thistuple) #this will raise an error because the tuple no longer exists\r\n",
        "\r\n",
        "```"
      ]
    },
    {
      "cell_type": "markdown",
      "metadata": {
        "id": "OMHB1ENvb1n8"
      },
      "source": [
        "#### __d. Unpack Tuple__"
      ]
    },
    {
      "cell_type": "code",
      "metadata": {
        "colab": {
          "base_uri": "https://localhost:8080/"
        },
        "id": "4PIW4I4ecUBO",
        "outputId": "0ccb141e-7ff2-4f80-f532-914c8f0904b0"
      },
      "source": [
        "# Packing a tuple\r\n",
        "fruits = (\"apple\", \"banana\", \"cherry\")\r\n",
        "\r\n",
        "# Unpacking a tuple\r\n",
        "(green, yellow, red) = fruits\r\n",
        "\r\n",
        "print(green)\r\n",
        "print(yellow)\r\n",
        "print(red)"
      ],
      "execution_count": 56,
      "outputs": [
        {
          "output_type": "stream",
          "text": [
            "apple\n",
            "banana\n",
            "cherry\n"
          ],
          "name": "stdout"
        }
      ]
    },
    {
      "cell_type": "code",
      "metadata": {
        "colab": {
          "base_uri": "https://localhost:8080/"
        },
        "id": "_tB2As_CiWTo",
        "outputId": "17f1a887-4ee7-43e1-a6dc-2046b7492427"
      },
      "source": [
        "# if the number of variables is less than the number of values, we can add an *\r\n",
        "# to the variable name and the values will be assigned to the variable as a list\r\n",
        "\r\n",
        "fruits = (\"apple\", \"banana\", \"cherry\", \"strawberry\", \"raspberry\")\r\n",
        "\r\n",
        "(green, yellow, *red) = fruits\r\n",
        "\r\n",
        "print(green)\r\n",
        "print(yellow)\r\n",
        "print(red)"
      ],
      "execution_count": 57,
      "outputs": [
        {
          "output_type": "stream",
          "text": [
            "apple\n",
            "banana\n",
            "['cherry', 'strawberry', 'raspberry']\n"
          ],
          "name": "stdout"
        }
      ]
    },
    {
      "cell_type": "markdown",
      "metadata": {
        "id": "7F2gCZ5Yb7TY"
      },
      "source": [
        "#### __e. Loop Tuple__"
      ]
    },
    {
      "cell_type": "code",
      "metadata": {
        "colab": {
          "base_uri": "https://localhost:8080/"
        },
        "id": "5iinowbfcU3T",
        "outputId": "80648787-f33a-4bfe-9d69-64c19ba22be8"
      },
      "source": [
        "thistuple = (\"apple\", \"banana\", \"cherry\")\r\n",
        "for x in thistuple:\r\n",
        "  print(x)"
      ],
      "execution_count": 58,
      "outputs": [
        {
          "output_type": "stream",
          "text": [
            "apple\n",
            "banana\n",
            "cherry\n"
          ],
          "name": "stdout"
        }
      ]
    },
    {
      "cell_type": "markdown",
      "metadata": {
        "id": "KeJ1e1yTjtXn"
      },
      "source": [
        "__Use the `range()` and `len()` functions to create a suitable iterable__"
      ]
    },
    {
      "cell_type": "code",
      "metadata": {
        "colab": {
          "base_uri": "https://localhost:8080/"
        },
        "id": "_a6Ic199j66g",
        "outputId": "b996090a-965f-405b-e087-b58c1615dafd"
      },
      "source": [
        "thistuple = (\"apple\", \"banana\", \"cherry\")\r\n",
        "for i in range(len(thistuple)):\r\n",
        "  print(thistuple[i])"
      ],
      "execution_count": 59,
      "outputs": [
        {
          "output_type": "stream",
          "text": [
            "apple\n",
            "banana\n",
            "cherry\n"
          ],
          "name": "stdout"
        }
      ]
    },
    {
      "cell_type": "code",
      "metadata": {
        "colab": {
          "base_uri": "https://localhost:8080/"
        },
        "id": "PqBN3Uz_kBHy",
        "outputId": "d5637c51-144c-49d6-a773-96c9be2ebb3c"
      },
      "source": [
        "thistuple = (\"apple\", \"banana\", \"cherry\")\r\n",
        "i = 0\r\n",
        "while i < len(thistuple):\r\n",
        "  print(thistuple[i])\r\n",
        "  i = i + 1"
      ],
      "execution_count": 60,
      "outputs": [
        {
          "output_type": "stream",
          "text": [
            "apple\n",
            "banana\n",
            "cherry\n"
          ],
          "name": "stdout"
        }
      ]
    },
    {
      "cell_type": "markdown",
      "metadata": {
        "id": "tYSmO8bqcBMq"
      },
      "source": [
        "#### __f. Join Tuple__"
      ]
    },
    {
      "cell_type": "code",
      "metadata": {
        "colab": {
          "base_uri": "https://localhost:8080/"
        },
        "id": "QmCQHCFncVw6",
        "outputId": "202ccc93-ae0a-475d-924f-8dcb93713669"
      },
      "source": [
        "tuple1 = (\"a\", \"b\" , \"c\")\r\n",
        "tuple2 = (1, 2, 3)\r\n",
        "\r\n",
        "tuple3 = tuple1 + tuple2\r\n",
        "print(tuple3)"
      ],
      "execution_count": 61,
      "outputs": [
        {
          "output_type": "stream",
          "text": [
            "('a', 'b', 'c', 1, 2, 3)\n"
          ],
          "name": "stdout"
        }
      ]
    },
    {
      "cell_type": "code",
      "metadata": {
        "id": "lpBZCneYkPLL"
      },
      "source": [
        "fruits = (\"apple\", \"banana\", \"cherry\")\r\n",
        "mytuple = fruits * 2\r\n",
        "\r\n",
        "print(mytuple)"
      ],
      "execution_count": null,
      "outputs": []
    },
    {
      "cell_type": "markdown",
      "metadata": {
        "id": "PtHkr6XKcIU5"
      },
      "source": [
        "#### __g. Tuple Method__"
      ]
    },
    {
      "cell_type": "markdown",
      "metadata": {
        "id": "TptdwI46kYH1"
      },
      "source": [
        "__`.count()`__"
      ]
    },
    {
      "cell_type": "code",
      "metadata": {
        "colab": {
          "base_uri": "https://localhost:8080/"
        },
        "id": "DlcXh2d4kWJQ",
        "outputId": "67df4beb-8d59-4bc7-c92b-f50494e3fd9c"
      },
      "source": [
        "thistuple = (1, 3, 7, 8, 7, 5, 4, 6, 8, 5)\r\n",
        "\r\n",
        "x = thistuple.count(5)\r\n",
        "\r\n",
        "print(x)"
      ],
      "execution_count": null,
      "outputs": [
        {
          "output_type": "stream",
          "text": [
            "2\n"
          ],
          "name": "stdout"
        }
      ]
    },
    {
      "cell_type": "markdown",
      "metadata": {
        "id": "LV6wQsOikhSm"
      },
      "source": [
        "__`.index()`__"
      ]
    },
    {
      "cell_type": "code",
      "metadata": {
        "colab": {
          "base_uri": "https://localhost:8080/"
        },
        "id": "6smc6yWdkbIc",
        "outputId": "72bda176-cdb4-4768-dd21-37ac0b5b883f"
      },
      "source": [
        "thistuple = (1, 3, 7, 8, 7, 5, 4, 6, 8, 5)\r\n",
        "\r\n",
        "x = thistuple.index(8)\r\n",
        "\r\n",
        "print(x)"
      ],
      "execution_count": null,
      "outputs": [
        {
          "output_type": "stream",
          "text": [
            "3\n"
          ],
          "name": "stdout"
        }
      ]
    },
    {
      "cell_type": "markdown",
      "metadata": {
        "id": "t5sDBI1bnOVI"
      },
      "source": [
        "## __8. Sets__\r\n",
        "\r\n",
        "- __Unordered__\r\n",
        "- __Unchangeable(Immutable)__\r\n",
        "- __No Duplicate values allows__"
      ]
    },
    {
      "cell_type": "markdown",
      "metadata": {
        "id": "n-dC4JDZrHt1"
      },
      "source": [
        "#### __a. Python Sets__"
      ]
    },
    {
      "cell_type": "code",
      "metadata": {
        "colab": {
          "base_uri": "https://localhost:8080/"
        },
        "id": "v-a8RoqatDQr",
        "outputId": "bdbea31e-c7c5-4e32-a835-898f250ab47e"
      },
      "source": [
        "thisset = {\"apple\", \"banana\", \"cherry\"}\r\n",
        "print(thisset)"
      ],
      "execution_count": 64,
      "outputs": [
        {
          "output_type": "stream",
          "text": [
            "{'apple', 'cherry', 'banana'}\n"
          ],
          "name": "stdout"
        }
      ]
    },
    {
      "cell_type": "code",
      "metadata": {
        "colab": {
          "base_uri": "https://localhost:8080/"
        },
        "id": "TGLnJd0wtGZr",
        "outputId": "de3e53a9-8cae-480b-beb6-b3cbc5f8c77a"
      },
      "source": [
        "# Duplicate values will be ignored\r\n",
        "\r\n",
        "thisset = {\"apple\", \"banana\", \"cherry\", \"apple\"}\r\n",
        "\r\n",
        "print(thisset)\r\n",
        "print(len(thisset))"
      ],
      "execution_count": 66,
      "outputs": [
        {
          "output_type": "stream",
          "text": [
            "{'apple', 'cherry', 'banana'}\n",
            "3\n"
          ],
          "name": "stdout"
        }
      ]
    },
    {
      "cell_type": "code",
      "metadata": {
        "colab": {
          "base_uri": "https://localhost:8080/"
        },
        "id": "iqxi9bUztd0l",
        "outputId": "9cfecf32-71d7-459a-bd90-cc62287bbcc7"
      },
      "source": [
        "# A set with strings, integers and boolean values\r\n",
        "set1 = {\"abc\", 34, True, 40, \"male\"}\r\n",
        "print(type(set1))"
      ],
      "execution_count": 67,
      "outputs": [
        {
          "output_type": "stream",
          "text": [
            "<class 'set'>\n"
          ],
          "name": "stdout"
        }
      ]
    },
    {
      "cell_type": "markdown",
      "metadata": {
        "id": "WMDx6BGptvG9"
      },
      "source": [
        "__`set() Constructor`__"
      ]
    },
    {
      "cell_type": "code",
      "metadata": {
        "colab": {
          "base_uri": "https://localhost:8080/"
        },
        "id": "b1Swi5netyL-",
        "outputId": "c05afc44-b854-4285-bbb7-82c237742589"
      },
      "source": [
        "thisset = set((\"apple\", \"banana\", \"cherry\")) # note the double round-brackets\r\n",
        "print(thisset)"
      ],
      "execution_count": 68,
      "outputs": [
        {
          "output_type": "stream",
          "text": [
            "{'apple', 'cherry', 'banana'}\n"
          ],
          "name": "stdout"
        }
      ]
    },
    {
      "cell_type": "markdown",
      "metadata": {
        "id": "OyhAHe2wrNzD"
      },
      "source": [
        "#### __b. Access Set Items__"
      ]
    },
    {
      "cell_type": "code",
      "metadata": {
        "colab": {
          "base_uri": "https://localhost:8080/"
        },
        "id": "jiGCA0YOt7J4",
        "outputId": "d2f81d16-4d38-4b96-e2ac-db624e69b2a3"
      },
      "source": [
        "thisset = {\"apple\", \"banana\", \"cherry\"}\r\n",
        "\r\n",
        "for x in thisset:\r\n",
        "  print(x)"
      ],
      "execution_count": 73,
      "outputs": [
        {
          "output_type": "stream",
          "text": [
            "apple\n",
            "cherry\n",
            "banana\n"
          ],
          "name": "stdout"
        }
      ]
    },
    {
      "cell_type": "code",
      "metadata": {
        "colab": {
          "base_uri": "https://localhost:8080/"
        },
        "id": "yxi_M6jwt6zj",
        "outputId": "7c0c88e5-2822-4a82-c389-e4e92d6be107"
      },
      "source": [
        "thisset = {\"apple\", \"banana\", \"cherry\"}\r\n",
        "\r\n",
        "print(\"banana\" in thisset)"
      ],
      "execution_count": 70,
      "outputs": [
        {
          "output_type": "stream",
          "text": [
            "True\n"
          ],
          "name": "stdout"
        }
      ]
    },
    {
      "cell_type": "markdown",
      "metadata": {
        "id": "dZK0FFJVugKX"
      },
      "source": [
        "$\\color{red}{\\textbf{NOTE:}}$ __Once a set is created, you cannot change its items, but you can add new items.__"
      ]
    },
    {
      "cell_type": "markdown",
      "metadata": {
        "id": "p4Drm5JbsE02"
      },
      "source": [
        "#### __c. Add Set Items__"
      ]
    },
    {
      "cell_type": "code",
      "metadata": {
        "colab": {
          "base_uri": "https://localhost:8080/"
        },
        "id": "iaeFkshut6a-",
        "outputId": "6b279dc9-58b1-43d6-def0-32ed2fbfa339"
      },
      "source": [
        "thisset = {\"apple\", \"banana\", \"cherry\"}\r\n",
        "thisset.add(\"orange\")\r\n",
        "print(thisset)"
      ],
      "execution_count": 74,
      "outputs": [
        {
          "output_type": "stream",
          "text": [
            "{'orange', 'apple', 'cherry', 'banana'}\n"
          ],
          "name": "stdout"
        }
      ]
    },
    {
      "cell_type": "code",
      "metadata": {
        "colab": {
          "base_uri": "https://localhost:8080/"
        },
        "id": "p0o3caqhu1qY",
        "outputId": "6b9610d6-fe7d-412b-8fbb-65efdfd80190"
      },
      "source": [
        "thisset = {\"apple\", \"banana\", \"cherry\"}\r\n",
        "tropical = {\"pineapple\", \"mango\", \"papaya\"}\r\n",
        "\r\n",
        "thisset.update(tropical)\r\n",
        "\r\n",
        "print(thisset)"
      ],
      "execution_count": 75,
      "outputs": [
        {
          "output_type": "stream",
          "text": [
            "{'pineapple', 'mango', 'papaya', 'apple', 'cherry', 'banana'}\n"
          ],
          "name": "stdout"
        }
      ]
    },
    {
      "cell_type": "code",
      "metadata": {
        "colab": {
          "base_uri": "https://localhost:8080/"
        },
        "id": "J3rg4efhvBaD",
        "outputId": "1004779f-e706-4ab4-f9d0-b8647a8cece0"
      },
      "source": [
        "# Add elements of a list to at set\r\n",
        "\r\n",
        "thisset = {\"apple\", \"banana\", \"cherry\"}\r\n",
        "mylist = [\"kiwi\", \"orange\"]\r\n",
        "\r\n",
        "thisset.update(mylist)\r\n",
        "\r\n",
        "print(thisset)"
      ],
      "execution_count": 76,
      "outputs": [
        {
          "output_type": "stream",
          "text": [
            "{'apple', 'orange', 'kiwi', 'cherry', 'banana'}\n"
          ],
          "name": "stdout"
        }
      ]
    },
    {
      "cell_type": "markdown",
      "metadata": {
        "id": "aeRVre1uwjBw"
      },
      "source": [
        "#### __d. Remove set Items__"
      ]
    },
    {
      "cell_type": "markdown",
      "metadata": {
        "id": "NWJA65TfxVzv"
      },
      "source": [
        "__`.remove()`__"
      ]
    },
    {
      "cell_type": "code",
      "metadata": {
        "colab": {
          "base_uri": "https://localhost:8080/"
        },
        "id": "hOvfC2uowiRD",
        "outputId": "b5e90dd2-22dc-427d-dd66-f85a522ba51f"
      },
      "source": [
        "thisset = {\"apple\", \"banana\", \"cherry\"}\r\n",
        "thisset.remove(\"banana\")\r\n",
        "print(thisset)"
      ],
      "execution_count": 77,
      "outputs": [
        {
          "output_type": "stream",
          "text": [
            "{'apple', 'cherry'}\n"
          ],
          "name": "stdout"
        }
      ]
    },
    {
      "cell_type": "markdown",
      "metadata": {
        "id": "eTqY47t9x2m8"
      },
      "source": [
        "$\\color{red}{\\textbf{NOTE:}}$ If the item to remove does not exist, remove() will raise an error."
      ]
    },
    {
      "cell_type": "markdown",
      "metadata": {
        "id": "iG9oCDaAxgjE"
      },
      "source": [
        "__`.discard()`__"
      ]
    },
    {
      "cell_type": "code",
      "metadata": {
        "colab": {
          "base_uri": "https://localhost:8080/"
        },
        "id": "Fowx-ZdVxOGL",
        "outputId": "7458b66c-eead-4c81-d049-59a481af14bb"
      },
      "source": [
        "thisset = {\"apple\", \"banana\", \"cherry\"}\r\n",
        "thisset.discard(\"banana\")\r\n",
        "print(thisset)"
      ],
      "execution_count": 78,
      "outputs": [
        {
          "output_type": "stream",
          "text": [
            "{'apple', 'cherry'}\n"
          ],
          "name": "stdout"
        }
      ]
    },
    {
      "cell_type": "markdown",
      "metadata": {
        "id": "mjE-IQYyygpm"
      },
      "source": [
        "__`.pop() `__"
      ]
    },
    {
      "cell_type": "code",
      "metadata": {
        "colab": {
          "base_uri": "https://localhost:8080/"
        },
        "id": "0Gr8cOMQydgc",
        "outputId": "d7884a81-2baa-4cd1-9ecc-9dea377c1bbc"
      },
      "source": [
        "thisset = {\"apple\", \"banana\", \"cherry\"}\r\n",
        "x = thisset.pop()\r\n",
        "print(x)\r\n",
        "print(thisset)"
      ],
      "execution_count": 79,
      "outputs": [
        {
          "output_type": "stream",
          "text": [
            "apple\n",
            "{'cherry', 'banana'}\n"
          ],
          "name": "stdout"
        }
      ]
    },
    {
      "cell_type": "markdown",
      "metadata": {
        "id": "ml27NnzSysLe"
      },
      "source": [
        "__`.clear()`__"
      ]
    },
    {
      "cell_type": "code",
      "metadata": {
        "colab": {
          "base_uri": "https://localhost:8080/"
        },
        "id": "m_SqynpVy8vO",
        "outputId": "677cd08c-4543-434b-ed22-bc480e0e4fc9"
      },
      "source": [
        "thisset = {\"apple\", \"banana\", \"cherry\"}\r\n",
        "thisset.clear()\r\n",
        "print(thisset)"
      ],
      "execution_count": 80,
      "outputs": [
        {
          "output_type": "stream",
          "text": [
            "set()\n"
          ],
          "name": "stdout"
        }
      ]
    },
    {
      "cell_type": "markdown",
      "metadata": {
        "id": "7bD5OrzZzRRk"
      },
      "source": [
        "__`del()`__"
      ]
    },
    {
      "cell_type": "code",
      "metadata": {
        "id": "fjIbSU0RzMJ1"
      },
      "source": [
        "thisset = {\"apple\", \"banana\", \"cherry\"}\r\n",
        "del thisset\r\n",
        "print(thisset)"
      ],
      "execution_count": null,
      "outputs": []
    },
    {
      "cell_type": "markdown",
      "metadata": {
        "id": "yOIYnJD3sL3O"
      },
      "source": [
        "#### __e. Loop Sets__"
      ]
    },
    {
      "cell_type": "code",
      "metadata": {
        "id": "t9LNxcmgyT3z"
      },
      "source": [
        "thisset = {\"apple\", \"banana\", \"cherry\"}\r\n",
        "\r\n",
        "for x in thisset:\r\n",
        "  print(x)"
      ],
      "execution_count": null,
      "outputs": []
    },
    {
      "cell_type": "markdown",
      "metadata": {
        "id": "FCZrUj5CseN5"
      },
      "source": [
        "#### __f. Join Sets__"
      ]
    },
    {
      "cell_type": "markdown",
      "metadata": {
        "id": "Dq-DuVwNzvdF"
      },
      "source": [
        "__`union()`__"
      ]
    },
    {
      "cell_type": "code",
      "metadata": {
        "colab": {
          "base_uri": "https://localhost:8080/"
        },
        "id": "AsojOAv00Awp",
        "outputId": "82aef58c-af03-4274-8b42-02c39fe285af"
      },
      "source": [
        "set1 = {\"a\", \"b\" , \"c\"}\r\n",
        "set2 = {1, 2, 3}\r\n",
        "\r\n",
        "set3 = set1.union(set2)\r\n",
        "print(set3)"
      ],
      "execution_count": 81,
      "outputs": [
        {
          "output_type": "stream",
          "text": [
            "{'a', 1, 'c', 2, 3, 'b'}\n"
          ],
          "name": "stdout"
        }
      ]
    },
    {
      "cell_type": "markdown",
      "metadata": {
        "id": "PC8FV5_Hz1kf"
      },
      "source": [
        "__`update()`__"
      ]
    },
    {
      "cell_type": "code",
      "metadata": {
        "colab": {
          "base_uri": "https://localhost:8080/"
        },
        "id": "a-FzcKolztwF",
        "outputId": "4f4ff3d8-2b33-409c-82db-d216fdb9bb6e"
      },
      "source": [
        "set1 = {\"a\", \"b\" , \"c\"}\r\n",
        "set2 = {1, 2, 3}\r\n",
        "\r\n",
        "set1.update(set2)\r\n",
        "print(set1)"
      ],
      "execution_count": 82,
      "outputs": [
        {
          "output_type": "stream",
          "text": [
            "{'a', 1, 'c', 2, 3, 'b'}\n"
          ],
          "name": "stdout"
        }
      ]
    },
    {
      "cell_type": "markdown",
      "metadata": {
        "id": "MFAB8XKq0Jfe"
      },
      "source": [
        "__Both `union()` and `update()` will exclude any duplicate items__"
      ]
    },
    {
      "cell_type": "code",
      "metadata": {
        "colab": {
          "base_uri": "https://localhost:8080/"
        },
        "id": "FxN-whtn0XD9",
        "outputId": "ac6a07b0-848b-4786-b2b2-d1b9ea6a4c20"
      },
      "source": [
        "x = {\"apple\", \"banana\", \"cherry\"}\r\n",
        "y = {\"google\", \"microsoft\", \"apple\"}\r\n",
        "\r\n",
        "x.intersection_update(y)\r\n",
        "z = x.intersection(y)\r\n",
        "\r\n",
        "print(x)\r\n",
        "print(z)"
      ],
      "execution_count": 84,
      "outputs": [
        {
          "output_type": "stream",
          "text": [
            "{'apple'}\n",
            "{'apple'}\n"
          ],
          "name": "stdout"
        }
      ]
    },
    {
      "cell_type": "code",
      "metadata": {
        "colab": {
          "base_uri": "https://localhost:8080/"
        },
        "id": "dDgmOR1G0ro8",
        "outputId": "2d243c33-7501-43ef-fb3e-d030402aaf79"
      },
      "source": [
        "x = {\"apple\", \"banana\", \"cherry\"}\r\n",
        "y = {\"google\", \"microsoft\", \"apple\"}\r\n",
        "\r\n",
        "x.symmetric_difference_update(y)\r\n",
        "\r\n",
        "print(x)"
      ],
      "execution_count": 85,
      "outputs": [
        {
          "output_type": "stream",
          "text": [
            "{'microsoft', 'google', 'cherry', 'banana'}\n"
          ],
          "name": "stdout"
        }
      ]
    },
    {
      "cell_type": "markdown",
      "metadata": {
        "id": "Nu5rrZtDs1Iu"
      },
      "source": [
        "#### __g. Sets Methods__"
      ]
    },
    {
      "cell_type": "markdown",
      "metadata": {
        "id": "0fMZKJod1Dd0"
      },
      "source": [
        "<table class=\"w3-table-all notranslate\" style=\"height: 609px\" width=\"632\">\r\n",
        "  <tbody>\r\n",
        "    <tr>\r\n",
        "      <td style=\"width: 223px\">\r\n",
        "        <h4>\r\n",
        "          <a href=\"https://www.w3schools.com/python/ref_set_add.asp\">add()</a>\r\n",
        "        </h4>\r\n",
        "      </td>\r\n",
        "      <td style=\"width: 393px\"><strong>Adds an element to the set</strong></td>\r\n",
        "    </tr>\r\n",
        "    <tr>\r\n",
        "      <td style=\"width: 223px\">\r\n",
        "        <h4>\r\n",
        "          <a href=\"https://www.w3schools.com/python/ref_set_clear.asp\"\r\n",
        "            >clear()</a\r\n",
        "          >\r\n",
        "        </h4>\r\n",
        "      </td>\r\n",
        "      <td style=\"width: 393px\">\r\n",
        "        <strong>Removes all the elements from the set</strong>\r\n",
        "      </td>\r\n",
        "    </tr>\r\n",
        "    <tr>\r\n",
        "      <td style=\"width: 223px\">\r\n",
        "        <h4>\r\n",
        "          <a href=\"https://www.w3schools.com/python/ref_set_copy.asp\">copy()</a>\r\n",
        "        </h4>\r\n",
        "      </td>\r\n",
        "      <td style=\"width: 393px\"><strong>Returns a copy of the set</strong></td>\r\n",
        "    </tr>\r\n",
        "    <tr>\r\n",
        "      <td style=\"width: 223px\">\r\n",
        "        <h4>\r\n",
        "          <a href=\"https://www.w3schools.com/python/ref_set_difference.asp\"\r\n",
        "            >difference()</a\r\n",
        "          >\r\n",
        "        </h4>\r\n",
        "      </td>\r\n",
        "      <td style=\"width: 393px\">\r\n",
        "        <strong\r\n",
        "          >Returns a set containing the difference between two or more\r\n",
        "          sets</strong\r\n",
        "        >\r\n",
        "      </td>\r\n",
        "    </tr>\r\n",
        "    <tr>\r\n",
        "      <td style=\"width: 223px\">\r\n",
        "        <h4>\r\n",
        "          <a\r\n",
        "            href=\"https://www.w3schools.com/python/ref_set_difference_update.asp\"\r\n",
        "            >difference_update()</a\r\n",
        "          >\r\n",
        "        </h4>\r\n",
        "      </td>\r\n",
        "      <td style=\"width: 393px\">\r\n",
        "        <strong\r\n",
        "          >Removes the items in this set that are also included in another,\r\n",
        "          specified set</strong\r\n",
        "        >\r\n",
        "      </td>\r\n",
        "    </tr>\r\n",
        "    <tr>\r\n",
        "      <td style=\"width: 223px\">\r\n",
        "        <h4>\r\n",
        "          <a href=\"https://www.w3schools.com/python/ref_set_discard.asp\"\r\n",
        "            >discard()</a\r\n",
        "          >\r\n",
        "        </h4>\r\n",
        "      </td>\r\n",
        "      <td style=\"width: 393px\"><strong>Remove the specified item</strong></td>\r\n",
        "    </tr>\r\n",
        "    <tr>\r\n",
        "      <td style=\"width: 223px\">\r\n",
        "        <h4>\r\n",
        "          <a href=\"https://www.w3schools.com/python/ref_set_intersection.asp\"\r\n",
        "            >intersection()</a\r\n",
        "          >\r\n",
        "        </h4>\r\n",
        "      </td>\r\n",
        "      <td style=\"width: 393px\">\r\n",
        "        <strong\r\n",
        "          >Returns a set, that is the intersection of two other sets</strong\r\n",
        "        >\r\n",
        "      </td>\r\n",
        "    </tr>\r\n",
        "    <tr>\r\n",
        "      <td style=\"width: 223px\">\r\n",
        "        <h4>\r\n",
        "          <a\r\n",
        "            href=\"https://www.w3schools.com/python/ref_set_intersection_update.asp\"\r\n",
        "            >intersection_update()</a\r\n",
        "          >\r\n",
        "        </h4>\r\n",
        "      </td>\r\n",
        "      <td style=\"width: 393px\">\r\n",
        "        <strong\r\n",
        "          >Removes the items in this set that are not present in other,\r\n",
        "          specified set(s)</strong\r\n",
        "        >\r\n",
        "      </td>\r\n",
        "    </tr>\r\n",
        "    <tr>\r\n",
        "      <td style=\"width: 223px\">\r\n",
        "        <h4>\r\n",
        "          <a href=\"https://www.w3schools.com/python/ref_set_isdisjoint.asp\"\r\n",
        "            >isdisjoint()</a\r\n",
        "          >\r\n",
        "        </h4>\r\n",
        "      </td>\r\n",
        "      <td style=\"width: 393px\">\r\n",
        "        <strong>Returns whether two sets have a intersection or not</strong>\r\n",
        "      </td>\r\n",
        "    </tr>\r\n",
        "    <tr>\r\n",
        "      <td style=\"width: 223px\">\r\n",
        "        <h4>\r\n",
        "          <a href=\"https://www.w3schools.com/python/ref_set_issubset.asp\"\r\n",
        "            >issubset()</a\r\n",
        "          >\r\n",
        "        </h4>\r\n",
        "      </td>\r\n",
        "      <td style=\"width: 393px\">\r\n",
        "        <strong>Returns whether another set contains this set or not</strong>\r\n",
        "      </td>\r\n",
        "    </tr>\r\n",
        "    <tr>\r\n",
        "      <td style=\"width: 223px\">\r\n",
        "        <h4>\r\n",
        "          <a href=\"https://www.w3schools.com/python/ref_set_issuperset.asp\"\r\n",
        "            >issuperset()</a\r\n",
        "          >\r\n",
        "        </h4>\r\n",
        "      </td>\r\n",
        "      <td style=\"width: 393px\">\r\n",
        "        <strong>Returns whether this set contains another set or not</strong>\r\n",
        "      </td>\r\n",
        "    </tr>\r\n",
        "    <tr>\r\n",
        "      <td style=\"width: 223px\">\r\n",
        "        <h4>\r\n",
        "          <a href=\"https://www.w3schools.com/python/ref_set_pop.asp\">pop()</a>\r\n",
        "        </h4>\r\n",
        "      </td>\r\n",
        "      <td style=\"width: 393px\">\r\n",
        "        <strong>Removes an element from the set</strong>\r\n",
        "      </td>\r\n",
        "    </tr>\r\n",
        "    <tr>\r\n",
        "      <td style=\"width: 223px\">\r\n",
        "        <h4>\r\n",
        "          <a href=\"https://www.w3schools.com/python/ref_set_remove.asp\"\r\n",
        "            >remove()</a\r\n",
        "          >\r\n",
        "        </h4>\r\n",
        "      </td>\r\n",
        "      <td style=\"width: 393px\">\r\n",
        "        <strong>Removes the specified element</strong>\r\n",
        "      </td>\r\n",
        "    </tr>\r\n",
        "    <tr>\r\n",
        "      <td style=\"width: 223px\">\r\n",
        "        <h4>\r\n",
        "          <a\r\n",
        "            href=\"https://www.w3schools.com/python/ref_set_symmetric_difference.asp\"\r\n",
        "            >symmetric_difference()</a\r\n",
        "          >\r\n",
        "        </h4>\r\n",
        "      </td>\r\n",
        "      <td style=\"width: 393px\">\r\n",
        "        <strong\r\n",
        "          >Returns a set with the symmetric differences of two sets</strong\r\n",
        "        >\r\n",
        "      </td>\r\n",
        "    </tr>\r\n",
        "    <tr>\r\n",
        "      <td style=\"width: 223px\">\r\n",
        "        <h4>\r\n",
        "          <a\r\n",
        "            href=\"https://www.w3schools.com/python/ref_set_symmetric_difference_update.asp\"\r\n",
        "            >symmetric_difference_update()</a\r\n",
        "          >\r\n",
        "        </h4>\r\n",
        "      </td>\r\n",
        "      <td style=\"width: 393px\">\r\n",
        "        <strong\r\n",
        "          >inserts the symmetric differences from this set and another</strong\r\n",
        "        >\r\n",
        "      </td>\r\n",
        "    </tr>\r\n",
        "    <tr>\r\n",
        "      <td style=\"width: 223px\">\r\n",
        "        <h4>\r\n",
        "          <a href=\"https://www.w3schools.com/python/ref_set_union.asp\"\r\n",
        "            >union()</a\r\n",
        "          >\r\n",
        "        </h4>\r\n",
        "      </td>\r\n",
        "      <td style=\"width: 393px\">\r\n",
        "        <strong>Return a set containing the union of sets</strong>\r\n",
        "      </td>\r\n",
        "    </tr>\r\n",
        "    <tr>\r\n",
        "      <td style=\"width: 223px\">\r\n",
        "        <h4>\r\n",
        "          <a href=\"https://www.w3schools.com/python/ref_set_update.asp\"\r\n",
        "            >update()</a\r\n",
        "          >\r\n",
        "        </h4>\r\n",
        "      </td>\r\n",
        "      <td style=\"width: 393px\">\r\n",
        "        <strong>Update the set with the union of this set and others</strong>\r\n",
        "      </td>\r\n",
        "    </tr>\r\n",
        "  </tbody>\r\n",
        "</table>\r\n"
      ]
    },
    {
      "cell_type": "markdown",
      "metadata": {
        "id": "eZwLtBTRnS5P"
      },
      "source": [
        "## __9. Dictionaries__\r\n",
        "\r\n",
        "- __Unordered__\r\n",
        "- __Changeable(Mutable)__\r\n",
        "- __No Duplicate values allows__"
      ]
    },
    {
      "cell_type": "markdown",
      "metadata": {
        "id": "piglWkt_38UB"
      },
      "source": [
        "#### __a. Python Dictionaries__"
      ]
    },
    {
      "cell_type": "code",
      "metadata": {
        "colab": {
          "base_uri": "https://localhost:8080/"
        },
        "id": "29y6fqH34fFB",
        "outputId": "ece0710b-7c8c-4997-b95a-e8be6e6deafc"
      },
      "source": [
        "thisdict = {\r\n",
        "  \"brand\": \"Ford\",\r\n",
        "  \"model\": \"Mustang\",\r\n",
        "  \"year\": 1964\r\n",
        "}\r\n",
        "print(thisdict)\r\n",
        "print(thisdict[\"brand\"])\r\n",
        "print(len(thisdict))"
      ],
      "execution_count": 87,
      "outputs": [
        {
          "output_type": "stream",
          "text": [
            "{'brand': 'Ford', 'model': 'Mustang', 'year': 1964}\n",
            "Ford\n",
            "3\n"
          ],
          "name": "stdout"
        }
      ]
    },
    {
      "cell_type": "code",
      "metadata": {
        "colab": {
          "base_uri": "https://localhost:8080/"
        },
        "id": "JivEvbQY44Au",
        "outputId": "e64a5436-c798-4b5c-a9a4-4d5a7bc53b0a"
      },
      "source": [
        "# Duplicate values will overwrite existing values\r\n",
        "\r\n",
        "thisdict = {\r\n",
        "  \"brand\": \"Ford\",\r\n",
        "  \"model\": \"Mustang\",\r\n",
        "  \"year\": 1964,\r\n",
        "  \"year\": 2020\r\n",
        "}\r\n",
        "print(thisdict)"
      ],
      "execution_count": 89,
      "outputs": [
        {
          "output_type": "stream",
          "text": [
            "{'brand': 'Ford', 'model': 'Mustang', 'year': 2020}\n"
          ],
          "name": "stdout"
        }
      ]
    },
    {
      "cell_type": "code",
      "metadata": {
        "colab": {
          "base_uri": "https://localhost:8080/"
        },
        "id": "PglmmLKT5OGK",
        "outputId": "dbd1780d-7a02-48d4-a2c5-1be91d0d6de2"
      },
      "source": [
        "# String, int, boolean, and list data types\r\n",
        "\r\n",
        "thisdict = {\r\n",
        "  \"brand\": \"Ford\",\r\n",
        "  \"electric\": False,\r\n",
        "  \"year\": 1964,\r\n",
        "  \"colors\": [\"red\", \"white\", \"blue\"]\r\n",
        "}\r\n",
        "\r\n",
        "print(type(thisdict))"
      ],
      "execution_count": 88,
      "outputs": [
        {
          "output_type": "stream",
          "text": [
            "<class 'dict'>\n"
          ],
          "name": "stdout"
        }
      ]
    },
    {
      "cell_type": "markdown",
      "metadata": {
        "id": "vcROFpqW4C9P"
      },
      "source": [
        "#### __b. Access Items__"
      ]
    },
    {
      "cell_type": "code",
      "metadata": {
        "colab": {
          "base_uri": "https://localhost:8080/"
        },
        "id": "N_pVBS8H5m6Q",
        "outputId": "b5b88fa9-1bcc-488c-a270-85e32b6c5741"
      },
      "source": [
        "thisdict = {\r\n",
        "  \"brand\": \"Ford\",\r\n",
        "  \"model\": \"Mustang\",\r\n",
        "  \"year\": 1964\r\n",
        "}\r\n",
        "\r\n",
        "x_1 = thisdict[\"model\"]\r\n",
        "x_2 = thisdict.get(\"model\")\r\n",
        "x_3 = thisdict.keys()\r\n",
        "x_4 = thisdict.values()\r\n",
        "\r\n",
        "print(x_1)\r\n",
        "print(x_2)\r\n",
        "print(x_3)\r\n",
        "print(x_4)"
      ],
      "execution_count": 97,
      "outputs": [
        {
          "output_type": "stream",
          "text": [
            "Mustang\n",
            "Mustang\n",
            "dict_keys(['brand', 'model', 'year'])\n",
            "dict_values(['Ford', 'Mustang', 1964])\n"
          ],
          "name": "stdout"
        }
      ]
    },
    {
      "cell_type": "code",
      "metadata": {
        "colab": {
          "base_uri": "https://localhost:8080/"
        },
        "id": "bWppCPEc652X",
        "outputId": "9f361ea9-f345-47ec-e08d-506cb25a574c"
      },
      "source": [
        "# Add a new item to the original dictionary\r\n",
        "car = {\r\n",
        "\"brand\": \"Ford\",\r\n",
        "\"model\": \"Mustang\",\r\n",
        "\"year\": 1964\r\n",
        "}\r\n",
        "\r\n",
        "x = car.keys()\r\n",
        "\r\n",
        "print(x) #before the change\r\n",
        "\r\n",
        "car[\"color\"] = \"white\"\r\n",
        "\r\n",
        "print(x) #after the change"
      ],
      "execution_count": 98,
      "outputs": [
        {
          "output_type": "stream",
          "text": [
            "dict_keys(['brand', 'model', 'year'])\n",
            "dict_keys(['brand', 'model', 'year', 'color'])\n"
          ],
          "name": "stdout"
        }
      ]
    },
    {
      "cell_type": "code",
      "metadata": {
        "colab": {
          "base_uri": "https://localhost:8080/"
        },
        "id": "yAibji4X8CDm",
        "outputId": "780d7807-5467-41eb-d480-e10f41b5e92e"
      },
      "source": [
        "car = {\r\n",
        "\"brand\": \"Ford\",\r\n",
        "\"model\": \"Mustang\",\r\n",
        "\"year\": 1964\r\n",
        "}\r\n",
        "\r\n",
        "x = car.values()\r\n",
        "\r\n",
        "print(x) #before the change\r\n",
        "\r\n",
        "car[\"year\"] = 2020\r\n",
        "\r\n",
        "print(x) #after the change"
      ],
      "execution_count": 100,
      "outputs": [
        {
          "output_type": "stream",
          "text": [
            "dict_values(['Ford', 'Mustang', 1964])\n",
            "dict_values(['Ford', 'Mustang', 2020])\n"
          ],
          "name": "stdout"
        }
      ]
    },
    {
      "cell_type": "code",
      "metadata": {
        "colab": {
          "base_uri": "https://localhost:8080/"
        },
        "id": "6Cw2k1Xf8b8s",
        "outputId": "8e647e32-a6b6-4fb2-d806-39dc0244baf6"
      },
      "source": [
        "# The items() method will return each item in a dictionary, as tuples in a list\r\n",
        "\r\n",
        "car = {\r\n",
        "\"brand\": \"Ford\",\r\n",
        "\"model\": \"Mustang\",\r\n",
        "\"year\": 1964\r\n",
        "}\r\n",
        "\r\n",
        "x = car.items()\r\n",
        "\r\n",
        "print(x) #before the change\r\n",
        "\r\n",
        "car[\"year\"] = 2020\r\n",
        "\r\n",
        "print(x) #after the change"
      ],
      "execution_count": 101,
      "outputs": [
        {
          "output_type": "stream",
          "text": [
            "dict_items([('brand', 'Ford'), ('model', 'Mustang'), ('year', 1964)])\n",
            "dict_items([('brand', 'Ford'), ('model', 'Mustang'), ('year', 2020)])\n"
          ],
          "name": "stdout"
        }
      ]
    },
    {
      "cell_type": "code",
      "metadata": {
        "colab": {
          "base_uri": "https://localhost:8080/"
        },
        "id": "KF0joAAO9Eta",
        "outputId": "50933e30-1993-4369-caf6-5351d51e3565"
      },
      "source": [
        "# Check if Key Exists\r\n",
        "thisdict = {\r\n",
        "  \"brand\": \"Ford\",\r\n",
        "  \"model\": \"Mustang\",\r\n",
        "  \"year\": 1964\r\n",
        "}\r\n",
        "if \"model\" in thisdict:\r\n",
        "  print(\"Yes, 'model' is one of the keys in the thisdict dictionary\")"
      ],
      "execution_count": 102,
      "outputs": [
        {
          "output_type": "stream",
          "text": [
            "Yes, 'model' is one of the keys in the thisdict dictionary\n"
          ],
          "name": "stdout"
        }
      ]
    },
    {
      "cell_type": "markdown",
      "metadata": {
        "id": "dAri9EDd4KNl"
      },
      "source": [
        "#### __c. Change Items__"
      ]
    },
    {
      "cell_type": "code",
      "metadata": {
        "id": "yUTjaTlN-EHT"
      },
      "source": [
        "thisdict = {\r\n",
        "  \"brand\": \"Ford\",\r\n",
        "  \"model\": \"Mustang\",\r\n",
        "  \"year\": 1964\r\n",
        "}\r\n",
        "thisdict[\"year\"] = 2018"
      ],
      "execution_count": 105,
      "outputs": []
    },
    {
      "cell_type": "code",
      "metadata": {
        "id": "5hoEjP2j_CUA"
      },
      "source": [
        "# Update Dictionary\r\n",
        "\r\n",
        "thisdict = {\r\n",
        "  \"brand\": \"Ford\",\r\n",
        "  \"model\": \"Mustang\",\r\n",
        "  \"year\": 1964\r\n",
        "}\r\n",
        "thisdict.update({\"year\": 2020})"
      ],
      "execution_count": 106,
      "outputs": []
    },
    {
      "cell_type": "markdown",
      "metadata": {
        "id": "CHtG2pnd4Knm"
      },
      "source": [
        "#### __d. Adding Items__"
      ]
    },
    {
      "cell_type": "code",
      "metadata": {
        "colab": {
          "base_uri": "https://localhost:8080/"
        },
        "id": "hg2ViZIi_B2j",
        "outputId": "a929d19a-524a-4c7a-eb7c-1b1c25ea160c"
      },
      "source": [
        "thisdict = {\r\n",
        "  \"brand\": \"Ford\",\r\n",
        "  \"model\": \"Mustang\",\r\n",
        "  \"year\": 1964\r\n",
        "}\r\n",
        "thisdict[\"color\"] = \"red\"\r\n",
        "print(thisdict)"
      ],
      "execution_count": 107,
      "outputs": [
        {
          "output_type": "stream",
          "text": [
            "{'brand': 'Ford', 'model': 'Mustang', 'year': 1964, 'color': 'red'}\n"
          ],
          "name": "stdout"
        }
      ]
    },
    {
      "cell_type": "code",
      "metadata": {
        "colab": {
          "base_uri": "https://localhost:8080/"
        },
        "id": "sLkuhK4X_BYe",
        "outputId": "204fe70e-0a91-42c7-de3e-f91e1151976e"
      },
      "source": [
        "thisdict = {\r\n",
        "  \"brand\": \"Ford\",\r\n",
        "  \"model\": \"Mustang\",\r\n",
        "  \"year\": 1964\r\n",
        "}\r\n",
        "thisdict.update({\"color\": \"red\"})\r\n",
        "print(thisdict)"
      ],
      "execution_count": 110,
      "outputs": [
        {
          "output_type": "stream",
          "text": [
            "{'brand': 'Ford', 'model': 'Mustang', 'year': 1964, 'color': 'red'}\n"
          ],
          "name": "stdout"
        }
      ]
    },
    {
      "cell_type": "markdown",
      "metadata": {
        "id": "znJ1F6an4LT4"
      },
      "source": [
        "#### __e. Remove Items__"
      ]
    },
    {
      "cell_type": "code",
      "metadata": {
        "colab": {
          "base_uri": "https://localhost:8080/"
        },
        "id": "IXEPMfR3_A-4",
        "outputId": "a99c4300-a3c0-42bd-9beb-410542964fda"
      },
      "source": [
        "# pop()\r\n",
        "\r\n",
        "thisdict = {\r\n",
        "  \"brand\": \"Ford\",\r\n",
        "  \"model\": \"Mustang\",\r\n",
        "  \"year\": 1964\r\n",
        "}\r\n",
        "thisdict.pop(\"model\")\r\n",
        "print(thisdict)"
      ],
      "execution_count": 112,
      "outputs": [
        {
          "output_type": "stream",
          "text": [
            "{'brand': 'Ford', 'year': 1964}\n"
          ],
          "name": "stdout"
        }
      ]
    },
    {
      "cell_type": "code",
      "metadata": {
        "colab": {
          "base_uri": "https://localhost:8080/"
        },
        "id": "tKPQ0ziC_AIb",
        "outputId": "80c35603-8dd5-439f-a8bc-6ab7a43f8145"
      },
      "source": [
        "# popitem()\r\n",
        "# removes the last inserted item\r\n",
        "# In versions before 3.7, a random item is removed instead\r\n",
        "\r\n",
        "thisdict = {\r\n",
        "  \"brand\": \"Ford\",\r\n",
        "  \"model\": \"Mustang\",\r\n",
        "  \"year\": 1964\r\n",
        "}\r\n",
        "thisdict.popitem()\r\n",
        "print(thisdict)"
      ],
      "execution_count": 113,
      "outputs": [
        {
          "output_type": "stream",
          "text": [
            "{'brand': 'Ford', 'model': 'Mustang'}\n"
          ],
          "name": "stdout"
        }
      ]
    },
    {
      "cell_type": "code",
      "metadata": {
        "colab": {
          "base_uri": "https://localhost:8080/"
        },
        "id": "tBj4twcrB5ml",
        "outputId": "e2bebc18-a88f-4744-d438-9510ac6164f4"
      },
      "source": [
        "# del\r\n",
        "\r\n",
        "thisdict = {\r\n",
        "  \"brand\": \"Ford\",\r\n",
        "  \"model\": \"Mustang\",\r\n",
        "  \"year\": 1964\r\n",
        "}\r\n",
        "del thisdict[\"model\"]\r\n",
        "print(thisdict)"
      ],
      "execution_count": 115,
      "outputs": [
        {
          "output_type": "stream",
          "text": [
            "{'brand': 'Ford', 'year': 1964}\n"
          ],
          "name": "stdout"
        }
      ]
    },
    {
      "cell_type": "code",
      "metadata": {
        "colab": {
          "base_uri": "https://localhost:8080/"
        },
        "id": "YGUly1uyCjPF",
        "outputId": "10323641-7721-4eaf-81f3-e09e0b0342fb"
      },
      "source": [
        "# clear()\r\n",
        "# The clear() method empties the dictionary\r\n",
        "\r\n",
        "thisdict = {\r\n",
        "  \"brand\": \"Ford\",\r\n",
        "  \"model\": \"Mustang\",\r\n",
        "  \"year\": 1964\r\n",
        "}\r\n",
        "thisdict.clear()\r\n",
        "print(thisdict)"
      ],
      "execution_count": 114,
      "outputs": [
        {
          "output_type": "stream",
          "text": [
            "{}\n"
          ],
          "name": "stdout"
        }
      ]
    },
    {
      "cell_type": "markdown",
      "metadata": {
        "id": "vVqi-xif4PBN"
      },
      "source": [
        "#### __f. Loop Dictionaries__"
      ]
    },
    {
      "cell_type": "code",
      "metadata": {
        "colab": {
          "base_uri": "https://localhost:8080/"
        },
        "id": "tnHAdB-RD7g_",
        "outputId": "dcb80031-4136-4bdf-f86f-7deacc1721c7"
      },
      "source": [
        "thisdict = {\r\n",
        "  \"brand\": \"Ford\",\r\n",
        "  \"model\": \"Mustang\",\r\n",
        "  \"year\": 1964\r\n",
        "}\r\n",
        "\r\n",
        "# Print all `key` names in the dictionary, one by one\r\n",
        "for k in thisdict:\r\n",
        "  print(k)\r\n",
        "\r\n",
        "# Print all `values` in the dictionary, one by one\r\n",
        "for x in thisdict:\r\n",
        "    print(thisdict[x])"
      ],
      "execution_count": 120,
      "outputs": [
        {
          "output_type": "stream",
          "text": [
            "brand\n",
            "model\n",
            "year\n",
            "Ford\n",
            "Mustang\n",
            "1964\n"
          ],
          "name": "stdout"
        }
      ]
    },
    {
      "cell_type": "code",
      "metadata": {
        "colab": {
          "base_uri": "https://localhost:8080/"
        },
        "id": "mGzKdoUeFfyb",
        "outputId": "39088f17-e9ab-4052-d29e-b70d197362b1"
      },
      "source": [
        "thisdict = {\r\n",
        "  \"brand\": \"Ford\",\r\n",
        "  \"model\": \"Mustang\",\r\n",
        "  \"year\": 1964\r\n",
        "}\r\n",
        "\r\n",
        "for v in thisdict.values():\r\n",
        "  print(v)\r\n",
        "\r\n",
        "for k in thisdict.keys():\r\n",
        "  print(k)\r\n",
        "\r\n",
        "for x, y in thisdict.items():\r\n",
        "  print(x, y)"
      ],
      "execution_count": 119,
      "outputs": [
        {
          "output_type": "stream",
          "text": [
            "Ford\n",
            "Mustang\n",
            "1964\n",
            "brand\n",
            "model\n",
            "year\n",
            "brand Ford\n",
            "model Mustang\n",
            "year 1964\n"
          ],
          "name": "stdout"
        }
      ]
    },
    {
      "cell_type": "markdown",
      "metadata": {
        "id": "bfnFh-uQ4PaG"
      },
      "source": [
        "#### __g. Copy dict__"
      ]
    },
    {
      "cell_type": "code",
      "metadata": {
        "colab": {
          "base_uri": "https://localhost:8080/"
        },
        "id": "V7C9aXGbGmZa",
        "outputId": "0f4be427-2563-476b-f804-0fb2e540bb83"
      },
      "source": [
        "thisdict = {\r\n",
        "  \"brand\": \"Ford\",\r\n",
        "  \"model\": \"Mustang\",\r\n",
        "  \"year\": 1964\r\n",
        "}\r\n",
        "mydict = thisdict.copy()\r\n",
        "print(mydict)"
      ],
      "execution_count": 121,
      "outputs": [
        {
          "output_type": "stream",
          "text": [
            "{'brand': 'Ford', 'model': 'Mustang', 'year': 1964}\n"
          ],
          "name": "stdout"
        }
      ]
    },
    {
      "cell_type": "code",
      "metadata": {
        "colab": {
          "base_uri": "https://localhost:8080/"
        },
        "id": "-c3Ce1sTGsgo",
        "outputId": "6d52b5b2-edc8-4181-bacd-e772cdedd204"
      },
      "source": [
        "thisdict = {\r\n",
        "  \"brand\": \"Ford\",\r\n",
        "  \"model\": \"Mustang\",\r\n",
        "  \"year\": 1964\r\n",
        "}\r\n",
        "mydict = dict(thisdict)\r\n",
        "print(mydict)"
      ],
      "execution_count": 122,
      "outputs": [
        {
          "output_type": "stream",
          "text": [
            "{'brand': 'Ford', 'model': 'Mustang', 'year': 1964}\n"
          ],
          "name": "stdout"
        }
      ]
    },
    {
      "cell_type": "markdown",
      "metadata": {
        "id": "P6g6kaozG29I"
      },
      "source": [
        "#### __h. Nested Dictionaries__\r\n"
      ]
    },
    {
      "cell_type": "markdown",
      "metadata": {
        "id": "DXNU8DbrHRBZ"
      },
      "source": [
        "```python\r\n",
        "child1 = {\r\n",
        "  \"name\" : \"Emil\",\r\n",
        "  \"year\" : 2004\r\n",
        "}\r\n",
        "child2 = {\r\n",
        "  \"name\" : \"Tobias\",\r\n",
        "  \"year\" : 2007\r\n",
        "}\r\n",
        "child3 = {\r\n",
        "  \"name\" : \"Linus\",\r\n",
        "  \"year\" : 2011\r\n",
        "}\r\n",
        "\r\n",
        "myfamily = {\r\n",
        "  \"child1\" : child1,\r\n",
        "  \"child2\" : child2,\r\n",
        "  \"child3\" : child3\r\n",
        "}\r\n",
        "```"
      ]
    },
    {
      "cell_type": "markdown",
      "metadata": {
        "id": "cM3N6BLfH_R9"
      },
      "source": [
        "<table class=\"w3-table-all notranslate\" style=\"height: 596px\" width=\"640\">\r\n",
        "  <tbody>\r\n",
        "    <tr>\r\n",
        "      <th style=\"width: 95px\">Method</th>\r\n",
        "      <th style=\"width: 529px\">Description</th>\r\n",
        "    </tr>\r\n",
        "    <tr>\r\n",
        "      <td style=\"width: 95px\">\r\n",
        "        <h4>\r\n",
        "          <a href=\"https://www.w3schools.com/python/ref_dictionary_clear.asp\"\r\n",
        "            >clear()</a\r\n",
        "          >\r\n",
        "        </h4>\r\n",
        "      </td>\r\n",
        "      <td style=\"width: 529px\">\r\n",
        "        <strong>Removes all the elements from the dictionary</strong>\r\n",
        "      </td>\r\n",
        "    </tr>\r\n",
        "    <tr>\r\n",
        "      <td style=\"width: 95px\">\r\n",
        "        <h4>\r\n",
        "          <a href=\"https://www.w3schools.com/python/ref_dictionary_copy.asp\"\r\n",
        "            >copy()</a\r\n",
        "          >\r\n",
        "        </h4>\r\n",
        "      </td>\r\n",
        "      <td style=\"width: 529px\">\r\n",
        "        <strong>Returns a copy of the dictionary</strong>\r\n",
        "      </td>\r\n",
        "    </tr>\r\n",
        "    <tr>\r\n",
        "      <td style=\"width: 95px\">\r\n",
        "        <h4>\r\n",
        "          <a href=\"https://www.w3schools.com/python/ref_dictionary_fromkeys.asp\"\r\n",
        "            >fromkeys()</a\r\n",
        "          >\r\n",
        "        </h4>\r\n",
        "      </td>\r\n",
        "      <td style=\"width: 529px\">\r\n",
        "        <strong>Returns a dictionary with the specified keys and value</strong>\r\n",
        "      </td>\r\n",
        "    </tr>\r\n",
        "    <tr>\r\n",
        "      <td style=\"width: 95px\">\r\n",
        "        <h4>\r\n",
        "          <a href=\"https://www.w3schools.com/python/ref_dictionary_get.asp\"\r\n",
        "            >get()</a\r\n",
        "          >\r\n",
        "        </h4>\r\n",
        "      </td>\r\n",
        "      <td style=\"width: 529px\">\r\n",
        "        <strong>Returns the value of the specified key</strong>\r\n",
        "      </td>\r\n",
        "    </tr>\r\n",
        "    <tr>\r\n",
        "      <td style=\"width: 95px\">\r\n",
        "        <h4>\r\n",
        "          <a href=\"https://www.w3schools.com/python/ref_dictionary_items.asp\"\r\n",
        "            >items()</a\r\n",
        "          >\r\n",
        "        </h4>\r\n",
        "      </td>\r\n",
        "      <td style=\"width: 529px\">\r\n",
        "        <strong\r\n",
        "          >Returns a list containing a tuple for each key value pair</strong\r\n",
        "        >\r\n",
        "      </td>\r\n",
        "    </tr>\r\n",
        "    <tr>\r\n",
        "      <td style=\"width: 95px\">\r\n",
        "        <h4>\r\n",
        "          <a href=\"https://www.w3schools.com/python/ref_dictionary_keys.asp\"\r\n",
        "            >keys()</a\r\n",
        "          >\r\n",
        "        </h4>\r\n",
        "      </td>\r\n",
        "      <td style=\"width: 529px\">\r\n",
        "        <strong>Returns a list containing the dictionary's keys</strong>\r\n",
        "      </td>\r\n",
        "    </tr>\r\n",
        "    <tr>\r\n",
        "      <td style=\"width: 95px\">\r\n",
        "        <h4>\r\n",
        "          <a href=\"https://www.w3schools.com/python/ref_dictionary_pop.asp\"\r\n",
        "            >pop()</a\r\n",
        "          >\r\n",
        "        </h4>\r\n",
        "      </td>\r\n",
        "      <td style=\"width: 529px\">\r\n",
        "        <strong>Removes the element with the specified key</strong>\r\n",
        "      </td>\r\n",
        "    </tr>\r\n",
        "    <tr>\r\n",
        "      <td style=\"width: 95px\">\r\n",
        "        <h4>\r\n",
        "          <a href=\"https://www.w3schools.com/python/ref_dictionary_popitem.asp\"\r\n",
        "            >popitem()</a\r\n",
        "          >\r\n",
        "        </h4>\r\n",
        "      </td>\r\n",
        "      <td style=\"width: 529px\">\r\n",
        "        <strong>Removes the last inserted key-value pair</strong>\r\n",
        "      </td>\r\n",
        "    </tr>\r\n",
        "    <tr>\r\n",
        "      <td style=\"width: 95px\">\r\n",
        "        <h4>\r\n",
        "          <a\r\n",
        "            href=\"https://www.w3schools.com/python/ref_dictionary_setdefault.asp\"\r\n",
        "            >setdefault()</a\r\n",
        "          >\r\n",
        "        </h4>\r\n",
        "      </td>\r\n",
        "      <td style=\"width: 529px\">\r\n",
        "        <strong\r\n",
        "          >Returns the value of the specified key. If the key does not exist:\r\n",
        "          insert the key, with the specified value</strong\r\n",
        "        >\r\n",
        "      </td>\r\n",
        "    </tr>\r\n",
        "    <tr>\r\n",
        "      <td style=\"width: 95px\">\r\n",
        "        <h4>\r\n",
        "          <a href=\"https://www.w3schools.com/python/ref_dictionary_update.asp\"\r\n",
        "            >update()</a\r\n",
        "          >\r\n",
        "        </h4>\r\n",
        "      </td>\r\n",
        "      <td style=\"width: 529px\">\r\n",
        "        <strong\r\n",
        "          >Updates the dictionary with the specified key-value pairs</strong\r\n",
        "        >\r\n",
        "      </td>\r\n",
        "    </tr>\r\n",
        "    <tr>\r\n",
        "      <td style=\"width: 95px\">\r\n",
        "        <h4>\r\n",
        "          <a href=\"https://www.w3schools.com/python/ref_dictionary_values.asp\"\r\n",
        "            >values()</a\r\n",
        "          >\r\n",
        "        </h4>\r\n",
        "      </td>\r\n",
        "      <td style=\"width: 529px\">\r\n",
        "        <strong>Returns a list of all the values in the dictionary</strong>\r\n",
        "      </td>\r\n",
        "    </tr>\r\n",
        "  </tbody>\r\n",
        "</table>\r\n"
      ]
    }
  ]
}