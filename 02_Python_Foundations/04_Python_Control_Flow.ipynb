{
  "nbformat": 4,
  "nbformat_minor": 0,
  "metadata": {
    "colab": {
      "name": "04_Python_Control_Flow.ipynb",
      "provenance": [],
      "collapsed_sections": [],
      "authorship_tag": "ABX9TyOQJx4GmyWltVLcgLFZGV/g",
      "include_colab_link": true
    },
    "kernelspec": {
      "name": "python3",
      "display_name": "Python 3"
    }
  },
  "cells": [
    {
      "cell_type": "markdown",
      "metadata": {
        "id": "view-in-github",
        "colab_type": "text"
      },
      "source": [
        "<a href=\"https://colab.research.google.com/github/mohd-faizy/Python_Notebooks_Concept/blob/master/04_Python_Control_Flow.ipynb\" target=\"_parent\"><img src=\"https://colab.research.google.com/assets/colab-badge.svg\" alt=\"Open In Colab\"/></a>"
      ]
    },
    {
      "cell_type": "markdown",
      "metadata": {
        "id": "Fi2pxOCL3MoK"
      },
      "source": [
        "--- \r\n",
        "<strong> \r\n",
        "    <h1 align='center'>Python Control Flow, Functions & Arrays</h1> \r\n",
        "</strong>\r\n",
        "\r\n",
        "---"
      ]
    },
    {
      "cell_type": "markdown",
      "metadata": {
        "id": "xcyyVgjX3iQZ"
      },
      "source": [
        "## __If-Else__"
      ]
    },
    {
      "cell_type": "markdown",
      "metadata": {
        "id": "mbC7wkxb42lv"
      },
      "source": [
        "- Equals: __a == b__\r\n",
        "- Not Equals: __a != b__\r\n",
        "- Less than: __a < b__\r\n",
        "- Less than or equal to: __a <= b__\r\n",
        "- Greater than: __a > b__\r\n",
        "- Greater than or equal to: __a >= b__"
      ]
    },
    {
      "cell_type": "code",
      "metadata": {
        "colab": {
          "base_uri": "https://localhost:8080/"
        },
        "id": "YnzsaYGR42Cd",
        "outputId": "858af459-e498-4cef-e3c2-073819268b84"
      },
      "source": [
        "a = 33\r\n",
        "b = 200\r\n",
        "if b > a:\r\n",
        "  print(\"b is greater than a\")"
      ],
      "execution_count": 1,
      "outputs": [
        {
          "output_type": "stream",
          "text": [
            "b is greater than a\n"
          ],
          "name": "stdout"
        }
      ]
    },
    {
      "cell_type": "code",
      "metadata": {
        "colab": {
          "base_uri": "https://localhost:8080/"
        },
        "id": "I6nJyJwt5TX2",
        "outputId": "90286281-b26b-48a3-83db-e56481745519"
      },
      "source": [
        "a = 33\r\n",
        "b = 33\r\n",
        "if b > a:\r\n",
        "  print(\"b is greater than a\")\r\n",
        "elif a == b:\r\n",
        "  print(\"a and b are equal\")"
      ],
      "execution_count": 2,
      "outputs": [
        {
          "output_type": "stream",
          "text": [
            "a and b are equal\n"
          ],
          "name": "stdout"
        }
      ]
    },
    {
      "cell_type": "code",
      "metadata": {
        "colab": {
          "base_uri": "https://localhost:8080/"
        },
        "id": "ZA_gugHX5UoS",
        "outputId": "beee90bf-3cd2-4f5e-88b5-d59179581a50"
      },
      "source": [
        "a = 200\r\n",
        "b = 33\r\n",
        "if b > a:\r\n",
        "  print(\"b is greater than a\")\r\n",
        "elif a == b:\r\n",
        "  print(\"a and b are equal\")\r\n",
        "else:\r\n",
        "  print(\"a is greater than b\")"
      ],
      "execution_count": 3,
      "outputs": [
        {
          "output_type": "stream",
          "text": [
            "a is greater than b\n"
          ],
          "name": "stdout"
        }
      ]
    },
    {
      "cell_type": "code",
      "metadata": {
        "colab": {
          "base_uri": "https://localhost:8080/"
        },
        "id": "DGA--B5A5Z1y",
        "outputId": "0890586e-561e-40da-b840-3986cf705d50"
      },
      "source": [
        "a = 200\r\n",
        "b = 33\r\n",
        "if b > a:\r\n",
        "  print(\"b is greater than a\")\r\n",
        "else:\r\n",
        "  print(\"b is not greater than a\")"
      ],
      "execution_count": 4,
      "outputs": [
        {
          "output_type": "stream",
          "text": [
            "b is not greater than a\n"
          ],
          "name": "stdout"
        }
      ]
    },
    {
      "cell_type": "code",
      "metadata": {
        "colab": {
          "base_uri": "https://localhost:8080/"
        },
        "id": "D95f3MWQ5cj3",
        "outputId": "b7315a0c-47cd-403e-e764-022ee4fd3be9"
      },
      "source": [
        "if a > b: print(\"a is greater than b\")"
      ],
      "execution_count": 5,
      "outputs": [
        {
          "output_type": "stream",
          "text": [
            "a is greater than b\n"
          ],
          "name": "stdout"
        }
      ]
    },
    {
      "cell_type": "code",
      "metadata": {
        "colab": {
          "base_uri": "https://localhost:8080/"
        },
        "id": "L99sm7Vl5epV",
        "outputId": "9ba2b85e-71ec-4cc7-b7e6-fa4535005d53"
      },
      "source": [
        "a = 2\r\n",
        "b = 330\r\n",
        "print(\"A\") if a > b else print(\"B\")"
      ],
      "execution_count": 6,
      "outputs": [
        {
          "output_type": "stream",
          "text": [
            "B\n"
          ],
          "name": "stdout"
        }
      ]
    },
    {
      "cell_type": "code",
      "metadata": {
        "colab": {
          "base_uri": "https://localhost:8080/"
        },
        "id": "nCdLdmxn5hwe",
        "outputId": "58e57e3e-4864-42f8-e5d8-55d8c66015b3"
      },
      "source": [
        "a = 330\r\n",
        "b = 330\r\n",
        "print(\"A\") if a > b else print(\"=\") if a == b else print(\"B\")"
      ],
      "execution_count": 7,
      "outputs": [
        {
          "output_type": "stream",
          "text": [
            "=\n"
          ],
          "name": "stdout"
        }
      ]
    },
    {
      "cell_type": "code",
      "metadata": {
        "colab": {
          "base_uri": "https://localhost:8080/"
        },
        "id": "TYb3cKHa5kc7",
        "outputId": "24334278-ddd0-4140-c69d-1df5d906119e"
      },
      "source": [
        "a = 200\r\n",
        "b = 33\r\n",
        "c = 500\r\n",
        "if a > b and c > a:\r\n",
        "  print(\"Both conditions are True\")"
      ],
      "execution_count": 8,
      "outputs": [
        {
          "output_type": "stream",
          "text": [
            "Both conditions are True\n"
          ],
          "name": "stdout"
        }
      ]
    },
    {
      "cell_type": "code",
      "metadata": {
        "colab": {
          "base_uri": "https://localhost:8080/"
        },
        "id": "CvebecG_5nBP",
        "outputId": "b4acd87b-48b9-4ef7-e100-26bf6b916663"
      },
      "source": [
        "a = 200\r\n",
        "b = 33\r\n",
        "c = 500\r\n",
        "if a > b or a > c:\r\n",
        "  print(\"At least one of the conditions is True\")"
      ],
      "execution_count": 9,
      "outputs": [
        {
          "output_type": "stream",
          "text": [
            "At least one of the conditions is True\n"
          ],
          "name": "stdout"
        }
      ]
    },
    {
      "cell_type": "code",
      "metadata": {
        "colab": {
          "base_uri": "https://localhost:8080/"
        },
        "id": "q7ZbVLDq5qW1",
        "outputId": "11e74f90-abb8-4f04-b034-bcedd4062ea0"
      },
      "source": [
        "x = 41\r\n",
        "\r\n",
        "if x > 10:\r\n",
        "  print(\"Above ten,\")\r\n",
        "  if x > 20:\r\n",
        "    print(\"and also above 20!\")\r\n",
        "  else:\r\n",
        "    print(\"but not above 20.\")"
      ],
      "execution_count": 10,
      "outputs": [
        {
          "output_type": "stream",
          "text": [
            "Above ten,\n",
            "and also above 20!\n"
          ],
          "name": "stdout"
        }
      ]
    },
    {
      "cell_type": "code",
      "metadata": {
        "id": "psYWqcFn5s2w"
      },
      "source": [
        "a = 33\r\n",
        "b = 200\r\n",
        "\r\n",
        "if b > a:\r\n",
        "  pass"
      ],
      "execution_count": 11,
      "outputs": []
    },
    {
      "cell_type": "markdown",
      "metadata": {
        "id": "MphEnZxO3hSd"
      },
      "source": [
        "## __While Loops__"
      ]
    },
    {
      "cell_type": "code",
      "metadata": {
        "colab": {
          "base_uri": "https://localhost:8080/"
        },
        "id": "PINH9e3261pL",
        "outputId": "44c742be-3c4a-4cbd-8a7c-5edc540f0d4a"
      },
      "source": [
        "i = 1\r\n",
        "while i < 6:\r\n",
        "  print(i)\r\n",
        "  i += 1"
      ],
      "execution_count": 12,
      "outputs": [
        {
          "output_type": "stream",
          "text": [
            "1\n",
            "2\n",
            "3\n",
            "4\n",
            "5\n"
          ],
          "name": "stdout"
        }
      ]
    },
    {
      "cell_type": "markdown",
      "metadata": {
        "id": "ULaNEPaM7JT9"
      },
      "source": [
        "$\\color{red}{\\textbf{Note:}}$ Remember to increment __i__, or else the loop will continue forever."
      ]
    },
    {
      "cell_type": "code",
      "metadata": {
        "colab": {
          "base_uri": "https://localhost:8080/"
        },
        "id": "Mi5x6icI7D-g",
        "outputId": "48725c9f-a819-4427-d5fd-485bf9d6b17b"
      },
      "source": [
        "i = 1\r\n",
        "while i < 6:\r\n",
        "  print(i)\r\n",
        "  if i == 3:\r\n",
        "    break\r\n",
        "  i += 1"
      ],
      "execution_count": 13,
      "outputs": [
        {
          "output_type": "stream",
          "text": [
            "1\n",
            "2\n",
            "3\n"
          ],
          "name": "stdout"
        }
      ]
    },
    {
      "cell_type": "code",
      "metadata": {
        "colab": {
          "base_uri": "https://localhost:8080/"
        },
        "id": "7ddf57xV7wRS",
        "outputId": "2b54da17-06b5-4154-d08d-f8dc499f8bd7"
      },
      "source": [
        "i = 0\r\n",
        "while i < 6:\r\n",
        "  i += 1\r\n",
        "  if i == 3:\r\n",
        "    continue\r\n",
        "  print(i)"
      ],
      "execution_count": 14,
      "outputs": [
        {
          "output_type": "stream",
          "text": [
            "1\n",
            "2\n",
            "4\n",
            "5\n",
            "6\n"
          ],
          "name": "stdout"
        }
      ]
    },
    {
      "cell_type": "code",
      "metadata": {
        "colab": {
          "base_uri": "https://localhost:8080/"
        },
        "id": "_GoK13zP7zBI",
        "outputId": "5a82a0ad-c246-4917-bd42-a150d47f29a0"
      },
      "source": [
        "i = 1\r\n",
        "while i < 6:\r\n",
        "  print(i)\r\n",
        "  i += 1\r\n",
        "else:\r\n",
        "  print(\"i is no longer less than 6\")"
      ],
      "execution_count": 15,
      "outputs": [
        {
          "output_type": "stream",
          "text": [
            "1\n",
            "2\n",
            "3\n",
            "4\n",
            "5\n",
            "i is no longer less than 6\n"
          ],
          "name": "stdout"
        }
      ]
    },
    {
      "cell_type": "markdown",
      "metadata": {
        "id": "NsX1sHa-3hF0"
      },
      "source": [
        "## __For Loops__"
      ]
    },
    {
      "cell_type": "code",
      "metadata": {
        "colab": {
          "base_uri": "https://localhost:8080/"
        },
        "id": "P-K-guec8SO1",
        "outputId": "7fa962b6-7a52-45ff-a9c2-0e825f0a175a"
      },
      "source": [
        "fruits = [\"apple\", \"banana\", \"cherry\"] # list\r\n",
        "for x in fruits:\r\n",
        "  print(x)"
      ],
      "execution_count": 16,
      "outputs": [
        {
          "output_type": "stream",
          "text": [
            "apple\n",
            "banana\n",
            "cherry\n"
          ],
          "name": "stdout"
        }
      ]
    },
    {
      "cell_type": "code",
      "metadata": {
        "colab": {
          "base_uri": "https://localhost:8080/"
        },
        "id": "M_PYlauL8eIu",
        "outputId": "9dd8fa99-0c88-4f30-923b-0773fc6e138e"
      },
      "source": [
        "for x in \"banana\": # string\r\n",
        "  print(x)"
      ],
      "execution_count": 17,
      "outputs": [
        {
          "output_type": "stream",
          "text": [
            "b\n",
            "a\n",
            "n\n",
            "a\n",
            "n\n",
            "a\n"
          ],
          "name": "stdout"
        }
      ]
    },
    {
      "cell_type": "code",
      "metadata": {
        "colab": {
          "base_uri": "https://localhost:8080/"
        },
        "id": "fxC3Q8eK8ijG",
        "outputId": "b17a1c32-e43f-4ba9-9b03-c92aa6febb61"
      },
      "source": [
        "fruits = [\"apple\", \"banana\", \"cherry\"]\r\n",
        "for x in fruits:\r\n",
        "  print(x)\r\n",
        "  if x == \"banana\":\r\n",
        "    break"
      ],
      "execution_count": 18,
      "outputs": [
        {
          "output_type": "stream",
          "text": [
            "apple\n",
            "banana\n"
          ],
          "name": "stdout"
        }
      ]
    },
    {
      "cell_type": "code",
      "metadata": {
        "colab": {
          "base_uri": "https://localhost:8080/"
        },
        "id": "mjy9L93c8q-g",
        "outputId": "b5e33a76-502d-4e73-e7e9-291762d0a52a"
      },
      "source": [
        "fruits = [\"apple\", \"banana\", \"cherry\"]\r\n",
        "for x in fruits:\r\n",
        "  if x == \"banana\":\r\n",
        "    break\r\n",
        "  print(x)"
      ],
      "execution_count": 19,
      "outputs": [
        {
          "output_type": "stream",
          "text": [
            "apple\n"
          ],
          "name": "stdout"
        }
      ]
    },
    {
      "cell_type": "code",
      "metadata": {
        "colab": {
          "base_uri": "https://localhost:8080/"
        },
        "id": "mvM7ftok8tZH",
        "outputId": "f22908e3-4d93-46dc-b4a0-e10d56c6d0b2"
      },
      "source": [
        "fruits = [\"apple\", \"banana\", \"cherry\"]\r\n",
        "for x in fruits:\r\n",
        "  if x == \"banana\":\r\n",
        "    continue\r\n",
        "  print(x)"
      ],
      "execution_count": 20,
      "outputs": [
        {
          "output_type": "stream",
          "text": [
            "apple\n",
            "cherry\n"
          ],
          "name": "stdout"
        }
      ]
    },
    {
      "cell_type": "code",
      "metadata": {
        "colab": {
          "base_uri": "https://localhost:8080/"
        },
        "id": "kZdrWWZn81W_",
        "outputId": "6f3ecdcc-5442-4656-d02b-42c9b757a2cd"
      },
      "source": [
        "for x in range(6): # range(6) is the values 0 to 5.\r\n",
        "  print(x)"
      ],
      "execution_count": 21,
      "outputs": [
        {
          "output_type": "stream",
          "text": [
            "0\n",
            "1\n",
            "2\n",
            "3\n",
            "4\n",
            "5\n"
          ],
          "name": "stdout"
        }
      ]
    },
    {
      "cell_type": "code",
      "metadata": {
        "colab": {
          "base_uri": "https://localhost:8080/"
        },
        "id": "jWCwqrd29C_R",
        "outputId": "3fd727c9-184e-44d6-a2c8-e2dd2b0696f0"
      },
      "source": [
        "for x in range(2, 6):\r\n",
        "  print(x)"
      ],
      "execution_count": 22,
      "outputs": [
        {
          "output_type": "stream",
          "text": [
            "2\n",
            "3\n",
            "4\n",
            "5\n"
          ],
          "name": "stdout"
        }
      ]
    },
    {
      "cell_type": "code",
      "metadata": {
        "colab": {
          "base_uri": "https://localhost:8080/"
        },
        "id": "Kq29ofUW9IPx",
        "outputId": "4c34e931-3913-4488-ce27-6bd1d62b643b"
      },
      "source": [
        "for x in range(2, 30, 3):\r\n",
        "  print(x)"
      ],
      "execution_count": 23,
      "outputs": [
        {
          "output_type": "stream",
          "text": [
            "2\n",
            "5\n",
            "8\n",
            "11\n",
            "14\n",
            "17\n",
            "20\n",
            "23\n",
            "26\n",
            "29\n"
          ],
          "name": "stdout"
        }
      ]
    },
    {
      "cell_type": "code",
      "metadata": {
        "colab": {
          "base_uri": "https://localhost:8080/"
        },
        "id": "bbNBDHR39RzW",
        "outputId": "fb89b5ff-6d66-4ca0-a623-60b2d51608b3"
      },
      "source": [
        "for x in range(6):\r\n",
        "  print(x)\r\n",
        "else:\r\n",
        "  print(\"Finally finished!\")"
      ],
      "execution_count": 24,
      "outputs": [
        {
          "output_type": "stream",
          "text": [
            "0\n",
            "1\n",
            "2\n",
            "3\n",
            "4\n",
            "5\n",
            "Finally finished!\n"
          ],
          "name": "stdout"
        }
      ]
    },
    {
      "cell_type": "code",
      "metadata": {
        "colab": {
          "base_uri": "https://localhost:8080/"
        },
        "id": "3OWRJoJb9XT_",
        "outputId": "1c0bc179-db9e-4864-9196-d07f3758e073"
      },
      "source": [
        "adj = [\"red\", \"big\", \"tasty\"]\r\n",
        "fruits = [\"apple\", \"banana\", \"cherry\"]\r\n",
        "\r\n",
        "for x in adj:\r\n",
        "  for y in fruits:\r\n",
        "    print(x, y)"
      ],
      "execution_count": 25,
      "outputs": [
        {
          "output_type": "stream",
          "text": [
            "red apple\n",
            "red banana\n",
            "red cherry\n",
            "big apple\n",
            "big banana\n",
            "big cherry\n",
            "tasty apple\n",
            "tasty banana\n",
            "tasty cherry\n"
          ],
          "name": "stdout"
        }
      ]
    },
    {
      "cell_type": "code",
      "metadata": {
        "id": "o1GmvUPK9t6s"
      },
      "source": [
        "for x in [0, 1, 2]:\r\n",
        "  pass"
      ],
      "execution_count": 26,
      "outputs": []
    },
    {
      "cell_type": "markdown",
      "metadata": {
        "id": "anB0Dygi3g6b"
      },
      "source": [
        "## __Functions__"
      ]
    },
    {
      "cell_type": "code",
      "metadata": {
        "id": "ofkLz-QB-p9B"
      },
      "source": [
        "# Creating a Function\r\n",
        "\r\n",
        "def my_function():\r\n",
        "  print(\"Hello from a function\")"
      ],
      "execution_count": 27,
      "outputs": []
    },
    {
      "cell_type": "code",
      "metadata": {
        "colab": {
          "base_uri": "https://localhost:8080/"
        },
        "id": "zHj8croz-tAE",
        "outputId": "9ad189d8-2008-4187-8442-6fcc494f0567"
      },
      "source": [
        "# Calling a Function\r\n",
        "\r\n",
        "def my_function():\r\n",
        "  print(\"Hello from a function\")\r\n",
        "\r\n",
        "my_function()"
      ],
      "execution_count": 28,
      "outputs": [
        {
          "output_type": "stream",
          "text": [
            "Hello from a function\n"
          ],
          "name": "stdout"
        }
      ]
    },
    {
      "cell_type": "code",
      "metadata": {
        "colab": {
          "base_uri": "https://localhost:8080/"
        },
        "id": "nDzToaf7-2us",
        "outputId": "9abd7c24-97a4-4822-be79-45f75447e51d"
      },
      "source": [
        "# Arguments\r\n",
        "\r\n",
        "def my_function(fname):\r\n",
        "  print(fname + \" Refsnes\")\r\n",
        "\r\n",
        "my_function(\"Emil\")\r\n",
        "my_function(\"Tobias\")\r\n",
        "my_function(\"Linus\")"
      ],
      "execution_count": 29,
      "outputs": [
        {
          "output_type": "stream",
          "text": [
            "Emil Refsnes\n",
            "Tobias Refsnes\n",
            "Linus Refsnes\n"
          ],
          "name": "stdout"
        }
      ]
    },
    {
      "cell_type": "markdown",
      "metadata": {
        "id": "EYELPamh_BdB"
      },
      "source": [
        "```python\r\n",
        "\r\n",
        "def my_function(fname, lname):\r\n",
        "  print(fname + \" \" + lname)\r\n",
        "\r\n",
        "my_function(\"Emil\")\r\n",
        "\r\n",
        "---------------------------------------------------------------------------\r\n",
        "TypeError                                 Traceback (most recent call last)\r\n",
        "<ipython-input-31-49655f8043be> in <module>()\r\n",
        "      2   print(fname + \" \" + lname)\r\n",
        "      3 \r\n",
        "----> 4 my_function(\"Emil\")\r\n",
        "\r\n",
        "TypeError: my_function() missing 1 required positional argument: 'lname'\r\n",
        "\r\n",
        "\r\n",
        "```"
      ]
    },
    {
      "cell_type": "markdown",
      "metadata": {
        "id": "sbvSZ1em_TxE"
      },
      "source": [
        "__`*args`__"
      ]
    },
    {
      "cell_type": "code",
      "metadata": {
        "colab": {
          "base_uri": "https://localhost:8080/"
        },
        "id": "_JxqZ9a6_AG1",
        "outputId": "9f72a116-ede7-4020-ea54-5e6da157a515"
      },
      "source": [
        "# If we do not know how many arguments that will\r\n",
        "# be passed into our function, add a `*` before the\r\n",
        "# parameter name in the function definition.\r\n",
        "\r\n",
        "def my_function(*kids):\r\n",
        "  print(\"The youngest child is \" + kids[2])\r\n",
        "\r\n",
        "my_function(\"Emil\", \"Tobias\", \"Linus\")"
      ],
      "execution_count": 30,
      "outputs": [
        {
          "output_type": "stream",
          "text": [
            "The youngest child is Linus\n"
          ],
          "name": "stdout"
        }
      ]
    },
    {
      "cell_type": "code",
      "metadata": {
        "colab": {
          "base_uri": "https://localhost:8080/"
        },
        "id": "PxHwyblP_0JZ",
        "outputId": "9cc63b9f-4e69-4703-84a1-107d45cbdf4e"
      },
      "source": [
        "def my_function(child3, child2, child1):\r\n",
        "  print(\"The youngest child is \" + child3)\r\n",
        "\r\n",
        "my_function(child1 = \"Emil\", child2 = \"Tobias\", child3 = \"Linus\")"
      ],
      "execution_count": 31,
      "outputs": [
        {
          "output_type": "stream",
          "text": [
            "The youngest child is Linus\n"
          ],
          "name": "stdout"
        }
      ]
    },
    {
      "cell_type": "code",
      "metadata": {
        "colab": {
          "base_uri": "https://localhost:8080/"
        },
        "id": "ELTSsr2RAINo",
        "outputId": "db20a911-644d-4069-e2b4-6093631629bc"
      },
      "source": [
        "# Keyword Arguments\r\n",
        "# we can also send arguments with the key = value syntax.\r\n",
        "\r\n",
        "def my_function(**kid):\r\n",
        "  print(\"His last name is \" + kid[\"lname\"])\r\n",
        "\r\n",
        "my_function(fname = \"Tobias\", lname = \"Refsnes\")"
      ],
      "execution_count": 32,
      "outputs": [
        {
          "output_type": "stream",
          "text": [
            "His last name is Refsnes\n"
          ],
          "name": "stdout"
        }
      ]
    },
    {
      "cell_type": "code",
      "metadata": {
        "colab": {
          "base_uri": "https://localhost:8080/"
        },
        "id": "LcufNRaPAYoH",
        "outputId": "9be3d28e-21b7-4f29-82df-0923f02d5667"
      },
      "source": [
        "def my_function(country = \"Norway\"):\r\n",
        "  print(\"I am from \" + country)\r\n",
        "\r\n",
        "my_function(\"Sweden\")\r\n",
        "my_function(\"India\")\r\n",
        "my_function() # If we call without arg, then it uses the default value\r\n",
        "my_function(\"Brazil\")"
      ],
      "execution_count": 33,
      "outputs": [
        {
          "output_type": "stream",
          "text": [
            "I am from Sweden\n",
            "I am from India\n",
            "I am from Norway\n",
            "I am from Brazil\n"
          ],
          "name": "stdout"
        }
      ]
    },
    {
      "cell_type": "markdown",
      "metadata": {
        "id": "0qKCGNe53guH"
      },
      "source": [
        "## __Lambda__"
      ]
    },
    {
      "cell_type": "markdown",
      "metadata": {
        "id": "1f6rAuthAwdb"
      },
      "source": [
        "```python\r\n",
        "# Syntax\r\n",
        "lambda arguments : expression \r\n",
        "```"
      ]
    },
    {
      "cell_type": "code",
      "metadata": {
        "colab": {
          "base_uri": "https://localhost:8080/"
        },
        "id": "esOqIAbuAsJ7",
        "outputId": "b4c33524-c770-49d2-b9ad-6f74ca9e9635"
      },
      "source": [
        "# can take any number of arguments\r\n",
        "# but can only have one expression\r\n",
        "\r\n",
        "x = lambda a : a + 10\r\n",
        "print(x(5))"
      ],
      "execution_count": 34,
      "outputs": [
        {
          "output_type": "stream",
          "text": [
            "15\n"
          ],
          "name": "stdout"
        }
      ]
    },
    {
      "cell_type": "code",
      "metadata": {
        "colab": {
          "base_uri": "https://localhost:8080/"
        },
        "id": "8QamUoiMAr02",
        "outputId": "69316aba-f711-407d-ab32-c9516226ea19"
      },
      "source": [
        "x = lambda a, b : a * b\r\n",
        "print(x(5, 6))"
      ],
      "execution_count": 35,
      "outputs": [
        {
          "output_type": "stream",
          "text": [
            "30\n"
          ],
          "name": "stdout"
        }
      ]
    },
    {
      "cell_type": "code",
      "metadata": {
        "colab": {
          "base_uri": "https://localhost:8080/"
        },
        "id": "gGeocq1DAriW",
        "outputId": "b4eb0f15-1110-461f-e940-9ebe0b46064b"
      },
      "source": [
        "x = lambda a, b, c : a + b + c\r\n",
        "print(x(5, 6, 2))"
      ],
      "execution_count": 36,
      "outputs": [
        {
          "output_type": "stream",
          "text": [
            "13\n"
          ],
          "name": "stdout"
        }
      ]
    },
    {
      "cell_type": "markdown",
      "metadata": {
        "id": "g73GReG6BZ2Z"
      },
      "source": [
        "__The power of lambda is better shown when you use them as an anonymous function inside another function.__"
      ]
    },
    {
      "cell_type": "code",
      "metadata": {
        "colab": {
          "base_uri": "https://localhost:8080/"
        },
        "id": "E12ogVdIBhOS",
        "outputId": "2c931999-0d4e-4d84-855a-97adfb62e23e"
      },
      "source": [
        "def myfunc(n):\r\n",
        "  return lambda a : a * n\r\n",
        "\r\n",
        "mydoubler = myfunc(2)\r\n",
        "\r\n",
        "print(mydoubler(11))"
      ],
      "execution_count": 37,
      "outputs": [
        {
          "output_type": "stream",
          "text": [
            "22\n"
          ],
          "name": "stdout"
        }
      ]
    },
    {
      "cell_type": "code",
      "metadata": {
        "colab": {
          "base_uri": "https://localhost:8080/"
        },
        "id": "bVcIGetDBl2z",
        "outputId": "9ad91c45-0636-40c3-f3d2-5515cbb61184"
      },
      "source": [
        "def myfunc(n):\r\n",
        "  return lambda a : a * n\r\n",
        "\r\n",
        "mytripler = myfunc(3)\r\n",
        "\r\n",
        "print(mytripler(11))"
      ],
      "execution_count": 38,
      "outputs": [
        {
          "output_type": "stream",
          "text": [
            "33\n"
          ],
          "name": "stdout"
        }
      ]
    },
    {
      "cell_type": "code",
      "metadata": {
        "colab": {
          "base_uri": "https://localhost:8080/"
        },
        "id": "0el-gSzXB748",
        "outputId": "bcb5461a-c37d-407b-d83f-05d0e1f9c4fb"
      },
      "source": [
        "def myfunc(n):\r\n",
        "  return lambda a : a * n\r\n",
        "\r\n",
        "mydoubler = myfunc(2)\r\n",
        "mytripler = myfunc(3)\r\n",
        "\r\n",
        "print(mydoubler(11))\r\n",
        "print(mytripler(11))"
      ],
      "execution_count": 39,
      "outputs": [
        {
          "output_type": "stream",
          "text": [
            "22\n",
            "33\n"
          ],
          "name": "stdout"
        }
      ]
    },
    {
      "cell_type": "markdown",
      "metadata": {
        "id": "Sl1zEKbe3geA"
      },
      "source": [
        "## __Arrays__"
      ]
    },
    {
      "cell_type": "markdown",
      "metadata": {
        "id": "Nvmz5O5bCCeP"
      },
      "source": [
        "$\\color{red}{\\textbf{Note:}}$  Python does not have built-in support for **Arrays**, but Python Lists can be used instead.\r\n",
        "\r\n",
        "however, to work with arrays in Python you will have to `import` a library, like the $NumPy$ library"
      ]
    },
    {
      "cell_type": "code",
      "metadata": {
        "colab": {
          "base_uri": "https://localhost:8080/"
        },
        "id": "Q_qeOROpAtLR",
        "outputId": "cecc4830-d5c7-4963-94f9-3f9d10a1fc50"
      },
      "source": [
        "cars = [\"Ford\", \"Volvo\", \"BMW\"]\r\n",
        "\r\n",
        "x = cars[0]\r\n",
        "print(x)\r\n",
        "\r\n",
        "cars[0] = \"Toyota\"\r\n",
        "print(cars)\r\n",
        "\r\n",
        "y = len(cars)\r\n",
        "print(y)\r\n",
        "\r\n",
        "for x in cars:\r\n",
        "  print(x)\r\n",
        "\r\n",
        "z = cars.append(\"Honda\")\r\n",
        "print(cars)\r\n",
        "\r\n",
        "p = cars.pop(1)\r\n",
        "print(cars) # remove the Volvo at index 1\r\n",
        "\r\n",
        "r = cars.remove(\"BMW\")\r\n",
        "print(cars)"
      ],
      "execution_count": 40,
      "outputs": [
        {
          "output_type": "stream",
          "text": [
            "Ford\n",
            "['Toyota', 'Volvo', 'BMW']\n",
            "3\n",
            "Toyota\n",
            "Volvo\n",
            "BMW\n",
            "['Toyota', 'Volvo', 'BMW', 'Honda']\n",
            "['Toyota', 'BMW', 'Honda']\n",
            "['Toyota', 'Honda']\n"
          ],
          "name": "stdout"
        }
      ]
    },
    {
      "cell_type": "markdown",
      "metadata": {
        "id": "-7cmu3soEzDZ"
      },
      "source": [
        "__Array Methods__\r\n",
        "\r\n",
        "\r\n",
        "---\r\n",
        "\r\n",
        "\r\n",
        "\r\n",
        "<table class=\"w3-table-all notranslate\" style=\"height: 611px;\" width=\"510\">\r\n",
        "<tbody>\r\n",
        "<tr style=\"height: 17px;\">\r\n",
        "<th style=\"width: 75.2px; height: 17px;\">\r\n",
        "<h3>Method</h3>\r\n",
        "</th>\r\n",
        "<th style=\"width: 420px; height: 17px;\">\r\n",
        "<h3>Description</h3>\r\n",
        "</th>\r\n",
        "</tr>\r\n",
        "<tr style=\"height: 54px;\">\r\n",
        "<td style=\"width: 75.2px; height: 54px;\">\r\n",
        "<h4><a href=\"https://www.w3schools.com/python/ref_list_append.asp\">append()</a></h4>\r\n",
        "</td>\r\n",
        "<td style=\"width: 420px; height: 54px;\"><strong>Adds an element at the end of the list</strong></td>\r\n",
        "</tr>\r\n",
        "<tr style=\"height: 54px;\">\r\n",
        "<td style=\"width: 75.2px; height: 54px;\">\r\n",
        "<h4><a href=\"https://www.w3schools.com/python/ref_list_clear.asp\">clear()</a></h4>\r\n",
        "</td>\r\n",
        "<td style=\"width: 420px; height: 54px;\"><strong>Removes all the elements from the list</strong></td>\r\n",
        "</tr>\r\n",
        "<tr style=\"height: 54px;\">\r\n",
        "<td style=\"width: 75.2px; height: 54px;\">\r\n",
        "<h4><a href=\"https://www.w3schools.com/python/ref_list_copy.asp\">copy()</a></h4>\r\n",
        "</td>\r\n",
        "<td style=\"width: 420px; height: 54px;\"><strong>Returns a copy of the list</strong></td>\r\n",
        "</tr>\r\n",
        "<tr style=\"height: 54px;\">\r\n",
        "<td style=\"width: 75.2px; height: 54px;\">\r\n",
        "<h4><a href=\"https://www.w3schools.com/python/ref_list_count.asp\">count()</a></h4>\r\n",
        "</td>\r\n",
        "<td style=\"width: 420px; height: 54px;\"><strong>Returns the number of elements with the specified value</strong></td>\r\n",
        "</tr>\r\n",
        "<tr style=\"height: 54px;\">\r\n",
        "<td style=\"width: 75.2px; height: 54px;\">\r\n",
        "<h4><a href=\"https://www.w3schools.com/python/ref_list_extend.asp\">extend()</a></h4>\r\n",
        "</td>\r\n",
        "<td style=\"width: 420px; height: 54px;\"><strong>Add the elements of a list (or any iterable), to the end of the current list</strong></td>\r\n",
        "</tr>\r\n",
        "<tr style=\"height: 54px;\">\r\n",
        "<td style=\"width: 75.2px; height: 54px;\">\r\n",
        "<h4><a href=\"https://www.w3schools.com/python/ref_list_index.asp\">index()</a></h4>\r\n",
        "</td>\r\n",
        "<td style=\"width: 420px; height: 54px;\"><strong>Returns the index of the first element with the specified value</strong></td>\r\n",
        "</tr>\r\n",
        "<tr style=\"height: 54px;\">\r\n",
        "<td style=\"width: 75.2px; height: 54px;\">\r\n",
        "<h4><a href=\"https://www.w3schools.com/python/ref_list_insert.asp\">insert()</a></h4>\r\n",
        "</td>\r\n",
        "<td style=\"width: 420px; height: 54px;\"><strong>Adds an element at the specified position</strong></td>\r\n",
        "</tr>\r\n",
        "<tr style=\"height: 54px;\">\r\n",
        "<td style=\"width: 75.2px; height: 54px;\">\r\n",
        "<h4><a href=\"https://www.w3schools.com/python/ref_list_pop.asp\">pop()</a></h4>\r\n",
        "</td>\r\n",
        "<td style=\"width: 420px; height: 54px;\"><strong>Removes the element at the specified position</strong></td>\r\n",
        "</tr>\r\n",
        "<tr style=\"height: 54px;\">\r\n",
        "<td style=\"width: 75.2px; height: 54px;\">\r\n",
        "<h4><a href=\"https://www.w3schools.com/python/ref_list_remove.asp\">remove()</a></h4>\r\n",
        "</td>\r\n",
        "<td style=\"width: 420px; height: 54px;\"><strong>Removes the first item with the specified value</strong></td>\r\n",
        "</tr>\r\n",
        "<tr style=\"height: 54px;\">\r\n",
        "<td style=\"width: 75.2px; height: 54px;\">\r\n",
        "<h4><a href=\"https://www.w3schools.com/python/ref_list_reverse.asp\">reverse()</a></h4>\r\n",
        "</td>\r\n",
        "<td style=\"width: 420px; height: 54px;\"><strong>Reverses the order of the list</strong></td>\r\n",
        "</tr>\r\n",
        "<tr style=\"height: 54px;\">\r\n",
        "<td style=\"width: 75.2px; height: 54px;\">\r\n",
        "<h4><a href=\"https://www.w3schools.com/python/ref_list_sort.asp\">sort()</a></h4>\r\n",
        "</td>\r\n",
        "<td style=\"width: 420px; height: 54px;\"><strong>Sorts the list</strong></td>\r\n",
        "</tr>\r\n",
        "</tbody>\r\n",
        "</table>"
      ]
    }
  ]
}