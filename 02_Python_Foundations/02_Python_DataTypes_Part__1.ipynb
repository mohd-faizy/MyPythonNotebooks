{
  "nbformat": 4,
  "nbformat_minor": 0,
  "metadata": {
    "colab": {
      "name": "02_Python_DataTypes_Part _1.ipynb",
      "provenance": [],
      "collapsed_sections": [
        "-GEoJr5y_kOl",
        "qHf3DbGu-YWX",
        "-8XHpjYyAZUB",
        "LjP-TFSTBDaN",
        "C4yAPvvRC3Hv",
        "taZwuuX1DxD8",
        "FmrOEEN8Ezav",
        "OcV-c4-JGVYh",
        "1C7RVOcyGlNF",
        "_X2h-6MhISnu",
        "-ZJ8AbuRKEF8",
        "UN_8jDEzm4QL",
        "LqyhoyYDnIRk",
        "t5sDBI1bnOVI",
        "eZwLtBTRnS5P"
      ],
      "toc_visible": true,
      "authorship_tag": "ABX9TyMl4zfFrfAN8Z9BtcwYKIcd",
      "include_colab_link": true
    },
    "kernelspec": {
      "name": "python3",
      "display_name": "Python 3"
    }
  },
  "cells": [
    {
      "cell_type": "markdown",
      "metadata": {
        "id": "view-in-github",
        "colab_type": "text"
      },
      "source": [
        "<a href=\"https://colab.research.google.com/github/mohd-faizy/Python_Notebooks_Concept/blob/master/02_Python_DataTypes_Part__1.ipynb\" target=\"_parent\"><img src=\"https://colab.research.google.com/assets/colab-badge.svg\" alt=\"Open In Colab\"/></a>"
      ]
    },
    {
      "cell_type": "markdown",
      "metadata": {
        "id": "BFwlZGm78K0E"
      },
      "source": [
        "--- \r\n",
        "<strong> \r\n",
        "    <h1 align='center'>Python Data Types Part -1</h1> \r\n",
        "</strong>\r\n",
        "\r\n",
        "---"
      ]
    },
    {
      "cell_type": "markdown",
      "metadata": {
        "id": "-GEoJr5y_kOl"
      },
      "source": [
        "## __Built-in Data Types__"
      ]
    },
    {
      "cell_type": "markdown",
      "metadata": {
        "id": "bqZCsjL07qmE"
      },
      "source": [
        "<table class=\"w3-table\" style=\"height: 443px;\" width=\"607\">\r\n",
        "    <tbody>\r\n",
        "        <tr>\r\n",
        "            <td style=\"width: 219px;\"><strong>Text Type:</strong></td>\r\n",
        "            <td style=\"width: 372px;\"><code class=\"w3-codespan\">str</code></td>\r\n",
        "        </tr>\r\n",
        "        <tr>\r\n",
        "            <td style=\"width: 219px;\"><strong>Numeric Types:</strong></td>\r\n",
        "            <td style=\"width: 372px;\"><code class=\"w3-codespan\">int</code>,&nbsp;<code\r\n",
        "                    class=\"w3-codespan\">float</code>,&nbsp;<code class=\"w3-codespan\">complex</code></td>\r\n",
        "        </tr>\r\n",
        "        <tr>\r\n",
        "            <td style=\"width: 219px;\"><strong>Sequence Types:</strong></td>\r\n",
        "            <td style=\"width: 372px;\"><code class=\"w3-codespan\">list</code>,&nbsp;<code\r\n",
        "                    class=\"w3-codespan\">tuple</code>,&nbsp;<code class=\"w3-codespan\">range</code></td>\r\n",
        "        </tr>\r\n",
        "        <tr>\r\n",
        "            <td style=\"width: 219px;\"><strong>Mapping Type:</strong></td>\r\n",
        "            <td style=\"width: 372px;\"><code class=\"w3-codespan\">dict</code></td>\r\n",
        "        </tr>\r\n",
        "        <tr>\r\n",
        "            <td style=\"width: 219px;\"><strong>Set Types:</strong></td>\r\n",
        "            <td style=\"width: 372px;\"><code class=\"w3-codespan\">set</code>,&nbsp;<code\r\n",
        "                    class=\"w3-codespan\">frozenset</code></td>\r\n",
        "        </tr>\r\n",
        "        <tr>\r\n",
        "            <td style=\"width: 219px;\"><strong>Boolean Type:</strong></td>\r\n",
        "            <td style=\"width: 372px;\"><code class=\"w3-codespan\">bool</code></td>\r\n",
        "        </tr>\r\n",
        "        <tr>\r\n",
        "            <td style=\"width: 219px;\"><strong>Binary Types:</strong></td>\r\n",
        "            <td style=\"width: 372px;\"><code class=\"w3-codespan\">bytes</code>,&nbsp;<code\r\n",
        "                    class=\"w3-codespan\">bytearray</code>,&nbsp;<code class=\"w3-codespan\">memoryview</code></td>\r\n",
        "        </tr>\r\n",
        "    </tbody>\r\n",
        "</table>"
      ]
    },
    {
      "cell_type": "code",
      "metadata": {
        "id": "udjL0jZp6d6D"
      },
      "source": [
        "# Print the data type of the variable x\r\n",
        "\r\n",
        "x = 5\r\n",
        "print(type(x))"
      ],
      "execution_count": null,
      "outputs": []
    },
    {
      "cell_type": "markdown",
      "metadata": {
        "id": "Ic3Up8t88eNi"
      },
      "source": [
        "<table id=\"dtref\" class=\"w3-table-all notranslate\" style=\"width: 622px; height: 288px;\">\r\n",
        "    <tbody>\r\n",
        "        <tr style=\"height: 18px;\">\r\n",
        "            <th style=\"width: 341px; height: 18px;\">\r\n",
        "                <h1>Example</h1>\r\n",
        "            </th>\r\n",
        "            <th style=\"width: 249px; height: 18px;\">\r\n",
        "                <h1>Data Type</h1>\r\n",
        "            </th>\r\n",
        "            <th style=\"width: 10px; height: 18px;\">&nbsp;</th>\r\n",
        "        </tr>\r\n",
        "        <tr style=\"height: 18px;\">\r\n",
        "            <td style=\"width: 341px; height: 18px;\">\r\n",
        "                <h3>x = \"Hello World\"</h3>\r\n",
        "            </td>\r\n",
        "            <td style=\"width: 249px; height: 18px;\">\r\n",
        "                <h3>str</h3>\r\n",
        "            </td>\r\n",
        "            <td style=\"width: 10px; height: 18px;\">&nbsp;</td>\r\n",
        "        </tr>\r\n",
        "        <tr style=\"height: 18px;\">\r\n",
        "            <td style=\"width: 341px; height: 18px;\">\r\n",
        "                <h3>x = 20</h3>\r\n",
        "            </td>\r\n",
        "            <td style=\"width: 249px; height: 18px;\">\r\n",
        "                <h3>int</h3>\r\n",
        "            </td>\r\n",
        "            <td style=\"width: 10px; height: 18px;\">&nbsp;</td>\r\n",
        "        </tr>\r\n",
        "        <tr style=\"height: 18px;\">\r\n",
        "            <td style=\"width: 341px; height: 18px;\">\r\n",
        "                <h3>x = 20.5</h3>\r\n",
        "            </td>\r\n",
        "            <td style=\"width: 249px; height: 18px;\">\r\n",
        "                <h3>float</h3>\r\n",
        "            </td>\r\n",
        "            <td style=\"width: 10px; height: 18px;\">&nbsp;</td>\r\n",
        "        </tr>\r\n",
        "        <tr style=\"height: 18px;\">\r\n",
        "            <td style=\"width: 341px; height: 18px;\">\r\n",
        "                <h3>x = 1j</h3>\r\n",
        "            </td>\r\n",
        "            <td style=\"width: 249px; height: 18px;\">\r\n",
        "                <h3>complex</h3>\r\n",
        "            </td>\r\n",
        "            <td style=\"width: 10px; height: 18px;\">&nbsp;</td>\r\n",
        "        </tr>\r\n",
        "        <tr style=\"height: 18px;\">\r\n",
        "            <td style=\"width: 341px; height: 18px;\">\r\n",
        "                <h3>x = [\"apple\", \"banana\", \"cherry\"]</h3>\r\n",
        "            </td>\r\n",
        "            <td style=\"width: 249px; height: 18px;\">\r\n",
        "                <h3>list</h3>\r\n",
        "            </td>\r\n",
        "            <td style=\"width: 10px; height: 18px;\">&nbsp;</td>\r\n",
        "        </tr>\r\n",
        "        <tr style=\"height: 18px;\">\r\n",
        "            <td style=\"width: 341px; height: 18px;\">\r\n",
        "                <h3>x = (\"apple\", \"banana\", \"cherry\")</h3>\r\n",
        "            </td>\r\n",
        "            <td style=\"width: 249px; height: 18px;\">\r\n",
        "                <h3>tuple</h3>\r\n",
        "            </td>\r\n",
        "            <td style=\"width: 10px; height: 18px;\">&nbsp;</td>\r\n",
        "        </tr>\r\n",
        "        <tr style=\"height: 18px;\">\r\n",
        "            <td style=\"width: 341px; height: 18px;\">\r\n",
        "                <h3>x = range(6)</h3>\r\n",
        "            </td>\r\n",
        "            <td style=\"width: 249px; height: 18px;\">\r\n",
        "                <h3>range</h3>\r\n",
        "            </td>\r\n",
        "            <td style=\"width: 10px; height: 18px;\">&nbsp;</td>\r\n",
        "        </tr>\r\n",
        "        <tr style=\"height: 18px;\">\r\n",
        "            <td style=\"width: 341px; height: 18px;\">\r\n",
        "                <h3>x = {\"name\" : \"John\", \"age\" : 36}</h3>\r\n",
        "            </td>\r\n",
        "            <td style=\"width: 249px; height: 18px;\">\r\n",
        "                <h3>dict</h3>\r\n",
        "            </td>\r\n",
        "            <td style=\"width: 10px; height: 18px;\">&nbsp;</td>\r\n",
        "        </tr>\r\n",
        "        <tr style=\"height: 18px;\">\r\n",
        "            <td style=\"width: 341px; height: 18px;\">\r\n",
        "                <h3>x = {\"apple\", \"banana\", \"cherry\"}</h3>\r\n",
        "            </td>\r\n",
        "            <td style=\"width: 249px; height: 18px;\">\r\n",
        "                <h3>set</h3>\r\n",
        "            </td>\r\n",
        "            <td style=\"width: 10px; height: 18px;\">&nbsp;</td>\r\n",
        "        </tr>\r\n",
        "        <tr style=\"height: 36px;\">\r\n",
        "            <td style=\"width: 341px; height: 36px;\">\r\n",
        "                <h3>x = frozenset({\"apple\", \"banana\", \"cherry\"})</h3>\r\n",
        "            </td>\r\n",
        "            <td style=\"width: 249px; height: 36px;\">\r\n",
        "                <h3>frozenset</h3>\r\n",
        "            </td>\r\n",
        "            <td style=\"width: 10px; height: 36px;\">&nbsp;</td>\r\n",
        "        </tr>\r\n",
        "        <tr style=\"height: 18px;\">\r\n",
        "            <td style=\"width: 341px; height: 18px;\">\r\n",
        "                <h3>x = True</h3>\r\n",
        "            </td>\r\n",
        "            <td style=\"width: 249px; height: 18px;\">\r\n",
        "                <h3>bool</h3>\r\n",
        "            </td>\r\n",
        "            <td style=\"width: 10px; height: 18px;\">&nbsp;</td>\r\n",
        "        </tr>\r\n",
        "        <tr style=\"height: 18px;\">\r\n",
        "            <td style=\"width: 341px; height: 18px;\">\r\n",
        "                <h3>x = b\"Hello\"</h3>\r\n",
        "            </td>\r\n",
        "            <td style=\"width: 249px; height: 18px;\">\r\n",
        "                <h3>bytes</h3>\r\n",
        "            </td>\r\n",
        "            <td style=\"width: 10px; height: 18px;\">&nbsp;</td>\r\n",
        "        </tr>\r\n",
        "        <tr style=\"height: 18px;\">\r\n",
        "            <td style=\"width: 341px; height: 18px;\">\r\n",
        "                <h3>x = bytearray(5)</h3>\r\n",
        "            </td>\r\n",
        "            <td style=\"width: 249px; height: 18px;\">\r\n",
        "                <h3>bytearray</h3>\r\n",
        "            </td>\r\n",
        "            <td style=\"width: 10px; height: 18px;\">&nbsp;</td>\r\n",
        "        </tr>\r\n",
        "        <tr style=\"height: 18px;\">\r\n",
        "            <td style=\"width: 341px; height: 18px;\">\r\n",
        "                <h3>x = memoryview(bytes(5))</h3>\r\n",
        "            </td>\r\n",
        "            <td style=\"width: 249px; height: 18px;\">\r\n",
        "                <h3>memoryview</h3>\r\n",
        "            </td>\r\n",
        "        </tr>\r\n",
        "    </tbody>\r\n",
        "</table>\r\n",
        "<div id=\"gtx-trans\" style=\"position: absolute; left: 533px; top: 882.375px;\">\r\n",
        "    <div class=\"gtx-trans-icon\">&nbsp;</div>\r\n",
        "</div>"
      ]
    },
    {
      "cell_type": "markdown",
      "metadata": {
        "id": "qHf3DbGu-YWX"
      },
      "source": [
        "## __1. Number__\r\n",
        "\r\n",
        "Three numeric types in Python:\r\n",
        "- int\r\n",
        "- float\r\n",
        "- complex"
      ]
    },
    {
      "cell_type": "code",
      "metadata": {
        "colab": {
          "base_uri": "https://localhost:8080/"
        },
        "id": "4UDI7bTw-tGe",
        "outputId": "a167c3e8-459e-411e-c240-1bdcfe551b30"
      },
      "source": [
        "x = 1    # int\r\n",
        "y = 2.8  # float\r\n",
        "z = 1j   # complex\r\n",
        "\r\n",
        "print(type(x))\r\n",
        "print(type(y))\r\n",
        "print(type(z))"
      ],
      "execution_count": null,
      "outputs": [
        {
          "output_type": "stream",
          "text": [
            "<class 'int'>\n",
            "<class 'float'>\n",
            "<class 'complex'>\n"
          ],
          "name": "stdout"
        }
      ]
    },
    {
      "cell_type": "code",
      "metadata": {
        "colab": {
          "base_uri": "https://localhost:8080/"
        },
        "id": "sklG_O06-1Bd",
        "outputId": "0a10721c-aefd-4588-fa8f-b9a648e3c4ce"
      },
      "source": [
        "# Int\r\n",
        "\r\n",
        "x = 1\r\n",
        "y = 35656222554887711\r\n",
        "z = -3255522\r\n",
        "\r\n",
        "print(type(x))\r\n",
        "print(type(y))\r\n",
        "print(type(z))"
      ],
      "execution_count": null,
      "outputs": [
        {
          "output_type": "stream",
          "text": [
            "<class 'int'>\n",
            "<class 'int'>\n",
            "<class 'int'>\n"
          ],
          "name": "stdout"
        }
      ]
    },
    {
      "cell_type": "code",
      "metadata": {
        "colab": {
          "base_uri": "https://localhost:8080/"
        },
        "id": "zDksnpRn_FJJ",
        "outputId": "b3f35feb-79c7-41d9-a755-e1c181413157"
      },
      "source": [
        "# Float\r\n",
        "\r\n",
        "x = 1.10\r\n",
        "y = 1.0\r\n",
        "z = -35.59\r\n",
        "\r\n",
        "print(type(x))\r\n",
        "print(type(y))\r\n",
        "print(type(z))"
      ],
      "execution_count": null,
      "outputs": [
        {
          "output_type": "stream",
          "text": [
            "<class 'float'>\n",
            "<class 'float'>\n",
            "<class 'float'>\n"
          ],
          "name": "stdout"
        }
      ]
    },
    {
      "cell_type": "code",
      "metadata": {
        "colab": {
          "base_uri": "https://localhost:8080/"
        },
        "id": "AdyTapJH_PQp",
        "outputId": "62c2c47c-fc2b-4e41-e0bb-455132992d9d"
      },
      "source": [
        "# Scientific numbers with an \"e\" to indicate the power of 10\r\n",
        "\r\n",
        "x = 35e3\r\n",
        "y = 12E4\r\n",
        "z = -87.7e100\r\n",
        "\r\n",
        "print(type(x))\r\n",
        "print(type(y))\r\n",
        "print(type(z))"
      ],
      "execution_count": null,
      "outputs": [
        {
          "output_type": "stream",
          "text": [
            "<class 'float'>\n",
            "<class 'float'>\n",
            "<class 'float'>\n"
          ],
          "name": "stdout"
        }
      ]
    },
    {
      "cell_type": "code",
      "metadata": {
        "colab": {
          "base_uri": "https://localhost:8080/"
        },
        "id": "AEH0nwZk_pp_",
        "outputId": "bd120176-484a-44e9-e68a-bf4fe9513bb2"
      },
      "source": [
        "# Complex\r\n",
        "\r\n",
        "x = 3+5j\r\n",
        "y = 5j\r\n",
        "z = -5j\r\n",
        "\r\n",
        "print(type(x))\r\n",
        "print(type(y))\r\n",
        "print(type(z))"
      ],
      "execution_count": null,
      "outputs": [
        {
          "output_type": "stream",
          "text": [
            "<class 'complex'>\n",
            "<class 'complex'>\n",
            "<class 'complex'>\n"
          ],
          "name": "stdout"
        }
      ]
    },
    {
      "cell_type": "code",
      "metadata": {
        "colab": {
          "base_uri": "https://localhost:8080/"
        },
        "id": "OcHyrtqi_w8V",
        "outputId": "fff3c734-55be-414b-bfc2-cb6ef0f49c0c"
      },
      "source": [
        "# Type Conversion\r\n",
        "\r\n",
        "x = 1    # int\r\n",
        "y = 2.8  # float\r\n",
        "z = 1j   # complex\r\n",
        "\r\n",
        "#convert from int to float:\r\n",
        "a = float(x)\r\n",
        "\r\n",
        "#convert from float to int:\r\n",
        "b = int(y)\r\n",
        "\r\n",
        "#convert from int to complex:\r\n",
        "c = complex(x)\r\n",
        "\r\n",
        "print(a)\r\n",
        "print(b)\r\n",
        "print(c)\r\n",
        "\r\n",
        "print(type(a)) # to float\r\n",
        "print(type(b)) # to int\r\n",
        "print(type(c)) # to Complex"
      ],
      "execution_count": null,
      "outputs": [
        {
          "output_type": "stream",
          "text": [
            "1.0\n",
            "2\n",
            "(1+0j)\n",
            "/n\n",
            "<class 'float'>\n",
            "<class 'int'>\n",
            "<class 'complex'>\n"
          ],
          "name": "stdout"
        }
      ]
    },
    {
      "cell_type": "markdown",
      "metadata": {
        "id": "-8XHpjYyAZUB"
      },
      "source": [
        "## __2. Casting__\r\n",
        "\r\n"
      ]
    },
    {
      "cell_type": "code",
      "metadata": {
        "colab": {
          "base_uri": "https://localhost:8080/"
        },
        "id": "Rv8-cR_wAquC",
        "outputId": "032719bd-cbb3-4ac0-cafb-b87dc9e60108"
      },
      "source": [
        "x = int(1)      # x will be 1\r\n",
        "y = int(2.8)    # y will be 2\r\n",
        "z = int(\"3\")    # z will be 3\r\n",
        "\r\n",
        "print(x)\r\n",
        "print(y)\r\n",
        "print(z)"
      ],
      "execution_count": null,
      "outputs": [
        {
          "output_type": "stream",
          "text": [
            "1\n",
            "2\n",
            "3\n"
          ],
          "name": "stdout"
        }
      ]
    },
    {
      "cell_type": "code",
      "metadata": {
        "colab": {
          "base_uri": "https://localhost:8080/"
        },
        "id": "4eRvsNhCAsu0",
        "outputId": "35e0d3b8-b44a-4212-8f83-3219be4ba211"
      },
      "source": [
        "x = float(1)     # x will be 1.0\r\n",
        "y = float(2.8)   # y will be 2.8\r\n",
        "z = float(\"3\")   # z will be 3.0\r\n",
        "w = float(\"4.2\") # w will be 4.2\r\n",
        "\r\n",
        "print(x)\r\n",
        "print(y)\r\n",
        "print(z)\r\n",
        "print(w)"
      ],
      "execution_count": null,
      "outputs": [
        {
          "output_type": "stream",
          "text": [
            "1.0\n",
            "2.8\n",
            "3.0\n",
            "4.2\n"
          ],
          "name": "stdout"
        }
      ]
    },
    {
      "cell_type": "code",
      "metadata": {
        "colab": {
          "base_uri": "https://localhost:8080/"
        },
        "id": "e0fB1TUfAYWt",
        "outputId": "8f5054c2-6a37-435c-8cc5-b51870f7c181"
      },
      "source": [
        "x = str(\"s1\") # x will be 's1'\r\n",
        "y = str(2)    # y will be '2'\r\n",
        "z = str(3.0)  # z will be '3.0'\r\n",
        "\r\n",
        "print(x)\r\n",
        "print(y)\r\n",
        "print(z)"
      ],
      "execution_count": null,
      "outputs": [
        {
          "output_type": "stream",
          "text": [
            "s1\n",
            "2\n",
            "3.0\n"
          ],
          "name": "stdout"
        }
      ]
    },
    {
      "cell_type": "markdown",
      "metadata": {
        "id": "LjP-TFSTBDaN"
      },
      "source": [
        "## __3. Strings__"
      ]
    },
    {
      "cell_type": "markdown",
      "metadata": {
        "id": "C4yAPvvRC3Hv"
      },
      "source": [
        "#### __1. Python Strings__"
      ]
    },
    {
      "cell_type": "code",
      "metadata": {
        "colab": {
          "base_uri": "https://localhost:8080/"
        },
        "id": "xFYJipILChp4",
        "outputId": "4ecf53a7-3187-4907-c061-d169d01504c0"
      },
      "source": [
        "# Assign String to a Variable\r\n",
        "\r\n",
        "a = \"Hello\"\r\n",
        "print(a)"
      ],
      "execution_count": null,
      "outputs": [
        {
          "output_type": "stream",
          "text": [
            "Hello\n"
          ],
          "name": "stdout"
        }
      ]
    },
    {
      "cell_type": "code",
      "metadata": {
        "colab": {
          "base_uri": "https://localhost:8080/"
        },
        "id": "jSfRfEU6Ctl7",
        "outputId": "1cd57c55-2385-473f-ce92-85673a8a6278"
      },
      "source": [
        "# Multiline Strings\r\n",
        "\r\n",
        "a = \"\"\"Lorem ipsum dolor sit amet,\r\n",
        "consectetur adipiscing elit,\r\n",
        "sed do eiusmod tempor incididunt\r\n",
        "ut labore et dolore magna aliqua.\"\"\"\r\n",
        "print(a)"
      ],
      "execution_count": null,
      "outputs": [
        {
          "output_type": "stream",
          "text": [
            "Lorem ipsum dolor sit amet,\n",
            "consectetur adipiscing elit,\n",
            "sed do eiusmod tempor incididunt\n",
            "ut labore et dolore magna aliqua.\n"
          ],
          "name": "stdout"
        }
      ]
    },
    {
      "cell_type": "code",
      "metadata": {
        "colab": {
          "base_uri": "https://localhost:8080/"
        },
        "id": "LAhRG8YOCxn3",
        "outputId": "5155e85c-2224-4e27-f98c-e472475e1dc4"
      },
      "source": [
        "# Get the character at position\r\n",
        "\r\n",
        "a = \"Hello, World!\"\r\n",
        "print(a[1])"
      ],
      "execution_count": null,
      "outputs": [
        {
          "output_type": "stream",
          "text": [
            "e\n"
          ],
          "name": "stdout"
        }
      ]
    },
    {
      "cell_type": "code",
      "metadata": {
        "colab": {
          "base_uri": "https://localhost:8080/"
        },
        "id": "MH7LY9VMDGRK",
        "outputId": "e663080c-69c8-4429-cff8-efd1d8e3ae16"
      },
      "source": [
        "# Looping\r\n",
        "\r\n",
        "for x in \"banana\":\r\n",
        "  print(x)"
      ],
      "execution_count": null,
      "outputs": [
        {
          "output_type": "stream",
          "text": [
            "b\n",
            "a\n",
            "n\n",
            "a\n",
            "n\n",
            "a\n"
          ],
          "name": "stdout"
        }
      ]
    },
    {
      "cell_type": "code",
      "metadata": {
        "colab": {
          "base_uri": "https://localhost:8080/"
        },
        "id": "4dW5HQt8DND_",
        "outputId": "b41c3c9c-2843-49a6-dcc4-f1410f77cab8"
      },
      "source": [
        "# String Length\r\n",
        "\r\n",
        "a = \"Hello, World!\"\r\n",
        "print(len(a))"
      ],
      "execution_count": null,
      "outputs": [
        {
          "output_type": "stream",
          "text": [
            "13\n"
          ],
          "name": "stdout"
        }
      ]
    },
    {
      "cell_type": "code",
      "metadata": {
        "colab": {
          "base_uri": "https://localhost:8080/"
        },
        "id": "qImVF1fKDU1o",
        "outputId": "c26ddd03-d33e-4b0c-9fcf-0d731faca939"
      },
      "source": [
        "# Check if \"free\" is present in the following text\r\n",
        "\r\n",
        "txt = \"The best things in life are free!\"\r\n",
        "print(\"free\" in txt)"
      ],
      "execution_count": null,
      "outputs": [
        {
          "output_type": "stream",
          "text": [
            "True\n"
          ],
          "name": "stdout"
        }
      ]
    },
    {
      "cell_type": "code",
      "metadata": {
        "colab": {
          "base_uri": "https://localhost:8080/"
        },
        "id": "grN1lbTHDb7y",
        "outputId": "7c2e9db1-c970-4918-d234-03851c8c6969"
      },
      "source": [
        "# Check if NOT\r\n",
        "\r\n",
        "txt = \"The best things in life are free!\"\r\n",
        "print(\"expensive\" not in txt)"
      ],
      "execution_count": null,
      "outputs": [
        {
          "output_type": "stream",
          "text": [
            "True\n"
          ],
          "name": "stdout"
        }
      ]
    },
    {
      "cell_type": "code",
      "metadata": {
        "colab": {
          "base_uri": "https://localhost:8080/"
        },
        "id": "BMR6WBSpDi66",
        "outputId": "0c1aa22f-27ff-478d-b4c2-cd012a50f57d"
      },
      "source": [
        "# print only if \"expensive\" is NOT present:\r\n",
        "\r\n",
        "txt = \"The best things in life are free!\"\r\n",
        "if \"expensive\" not in txt:\r\n",
        "  print(\"No, 'expensive' is NOT present.\")"
      ],
      "execution_count": null,
      "outputs": [
        {
          "output_type": "stream",
          "text": [
            "No, 'expensive' is NOT present.\n"
          ],
          "name": "stdout"
        }
      ]
    },
    {
      "cell_type": "markdown",
      "metadata": {
        "id": "taZwuuX1DxD8"
      },
      "source": [
        "#### __2. Slicing Strings__"
      ]
    },
    {
      "cell_type": "code",
      "metadata": {
        "colab": {
          "base_uri": "https://localhost:8080/"
        },
        "id": "Qmn-OL2qDzAy",
        "outputId": "3b40aa38-3e33-4c67-f815-6d0756eeb28d"
      },
      "source": [
        "b = \"Hello, World!\"\r\n",
        "\r\n",
        "print(b[2:5])   # Slicing\r\n",
        "print(b[:5])    # Slice From the Start\r\n",
        "print(b[2:])    # Slice To the End\r\n",
        "print(b[-5:-2]) # Negative Indexing"
      ],
      "execution_count": null,
      "outputs": [
        {
          "output_type": "stream",
          "text": [
            "llo\n",
            "Hello\n",
            "llo, World!\n",
            "orl\n"
          ],
          "name": "stdout"
        }
      ]
    },
    {
      "cell_type": "markdown",
      "metadata": {
        "id": "FmrOEEN8Ezav"
      },
      "source": [
        "#### __3. Modify Strings__"
      ]
    },
    {
      "cell_type": "code",
      "metadata": {
        "colab": {
          "base_uri": "https://localhost:8080/"
        },
        "id": "edJPcg90EL1G",
        "outputId": "758118ca-84a7-4b9d-8dcc-819628b391c1"
      },
      "source": [
        "a = \"Hello, World!\"\r\n",
        "b = \"    Hello, World!\"\r\n",
        "\r\n",
        "print(a.upper())           # Upper Case\r\n",
        "print(a.lower())           # Lower Case\r\n",
        "print(b.strip())           # Remove Whitespace\r\n",
        "print(a.replace(\"H\", \"J\")) # Replace String\r\n",
        "print(a.split(\",\"))        # Split String              "
      ],
      "execution_count": null,
      "outputs": [
        {
          "output_type": "stream",
          "text": [
            "HELLO, WORLD!\n",
            "hello, world!\n",
            "Hello, World!\n",
            "Jello, World!\n",
            "['Hello', ' World!']\n"
          ],
          "name": "stdout"
        }
      ]
    },
    {
      "cell_type": "markdown",
      "metadata": {
        "id": "OcV-c4-JGVYh"
      },
      "source": [
        "#### __4. String Concatenation__"
      ]
    },
    {
      "cell_type": "code",
      "metadata": {
        "colab": {
          "base_uri": "https://localhost:8080/"
        },
        "id": "HJ_u9iB3GRez",
        "outputId": "de591e31-4222-4c74-c09f-1b1a2356d446"
      },
      "source": [
        "a = \"Hello\"\r\n",
        "b = \"World\"\r\n",
        "c = a + b\r\n",
        "print(c)"
      ],
      "execution_count": null,
      "outputs": [
        {
          "output_type": "stream",
          "text": [
            "HelloWorld\n"
          ],
          "name": "stdout"
        }
      ]
    },
    {
      "cell_type": "code",
      "metadata": {
        "colab": {
          "base_uri": "https://localhost:8080/"
        },
        "id": "DGUp1Z3kGeeH",
        "outputId": "a2be99dc-b825-42d1-aa59-af7ec757be9b"
      },
      "source": [
        "a = \"Hello\"\r\n",
        "b = \"World\"\r\n",
        "c = a + \" \" + b\r\n",
        "print(c)"
      ],
      "execution_count": null,
      "outputs": [
        {
          "output_type": "stream",
          "text": [
            "Hello World\n"
          ],
          "name": "stdout"
        }
      ]
    },
    {
      "cell_type": "markdown",
      "metadata": {
        "id": "1C7RVOcyGlNF"
      },
      "source": [
        "#### __5. Format Method__"
      ]
    },
    {
      "cell_type": "markdown",
      "metadata": {
        "id": "gucw4-CqG8cd"
      },
      "source": [
        "```python\r\n",
        "# we cannot combine strings and numbers\r\n",
        "\r\n",
        "age = 36\r\n",
        "txt = \"My name is John, I am \" + age\r\n",
        "print(txt)\r\n",
        "```"
      ]
    },
    {
      "cell_type": "code",
      "metadata": {
        "colab": {
          "base_uri": "https://localhost:8080/"
        },
        "id": "nFgTV3caGptg",
        "outputId": "a2feb621-fe99-47c2-b776-dd707cca576f"
      },
      "source": [
        "# combining strings and numbers \r\n",
        "# by using the `format()` method!\r\n",
        "\r\n",
        "age = 36\r\n",
        "txt = \"My name is John, and I am {}\"\r\n",
        "print(txt.format(age))"
      ],
      "execution_count": null,
      "outputs": [
        {
          "output_type": "stream",
          "text": [
            "My name is John, and I am 36\n"
          ],
          "name": "stdout"
        }
      ]
    },
    {
      "cell_type": "code",
      "metadata": {
        "colab": {
          "base_uri": "https://localhost:8080/"
        },
        "id": "CHhLSLT6HWym",
        "outputId": "a8925865-6b69-4045-ebd7-5c9ccb3e6f93"
      },
      "source": [
        "quantity = 3\r\n",
        "itemno = 567\r\n",
        "price = 49.95\r\n",
        "myorder = \"I want {} pieces of item {} for {} dollars.\"\r\n",
        "print(myorder.format(quantity, itemno, price))"
      ],
      "execution_count": null,
      "outputs": [
        {
          "output_type": "stream",
          "text": [
            "I want 3 pieces of item 567 for 49.95 dollars.\n"
          ],
          "name": "stdout"
        }
      ]
    },
    {
      "cell_type": "code",
      "metadata": {
        "colab": {
          "base_uri": "https://localhost:8080/"
        },
        "id": "SahWU-vLHcMG",
        "outputId": "afc2a998-a877-41bd-bc46-21d26b3f539d"
      },
      "source": [
        "quantity = 3\r\n",
        "itemno = 567\r\n",
        "price = 49.95\r\n",
        "myorder = \"I want to pay {2} dollars for {0} pieces of item {1}.\"\r\n",
        "print(myorder.format(quantity, itemno, price))"
      ],
      "execution_count": null,
      "outputs": [
        {
          "output_type": "stream",
          "text": [
            "I want to pay 49.95 dollars for 3 pieces of item 567.\n"
          ],
          "name": "stdout"
        }
      ]
    },
    {
      "cell_type": "code",
      "metadata": {
        "colab": {
          "base_uri": "https://localhost:8080/"
        },
        "id": "F1Y3mv9aH0pM",
        "outputId": "b501c9ec-6191-45b9-f4a4-9ec30a926b1c"
      },
      "source": [
        "# Python3 program introducing f-string \r\n",
        "\r\n",
        "name = 'Faizy'\r\n",
        "age = 29\r\n",
        "print(f\"Hello, My name is {name} and I'm {age} years old.\") "
      ],
      "execution_count": null,
      "outputs": [
        {
          "output_type": "stream",
          "text": [
            "Hello, My name is Faizy and I'm 29 years old.\n"
          ],
          "name": "stdout"
        }
      ]
    },
    {
      "cell_type": "code",
      "metadata": {
        "colab": {
          "base_uri": "https://localhost:8080/"
        },
        "id": "Zqb3YfdkIJtx",
        "outputId": "c4a337e9-9efe-480c-8788-8a3fa5dae6e7"
      },
      "source": [
        "import datetime \r\n",
        "  \r\n",
        "today = datetime.datetime.today() \r\n",
        "print(f\"{today:%B %d, %Y}\") "
      ],
      "execution_count": null,
      "outputs": [
        {
          "output_type": "stream",
          "text": [
            "December 09, 2020\n"
          ],
          "name": "stdout"
        }
      ]
    },
    {
      "cell_type": "markdown",
      "metadata": {
        "id": "_X2h-6MhISnu"
      },
      "source": [
        "#### __6. Escape Character__\r\n",
        "\r\n",
        "```python\r\n",
        "# we will get an error if you use double quotes \r\n",
        "# inside a string that is surrounded by double quotes\r\n",
        "\r\n",
        "txt = \"We are the so-called \"Vikings\" from the north.\"\r\n",
        "```"
      ]
    },
    {
      "cell_type": "code",
      "metadata": {
        "colab": {
          "base_uri": "https://localhost:8080/"
        },
        "id": "31jyn_x6Ilpt",
        "outputId": "f6f56c4d-1f72-406d-9aeb-aa212e0c55c4"
      },
      "source": [
        "# Fix\r\n",
        "\r\n",
        "txt = \"We are the so-called \\\"Vikings\\\" from the north.\"\r\n",
        "print(txt)"
      ],
      "execution_count": null,
      "outputs": [
        {
          "output_type": "stream",
          "text": [
            "We are the so-called \"Vikings\" from the north.\n"
          ],
          "name": "stdout"
        }
      ]
    },
    {
      "cell_type": "code",
      "metadata": {
        "colab": {
          "base_uri": "https://localhost:8080/"
        },
        "id": "fCIS8uRgM-Nz",
        "outputId": "ff2bcf59-b830-40e9-d05d-63bface04b77"
      },
      "source": [
        "txt = \"We are the so-called\\nfrom the north.\"\r\n",
        "print(txt)"
      ],
      "execution_count": null,
      "outputs": [
        {
          "output_type": "stream",
          "text": [
            "We are the so-called\n",
            "from the north.\n"
          ],
          "name": "stdout"
        }
      ]
    },
    {
      "cell_type": "markdown",
      "metadata": {
        "id": "jyzK_o4cJTpo"
      },
      "source": [
        "__Escape Charaters__\r\n",
        "\r\n",
        "<table class=\"w3-table-all notranslate\" style=\"height: 405px;\" width=\"591\">\r\n",
        "    <tbody>\r\n",
        "        <tr style=\"height: 40px;\">\r\n",
        "            <th style=\"width: 236px; height: 40px;\">\r\n",
        "                <h2>Code</h2>\r\n",
        "            </th>\r\n",
        "            <th style=\"width: 324px; height: 40px;\">\r\n",
        "                <h2>Result</h2>\r\n",
        "            </th>\r\n",
        "            <th style=\"width: 9px; height: 40px;\">&nbsp;</th>\r\n",
        "        </tr>\r\n",
        "        <tr style=\"height: 40px;\">\r\n",
        "            <td style=\"width: 236px; height: 40px;\">\r\n",
        "                <h2>\\'</h2>\r\n",
        "            </td>\r\n",
        "            <td style=\"width: 324px; height: 40px;\">\r\n",
        "                <h3>Single Quote</h3>\r\n",
        "            </td>\r\n",
        "            <td style=\"width: 9px; height: 40px;\">&nbsp;</td>\r\n",
        "        </tr>\r\n",
        "        <tr style=\"height: 40px;\">\r\n",
        "            <td style=\"width: 236px; height: 40px;\">\r\n",
        "                <h2>\\\\</h2>\r\n",
        "            </td>\r\n",
        "            <td style=\"width: 324px; height: 40px;\">\r\n",
        "                <h3>Backslash</h3>\r\n",
        "            </td>\r\n",
        "            <td style=\"width: 9px; height: 40px;\">&nbsp;</td>\r\n",
        "        </tr>\r\n",
        "        <tr style=\"height: 40px;\">\r\n",
        "            <td style=\"width: 236px; height: 40px;\">\r\n",
        "                <h2>\\n</h2>\r\n",
        "            </td>\r\n",
        "            <td style=\"width: 324px; height: 40px;\">\r\n",
        "                <h3>New Line</h3>\r\n",
        "            </td>\r\n",
        "            <td style=\"width: 9px; height: 40px;\">&nbsp;</td>\r\n",
        "        </tr>\r\n",
        "        <tr style=\"height: 40px;\">\r\n",
        "            <td style=\"width: 236px; height: 40px;\">\r\n",
        "                <h2>\\r</h2>\r\n",
        "            </td>\r\n",
        "            <td style=\"width: 324px; height: 40px;\">\r\n",
        "                <h3>Carriage Return</h3>\r\n",
        "            </td>\r\n",
        "            <td style=\"width: 9px; height: 40px;\">&nbsp;</td>\r\n",
        "        </tr>\r\n",
        "        <tr style=\"height: 41px;\">\r\n",
        "            <td style=\"width: 236px; height: 41px;\">\r\n",
        "                <h2>\\t</h2>\r\n",
        "            </td>\r\n",
        "            <td style=\"width: 324px; height: 41px;\">\r\n",
        "                <h3>Tab</h3>\r\n",
        "            </td>\r\n",
        "            <td style=\"width: 9px; height: 41px;\">&nbsp;</td>\r\n",
        "        </tr>\r\n",
        "        <tr style=\"height: 41px;\">\r\n",
        "            <td style=\"width: 236px; height: 41px;\">\r\n",
        "                <h2>\\b</h2>\r\n",
        "            </td>\r\n",
        "            <td style=\"width: 324px; height: 41px;\">\r\n",
        "                <h3>Backspace</h3>\r\n",
        "            </td>\r\n",
        "            <td style=\"width: 9px; height: 41px;\">&nbsp;</td>\r\n",
        "        </tr>\r\n",
        "        <tr style=\"height: 41px;\">\r\n",
        "            <td style=\"width: 236px; height: 41px;\">\r\n",
        "                <h2>\\f</h2>\r\n",
        "            </td>\r\n",
        "            <td style=\"width: 324px; height: 41px;\">\r\n",
        "                <h3>Form Feed</h3>\r\n",
        "            </td>\r\n",
        "            <td style=\"width: 9px; height: 41px;\">&nbsp;</td>\r\n",
        "        </tr>\r\n",
        "        <tr style=\"height: 41px;\">\r\n",
        "            <td style=\"width: 236px; height: 41px;\">\r\n",
        "                <h2>\\ooo</h2>\r\n",
        "            </td>\r\n",
        "            <td style=\"width: 324px; height: 41px;\">\r\n",
        "                <h3>Octal value</h3>\r\n",
        "            </td>\r\n",
        "            <td style=\"width: 9px; height: 41px;\">&nbsp;</td>\r\n",
        "        </tr>\r\n",
        "        <tr style=\"height: 41px;\">\r\n",
        "            <td style=\"width: 236px; height: 41px;\">\r\n",
        "                <h2>\\xhh</h2>\r\n",
        "            </td>\r\n",
        "            <td style=\"width: 324px; height: 41px;\">\r\n",
        "                <h3>Hex value</h3>\r\n",
        "            </td>\r\n",
        "        </tr>\r\n",
        "    </tbody>\r\n",
        "</table>"
      ]
    },
    {
      "cell_type": "markdown",
      "metadata": {
        "id": "-ZJ8AbuRKEF8"
      },
      "source": [
        "#### __7. String Methods__"
      ]
    },
    {
      "cell_type": "markdown",
      "metadata": {
        "id": "jEdbwQZFKGgt"
      },
      "source": [
        "<table class=\"w3-table-all notranslate\">\r\n",
        "    <tbody>\r\n",
        "        <tr>\r\n",
        "            <td>\r\n",
        "                <h3><a href=\"https://www.w3schools.com/python/ref_string_capitalize.asp\">capitalize()</a></h3>\r\n",
        "            </td>\r\n",
        "            <td>\r\n",
        "                <h4><strong>Converts the first character to upper case</strong></h4>\r\n",
        "            </td>\r\n",
        "        </tr>\r\n",
        "        <tr>\r\n",
        "            <td>\r\n",
        "                <h3><a href=\"https://www.w3schools.com/python/ref_string_casefold.asp\">casefold()</a></h3>\r\n",
        "            </td>\r\n",
        "            <td>\r\n",
        "                <h4><strong>Converts string into lower case</strong></h4>\r\n",
        "            </td>\r\n",
        "        </tr>\r\n",
        "        <tr>\r\n",
        "            <td>\r\n",
        "                <h3><a href=\"https://www.w3schools.com/python/ref_string_center.asp\">center()</a></h3>\r\n",
        "            </td>\r\n",
        "            <td>\r\n",
        "                <h4><strong>Returns a centered string</strong></h4>\r\n",
        "            </td>\r\n",
        "        </tr>\r\n",
        "        <tr>\r\n",
        "            <td>\r\n",
        "                <h3><a href=\"https://www.w3schools.com/python/ref_string_count.asp\">count()</a></h3>\r\n",
        "            </td>\r\n",
        "            <td>\r\n",
        "                <h4><strong>Returns the number of times a specified value occurs in a string</strong></h4>\r\n",
        "            </td>\r\n",
        "        </tr>\r\n",
        "        <tr>\r\n",
        "            <td>\r\n",
        "                <h3><a href=\"https://www.w3schools.com/python/ref_string_encode.asp\">encode()</a></h3>\r\n",
        "            </td>\r\n",
        "            <td>\r\n",
        "                <h4><strong>Returns an encoded version of the string</strong></h4>\r\n",
        "            </td>\r\n",
        "        </tr>\r\n",
        "        <tr>\r\n",
        "            <td>\r\n",
        "                <h3><a href=\"https://www.w3schools.com/python/ref_string_endswith.asp\">endswith()</a></h3>\r\n",
        "            </td>\r\n",
        "            <td>\r\n",
        "                <h4><strong>Returns true if the string ends with the specified value</strong></h4>\r\n",
        "            </td>\r\n",
        "        </tr>\r\n",
        "        <tr>\r\n",
        "            <td>\r\n",
        "                <h3><a href=\"https://www.w3schools.com/python/ref_string_expandtabs.asp\">expandtabs()</a></h3>\r\n",
        "            </td>\r\n",
        "            <td>\r\n",
        "                <h4><strong>Sets the tab size of the string</strong></h4>\r\n",
        "            </td>\r\n",
        "        </tr>\r\n",
        "        <tr>\r\n",
        "            <td>\r\n",
        "                <h3><a href=\"https://www.w3schools.com/python/ref_string_find.asp\">find()</a></h3>\r\n",
        "            </td>\r\n",
        "            <td>\r\n",
        "                <h4><strong>Searches the string for a specified value and returns the position of where it was\r\n",
        "                        found</strong></h4>\r\n",
        "            </td>\r\n",
        "        </tr>\r\n",
        "        <tr>\r\n",
        "            <td>\r\n",
        "                <h3><a href=\"https://www.w3schools.com/python/ref_string_format.asp\">format()</a></h3>\r\n",
        "            </td>\r\n",
        "            <td>\r\n",
        "                <h4><strong>Formats specified values in a string</strong></h4>\r\n",
        "            </td>\r\n",
        "        </tr>\r\n",
        "        <tr>\r\n",
        "            <td>\r\n",
        "                <h3>format_map()</h3>\r\n",
        "            </td>\r\n",
        "            <td>\r\n",
        "                <h4><strong>Formats specified values in a string</strong></h4>\r\n",
        "            </td>\r\n",
        "        </tr>\r\n",
        "        <tr>\r\n",
        "            <td>\r\n",
        "                <h3><a href=\"https://www.w3schools.com/python/ref_string_index.asp\">index()</a></h3>\r\n",
        "            </td>\r\n",
        "            <td>\r\n",
        "                <h4><strong>Searches the string for a specified value and returns the position of where it was\r\n",
        "                        found</strong></h4>\r\n",
        "            </td>\r\n",
        "        </tr>\r\n",
        "        <tr>\r\n",
        "            <td>\r\n",
        "                <h3><a href=\"https://www.w3schools.com/python/ref_string_isalnum.asp\">isalnum()</a></h3>\r\n",
        "            </td>\r\n",
        "            <td>\r\n",
        "                <h4><strong>Returns True if all characters in the string are alphanumeric</strong></h4>\r\n",
        "            </td>\r\n",
        "        </tr>\r\n",
        "        <tr>\r\n",
        "            <td>\r\n",
        "                <h3><a href=\"https://www.w3schools.com/python/ref_string_isalpha.asp\">isalpha()</a></h3>\r\n",
        "            </td>\r\n",
        "            <td>\r\n",
        "                <h4><strong>Returns True if all characters in the string are in the alphabet</strong></h4>\r\n",
        "            </td>\r\n",
        "        </tr>\r\n",
        "        <tr>\r\n",
        "            <td>\r\n",
        "                <h3><a href=\"https://www.w3schools.com/python/ref_string_isdecimal.asp\">isdecimal()</a></h3>\r\n",
        "            </td>\r\n",
        "            <td>\r\n",
        "                <h4><strong>Returns True if all characters in the string are decimals</strong></h4>\r\n",
        "            </td>\r\n",
        "        </tr>\r\n",
        "        <tr>\r\n",
        "            <td>\r\n",
        "                <h3><a href=\"https://www.w3schools.com/python/ref_string_isdigit.asp\">isdigit()</a></h3>\r\n",
        "            </td>\r\n",
        "            <td>\r\n",
        "                <h4><strong>Returns True if all characters in the string are digits</strong></h4>\r\n",
        "            </td>\r\n",
        "        </tr>\r\n",
        "        <tr>\r\n",
        "            <td>\r\n",
        "                <h3><a href=\"https://www.w3schools.com/python/ref_string_isidentifier.asp\">isidentifier()</a></h3>\r\n",
        "            </td>\r\n",
        "            <td>\r\n",
        "                <h4><strong>Returns True if the string is an identifier</strong></h4>\r\n",
        "            </td>\r\n",
        "        </tr>\r\n",
        "        <tr>\r\n",
        "            <td>\r\n",
        "                <h3><a href=\"https://www.w3schools.com/python/ref_string_islower.asp\">islower()</a></h3>\r\n",
        "            </td>\r\n",
        "            <td>\r\n",
        "                <h4><strong>Returns True if all characters in the string are lower case</strong></h4>\r\n",
        "            </td>\r\n",
        "        </tr>\r\n",
        "        <tr>\r\n",
        "            <td>\r\n",
        "                <h3><a href=\"https://www.w3schools.com/python/ref_string_isnumeric.asp\">isnumeric()</a></h3>\r\n",
        "            </td>\r\n",
        "            <td>\r\n",
        "                <h4><strong>Returns True if all characters in the string are numeric</strong></h4>\r\n",
        "            </td>\r\n",
        "        </tr>\r\n",
        "        <tr>\r\n",
        "            <td>\r\n",
        "                <h3><a href=\"https://www.w3schools.com/python/ref_string_isprintable.asp\">isprintable()</a></h3>\r\n",
        "            </td>\r\n",
        "            <td>\r\n",
        "                <h4><strong>Returns True if all characters in the string are printable</strong></h4>\r\n",
        "            </td>\r\n",
        "        </tr>\r\n",
        "        <tr>\r\n",
        "            <td>\r\n",
        "                <h3><a href=\"https://www.w3schools.com/python/ref_string_isspace.asp\">isspace()</a></h3>\r\n",
        "            </td>\r\n",
        "            <td>\r\n",
        "                <h4><strong>Returns True if all characters in the string are whitespaces</strong></h4>\r\n",
        "            </td>\r\n",
        "        </tr>\r\n",
        "        <tr>\r\n",
        "            <td>\r\n",
        "                <h3><a href=\"https://www.w3schools.com/python/ref_string_istitle.asp\">istitle()</a></h3>\r\n",
        "            </td>\r\n",
        "            <td>\r\n",
        "                <h4><strong>Returns True if the string follows the rules of a title</strong></h4>\r\n",
        "            </td>\r\n",
        "        </tr>\r\n",
        "        <tr>\r\n",
        "            <td>\r\n",
        "                <h3><a href=\"https://www.w3schools.com/python/ref_string_isupper.asp\">isupper()</a></h3>\r\n",
        "            </td>\r\n",
        "            <td>\r\n",
        "                <h4><strong>Returns True if all characters in the string are upper case</strong></h4>\r\n",
        "            </td>\r\n",
        "        </tr>\r\n",
        "        <tr>\r\n",
        "            <td>\r\n",
        "                <h3><a href=\"https://www.w3schools.com/python/ref_string_join.asp\">join()</a></h3>\r\n",
        "            </td>\r\n",
        "            <td>\r\n",
        "                <h4><strong>Joins the elements of an iterable to the end of the string</strong></h4>\r\n",
        "            </td>\r\n",
        "        </tr>\r\n",
        "        <tr>\r\n",
        "            <td>\r\n",
        "                <h3><a href=\"https://www.w3schools.com/python/ref_string_ljust.asp\">ljust()</a></h3>\r\n",
        "            </td>\r\n",
        "            <td>\r\n",
        "                <h4><strong>Returns a left justified version of the string</strong></h4>\r\n",
        "            </td>\r\n",
        "        </tr>\r\n",
        "        <tr>\r\n",
        "            <td>\r\n",
        "                <h3><a href=\"https://www.w3schools.com/python/ref_string_lower.asp\">lower()</a></h3>\r\n",
        "            </td>\r\n",
        "            <td>\r\n",
        "                <h4><strong>Converts a string into lower case</strong></h4>\r\n",
        "            </td>\r\n",
        "        </tr>\r\n",
        "        <tr>\r\n",
        "            <td>\r\n",
        "                <h3><a href=\"https://www.w3schools.com/python/ref_string_lstrip.asp\">lstrip()</a></h3>\r\n",
        "            </td>\r\n",
        "            <td>\r\n",
        "                <h4><strong>Returns a left trim version of the string</strong></h4>\r\n",
        "            </td>\r\n",
        "        </tr>\r\n",
        "        <tr>\r\n",
        "            <td>\r\n",
        "                <h3><a href=\"https://www.w3schools.com/python/ref_string_maketrans.asp\">maketrans()</a></h3>\r\n",
        "            </td>\r\n",
        "            <td>\r\n",
        "                <h4><strong>Returns a translation table to be used in translations</strong></h4>\r\n",
        "            </td>\r\n",
        "        </tr>\r\n",
        "        <tr>\r\n",
        "            <td>\r\n",
        "                <h3><a href=\"https://www.w3schools.com/python/ref_string_partition.asp\">partition()</a></h3>\r\n",
        "            </td>\r\n",
        "            <td>\r\n",
        "                <h4><strong>Returns a tuple where the string is parted into three parts</strong></h4>\r\n",
        "            </td>\r\n",
        "        </tr>\r\n",
        "        <tr>\r\n",
        "            <td>\r\n",
        "                <h3><a href=\"https://www.w3schools.com/python/ref_string_replace.asp\">replace()</a></h3>\r\n",
        "            </td>\r\n",
        "            <td>\r\n",
        "                <h4><strong>Returns a string where a specified value is replaced with a specified value</strong></h4>\r\n",
        "            </td>\r\n",
        "        </tr>\r\n",
        "        <tr>\r\n",
        "            <td>\r\n",
        "                <h3><a href=\"https://www.w3schools.com/python/ref_string_rfind.asp\">rfind()</a></h3>\r\n",
        "            </td>\r\n",
        "            <td>\r\n",
        "                <h4><strong>Searches the string for a specified value and returns the last position of where it was\r\n",
        "                        found</strong></h4>\r\n",
        "            </td>\r\n",
        "        </tr>\r\n",
        "        <tr>\r\n",
        "            <td>\r\n",
        "                <h3><a href=\"https://www.w3schools.com/python/ref_string_rindex.asp\">rindex()</a></h3>\r\n",
        "            </td>\r\n",
        "            <td>\r\n",
        "                <h4><strong>Searches the string for a specified value and returns the last position of where it was\r\n",
        "                        found</strong></h4>\r\n",
        "            </td>\r\n",
        "        </tr>\r\n",
        "        <tr>\r\n",
        "            <td>\r\n",
        "                <h3><a href=\"https://www.w3schools.com/python/ref_string_rjust.asp\">rjust()</a></h3>\r\n",
        "            </td>\r\n",
        "            <td>\r\n",
        "                <h4><strong>Returns a right justified version of the string</strong></h4>\r\n",
        "            </td>\r\n",
        "        </tr>\r\n",
        "        <tr>\r\n",
        "            <td>\r\n",
        "                <h3><a href=\"https://www.w3schools.com/python/ref_string_rpartition.asp\">rpartition()</a></h3>\r\n",
        "            </td>\r\n",
        "            <td>\r\n",
        "                <h4><strong>Returns a tuple where the string is parted into three parts</strong></h4>\r\n",
        "            </td>\r\n",
        "        </tr>\r\n",
        "        <tr>\r\n",
        "            <td>\r\n",
        "                <h3><a href=\"https://www.w3schools.com/python/ref_string_rsplit.asp\">rsplit()</a></h3>\r\n",
        "            </td>\r\n",
        "            <td>\r\n",
        "                <h4><strong>Splits the string at the specified separator, and returns a list</strong></h4>\r\n",
        "            </td>\r\n",
        "        </tr>\r\n",
        "        <tr>\r\n",
        "            <td>\r\n",
        "                <h3><a href=\"https://www.w3schools.com/python/ref_string_rstrip.asp\">rstrip()</a></h3>\r\n",
        "            </td>\r\n",
        "            <td>\r\n",
        "                <h4><strong>Returns a right trim version of the string</strong></h4>\r\n",
        "            </td>\r\n",
        "        </tr>\r\n",
        "        <tr>\r\n",
        "            <td>\r\n",
        "                <h3><a href=\"https://www.w3schools.com/python/ref_string_split.asp\">split()</a></h3>\r\n",
        "            </td>\r\n",
        "            <td>\r\n",
        "                <h4><strong>Splits the string at the specified separator, and returns a list</strong></h4>\r\n",
        "            </td>\r\n",
        "        </tr>\r\n",
        "        <tr>\r\n",
        "            <td>\r\n",
        "                <h3><a href=\"https://www.w3schools.com/python/ref_string_splitlines.asp\">splitlines()</a></h3>\r\n",
        "            </td>\r\n",
        "            <td>\r\n",
        "                <h4><strong>Splits the string at line breaks and returns a list</strong></h4>\r\n",
        "            </td>\r\n",
        "        </tr>\r\n",
        "        <tr>\r\n",
        "            <td>\r\n",
        "                <h3><a href=\"https://www.w3schools.com/python/ref_string_startswith.asp\">startswith()</a></h3>\r\n",
        "            </td>\r\n",
        "            <td>\r\n",
        "                <h4><strong>Returns true if the string starts with the specified value</strong></h4>\r\n",
        "            </td>\r\n",
        "        </tr>\r\n",
        "        <tr>\r\n",
        "            <td>\r\n",
        "                <h3><a href=\"https://www.w3schools.com/python/ref_string_strip.asp\">strip()</a></h3>\r\n",
        "            </td>\r\n",
        "            <td>\r\n",
        "                <h4><strong>Returns a trimmed version of the string</strong></h4>\r\n",
        "            </td>\r\n",
        "        </tr>\r\n",
        "        <tr>\r\n",
        "            <td>\r\n",
        "                <h3><a href=\"https://www.w3schools.com/python/ref_string_swapcase.asp\">swapcase()</a></h3>\r\n",
        "            </td>\r\n",
        "            <td>\r\n",
        "                <h4><strong>Swaps cases, lower case becomes upper case and vice versa</strong></h4>\r\n",
        "            </td>\r\n",
        "        </tr>\r\n",
        "        <tr>\r\n",
        "            <td>\r\n",
        "                <h3><a href=\"https://www.w3schools.com/python/ref_string_title.asp\">title()</a></h3>\r\n",
        "            </td>\r\n",
        "            <td>\r\n",
        "                <h4><strong>Converts the first character of each word to upper case</strong></h4>\r\n",
        "            </td>\r\n",
        "        </tr>\r\n",
        "        <tr>\r\n",
        "            <td>\r\n",
        "                <h3><a href=\"https://www.w3schools.com/python/ref_string_translate.asp\">translate()</a></h3>\r\n",
        "            </td>\r\n",
        "            <td>\r\n",
        "                <h4><strong>Returns a translated string</strong></h4>\r\n",
        "            </td>\r\n",
        "        </tr>\r\n",
        "        <tr>\r\n",
        "            <td>\r\n",
        "                <h3><a href=\"https://www.w3schools.com/python/ref_string_upper.asp\">upper()</a></h3>\r\n",
        "            </td>\r\n",
        "            <td>\r\n",
        "                <h4><strong>Converts a string into upper case</strong></h4>\r\n",
        "            </td>\r\n",
        "        </tr>\r\n",
        "        <tr>\r\n",
        "            <td>\r\n",
        "                <h3><a href=\"https://www.w3schools.com/python/ref_string_zfill.asp\">zfill()</a></h3>\r\n",
        "            </td>\r\n",
        "            <td>\r\n",
        "                <h4><strong>Fills the string with a specified number of 0 values at the beginning</strong></h4>\r\n",
        "            </td>\r\n",
        "        </tr>\r\n",
        "    </tbody>\r\n",
        "</table>"
      ]
    },
    {
      "cell_type": "code",
      "metadata": {
        "colab": {
          "base_uri": "https://localhost:8080/"
        },
        "id": "5QItYcpONXq7",
        "outputId": "9fe6e839-dff7-48a6-ded7-14970ff52544"
      },
      "source": [
        "# CAPITALIZE:--> Converts the first character to upper case\r\n",
        "txt = \"hello, and welcome to my world.\"\r\n",
        "x = txt.capitalize()\r\n",
        "print (x)"
      ],
      "execution_count": null,
      "outputs": [
        {
          "output_type": "stream",
          "text": [
            "Hello, and welcome to my world.\n"
          ],
          "name": "stdout"
        }
      ]
    },
    {
      "cell_type": "markdown",
      "metadata": {
        "id": "Ht4rbuM0TdlI"
      },
      "source": [
        ""
      ]
    },
    {
      "cell_type": "code",
      "metadata": {
        "colab": {
          "base_uri": "https://localhost:8080/"
        },
        "id": "-yE7cwR8NmMf",
        "outputId": "2e587da4-80f2-4574-d226-db3672736f0a"
      },
      "source": [
        "# CASEFOLD:--> Converts string into lower case\r\n",
        "txt = \"Hello, And Welcome To My World!\"\r\n",
        "x = txt.casefold()\r\n",
        "print(x)"
      ],
      "execution_count": null,
      "outputs": [
        {
          "output_type": "stream",
          "text": [
            "hello, and welcome to my world!\n"
          ],
          "name": "stdout"
        }
      ]
    },
    {
      "cell_type": "code",
      "metadata": {
        "colab": {
          "base_uri": "https://localhost:8080/"
        },
        "id": "F0ZkXpWKNude",
        "outputId": "30a45cb2-4c4a-4ced-d09f-0f9bd2ca43d3"
      },
      "source": [
        "# CENTER:--> Returns a centered string\r\n",
        "txt = \"banana\"\r\n",
        "\r\n",
        "x = txt.center(20, \"O\")\r\n",
        "y = txt.center(20)\r\n",
        "\r\n",
        "print(x)\r\n",
        "print(y)"
      ],
      "execution_count": null,
      "outputs": [
        {
          "output_type": "stream",
          "text": [
            "OOOOOOObananaOOOOOOO\n",
            "       banana       \n"
          ],
          "name": "stdout"
        }
      ]
    },
    {
      "cell_type": "code",
      "metadata": {
        "colab": {
          "base_uri": "https://localhost:8080/"
        },
        "id": "E2EmU9iMOQGD",
        "outputId": "8dcbe0f0-4eb1-44b9-e1fd-93b043aa6169"
      },
      "source": [
        "# COUNT:--> Returns the number of times\r\n",
        "# a specified value occurs in a string\r\n",
        "\r\n",
        "txt = \"I love apples, apple are my favorite fruit\"\r\n",
        "\r\n",
        "x = txt.count(\"apple\")\r\n",
        "y = txt.count(\"a\")\r\n",
        "\r\n",
        "print(x)\r\n",
        "print(y)"
      ],
      "execution_count": null,
      "outputs": [
        {
          "output_type": "stream",
          "text": [
            "2\n",
            "4\n"
          ],
          "name": "stdout"
        }
      ]
    },
    {
      "cell_type": "code",
      "metadata": {
        "id": "zHw_nzWDPv3Q"
      },
      "source": [
        "# UTF-8 encode the string:\r\n",
        "\r\n",
        "txt = \"My name is Ståle\"\r\n",
        "x = txt.encode()\r\n",
        "print(x)"
      ],
      "execution_count": null,
      "outputs": []
    },
    {
      "cell_type": "code",
      "metadata": {
        "colab": {
          "base_uri": "https://localhost:8080/"
        },
        "id": "foB03W6WQBDt",
        "outputId": "a89a617c-0711-4091-e277-7185655f21fa"
      },
      "source": [
        "# ENDSWITH:--> Returns true if the string\r\n",
        "# ends with the specified value\r\n",
        "\r\n",
        "txt = \"Hello, welcome to my world.\"\r\n",
        "x = txt.endswith(\"my world.\", 5, 11)\r\n",
        "print(x)"
      ],
      "execution_count": null,
      "outputs": [
        {
          "output_type": "stream",
          "text": [
            "False\n"
          ],
          "name": "stdout"
        }
      ]
    },
    {
      "cell_type": "code",
      "metadata": {
        "colab": {
          "base_uri": "https://localhost:8080/"
        },
        "id": "OQRfgJH2QWUP",
        "outputId": "0bdef73b-410b-4101-9c34-6809b20183d1"
      },
      "source": [
        "# FIND:--> Searches the string for a specified value \r\n",
        "# and returns the position of where it was found\r\n",
        "\r\n",
        "txt = \"Hello, welcome to my world.\"\r\n",
        "x = txt.find(\"welcome\")\r\n",
        "print(x)"
      ],
      "execution_count": null,
      "outputs": [
        {
          "output_type": "stream",
          "text": [
            "7\n"
          ],
          "name": "stdout"
        }
      ]
    },
    {
      "cell_type": "code",
      "metadata": {
        "colab": {
          "base_uri": "https://localhost:8080/"
        },
        "id": "8_8Ggr46QpuC",
        "outputId": "e4a52f13-b1aa-4ddd-e5b6-2824584dd231"
      },
      "source": [
        "# INDEX:--> Searches the string for a specified value\r\n",
        "# and returns the position of where it was found\r\n",
        "\r\n",
        "txt = \"Hello, welcome to my world.\"\r\n",
        "x = txt.index(\"welcome\")\r\n",
        "print(x)"
      ],
      "execution_count": null,
      "outputs": [
        {
          "output_type": "stream",
          "text": [
            "7\n",
            "0\n"
          ],
          "name": "stdout"
        }
      ]
    },
    {
      "cell_type": "code",
      "metadata": {
        "colab": {
          "base_uri": "https://localhost:8080/"
        },
        "id": "p6iHAyuBaRN_",
        "outputId": "fdb09343-04d5-40a7-e20e-cea21dc43720"
      },
      "source": [
        "txt_1 = \"Company12\"\r\n",
        "txt_2 = \"company\"\r\n",
        "txt_3 = \"\\u0033\"  # \"\\u0033\"unicode for 3 and \"\\u0047\" #unicode for G\r\n",
        "txt_4 = \"389173\"\r\n",
        "\r\n",
        "a = txt_1.isalnum()  # True if all characters in the string are alphanumeric\r\n",
        "b = txt_2.isalpha()   # True if all characters in the string are in the alphabet\r\n",
        "c = txt_3.isdecimal() # True if all characters in the string are decimals\r\n",
        "\r\n",
        "d = txt_2.islower()\r\n",
        "e = txt_2.isupper()\r\n",
        "\r\n",
        "f = txt_4.isdigit()   # True if all characters in the string are digits\r\n",
        "g = txt_4.isnumeric()   # True if all characters in the string are numeric\r\n",
        "\r\n",
        "print(a)\r\n",
        "print(b)\r\n",
        "print(c)\r\n",
        "print(d)\r\n",
        "print(e)\r\n",
        "print(f)\r\n",
        "print(g)"
      ],
      "execution_count": null,
      "outputs": [
        {
          "output_type": "stream",
          "text": [
            "True\n",
            "True\n",
            "True\n",
            "True\n",
            "False\n",
            "True\n",
            "True\n"
          ],
          "name": "stdout"
        }
      ]
    },
    {
      "cell_type": "code",
      "metadata": {
        "colab": {
          "base_uri": "https://localhost:8080/"
        },
        "id": "tb4rpxNodEwv",
        "outputId": "70671516-2089-4b44-f6f2-7aad4631fefa"
      },
      "source": [
        "# Returns True if the string is an identifier\r\n",
        "# An identifier is a name given to entities like class, functions, variables, etc\r\n",
        "a = \"MyFolder\"\r\n",
        "b = \"Demo002\"\r\n",
        "c = \"2bring\"\r\n",
        "d = \"list\"\r\n",
        "\r\n",
        "print(a.isidentifier())\r\n",
        "print(b.isidentifier())\r\n",
        "print(c.isidentifier())\r\n",
        "print(d.isidentifier())"
      ],
      "execution_count": null,
      "outputs": [
        {
          "output_type": "stream",
          "text": [
            "True\n",
            "True\n",
            "False\n",
            "True\n"
          ],
          "name": "stdout"
        }
      ]
    },
    {
      "cell_type": "code",
      "metadata": {
        "colab": {
          "base_uri": "https://localhost:8080/"
        },
        "id": "pxJYaCsTfXAy",
        "outputId": "508181ca-1217-40bb-da4a-0dd9ff27593b"
      },
      "source": [
        "# Joins the elements of an iterable to the end of the string\r\n",
        "myTuple = (\"John\", \"Peter\", \"Vicky\")\r\n",
        "x = \"#\".join(myTuple)\r\n",
        "print(x)\r\n",
        "\r\n",
        "myDict = {\"name\": \"John\", \"country\": \"Norway\"}\r\n",
        "mySeparator = \"TEST\"\r\n",
        "\r\n",
        "# Keys\r\n",
        "y = mySeparator.join(myDict)\r\n",
        "# Values\r\n",
        "z_1 = ''.join(str(myDict[x]) for x in sorted(myDict))\r\n",
        "z_2 = ' '.join(map(str, myDict.values()))\r\n",
        "\r\n",
        "print(y)\r\n",
        "print(z_1)\r\n",
        "print(z_2)"
      ],
      "execution_count": null,
      "outputs": [
        {
          "output_type": "stream",
          "text": [
            "John#Peter#Vicky\n",
            "nameTESTcountry\n",
            "NorwayJohn\n",
            "John Norway\n"
          ],
          "name": "stdout"
        }
      ]
    },
    {
      "cell_type": "markdown",
      "metadata": {
        "id": "SX83-Wngh2A0"
      },
      "source": [
        "__`Join`__"
      ]
    },
    {
      "cell_type": "code",
      "metadata": {
        "colab": {
          "base_uri": "https://localhost:8080/"
        },
        "id": "VPy1CVvqgOO-",
        "outputId": "bdbabfcd-0d21-4e6f-d268-e9e2b5609052"
      },
      "source": [
        "# Join the values only in a python dictionary\r\n",
        "\r\n",
        "d = {'x': 1, 'y': 2, 'z': 3}\r\n",
        "\r\n",
        "test_1 = ' '.join(map(str, d.values()))\r\n",
        "test_2 = ''.join(str(d[x]) for x in sorted(d)) \r\n",
        "\r\n",
        "print(test_1)\r\n",
        "print(test_2)"
      ],
      "execution_count": null,
      "outputs": [
        {
          "output_type": "stream",
          "text": [
            "1 2 3\n",
            "123\n"
          ],
          "name": "stdout"
        }
      ]
    },
    {
      "cell_type": "code",
      "metadata": {
        "colab": {
          "base_uri": "https://localhost:8080/"
        },
        "id": "6UjQJbfze8T6",
        "outputId": "140ecfb9-47b8-4043-dc1c-c122844ffe11"
      },
      "source": [
        "# REPLACE:--> Returns a string where a specified value\r\n",
        "# is replaced with a specified value\r\n",
        "\r\n",
        "txt = \"one one was a race horse, two two was one too.\"\r\n",
        "\r\n",
        "# Replace the two first occurrence of the word \"one\"\r\n",
        "x = txt.replace(\"one\", \"three\", 2)\r\n",
        "print(x)"
      ],
      "execution_count": null,
      "outputs": [
        {
          "output_type": "stream",
          "text": [
            "three three was a race horse, two two was one too.\n"
          ],
          "name": "stdout"
        }
      ]
    },
    {
      "cell_type": "code",
      "metadata": {
        "colab": {
          "base_uri": "https://localhost:8080/"
        },
        "id": "EeHGz481kmXd",
        "outputId": "0d005837-3b59-46bc-dff1-51e1b41c3e57"
      },
      "source": [
        "# SPLITS:--> Splits the string at the specified separator, and returns a list\r\n",
        "# Split the string, using comma, followed by a space, as a separator:\r\n",
        "\r\n",
        "txt = \"hello, my name is Peter, I am 26 years old\"\r\n",
        "x = txt.split(\", \")\r\n",
        "print(x)"
      ],
      "execution_count": null,
      "outputs": [
        {
          "output_type": "stream",
          "text": [
            "['hello', 'my name is Peter', 'I am 26 years old']\n"
          ],
          "name": "stdout"
        }
      ]
    },
    {
      "cell_type": "code",
      "metadata": {
        "colab": {
          "base_uri": "https://localhost:8080/"
        },
        "id": "Osb9DRs6lN7c",
        "outputId": "000b5329-882b-43cd-caf8-b9fbf92040f0"
      },
      "source": [
        "# STRIP:--> Remove the leading and trailing characters\r\n",
        "\r\n",
        "txt = \",,,,,rrttgg.....banana....rrr\"\r\n",
        "\r\n",
        "x = txt.strip(\",.grt\")\r\n",
        "\r\n",
        "print(x)"
      ],
      "execution_count": null,
      "outputs": [
        {
          "output_type": "stream",
          "text": [
            "banana\n"
          ],
          "name": "stdout"
        }
      ]
    },
    {
      "cell_type": "code",
      "metadata": {
        "colab": {
          "base_uri": "https://localhost:8080/"
        },
        "id": "B6qQN1xtlkL5",
        "outputId": "56989fbe-1dde-4b2d-ca48-39b7a1c68e1d"
      },
      "source": [
        "# Swapcase\r\n",
        "txt = \"Hello My Name Is PETER\"\r\n",
        "\r\n",
        "x = txt.swapcase()\r\n",
        "\r\n",
        "print(x)"
      ],
      "execution_count": null,
      "outputs": [
        {
          "output_type": "stream",
          "text": [
            "SWAPCASE hELLO mY nAME iS peter\n"
          ],
          "name": "stdout"
        }
      ]
    },
    {
      "cell_type": "code",
      "metadata": {
        "colab": {
          "base_uri": "https://localhost:8080/"
        },
        "id": "SKucbBm6i7WW",
        "outputId": "d2bf3bde-fe3c-4fec-fd8e-9e44f5e7e9a5"
      },
      "source": [
        "# Fill the strings with zeros until they are 10 characters long\r\n",
        "a = \"hello\"\r\n",
        "b = \"welcome to the jungle\"\r\n",
        "c = \"10.000\"\r\n",
        "\r\n",
        "print(a.zfill(10))\r\n",
        "print(b.zfill(10))\r\n",
        "print(c.zfill(10))"
      ],
      "execution_count": null,
      "outputs": [
        {
          "output_type": "stream",
          "text": [
            "00000hello\n",
            "welcome to the jungle\n",
            "000010.000\n"
          ],
          "name": "stdout"
        }
      ]
    },
    {
      "cell_type": "markdown",
      "metadata": {
        "id": "v4fiaM_wmRYw"
      },
      "source": [
        "## __4. Booleans__"
      ]
    },
    {
      "cell_type": "code",
      "metadata": {
        "colab": {
          "base_uri": "https://localhost:8080/"
        },
        "id": "H-l0dDcgmPGd",
        "outputId": "42ad6e75-9448-4608-c41f-bf6c05945774"
      },
      "source": [
        "print(10 > 9)\r\n",
        "print(10 == 9)\r\n",
        "print(10 < 9)"
      ],
      "execution_count": null,
      "outputs": [
        {
          "output_type": "stream",
          "text": [
            "True\n",
            "False\n",
            "False\n",
            "True\n",
            "True\n",
            "True\n"
          ],
          "name": "stdout"
        }
      ]
    },
    {
      "cell_type": "code",
      "metadata": {
        "colab": {
          "base_uri": "https://localhost:8080/"
        },
        "id": "HIVUWX1XoEfY",
        "outputId": "0ffd1365-fe4a-4cc2-e58b-c4c14f302b33"
      },
      "source": [
        "a = 200\r\n",
        "b = 33\r\n",
        "\r\n",
        "if b > a:\r\n",
        "  print(\"b is greater than a\")\r\n",
        "else:\r\n",
        "  print(\"b is not greater than a\")"
      ],
      "execution_count": null,
      "outputs": [
        {
          "output_type": "stream",
          "text": [
            "b is not greater than a\n"
          ],
          "name": "stdout"
        }
      ]
    },
    {
      "cell_type": "code",
      "metadata": {
        "colab": {
          "base_uri": "https://localhost:8080/"
        },
        "id": "8yoDiyiKou07",
        "outputId": "8353b135-8d4c-4a7a-c95c-babe50d83bc2"
      },
      "source": [
        "# Evaluate\r\n",
        "\r\n",
        "bool(\"abc\")\r\n",
        "bool(123)\r\n",
        "bool([\"apple\", \"cherry\", \"banana\"])\r\n",
        "\r\n",
        "'''\r\n",
        "there are not many values that evaluates to False, except empty values,\r\n",
        "such as (), [], {}, \"\", the number 0, and the value None. And of course\r\n",
        "the value False evaluates to False.\r\n",
        "'''\r\n",
        "print(bool(False))\r\n",
        "print(bool(None))\r\n",
        "print(bool(0))\r\n",
        "print(bool(\"\"))\r\n",
        "print(bool(()))\r\n",
        "print(bool([]))\r\n",
        "print(bool({}))"
      ],
      "execution_count": null,
      "outputs": [
        {
          "output_type": "stream",
          "text": [
            "False\n",
            "False\n",
            "False\n",
            "False\n",
            "False\n",
            "False\n",
            "False\n"
          ],
          "name": "stdout"
        }
      ]
    },
    {
      "cell_type": "code",
      "metadata": {
        "colab": {
          "base_uri": "https://localhost:8080/"
        },
        "id": "GNa5M-Q5oug3",
        "outputId": "df0d9972-0bb6-4975-85a0-4a1ba19d3304"
      },
      "source": [
        "class myclass():\r\n",
        "  def __len__(self):\r\n",
        "    return 0\r\n",
        "\r\n",
        "myobj = myclass()\r\n",
        "print(bool(myobj))"
      ],
      "execution_count": null,
      "outputs": [
        {
          "output_type": "stream",
          "text": [
            "False\n"
          ],
          "name": "stdout"
        }
      ]
    },
    {
      "cell_type": "code",
      "metadata": {
        "colab": {
          "base_uri": "https://localhost:8080/"
        },
        "id": "eRdtLecPpfek",
        "outputId": "88885953-be6d-4342-e6f7-2e3e4a1376cd"
      },
      "source": [
        "def myFunction() :\r\n",
        "  return True\r\n",
        "\r\n",
        "print(myFunction())"
      ],
      "execution_count": null,
      "outputs": [
        {
          "output_type": "stream",
          "text": [
            "True\n"
          ],
          "name": "stdout"
        }
      ]
    },
    {
      "cell_type": "code",
      "metadata": {
        "colab": {
          "base_uri": "https://localhost:8080/"
        },
        "id": "YsN449wnprzs",
        "outputId": "322930b9-20fe-462c-b51b-dc18e17e130f"
      },
      "source": [
        "def myFunction() :\r\n",
        "  return True\r\n",
        "\r\n",
        "if myFunction():\r\n",
        "  print(\"YES!\")\r\n",
        "else:\r\n",
        "  print(\"NO!\")"
      ],
      "execution_count": null,
      "outputs": [
        {
          "output_type": "stream",
          "text": [
            "YES!\n"
          ],
          "name": "stdout"
        }
      ]
    },
    {
      "cell_type": "code",
      "metadata": {
        "colab": {
          "base_uri": "https://localhost:8080/"
        },
        "id": "jc24kEk-py7E",
        "outputId": "1bc95000-234e-4384-e2a5-11da470f5111"
      },
      "source": [
        "x = 200\r\n",
        "print(isinstance(x, int))"
      ],
      "execution_count": null,
      "outputs": [
        {
          "output_type": "stream",
          "text": [
            "True\n"
          ],
          "name": "stdout"
        }
      ]
    },
    {
      "cell_type": "markdown",
      "metadata": {
        "id": "62MGp-7cm1dP"
      },
      "source": [
        "## __5.Operators__"
      ]
    },
    {
      "cell_type": "markdown",
      "metadata": {
        "id": "cvcvIalRqAK_"
      },
      "source": [
        "Python divides the operators in the following groups:\r\n",
        "\r\n",
        "- __Arithmetic operators__\r\n",
        "- __Assignment operators__\r\n",
        "- __Comparison operators__\r\n",
        "- __Logical operators__\r\n",
        "- __Identity operators__\r\n",
        "- __Membership operators__\r\n",
        "- __Bitwise operators__"
      ]
    },
    {
      "cell_type": "markdown",
      "metadata": {
        "id": "X1pldDZcubd6"
      },
      "source": [
        "__Python Arithmetic Operators__\r\n",
        "\r\n",
        "---\r\n",
        "\r\n",
        "\r\n",
        "\r\n",
        "<table class=\"w3-table-all notranslate\" style=\"height: 439px;\" width=\"627\">\r\n",
        "    <tbody>\r\n",
        "        <tr>\r\n",
        "            <th style=\"width: 138px;\">\r\n",
        "                <h3>Operator</h3>\r\n",
        "            </th>\r\n",
        "            <th style=\"width: 205px;\">\r\n",
        "                <h3>Name</h3>\r\n",
        "            </th>\r\n",
        "            <th style=\"width: 246px;\">\r\n",
        "                <h3>Example</h3>\r\n",
        "            </th>\r\n",
        "            <th style=\"width: 10px;\">&nbsp;</th>\r\n",
        "        </tr>\r\n",
        "        <tr>\r\n",
        "            <td style=\"width: 138px;\">\r\n",
        "                <h3>+</h3>\r\n",
        "            </td>\r\n",
        "            <td style=\"width: 205px;\">\r\n",
        "                <h3>Addition</h3>\r\n",
        "            </td>\r\n",
        "            <td style=\"width: 246px;\">\r\n",
        "                <h3>x + y</h3>\r\n",
        "            </td>\r\n",
        "            <td style=\"width: 10px;\">&nbsp;</td>\r\n",
        "        </tr>\r\n",
        "        <tr>\r\n",
        "            <td style=\"width: 138px;\">\r\n",
        "                <h3>-</h3>\r\n",
        "            </td>\r\n",
        "            <td style=\"width: 205px;\">\r\n",
        "                <h3>Subtraction</h3>\r\n",
        "            </td>\r\n",
        "            <td style=\"width: 246px;\">\r\n",
        "                <h3>x - y</h3>\r\n",
        "            </td>\r\n",
        "            <td style=\"width: 10px;\">&nbsp;</td>\r\n",
        "        </tr>\r\n",
        "        <tr>\r\n",
        "            <td style=\"width: 138px;\">\r\n",
        "                <h3>*</h3>\r\n",
        "            </td>\r\n",
        "            <td style=\"width: 205px;\">\r\n",
        "                <h3>Multiplication</h3>\r\n",
        "            </td>\r\n",
        "            <td style=\"width: 246px;\">\r\n",
        "                <h3>x * y</h3>\r\n",
        "            </td>\r\n",
        "            <td style=\"width: 10px;\">&nbsp;</td>\r\n",
        "        </tr>\r\n",
        "        <tr>\r\n",
        "            <td style=\"width: 138px;\">\r\n",
        "                <h3>/</h3>\r\n",
        "            </td>\r\n",
        "            <td style=\"width: 205px;\">\r\n",
        "                <h3>Division</h3>\r\n",
        "            </td>\r\n",
        "            <td style=\"width: 246px;\">\r\n",
        "                <h3>x / y</h3>\r\n",
        "            </td>\r\n",
        "            <td style=\"width: 10px;\">&nbsp;</td>\r\n",
        "        </tr>\r\n",
        "        <tr>\r\n",
        "            <td style=\"width: 138px;\">\r\n",
        "                <h3>%</h3>\r\n",
        "            </td>\r\n",
        "            <td style=\"width: 205px;\">\r\n",
        "                <h3>Modulus</h3>\r\n",
        "            </td>\r\n",
        "            <td style=\"width: 246px;\">\r\n",
        "                <h3>x % y</h3>\r\n",
        "            </td>\r\n",
        "            <td style=\"width: 10px;\">&nbsp;</td>\r\n",
        "        </tr>\r\n",
        "        <tr>\r\n",
        "            <td style=\"width: 138px;\">\r\n",
        "                <h3>**</h3>\r\n",
        "            </td>\r\n",
        "            <td style=\"width: 205px;\">\r\n",
        "                <h3>Exponentiation</h3>\r\n",
        "            </td>\r\n",
        "            <td style=\"width: 246px;\">\r\n",
        "                <h3>x ** y</h3>\r\n",
        "            </td>\r\n",
        "            <td style=\"width: 10px;\">&nbsp;</td>\r\n",
        "        </tr>\r\n",
        "        <tr>\r\n",
        "            <td style=\"width: 138px;\">\r\n",
        "                <h3>//</h3>\r\n",
        "            </td>\r\n",
        "            <td style=\"width: 205px;\">\r\n",
        "                <h3>Floor division</h3>\r\n",
        "            </td>\r\n",
        "            <td style=\"width: 246px;\">\r\n",
        "                <h3>x // y</h3>\r\n",
        "            </td>\r\n",
        "        </tr>\r\n",
        "    </tbody>\r\n",
        "</table>"
      ]
    },
    {
      "cell_type": "code",
      "metadata": {
        "colab": {
          "base_uri": "https://localhost:8080/"
        },
        "id": "cBHohlb4rSQt",
        "outputId": "0606c414-e077-4981-f040-2231b04bc87b"
      },
      "source": [
        "# Python Arithmetic Operators\r\n",
        "print(\"Python Arithmetic Operators\")\r\n",
        "\r\n",
        "print(3-5)  # -2\r\n",
        "print(3+5)  # 8\r\n",
        "print(3*5)  # 15\r\n",
        "print(3/5)  # 0.6\r\n",
        "print(5//3) # Floor Division 1\r\n",
        "print(5%3)  # Modulo Division 2\r\n",
        "print(3**5) # 243"
      ],
      "execution_count": null,
      "outputs": [
        {
          "output_type": "stream",
          "text": [
            "Python Arithmetic Operators\n",
            "-2\n",
            "8\n",
            "15\n",
            "0.6\n",
            "1\n",
            "2\n",
            "243\n"
          ],
          "name": "stdout"
        }
      ]
    },
    {
      "cell_type": "markdown",
      "metadata": {
        "id": "lCdJzH5_u2CB"
      },
      "source": [
        "__Python Assignment Operators__\r\n",
        "\r\n",
        "---\r\n",
        "\r\n",
        "\r\n",
        "\r\n",
        "\r\n",
        "\r\n",
        "\r\n",
        "\r\n",
        "<table class=\"w3-table-all notranslate\" style=\"height: 546px;\" width=\"626\">\r\n",
        "    <tbody>\r\n",
        "        <tr>\r\n",
        "            <th style=\"width: 209px;\">\r\n",
        "                <h3>Operator</h3>\r\n",
        "            </th>\r\n",
        "            <th style=\"width: 216px;\">\r\n",
        "                <h3>Example</h3>\r\n",
        "            </th>\r\n",
        "            <th style=\"width: 163px;\">\r\n",
        "                <h3>Same As</h3>\r\n",
        "            </th>\r\n",
        "            <th style=\"width: 10px;\">&nbsp;</th>\r\n",
        "        </tr>\r\n",
        "        <tr>\r\n",
        "            <td style=\"width: 209px;\">\r\n",
        "                <h4>=</h4>\r\n",
        "            </td>\r\n",
        "            <td style=\"width: 216px;\">\r\n",
        "                <h4>x = 5</h4>\r\n",
        "            </td>\r\n",
        "            <td style=\"width: 163px;\">\r\n",
        "                <h4>x = 5</h4>\r\n",
        "            </td>\r\n",
        "            <td style=\"width: 10px;\">&nbsp;</td>\r\n",
        "        </tr>\r\n",
        "        <tr>\r\n",
        "            <td style=\"width: 209px;\">\r\n",
        "                <h4>+=</h4>\r\n",
        "            </td>\r\n",
        "            <td style=\"width: 216px;\">\r\n",
        "                <h4>x += 3</h4>\r\n",
        "            </td>\r\n",
        "            <td style=\"width: 163px;\">\r\n",
        "                <h4>x = x + 3</h4>\r\n",
        "            </td>\r\n",
        "            <td style=\"width: 10px;\">&nbsp;</td>\r\n",
        "        </tr>\r\n",
        "        <tr>\r\n",
        "            <td style=\"width: 209px;\">\r\n",
        "                <h4>-=</h4>\r\n",
        "            </td>\r\n",
        "            <td style=\"width: 216px;\">\r\n",
        "                <h4>x -= 3</h4>\r\n",
        "            </td>\r\n",
        "            <td style=\"width: 163px;\">\r\n",
        "                <h4>x = x - 3</h4>\r\n",
        "            </td>\r\n",
        "            <td style=\"width: 10px;\">&nbsp;</td>\r\n",
        "        </tr>\r\n",
        "        <tr>\r\n",
        "            <td style=\"width: 209px;\">\r\n",
        "                <h4>*=</h4>\r\n",
        "            </td>\r\n",
        "            <td style=\"width: 216px;\">\r\n",
        "                <h4>x *= 3</h4>\r\n",
        "            </td>\r\n",
        "            <td style=\"width: 163px;\">\r\n",
        "                <h4>x = x * 3</h4>\r\n",
        "            </td>\r\n",
        "            <td style=\"width: 10px;\">&nbsp;</td>\r\n",
        "        </tr>\r\n",
        "        <tr>\r\n",
        "            <td style=\"width: 209px;\">\r\n",
        "                <h4>/=</h4>\r\n",
        "            </td>\r\n",
        "            <td style=\"width: 216px;\">\r\n",
        "                <h4>x /= 3</h4>\r\n",
        "            </td>\r\n",
        "            <td style=\"width: 163px;\">\r\n",
        "                <h4>x = x / 3</h4>\r\n",
        "            </td>\r\n",
        "            <td style=\"width: 10px;\">&nbsp;</td>\r\n",
        "        </tr>\r\n",
        "        <tr>\r\n",
        "            <td style=\"width: 209px;\">\r\n",
        "                <h4>%=</h4>\r\n",
        "            </td>\r\n",
        "            <td style=\"width: 216px;\">\r\n",
        "                <h4>x %= 3</h4>\r\n",
        "            </td>\r\n",
        "            <td style=\"width: 163px;\">\r\n",
        "                <h4>x = x % 3</h4>\r\n",
        "            </td>\r\n",
        "            <td style=\"width: 10px;\">&nbsp;</td>\r\n",
        "        </tr>\r\n",
        "        <tr>\r\n",
        "            <td style=\"width: 209px;\">\r\n",
        "                <h4>//=</h4>\r\n",
        "            </td>\r\n",
        "            <td style=\"width: 216px;\">\r\n",
        "                <h4>x //= 3</h4>\r\n",
        "            </td>\r\n",
        "            <td style=\"width: 163px;\">\r\n",
        "                <h4>x = x // 3</h4>\r\n",
        "            </td>\r\n",
        "            <td style=\"width: 10px;\">&nbsp;</td>\r\n",
        "        </tr>\r\n",
        "        <tr>\r\n",
        "            <td style=\"width: 209px;\">\r\n",
        "                <h4>**=</h4>\r\n",
        "            </td>\r\n",
        "            <td style=\"width: 216px;\">\r\n",
        "                <h4>x **= 3</h4>\r\n",
        "            </td>\r\n",
        "            <td style=\"width: 163px;\">\r\n",
        "                <h4>x = x ** 3</h4>\r\n",
        "            </td>\r\n",
        "            <td style=\"width: 10px;\">&nbsp;</td>\r\n",
        "        </tr>\r\n",
        "        <tr>\r\n",
        "            <td style=\"width: 209px;\">\r\n",
        "                <h4>&amp;=</h4>\r\n",
        "            </td>\r\n",
        "            <td style=\"width: 216px;\">\r\n",
        "                <h4>x &amp;= 3</h4>\r\n",
        "            </td>\r\n",
        "            <td style=\"width: 163px;\">\r\n",
        "                <h4>x = x &amp; 3</h4>\r\n",
        "            </td>\r\n",
        "            <td style=\"width: 10px;\">&nbsp;</td>\r\n",
        "        </tr>\r\n",
        "        <tr>\r\n",
        "            <td style=\"width: 209px;\">\r\n",
        "                <h4>|=</h4>\r\n",
        "            </td>\r\n",
        "            <td style=\"width: 216px;\">\r\n",
        "                <h4>x |= 3</h4>\r\n",
        "            </td>\r\n",
        "            <td style=\"width: 163px;\">\r\n",
        "                <h4>x = x | 3</h4>\r\n",
        "            </td>\r\n",
        "            <td style=\"width: 10px;\">&nbsp;</td>\r\n",
        "        </tr>\r\n",
        "        <tr>\r\n",
        "            <td style=\"width: 209px;\">\r\n",
        "                <h4>^=</h4>\r\n",
        "            </td>\r\n",
        "            <td style=\"width: 216px;\">\r\n",
        "                <h4>x ^= 3</h4>\r\n",
        "            </td>\r\n",
        "            <td style=\"width: 163px;\">\r\n",
        "                <h4>x = x ^ 3</h4>\r\n",
        "            </td>\r\n",
        "            <td style=\"width: 10px;\">&nbsp;</td>\r\n",
        "        </tr>\r\n",
        "        <tr>\r\n",
        "            <td style=\"width: 209px;\">\r\n",
        "                <h4>&gt;&gt;=</h4>\r\n",
        "            </td>\r\n",
        "            <td style=\"width: 216px;\">\r\n",
        "                <h4>x &gt;&gt;= 3</h4>\r\n",
        "            </td>\r\n",
        "            <td style=\"width: 163px;\">\r\n",
        "                <h4>x = x &gt;&gt; 3</h4>\r\n",
        "            </td>\r\n",
        "            <td style=\"width: 10px;\">&nbsp;</td>\r\n",
        "        </tr>\r\n",
        "        <tr>\r\n",
        "            <td style=\"width: 209px;\">\r\n",
        "                <h4>&lt;&lt;=</h4>\r\n",
        "            </td>\r\n",
        "            <td style=\"width: 216px;\">\r\n",
        "                <h4>x &lt;&lt;= 3</h4>\r\n",
        "            </td>\r\n",
        "            <td style=\"width: 163px;\">\r\n",
        "                <h4>x = x &lt;&lt; 3</h4>\r\n",
        "            </td>\r\n",
        "        </tr>\r\n",
        "    </tbody>\r\n",
        "</table>\r\n",
        "<div id=\"gtx-trans\" style=\"position: absolute; left: 124px; top: -15px;\">\r\n",
        "    <div class=\"gtx-trans-icon\">&nbsp;</div>\r\n",
        "</div>"
      ]
    },
    {
      "cell_type": "code",
      "metadata": {
        "colab": {
          "base_uri": "https://localhost:8080/"
        },
        "id": "7qpXgEjXrW1c",
        "outputId": "c5cf4f62-c2c1-4fb3-9445-6cb17565c356"
      },
      "source": [
        "# Python Assignment Operators\r\n",
        "print(\"Python Assignment Operators\")\r\n",
        "\r\n",
        "x = 5\r\n",
        "print(x) # 5\r\n",
        "\r\n",
        "x = 5\r\n",
        "x += 3\r\n",
        "print(x) # 8\r\n",
        "\r\n",
        "x = 5\r\n",
        "x -= 3\r\n",
        "print(x) # 2\r\n",
        "\r\n",
        "x = 5\r\n",
        "x *= 3\r\n",
        "print(x) # 15\r\n",
        "\r\n",
        "x = 5\r\n",
        "x /= 3\r\n",
        "print(x) # 1.6666666666666667\r\n",
        "\r\n",
        "x = 5\r\n",
        "x%=3\r\n",
        "print(x) # 2\r\n",
        "\r\n",
        "x = 5\r\n",
        "x//=3\r\n",
        "print(x) # 1\r\n",
        "\r\n",
        "x = 5\r\n",
        "x **= 3\r\n",
        "print(x) # 125\r\n",
        "\r\n",
        "x = 5\r\n",
        "x &= 3\r\n",
        "print(x) # 1\r\n",
        "\r\n",
        "x = 5\r\n",
        "x |= 3\r\n",
        "print(x) # 7\r\n",
        "\r\n",
        "x = 5\r\n",
        "x ^= 3\r\n",
        "print(x) # 6\r\n",
        "\r\n",
        "x = 5\r\n",
        "x >>= 3\r\n",
        "print(x) # 0\r\n",
        "\r\n",
        "x = 5\r\n",
        "x <<= 3\r\n",
        "print(x) # 40"
      ],
      "execution_count": null,
      "outputs": [
        {
          "output_type": "stream",
          "text": [
            "Python Assignment Operators\n",
            "5\n",
            "8\n",
            "2\n",
            "15\n",
            "1.6666666666666667\n",
            "2\n",
            "1\n",
            "125\n",
            "1\n",
            "7\n",
            "6\n",
            "0\n",
            "40\n"
          ],
          "name": "stdout"
        }
      ]
    },
    {
      "cell_type": "markdown",
      "metadata": {
        "id": "tNvRdWilv2pj"
      },
      "source": [
        "__Python Comparison Operators__\r\n",
        "\r\n",
        "---\r\n",
        "\r\n",
        "\r\n",
        "\r\n",
        "<table class=\"w3-table-all notranslate\" style=\"height: 454px;\" width=\"644\">\r\n",
        "    <tbody>\r\n",
        "        <tr>\r\n",
        "            <th style=\"width: 141px;\">\r\n",
        "                <h3>Operator</h3>\r\n",
        "            </th>\r\n",
        "            <th style=\"width: 337px;\">\r\n",
        "                <h3>Name</h3>\r\n",
        "            </th>\r\n",
        "            <th style=\"width: 134px;\">\r\n",
        "                <h3>Example</h3>\r\n",
        "            </th>\r\n",
        "            <th style=\"width: 4px;\">&nbsp;</th>\r\n",
        "        </tr>\r\n",
        "        <tr>\r\n",
        "            <td style=\"width: 141px;\">\r\n",
        "                <h4>==</h4>\r\n",
        "            </td>\r\n",
        "            <td style=\"width: 337px;\">\r\n",
        "                <h4>Equal</h4>\r\n",
        "            </td>\r\n",
        "            <td style=\"width: 134px;\">\r\n",
        "                <h4>x == y</h4>\r\n",
        "            </td>\r\n",
        "            <td style=\"width: 4px;\">&nbsp;</td>\r\n",
        "        </tr>\r\n",
        "        <tr>\r\n",
        "            <td style=\"width: 141px;\">\r\n",
        "                <h4>!=</h4>\r\n",
        "            </td>\r\n",
        "            <td style=\"width: 337px;\">\r\n",
        "                <h4>Not equal</h4>\r\n",
        "            </td>\r\n",
        "            <td style=\"width: 134px;\">\r\n",
        "                <h4>x != y</h4>\r\n",
        "            </td>\r\n",
        "            <td style=\"width: 4px;\">&nbsp;</td>\r\n",
        "        </tr>\r\n",
        "        <tr>\r\n",
        "            <td style=\"width: 141px;\">\r\n",
        "                <h4>&gt;</h4>\r\n",
        "            </td>\r\n",
        "            <td style=\"width: 337px;\">\r\n",
        "                <h4>Greater than</h4>\r\n",
        "            </td>\r\n",
        "            <td style=\"width: 134px;\">\r\n",
        "                <h4>x &gt; y</h4>\r\n",
        "            </td>\r\n",
        "            <td style=\"width: 4px;\">&nbsp;</td>\r\n",
        "        </tr>\r\n",
        "        <tr>\r\n",
        "            <td style=\"width: 141px;\">\r\n",
        "                <h4>&lt;</h4>\r\n",
        "            </td>\r\n",
        "            <td style=\"width: 337px;\">\r\n",
        "                <h4>Less than</h4>\r\n",
        "            </td>\r\n",
        "            <td style=\"width: 134px;\">\r\n",
        "                <h4>x &lt; y</h4>\r\n",
        "            </td>\r\n",
        "            <td style=\"width: 4px;\">&nbsp;</td>\r\n",
        "        </tr>\r\n",
        "        <tr>\r\n",
        "            <td style=\"width: 141px;\">\r\n",
        "                <h4>&gt;=</h4>\r\n",
        "            </td>\r\n",
        "            <td style=\"width: 337px;\">\r\n",
        "                <h4>Greater than or equal to</h4>\r\n",
        "            </td>\r\n",
        "            <td style=\"width: 134px;\">\r\n",
        "                <h4>x &gt;= y</h4>\r\n",
        "            </td>\r\n",
        "            <td style=\"width: 4px;\">&nbsp;</td>\r\n",
        "        </tr>\r\n",
        "        <tr>\r\n",
        "            <td style=\"width: 141px;\">\r\n",
        "                <h4>&lt;=</h4>\r\n",
        "            </td>\r\n",
        "            <td style=\"width: 337px;\">\r\n",
        "                <h4>Less than or equal to</h4>\r\n",
        "            </td>\r\n",
        "            <td style=\"width: 134px;\">\r\n",
        "                <h4>x &lt;= y</h4>\r\n",
        "            </td>\r\n",
        "        </tr>\r\n",
        "    </tbody>\r\n",
        "</table>"
      ]
    },
    {
      "cell_type": "code",
      "metadata": {
        "colab": {
          "base_uri": "https://localhost:8080/"
        },
        "id": "zYACm224s97v",
        "outputId": "fa69aaca-48ee-45ff-a42f-f08e0ef9a4c3"
      },
      "source": [
        "# Python Comparison Operators\r\n",
        "print(\"Python Comparison Operators\")\r\n",
        "\r\n",
        "x = 5\r\n",
        "y = 3\r\n",
        "print(x == y) # False\r\n",
        "\r\n",
        "x = 5\r\n",
        "y = 3\r\n",
        "print(x != y) # True\r\n",
        "\r\n",
        "x = 5\r\n",
        "y = 3\r\n",
        "print(x > y)  # True\r\n",
        "\r\n",
        "x = 5\r\n",
        "y = 3\r\n",
        "print(x < y)  # False\r\n",
        "\r\n",
        "x = 5\r\n",
        "y = 3\r\n",
        "print(x >= y) # True\r\n",
        "\r\n",
        "x = 5\r\n",
        "y = 3\r\n",
        "print(x <= y) # False"
      ],
      "execution_count": null,
      "outputs": [
        {
          "output_type": "stream",
          "text": [
            "Python Comparison Operators\n",
            "False\n",
            "True\n",
            "True\n",
            "False\n",
            "True\n",
            "False\n"
          ],
          "name": "stdout"
        }
      ]
    },
    {
      "cell_type": "markdown",
      "metadata": {
        "id": "y__kiA9OwOOj"
      },
      "source": [
        "__Python Logical Operators__\r\n",
        "\r\n",
        "\r\n",
        "---\r\n",
        "<table class=\"w3-table-all notranslate\">\r\n",
        "    <tbody>\r\n",
        "        <tr>\r\n",
        "            <th style=\"width: 73px;\">\r\n",
        "                <h3>Operator</h3>\r\n",
        "            </th>\r\n",
        "            <th style=\"width: 334px;\">\r\n",
        "                <h3>Description</h3>\r\n",
        "            </th>\r\n",
        "            <th style=\"width: 191px;\">\r\n",
        "                <h3>Example</h3>\r\n",
        "            </th>\r\n",
        "            <th style=\"width: 10px;\">&nbsp;</th>\r\n",
        "        </tr>\r\n",
        "        <tr>\r\n",
        "            <td style=\"width: 73px;\">\r\n",
        "                <h4>and&nbsp;</h4>\r\n",
        "            </td>\r\n",
        "            <td style=\"width: 334px;\">\r\n",
        "                <h4>Returns True if both statements are true</h4>\r\n",
        "            </td>\r\n",
        "            <td style=\"width: 191px;\">\r\n",
        "                <h4>x &lt; 5 and&nbsp; x &lt; 10</h4>\r\n",
        "            </td>\r\n",
        "            <td style=\"width: 10px;\">&nbsp;</td>\r\n",
        "        </tr>\r\n",
        "        <tr>\r\n",
        "            <td style=\"width: 73px;\">\r\n",
        "                <h4>or</h4>\r\n",
        "            </td>\r\n",
        "            <td style=\"width: 334px;\">\r\n",
        "                <h4>Returns True if one of the statements is true</h4>\r\n",
        "            </td>\r\n",
        "            <td style=\"width: 191px;\">\r\n",
        "                <h4>x &lt; 5 or x &lt; 4</h4>\r\n",
        "            </td>\r\n",
        "            <td style=\"width: 10px;\">&nbsp;</td>\r\n",
        "        </tr>\r\n",
        "        <tr>\r\n",
        "            <td style=\"width: 73px;\">\r\n",
        "                <h4>not</h4>\r\n",
        "            </td>\r\n",
        "            <td style=\"width: 334px;\">\r\n",
        "                <h4>Reverse the result, returns False if the result is true</h4>\r\n",
        "            </td>\r\n",
        "            <td style=\"width: 191px;\">\r\n",
        "                <h4>not(x &lt; 5 and x &lt; 10)</h4>\r\n",
        "            </td>\r\n",
        "        </tr>\r\n",
        "    </tbody>\r\n",
        "</table>\r\n",
        "\r\n"
      ]
    },
    {
      "cell_type": "code",
      "metadata": {
        "colab": {
          "base_uri": "https://localhost:8080/"
        },
        "id": "XEMmMMEzrKn-",
        "outputId": "2cde7999-cf4f-499d-f409-fe2c35e336c6"
      },
      "source": [
        "# Python Logical Operators\r\n",
        "print(\"Python Logical Operators\")\r\n",
        "\r\n",
        "x = 5\r\n",
        "print(x > 3 and x < 10)      # True\r\n",
        "\r\n",
        "x = 5\r\n",
        "print(x > 3 or x < 4)        # True\r\n",
        "\r\n",
        "x = 5\r\n",
        "print(not(x > 3 and x < 10)) # False"
      ],
      "execution_count": null,
      "outputs": [
        {
          "output_type": "stream",
          "text": [
            "Python Logical Operators\n",
            "True\n",
            "True\n",
            "False\n"
          ],
          "name": "stdout"
        }
      ]
    },
    {
      "cell_type": "markdown",
      "metadata": {
        "id": "2-nfBtNey74j"
      },
      "source": [
        "__Python Identity Operators__\r\n",
        "\r\n",
        "---\r\n",
        "\r\n",
        "\r\n",
        "\r\n",
        "|Opreater|Description|Example|\r\n",
        "|--------|-----------|-------|\r\n",
        "|is |Returns True if both variables are the same object|x is y|\r\n",
        "|is not|Returns True if both variables are not the same object|x is not y|"
      ]
    },
    {
      "cell_type": "markdown",
      "metadata": {
        "id": "8smQFPZk1hgQ"
      },
      "source": [
        "__Python Membership Operators__\r\n",
        "\r\n",
        "---\r\n",
        "|Opreater|Description|Example|\r\n",
        "|--------|-----------|-------|\r\n",
        "|in |Returns True if a sequence with the specified value is present in the object|x in y|\r\n",
        "|not in|Returns True if a sequence with the specified value is not present in the object|x not in y|\r\n",
        "\r\n",
        "\r\n",
        "\r\n"
      ]
    },
    {
      "cell_type": "markdown",
      "metadata": {
        "id": "NdYc3bfE2G0t"
      },
      "source": [
        "__Python Bitwise Operators__\r\n",
        "\r\n",
        "\r\n",
        "---\r\n",
        "<table class=\"w3-table-all notranslate\">\r\n",
        "    <tbody>\r\n",
        "        <tr>\r\n",
        "            <th>\r\n",
        "                <h3>Operator</h3>\r\n",
        "            </th>\r\n",
        "            <th>\r\n",
        "                <h3>Name</h3>\r\n",
        "            </th>\r\n",
        "            <th>\r\n",
        "                <h3>Description</h3>\r\n",
        "            </th>\r\n",
        "        </tr>\r\n",
        "        <tr>\r\n",
        "            <td>\r\n",
        "                <h4>&amp;&nbsp;</h4>\r\n",
        "            </td>\r\n",
        "            <td>\r\n",
        "                <h4>AND</h4>\r\n",
        "            </td>\r\n",
        "            <td>\r\n",
        "                <h4>Sets each bit to 1 if both bits are 1</h4>\r\n",
        "            </td>\r\n",
        "        </tr>\r\n",
        "        <tr>\r\n",
        "            <td>\r\n",
        "                <h4>|</h4>\r\n",
        "            </td>\r\n",
        "            <td>\r\n",
        "                <h4>OR</h4>\r\n",
        "            </td>\r\n",
        "            <td>\r\n",
        "                <h4>Sets each bit to 1 if one of two bits is 1</h4>\r\n",
        "            </td>\r\n",
        "        </tr>\r\n",
        "        <tr>\r\n",
        "            <td>\r\n",
        "                <h4>&nbsp;^</h4>\r\n",
        "            </td>\r\n",
        "            <td>\r\n",
        "                <h4>XOR</h4>\r\n",
        "            </td>\r\n",
        "            <td>\r\n",
        "                <h4>Sets each bit to 1 if only one of two bits is 1</h4>\r\n",
        "            </td>\r\n",
        "        </tr>\r\n",
        "        <tr>\r\n",
        "            <td>\r\n",
        "                <h4>~&nbsp;</h4>\r\n",
        "            </td>\r\n",
        "            <td>\r\n",
        "                <h4>NOT</h4>\r\n",
        "            </td>\r\n",
        "            <td>\r\n",
        "                <h4>Inverts all the bits</h4>\r\n",
        "            </td>\r\n",
        "        </tr>\r\n",
        "        <tr>\r\n",
        "            <td>\r\n",
        "                <h4>&lt;&lt;</h4>\r\n",
        "            </td>\r\n",
        "            <td>\r\n",
        "                <h4>Zero fill left shift</h4>\r\n",
        "            </td>\r\n",
        "            <td>\r\n",
        "                <h4>Shift left by pushing zeros in from the right and let the leftmost bits fall off</h4>\r\n",
        "            </td>\r\n",
        "        </tr>\r\n",
        "        <tr>\r\n",
        "            <td>\r\n",
        "                <h4>&gt;&gt;</h4>\r\n",
        "            </td>\r\n",
        "            <td>\r\n",
        "                <h4>Signed right shift</h4>\r\n",
        "            </td>\r\n",
        "            <td>\r\n",
        "                <h4>Shift right by pushing copies of the leftmost bit in from the left, and let the rightmost bits fall\r\n",
        "                    off</h4>\r\n",
        "            </td>\r\n",
        "        </tr>\r\n",
        "    </tbody>\r\n",
        "</table>\r\n"
      ]
    }
  ]
}