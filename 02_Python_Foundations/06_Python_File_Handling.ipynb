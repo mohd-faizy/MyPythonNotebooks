{
  "nbformat": 4,
  "nbformat_minor": 0,
  "metadata": {
    "colab": {
      "name": "06_Python_File_Handling.ipynb",
      "provenance": [],
      "authorship_tag": "ABX9TyMtopwr4hAPYcvMaydyOe1L",
      "include_colab_link": true
    },
    "kernelspec": {
      "name": "python3",
      "display_name": "Python 3"
    }
  },
  "cells": [
    {
      "cell_type": "markdown",
      "metadata": {
        "id": "view-in-github",
        "colab_type": "text"
      },
      "source": [
        "<a href=\"https://colab.research.google.com/github/mohd-faizy/Python-Concept-Jupyer-Notebooks/blob/master/06_Python_File_Handling.ipynb\" target=\"_parent\"><img src=\"https://colab.research.google.com/assets/colab-badge.svg\" alt=\"Open In Colab\"/></a>"
      ]
    },
    {
      "cell_type": "markdown",
      "metadata": {
        "id": "-aRXV__RQ9aV"
      },
      "source": [
        "--- \r\n",
        "<strong> \r\n",
        "    <h1 align='center'>File handling</h1> \r\n",
        "</strong>\r\n",
        "\r\n",
        "---"
      ]
    },
    {
      "cell_type": "markdown",
      "metadata": {
        "id": "nsLBd09XRICn"
      },
      "source": [
        "## __Python File Handling__"
      ]
    },
    {
      "cell_type": "markdown",
      "metadata": {
        "id": "0rdN3XbWR2j4"
      },
      "source": [
        "The `open()` function takes two parameters; __filename__, and __mode__.\r\n",
        "\r\n",
        "- `\"r\"` - Read - Default value. Opens a file for reading, error if the file does not exist\r\n",
        "\r\n",
        "- `\"a\"` - Append - Opens a file for appending, creates the file if it does not exist\r\n",
        "\r\n",
        "- `\"w\"` - Write - Opens a file for writing, creates the file if it does not exist\r\n",
        "\r\n",
        "- `\"x\"` - Create - Creates the specified file, returns an error if the file exists\r\n",
        "\r\n",
        "- `\"t\"` - Text - Default value. Text mode\r\n",
        "\r\n",
        "- `\"b\"` - Binary - Binary mode (e.g. images)"
      ]
    },
    {
      "cell_type": "code",
      "metadata": {
        "colab": {
          "base_uri": "https://localhost:8080/"
        },
        "id": "hKU_9VR5YFsp",
        "outputId": "cea28422-5a40-418f-b549-cfdcb5a0623a"
      },
      "source": [
        "# writing my file\r\n",
        "\r\n",
        "%%writefile myfile.txt\r\n",
        "Democracy is not a state.\r\n",
        "It is an act, and each generation must do its part."
      ],
      "execution_count": 1,
      "outputs": [
        {
          "output_type": "stream",
          "text": [
            "Writing myfile.txt\n"
          ],
          "name": "stdout"
        }
      ]
    },
    {
      "cell_type": "markdown",
      "metadata": {
        "id": "2ZxsEBnCRHtl"
      },
      "source": [
        "## __Python Read Files__"
      ]
    },
    {
      "cell_type": "code",
      "metadata": {
        "colab": {
          "base_uri": "https://localhost:8080/"
        },
        "id": "uCSWAaUdRqw2",
        "outputId": "8be5826d-b341-4a9f-b2e6-3b128207c6c6"
      },
      "source": [
        "f = open(\"/content/myfile.txt\", \"r\")\r\n",
        "print(f.read())"
      ],
      "execution_count": 2,
      "outputs": [
        {
          "output_type": "stream",
          "text": [
            "Democracy is not a state.\n",
            "It is an act, and each generation must do its part.\n"
          ],
          "name": "stdout"
        }
      ]
    },
    {
      "cell_type": "code",
      "metadata": {
        "colab": {
          "base_uri": "https://localhost:8080/"
        },
        "id": "87tgK8yxWey8",
        "outputId": "7fe8afb5-97f0-4607-e0ba-256830f8bc09"
      },
      "source": [
        "f = open(\"/content/myfile.txt\", \"r\")\r\n",
        "print(f.read(10)) # Return the 10 first characters of the file:"
      ],
      "execution_count": 3,
      "outputs": [
        {
          "output_type": "stream",
          "text": [
            "Democracy \n"
          ],
          "name": "stdout"
        }
      ]
    },
    {
      "cell_type": "code",
      "metadata": {
        "colab": {
          "base_uri": "https://localhost:8080/"
        },
        "id": "btnECHPhW6RY",
        "outputId": "dcefe021-97a2-43fd-e8ca-9255e13c6138"
      },
      "source": [
        "f = open(\"/content/myfile.txt\", \"r\")\r\n",
        "print(f.readline()) # Read one line of the file"
      ],
      "execution_count": 4,
      "outputs": [
        {
          "output_type": "stream",
          "text": [
            "Democracy is not a state.\n",
            "\n"
          ],
          "name": "stdout"
        }
      ]
    },
    {
      "cell_type": "code",
      "metadata": {
        "colab": {
          "base_uri": "https://localhost:8080/"
        },
        "id": "HyotnzGEYWTO",
        "outputId": "81f2daf3-6d2b-46fb-ea20-d1b6417dd07a"
      },
      "source": [
        "# By looping through the lines of the file\r\n",
        "# we can read the whole file, line by line\r\n",
        "\r\n",
        "f = open(\"/content/myfile.txt\", \"r\")\r\n",
        "for x in f:\r\n",
        "    print(x)"
      ],
      "execution_count": 5,
      "outputs": [
        {
          "output_type": "stream",
          "text": [
            "Democracy is not a state.\n",
            "\n",
            "It is an act, and each generation must do its part.\n"
          ],
          "name": "stdout"
        }
      ]
    },
    {
      "cell_type": "code",
      "metadata": {
        "colab": {
          "base_uri": "https://localhost:8080/"
        },
        "id": "TIqmhH7jYlUT",
        "outputId": "b5bf8e8b-9a7d-4922-9d65-5faf927e4a0e"
      },
      "source": [
        "f = open(\"/content/myfile.txt\", \"r\")\r\n",
        "print(f.readline())\r\n",
        "f.close()"
      ],
      "execution_count": 6,
      "outputs": [
        {
          "output_type": "stream",
          "text": [
            "Democracy is not a state.\n",
            "\n"
          ],
          "name": "stdout"
        }
      ]
    },
    {
      "cell_type": "markdown",
      "metadata": {
        "id": "kAhzx0H2RHhW"
      },
      "source": [
        "## __Python Write/Create Files__"
      ]
    },
    {
      "cell_type": "code",
      "metadata": {
        "colab": {
          "base_uri": "https://localhost:8080/"
        },
        "id": "WhRWBkr2Rrj1",
        "outputId": "a5da45fe-bcea-4714-f455-3c09022c2c24"
      },
      "source": [
        "f = open(\"/content/myfile.txt\", \"a\")\r\n",
        "f.write(\"\\nNow the file has more content!\")\r\n",
        "f.close()\r\n",
        "\r\n",
        "#open and read the file after the appending:\r\n",
        "f = open(\"/content/myfile.txt\", \"r\")\r\n",
        "print(f.read())"
      ],
      "execution_count": 7,
      "outputs": [
        {
          "output_type": "stream",
          "text": [
            "Democracy is not a state.\n",
            "It is an act, and each generation must do its part.\n",
            "Now the file has more content!\n"
          ],
          "name": "stdout"
        }
      ]
    },
    {
      "cell_type": "code",
      "metadata": {
        "colab": {
          "base_uri": "https://localhost:8080/"
        },
        "id": "8BF6P3viRsLp",
        "outputId": "c4d11e83-5eaf-42e7-c3c2-c28ca1deeb2b"
      },
      "source": [
        "f = open(\"/content/myfile.txt\", \"w\")\r\n",
        "f.write(\"Woops! I have deleted the content!\")\r\n",
        "f.close()\r\n",
        "\r\n",
        "#open and read the file after the appending:\r\n",
        "f = open(\"/content/myfile.txt\", \"r\")\r\n",
        "print(f.read())"
      ],
      "execution_count": 8,
      "outputs": [
        {
          "output_type": "stream",
          "text": [
            "Woops! I have deleted the content!\n"
          ],
          "name": "stdout"
        }
      ]
    },
    {
      "cell_type": "markdown",
      "metadata": {
        "id": "KmQChjSNal3r"
      },
      "source": [
        "__Creating a new file if it does not exist__"
      ]
    },
    {
      "cell_type": "code",
      "metadata": {
        "id": "qvzzuODqaTvR"
      },
      "source": [
        "f = open(\"NewFile.txt\", \"w\")"
      ],
      "execution_count": 9,
      "outputs": []
    },
    {
      "cell_type": "markdown",
      "metadata": {
        "id": "R-N_VhXERhUb"
      },
      "source": [
        "## __Pyhton Delete Files__"
      ]
    },
    {
      "cell_type": "code",
      "metadata": {
        "id": "z7IgabmwaDwy"
      },
      "source": [
        "import os\r\n",
        "if os.path.exists(\"/content\"):\r\n",
        "    os.remove(\"NewFile.txt\")\r\n",
        "else:\r\n",
        "    print(\"The file does not exist\")"
      ],
      "execution_count": 10,
      "outputs": []
    },
    {
      "cell_type": "markdown",
      "metadata": {
        "id": "tnVOwkhNbqt6"
      },
      "source": [
        "```python \r\n",
        "# Remove the folder \"myfolder\"\r\n",
        "\r\n",
        "import os\r\n",
        "os.rmdir(\"myfolder\")\r\n",
        "```"
      ]
    }
  ]
}