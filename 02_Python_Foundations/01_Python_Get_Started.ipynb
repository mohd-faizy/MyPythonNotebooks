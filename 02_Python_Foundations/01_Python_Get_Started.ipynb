{
  "nbformat": 4,
  "nbformat_minor": 0,
  "metadata": {
    "colab": {
      "name": "01_Python_Get_Started.ipynb",
      "provenance": [],
      "collapsed_sections": [],
      "toc_visible": true,
      "authorship_tag": "ABX9TyNOyYcU5PsDtcKMANDYcNMT",
      "include_colab_link": true
    },
    "kernelspec": {
      "name": "python3",
      "display_name": "Python 3"
    }
  },
  "cells": [
    {
      "cell_type": "markdown",
      "metadata": {
        "id": "view-in-github",
        "colab_type": "text"
      },
      "source": [
        "<a href=\"https://colab.research.google.com/github/mohd-faizy/Python_Notebooks_Concept/blob/master/01_Python_Get_Started.ipynb\" target=\"_parent\"><img src=\"https://colab.research.google.com/assets/colab-badge.svg\" alt=\"Open In Colab\"/></a>"
      ]
    },
    {
      "cell_type": "code",
      "metadata": {
        "colab": {
          "base_uri": "https://localhost:8080/"
        },
        "id": "sAdd98D3wswF",
        "outputId": "66a8b52c-5eb2-4291-df2c-7cee12a182e6"
      },
      "source": [
        "!python --version"
      ],
      "execution_count": null,
      "outputs": [
        {
          "output_type": "stream",
          "text": [
            "Python 3.6.9\n"
          ],
          "name": "stdout"
        }
      ]
    },
    {
      "cell_type": "markdown",
      "metadata": {
        "id": "VfBleGs_wK0w"
      },
      "source": [
        "### __1. Hello World__\r\n",
        "\r\n"
      ]
    },
    {
      "cell_type": "code",
      "metadata": {
        "colab": {
          "base_uri": "https://localhost:8080/"
        },
        "id": "btdDFvxxwgis",
        "outputId": "d26a3401-5b58-4efc-d480-e39081a72adc"
      },
      "source": [
        "print(\"Hello, World!\")"
      ],
      "execution_count": null,
      "outputs": [
        {
          "output_type": "stream",
          "text": [
            "Hello, World!\n"
          ],
          "name": "stdout"
        }
      ]
    },
    {
      "cell_type": "markdown",
      "metadata": {
        "id": "JnneLwDqw9uL"
      },
      "source": [
        "### __2. Creating a Comment__"
      ]
    },
    {
      "cell_type": "code",
      "metadata": {
        "colab": {
          "base_uri": "https://localhost:8080/"
        },
        "id": "Z1tUG1Vvw73v",
        "outputId": "dc55f8ba-c49a-41d4-dd5b-45933e340c77"
      },
      "source": [
        "# This is a comment\r\n",
        "print(\"Hello, World!\")\r\n",
        "\r\n",
        "print(\"Hello, World!\") #This is a comment\r\n",
        "\r\n",
        "# print(\"Hello, World!\")\r\n",
        "print(\"Cheers, Mate!\")\r\n",
        "\r\n",
        "\r\n",
        "# This is a comment\r\n",
        "# written in\r\n",
        "# more than just one line\r\n",
        "print(\"Hello, World!\")"
      ],
      "execution_count": null,
      "outputs": [
        {
          "output_type": "stream",
          "text": [
            "Hello, World!\n",
            "Hello, World!\n",
            "Cheers, Mate!\n",
            "Hello, World!\n"
          ],
          "name": "stdout"
        }
      ]
    },
    {
      "cell_type": "markdown",
      "metadata": {
        "id": "jZusUnv3xfeg"
      },
      "source": [
        "### __3. Python Variables__"
      ]
    },
    {
      "cell_type": "markdown",
      "metadata": {
        "id": "dDU-HSuA4kH8"
      },
      "source": [
        "#### __a. Python Varible__ "
      ]
    },
    {
      "cell_type": "code",
      "metadata": {
        "colab": {
          "base_uri": "https://localhost:8080/"
        },
        "id": "sobCHuu5xkGC",
        "outputId": "9316e4cd-7738-485d-f988-c5af05a7f933"
      },
      "source": [
        "x = 5\r\n",
        "y = \"John\"\r\n",
        "print(x)\r\n",
        "print(y)"
      ],
      "execution_count": null,
      "outputs": [
        {
          "output_type": "stream",
          "text": [
            "5\n",
            "John\n"
          ],
          "name": "stdout"
        }
      ]
    },
    {
      "cell_type": "code",
      "metadata": {
        "colab": {
          "base_uri": "https://localhost:8080/"
        },
        "id": "ZsYS5crzxy7c",
        "outputId": "9e4056a2-31fe-44d0-89bd-977a898e82d4"
      },
      "source": [
        "x = str(3)    # x will be '3'\r\n",
        "y = int(3)    # y will be 3\r\n",
        "z = float(3)  # z will be 3.0\r\n",
        "\r\n",
        "print(x)\r\n",
        "print(y)\r\n",
        "print(z)"
      ],
      "execution_count": null,
      "outputs": [
        {
          "output_type": "stream",
          "text": [
            "3\n",
            "3\n",
            "3.0\n"
          ],
          "name": "stdout"
        }
      ]
    },
    {
      "cell_type": "code",
      "metadata": {
        "colab": {
          "base_uri": "https://localhost:8080/"
        },
        "id": "1yGIhUcvx9Fy",
        "outputId": "48a49b73-26e4-430f-ffba-bd83ece1eb74"
      },
      "source": [
        "x = 5\r\n",
        "y = \"John\"\r\n",
        "print(type(x))\r\n",
        "print(type(y))"
      ],
      "execution_count": null,
      "outputs": [
        {
          "output_type": "stream",
          "text": [
            "<class 'int'>\n",
            "<class 'str'>\n"
          ],
          "name": "stdout"
        }
      ]
    },
    {
      "cell_type": "code",
      "metadata": {
        "id": "K-jb67Y5yIo3"
      },
      "source": [
        "x = \"John\"\r\n",
        "# is the same as\r\n",
        "x = 'John'"
      ],
      "execution_count": null,
      "outputs": []
    },
    {
      "cell_type": "code",
      "metadata": {
        "id": "dd2t5y3cyNwx"
      },
      "source": [
        "# Variable names are case-sensitive\r\n",
        "\r\n",
        "a = 4\r\n",
        "A = \"Sally\" # A will not overwrite a"
      ],
      "execution_count": null,
      "outputs": []
    },
    {
      "cell_type": "markdown",
      "metadata": {
        "id": "QHzulaDf4uij"
      },
      "source": [
        "#### __b. Variable Names__"
      ]
    },
    {
      "cell_type": "code",
      "metadata": {
        "id": "GRybmSliycHA"
      },
      "source": [
        "# Legal variable names\r\n",
        "\r\n",
        "myvar = \"John\"\r\n",
        "my_var = \"John\"\r\n",
        "_my_var = \"John\"\r\n",
        "myVar = \"John\"\r\n",
        "MYVAR = \"John\"\r\n",
        "myvar2 = \"John\""
      ],
      "execution_count": null,
      "outputs": []
    },
    {
      "cell_type": "markdown",
      "metadata": {
        "id": "cAN0cCn2ynLx"
      },
      "source": [
        "```python\r\n",
        "# Illegal variable names\r\n",
        "\r\n",
        "2myvar = \"John\"\r\n",
        "my-var = \"John\"\r\n",
        "my var = \"John\"\r\n",
        "```"
      ]
    },
    {
      "cell_type": "code",
      "metadata": {
        "id": "9pT2EwXvy2j2"
      },
      "source": [
        "# Camel Case\r\n",
        "myVariableName = \"John\"\r\n",
        "\r\n",
        "# Pascal Case\r\n",
        "MyVariableName = \"John\"\r\n",
        "\r\n",
        "# Snake Case\r\n",
        "my_variable_name = \"John\""
      ],
      "execution_count": null,
      "outputs": []
    },
    {
      "cell_type": "markdown",
      "metadata": {
        "id": "_AucN7PX40Aj"
      },
      "source": [
        "#### __c. Assign Multiple Values__"
      ]
    },
    {
      "cell_type": "code",
      "metadata": {
        "colab": {
          "base_uri": "https://localhost:8080/"
        },
        "id": "q92s2zsazK4T",
        "outputId": "eb927e6a-c964-4a12-db66-a56ad3ef6a93"
      },
      "source": [
        "# Assign Multiple Values\r\n",
        "\r\n",
        "x, y, z = \"Orange\", \"Banana\", \"Cherry\"\r\n",
        "print(x)\r\n",
        "print(y)\r\n",
        "print(z)\r\n",
        "\r\n",
        "# One Value to Multiple Variables\r\n",
        "\r\n",
        "a = b = c = \"Orange\"\r\n",
        "print(a)\r\n",
        "print(b)\r\n",
        "print(c)"
      ],
      "execution_count": null,
      "outputs": [
        {
          "output_type": "stream",
          "text": [
            "Orange\n",
            "Banana\n",
            "Cherry\n",
            "Orange\n",
            "Orange\n",
            "Orange\n"
          ],
          "name": "stdout"
        }
      ]
    },
    {
      "cell_type": "code",
      "metadata": {
        "colab": {
          "base_uri": "https://localhost:8080/"
        },
        "id": "ljbHKNSQzqut",
        "outputId": "9ab5269d-0a10-4dc2-d9cb-bf314aeb8f2a"
      },
      "source": [
        "# Unpack a Collection-- Tuple Unpacking\r\n",
        "\r\n",
        "fruits = [\"apple\", \"banana\", \"cherry\"]\r\n",
        "x, y, z = fruits\r\n",
        "print(x)\r\n",
        "print(y)\r\n",
        "print(z)"
      ],
      "execution_count": null,
      "outputs": [
        {
          "output_type": "stream",
          "text": [
            "apple\n",
            "banana\n",
            "cherry\n"
          ],
          "name": "stdout"
        }
      ]
    },
    {
      "cell_type": "markdown",
      "metadata": {
        "id": "pdfA6KM15G3h"
      },
      "source": [
        "#### __d. Output Varibles__"
      ]
    },
    {
      "cell_type": "code",
      "metadata": {
        "colab": {
          "base_uri": "https://localhost:8080/"
        },
        "id": "RwUFWtWO02Yk",
        "outputId": "83deb526-e7fb-499a-e3aa-674f7f434771"
      },
      "source": [
        "# Output Variables\r\n",
        "\r\n",
        "a = \"awesome\"\r\n",
        "print(\"Python is \" + a)\r\n",
        "\r\n",
        "x = \"Python is \"\r\n",
        "y = \"awesome\"\r\n",
        "z =  x + y\r\n",
        "print(z)\r\n",
        "\r\n",
        "p = 5\r\n",
        "q = 10\r\n",
        "print(p + q)"
      ],
      "execution_count": null,
      "outputs": [
        {
          "output_type": "stream",
          "text": [
            "Python is awesome\n",
            "Python is awesome\n",
            "15\n"
          ],
          "name": "stdout"
        }
      ]
    },
    {
      "cell_type": "markdown",
      "metadata": {
        "id": "DZhOk4y81NVM"
      },
      "source": [
        "```python\r\n",
        "# Combine a string and a number\r\n",
        "# Python will give you an error\r\n",
        "\r\n",
        "Example\r\n",
        "x = 5\r\n",
        "y = \"John\"\r\n",
        "print(x + y)\r\n",
        "```"
      ]
    },
    {
      "cell_type": "markdown",
      "metadata": {
        "id": "RtKLlkdI5W1s"
      },
      "source": [
        "#### __e. Global Variables__"
      ]
    },
    {
      "cell_type": "code",
      "metadata": {
        "colab": {
          "base_uri": "https://localhost:8080/"
        },
        "id": "4vFacheI0npf",
        "outputId": "79e2b402-8ec1-4c1f-809a-63fd321c0832"
      },
      "source": [
        "# Global Variables\r\n",
        "# Create a variable outside of a function\r\n",
        "# and use it inside the function\r\n",
        "\r\n",
        "x = \"awesome\"\r\n",
        "\r\n",
        "def myfunc():\r\n",
        "  print(\"Python is \" + x)\r\n",
        "\r\n",
        "myfunc()"
      ],
      "execution_count": null,
      "outputs": [
        {
          "output_type": "stream",
          "text": [
            "Python is awesome\n"
          ],
          "name": "stdout"
        }
      ]
    },
    {
      "cell_type": "code",
      "metadata": {
        "colab": {
          "base_uri": "https://localhost:8080/"
        },
        "id": "YbNN8Pqr1vrP",
        "outputId": "79ff9edb-05cb-4770-a802-a5aca6147503"
      },
      "source": [
        "# Create a variable inside a function\r\n",
        "# with the same name as the global variable\r\n",
        "\r\n",
        "x = \"awesome\"\r\n",
        "\r\n",
        "def myfunc():\r\n",
        "  x = \"fantastic\"\r\n",
        "  print(\"Python is \" + x)\r\n",
        "\r\n",
        "myfunc()\r\n",
        "\r\n",
        "print(\"Python is \" + x)"
      ],
      "execution_count": null,
      "outputs": [
        {
          "output_type": "stream",
          "text": [
            "Python is fantastic\n",
            "Python is awesome\n"
          ],
          "name": "stdout"
        }
      ]
    },
    {
      "cell_type": "code",
      "metadata": {
        "colab": {
          "base_uri": "https://localhost:8080/"
        },
        "id": "kGlxuKnt18N7",
        "outputId": "f769751e-fd85-4533-a2e1-045282988e7a"
      },
      "source": [
        "# The global Keyword\r\n",
        "\r\n",
        "# If you use the global keyword\r\n",
        "# the variable belongs to the global scope:\r\n",
        "\r\n",
        "def myfunc():\r\n",
        "  global x\r\n",
        "  x = \"fantastic\"\r\n",
        "\r\n",
        "myfunc()\r\n",
        "\r\n",
        "print(\"Python is \" + x)"
      ],
      "execution_count": null,
      "outputs": [
        {
          "output_type": "stream",
          "text": [
            "Python is fantastic\n"
          ],
          "name": "stdout"
        }
      ]
    },
    {
      "cell_type": "code",
      "metadata": {
        "colab": {
          "base_uri": "https://localhost:8080/"
        },
        "id": "_KZedbY53r4E",
        "outputId": "3f901ee4-14af-4534-f5f3-9bfe81265620"
      },
      "source": [
        "# To change the value of a global variable inside a function\r\n",
        "# refer to the variable by using the global keyword\r\n",
        "\r\n",
        "x = \"awesome\"\r\n",
        "\r\n",
        "def myfunc():\r\n",
        "  global x\r\n",
        "  x = \"fantastic\"\r\n",
        "\r\n",
        "    myfunc()\r\n",
        "\r\n",
        "print(\"Python is \" + x)"
      ],
      "execution_count": null,
      "outputs": [
        {
          "output_type": "stream",
          "text": [
            "Python is fantastic\n"
          ],
          "name": "stdout"
        }
      ]
    }
  ]
}