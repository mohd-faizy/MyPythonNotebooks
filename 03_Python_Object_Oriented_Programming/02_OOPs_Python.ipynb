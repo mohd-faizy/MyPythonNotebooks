{
  "nbformat": 4,
  "nbformat_minor": 0,
  "metadata": {
    "colab": {
      "provenance": [],
      "toc_visible": true
    },
    "kernelspec": {
      "name": "python3",
      "display_name": "Python 3"
    },
    "language_info": {
      "name": "python"
    }
  },
  "cells": [
    {
      "cell_type": "markdown",
      "source": [
        "# **Object Oriented Programming**"
      ],
      "metadata": {
        "id": "E_Mb3KlCvheK"
      }
    },
    {
      "cell_type": "markdown",
      "source": [
        "- **Class:** Blueprint for creating objects. It defines the structure and behaviors that the objects\n",
        "    ```python\n",
        "    class MyClass:\n",
        "        pass\n",
        "    ```\n",
        "\n",
        "- **Class Attributes:** Variables shared by all instances of a class.\n",
        "    ```python\n",
        "    total_objects = 0\n",
        "    ```\n",
        "\n",
        "- **Constructor:** It’s run as soon as an object of a class is instantiated. This is another term for the `**__init__**` method in Python. It’s used to create an instance of a class and initialize its attributes.\n",
        "    ```python\n",
        "    def __init__(self, args):\n",
        "        self.args = args\n",
        "    ```\n",
        "\n",
        "\n",
        "- **Self Parameter:** Reference to the current instance of the class.\n",
        "    ```python\n",
        "    self\n",
        "    ```\n",
        "    \n",
        "\n",
        "- **Instance Attributes:** Variables specific to an object.\n",
        "    ```python\n",
        "    self.name = 'example'\n",
        "    ```\n",
        "\n",
        "- **Methods/Behavior:**  Methods are functions defined inside a class that define behaviors of an object.\n",
        "    ```python\n",
        "    def my_method(self):\n",
        "        pass\n",
        "    ```\n",
        "    ```python\n",
        "    class Dog:\n",
        "        def bark(self):\n",
        "            print(\"Woof!\")\n",
        "    my_dog = Dog()\n",
        "    my_dog.bark()  # Outputs: Woof!\n",
        "    ```\n",
        "\n",
        "\n",
        "\n",
        "\n",
        "- **Objects** An object is an instance of a class. It’s a specific item created using the class blueprint.\n",
        "    ```python\n",
        "    my_object = MyClass()\n",
        "    ```\n",
        "\n",
        "\n",
        "- **Decorator:** Function that modifies the behavior of another function.\n",
        "    ```python\n",
        "    @my_decorator\n",
        "    def my_function():\n",
        "        pass\n",
        "    ```"
      ],
      "metadata": {
        "id": "B_atrzQtvsj5"
      }
    },
    {
      "cell_type": "markdown",
      "source": [
        "## **Baisc OOPs Program structure**:\n",
        "\n",
        "```python\n",
        "# Class: Blueprint for creating objects.\n",
        "class MyClass:\n",
        "    # Class Attributes: Variables shared by all instances of a class.\n",
        "    total_objects = 0\n",
        "\n",
        "    # Constructor: Special method that initializes new objects.\n",
        "    def __init__(self, args):\n",
        "        # Instance Attributes: Variables specific to an object.\n",
        "        self.args = args\n",
        "        self.name = 'example'\n",
        "        MyClass.total_objects += 1\n",
        "\n",
        "    # Methods: Functions that define behaviors of an object.\n",
        "    # Behavior: Actions and reactions of an object (typically methods).\n",
        "    def my_method(self):\n",
        "        pass\n",
        "    def my_behavior(self):\n",
        "        pass\n",
        "\n",
        "# Decorator: Function that modifies the behavior of another function.\n",
        "def my_decorator(func):\n",
        "    def wrapper():\n",
        "        print(\"Before calling the function\")\n",
        "        func()\n",
        "        print(\"After calling the function\")\n",
        "    return wrapper\n",
        "\n",
        "# Objects/Instances: Individual instances of a class.\n",
        "my_object = MyClass('some args')\n",
        "\n",
        "# Self Parameter: Reference to the current instance of the class.\n",
        "print(my_object.args)\n",
        "print(my_object.name)\n",
        "\n",
        "# Using a decorator\n",
        "@my_decorator\n",
        "def my_function():\n",
        "    print(\"Inside my_function\")\n",
        "\n",
        "# Calling the decorated function\n",
        "my_function()\n",
        "```"
      ],
      "metadata": {
        "id": "r13qnUdD1hYx"
      }
    },
    {
      "cell_type": "markdown",
      "source": [
        "### **Classes and Objects**"
      ],
      "metadata": {
        "id": "DrPB7LiPA78q"
      }
    },
    {
      "cell_type": "code",
      "source": [
        "class Person:\n",
        "    name = \"jhon\"\n",
        "    age = 35\n",
        "    occupation = \"Data Scientist\"\n",
        "\n",
        "    def info(self):\n",
        "        print(f\"{self.name}, age {self.age} is a {self.occupation}\")\n",
        "\n",
        "a = Person()\n",
        "\n",
        "b = Person()\n",
        "b.name = \"David\"\n",
        "b.age = 40\n",
        "b.occupation = \"Cook\"\n",
        "\n",
        "c = Person()\n",
        "c.name = \"Lee\"\n",
        "c.age = 45\n",
        "c.occupation = \"Software Engineer\"\n",
        "\n",
        "\n",
        "a.info()\n",
        "b.info()\n",
        "c.info()"
      ],
      "metadata": {
        "colab": {
          "base_uri": "https://localhost:8080/"
        },
        "id": "H5u1Hy-9wTFd",
        "outputId": "056ac9a9-bceb-418c-b691-ee542e6904a6"
      },
      "execution_count": 1,
      "outputs": [
        {
          "output_type": "stream",
          "name": "stdout",
          "text": [
            "jhon, age 35 is a Data Scientist\n",
            "David, age 40 is a Cook\n",
            "Lee, age 45 is a Software Engineer\n"
          ]
        }
      ]
    },
    {
      "cell_type": "markdown",
      "source": [
        "### **Constructors**"
      ],
      "metadata": {
        "id": "LbdghQCbBACR"
      }
    },
    {
      "cell_type": "code",
      "source": [
        "class Person:\n",
        "    def __init__(self, name, age, occupation):\n",
        "        self.name = name\n",
        "        self.age = age\n",
        "        self.occupation = occupation\n",
        "\n",
        "    def info(self):\n",
        "        print(f\"{self.name}, age {self.age} is a {self.occupation}\")\n",
        "\n",
        "a = Person(\"jhon\",35, \"Data Scientist\")\n",
        "a = Person(\"David\",40, \"Cook\")\n",
        "a = Person(\"Lee\",45, \"Software Engineer\")\n",
        "\n",
        "a.info()\n",
        "b.info()\n",
        "c.info()"
      ],
      "metadata": {
        "colab": {
          "base_uri": "https://localhost:8080/"
        },
        "id": "qsRLAdYAv8oc",
        "outputId": "4b981439-9e81-46ba-a94f-9782356d6b5b"
      },
      "execution_count": 2,
      "outputs": [
        {
          "output_type": "stream",
          "name": "stdout",
          "text": [
            "Lee, age 45 is a Software Engineer\n",
            "David, age 40 is a Cook\n",
            "Lee, age 45 is a Software Engineer\n"
          ]
        }
      ]
    },
    {
      "cell_type": "markdown",
      "source": [
        "### **Decorators in Python**"
      ],
      "metadata": {
        "id": "7VSJqgsIBKDZ"
      }
    },
    {
      "cell_type": "code",
      "source": [
        "def greet(fx):\n",
        "    def mfx(*args, **kwargs):\n",
        "        print(\"Good Morning\")\n",
        "        fx(*args, **kwargs)\n",
        "        print(\"Thanks for using this function\")\n",
        "    return mfx\n",
        "\n",
        "@greet\n",
        "def hello():\n",
        "    print(\"Hello world\")\n",
        "\n",
        "@greet\n",
        "def add(a, b):\n",
        "    print(a + b)\n",
        "\n",
        "# Call the decorated functions\n",
        "hello()\n",
        "print(\"\\n\")\n",
        "add(1, 2)"
      ],
      "metadata": {
        "colab": {
          "base_uri": "https://localhost:8080/"
        },
        "id": "sDp5RN_U1EvJ",
        "outputId": "b71ab66f-425b-4b0d-9f03-3c565537c0c6"
      },
      "execution_count": 3,
      "outputs": [
        {
          "output_type": "stream",
          "name": "stdout",
          "text": [
            "Good Morning\n",
            "Hello world\n",
            "Thanks for using this function\n",
            "\n",
            "\n",
            "Good Morning\n",
            "3\n",
            "Thanks for using this function\n"
          ]
        }
      ]
    },
    {
      "cell_type": "markdown",
      "source": [
        "### **Getters and Setters**"
      ],
      "metadata": {
        "id": "ydGQX2EpBNNQ"
      }
    },
    {
      "cell_type": "code",
      "source": [
        "class Circle:\n",
        "    def __init__(self, radius):\n",
        "        self._radius = radius  # Private attribute\n",
        "\n",
        "    @property\n",
        "    def radius(self):\n",
        "        \"\"\"Getter method for retrieving the radius.\"\"\"\n",
        "        return self._radius\n",
        "\n",
        "    @radius.setter\n",
        "    def radius(self, new_radius):\n",
        "        \"\"\"Setter method for updating the radius.\"\"\"\n",
        "        if new_radius >= 0:\n",
        "            self._radius = new_radius\n",
        "        else:\n",
        "            print(\"Radius must be non-negative!\")\n",
        "\n",
        "    def area(self):\n",
        "        \"\"\"Calculate the area of the circle.\"\"\"\n",
        "        return 22/7 * self._radius ** 2\n",
        "\n",
        "# Example usage\n",
        "my_circle = Circle(7)\n",
        "my_circle.radius = -14\n",
        "\n",
        "print(f\"Radius: {my_circle.radius}\")\n",
        "print(f\"Area: {my_circle.area():.2f}\")\n",
        "\n",
        "my_circle.area()"
      ],
      "metadata": {
        "id": "d6OQEJC_7zhl",
        "colab": {
          "base_uri": "https://localhost:8080/"
        },
        "outputId": "f2124bc1-cd23-4a19-c5a9-9f87e2584abb"
      },
      "execution_count": 4,
      "outputs": [
        {
          "output_type": "stream",
          "name": "stdout",
          "text": [
            "Radius must be non-negative!\n",
            "Radius: 7\n",
            "Area: 154.00\n"
          ]
        },
        {
          "output_type": "execute_result",
          "data": {
            "text/plain": [
              "154.0"
            ]
          },
          "metadata": {},
          "execution_count": 4
        }
      ]
    },
    {
      "cell_type": "markdown",
      "source": [
        "### **Inheritance in Python**"
      ],
      "metadata": {
        "id": "_ayFyQLSBRZJ"
      }
    },
    {
      "cell_type": "code",
      "source": [
        "class Employee:\n",
        "  def __init__(self, name, emp_id):\n",
        "    self.name = name\n",
        "    self.emp_id = emp_id\n",
        "\n",
        "  def show_details(self):\n",
        "    print(f\"The name of Employee {self.emp_id} is {self.name}\")\n",
        "\n",
        "class Programmer(Employee):\n",
        "  def __init__(self, name, emp_id, language=\"Python\"):\n",
        "    self.name = name  # Manually assign name from arguments (since no super)\n",
        "    self.emp_id = emp_id\n",
        "    self.language = language\n",
        "\n",
        "  def show_language(self):\n",
        "    print(f\"The preferred language for programmer {self.emp_id} is {self.language}\")\n",
        "\n",
        "# Example usage\n",
        "e1 = Employee(\"John\", 400)\n",
        "e1.show_details()\n",
        "print(\"\\n\")\n",
        "\n",
        "e2 = Programmer(\"David\", 4100, \"Python\")\n",
        "e2.show_details()\n",
        "e2.show_language()\n"
      ],
      "metadata": {
        "colab": {
          "base_uri": "https://localhost:8080/"
        },
        "id": "j8Z2hxHWhwYy",
        "outputId": "56b550cc-d767-49b0-c9fe-81df9dfecf15"
      },
      "execution_count": 5,
      "outputs": [
        {
          "output_type": "stream",
          "name": "stdout",
          "text": [
            "The name of Employee 400 is John\n",
            "\n",
            "\n",
            "The name of Employee 4100 is David\n",
            "The preferred language for programmer 4100 is Python\n"
          ]
        }
      ]
    },
    {
      "cell_type": "markdown",
      "source": [
        "Alternate way of writing the above code with `super()`"
      ],
      "metadata": {
        "id": "imvCqMZNkfQy"
      }
    },
    {
      "cell_type": "code",
      "source": [
        "class Employee:\n",
        "  def __init__(self, name, emp_id):\n",
        "    self.name = name\n",
        "    self.emp_id = emp_id\n",
        "\n",
        "  def show_details(self):\n",
        "    print(f\"The name of Employee {self.emp_id} is {self.name}\")\n",
        "\n",
        "class Programmer(Employee):\n",
        "  def __init__(self, name, emp_id, language=\"Python\"):  # Set default language in constructor\n",
        "    super().__init__(name, emp_id) #  super call the parent class's methods or constructors within a subclass.\n",
        "    self.language = language       # Assign language during object creation\n",
        "\n",
        "  def show_language(self):\n",
        "    print(f\"The preferred language for programmer {self.emp_id} is {self.language}\")  # Use print to display info\n",
        "\n",
        "# Example usage\n",
        "e1 = Employee(\"John\", 400)\n",
        "e1.show_details()\n",
        "print(\"\\n\")\n",
        "\n",
        "e2 = Programmer(\"David\", 4100, \"Python\")\n",
        "e2.show_details()\n",
        "e2.show_language()  # Call show_language to print the preferred language"
      ],
      "metadata": {
        "colab": {
          "base_uri": "https://localhost:8080/"
        },
        "id": "amqh4TOF2fUQ",
        "outputId": "535a4bd0-f07e-45d5-cf8c-0c6557121b51"
      },
      "execution_count": 6,
      "outputs": [
        {
          "output_type": "stream",
          "name": "stdout",
          "text": [
            "The name of Employee 400 is John\n",
            "\n",
            "\n",
            "The name of Employee 4100 is David\n",
            "The preferred language for programmer 4100 is Python\n"
          ]
        }
      ]
    },
    {
      "cell_type": "markdown",
      "source": [
        "**Note**: we need to include `name` and `emp_id` in the `__init__` method of the Programmer class when using `super()` to call the parent class constructor, because `super()` expects those arguments to match the parent class's `__init__` method.\n",
        "\n",
        "\n",
        "\n",
        "\n",
        "\n",
        "\n"
      ],
      "metadata": {
        "id": "w48JmnP1jqNq"
      }
    },
    {
      "cell_type": "markdown",
      "source": [
        "### **Access Specifiers**"
      ],
      "metadata": {
        "id": "_vUGyGJSBWeI"
      }
    },
    {
      "cell_type": "code",
      "source": [
        "class MyClass:\n",
        "    def __init__(self):\n",
        "        self.public_variable = \"I am a public variable\"\n",
        "        self._protected_variable = \"I am a protected variable\"\n",
        "        self.__private_variable = \"I am a private variable\"\n",
        "\n",
        "    def public_method(self):\n",
        "        print(\"This is a public method\")\n",
        "\n",
        "    def _protected_method(self):\n",
        "        print(\"This is a protected method\")\n",
        "\n",
        "    def __private_method(self):\n",
        "        print(\"This is a private method\")\n",
        "\n",
        "# Create an instance of MyClass\n",
        "obj = MyClass()\n",
        "\n",
        "# Accessing public members\n",
        "print(obj.public_variable)\n",
        "obj.public_method()\n",
        "print(\"\\n\")\n",
        "\n",
        "# Accessing protected members\n",
        "print(obj._protected_variable)\n",
        "obj._protected_method()\n",
        "print(\"\\n\")\n",
        "\n",
        "# NOTE:\n",
        "# Accessing private members (Note: This will raise an AttributeError)\n",
        "# print(obj.__private_variable)\n",
        "# obj.__private_method()\n",
        "\n",
        "# Accessing private members using name mangling\n",
        "print(obj._MyClass__private_variable)\n",
        "obj._MyClass__private_method()\n"
      ],
      "metadata": {
        "colab": {
          "base_uri": "https://localhost:8080/"
        },
        "id": "feXQ8sXJ2h97",
        "outputId": "21b48143-2200-4482-9621-8266686ab2e7"
      },
      "execution_count": 7,
      "outputs": [
        {
          "output_type": "stream",
          "name": "stdout",
          "text": [
            "I am a public variable\n",
            "This is a public method\n",
            "\n",
            "\n",
            "I am a protected variable\n",
            "This is a protected method\n",
            "\n",
            "\n",
            "I am a private variable\n",
            "This is a private method\n"
          ]
        }
      ]
    },
    {
      "cell_type": "code",
      "source": [
        "dir(obj)"
      ],
      "metadata": {
        "colab": {
          "base_uri": "https://localhost:8080/"
        },
        "id": "uIl0o-2MorXj",
        "outputId": "c6456601-96a1-4f7d-a573-24523ea0f6c8"
      },
      "execution_count": 8,
      "outputs": [
        {
          "output_type": "execute_result",
          "data": {
            "text/plain": [
              "['_MyClass__private_method',\n",
              " '_MyClass__private_variable',\n",
              " '__class__',\n",
              " '__delattr__',\n",
              " '__dict__',\n",
              " '__dir__',\n",
              " '__doc__',\n",
              " '__eq__',\n",
              " '__format__',\n",
              " '__ge__',\n",
              " '__getattribute__',\n",
              " '__gt__',\n",
              " '__hash__',\n",
              " '__init__',\n",
              " '__init_subclass__',\n",
              " '__le__',\n",
              " '__lt__',\n",
              " '__module__',\n",
              " '__ne__',\n",
              " '__new__',\n",
              " '__reduce__',\n",
              " '__reduce_ex__',\n",
              " '__repr__',\n",
              " '__setattr__',\n",
              " '__sizeof__',\n",
              " '__str__',\n",
              " '__subclasshook__',\n",
              " '__weakref__',\n",
              " '_protected_method',\n",
              " '_protected_variable',\n",
              " 'public_method',\n",
              " 'public_variable']"
            ]
          },
          "metadata": {},
          "execution_count": 8
        }
      ]
    },
    {
      "cell_type": "code",
      "source": [
        "class Employee:\n",
        "    __basic = 5600  # basic will remain same, more protected\n",
        "    _bonus = 500    # bonus will change, weakly private\n",
        "\n",
        "    # getter - Syntax: @property\n",
        "    @property\n",
        "    def getSalary(self):\n",
        "        return self.__basic + self._bonus\n",
        "\n",
        "    # setter - Syntax: @name.setter\n",
        "    @getSalary.setter\n",
        "    def setSalary(self, salary):\n",
        "        self._bonus = salary - self.__basic\n",
        "\n",
        "emp = Employee() # creating the employee object\n",
        "\n",
        "print(f\"Old Bonus: {emp._bonus}\")\n",
        "print(f\"Old Salary: {emp.getSalary}\")\n",
        "\n",
        "\n",
        "# setting the new salary\n",
        "emp.setSalary = 7000\n",
        "\n",
        "print(f\"New Bonus: {emp._bonus}\")\n",
        "print(f\"New Salary: {emp.getSalary}\")"
      ],
      "metadata": {
        "colab": {
          "base_uri": "https://localhost:8080/"
        },
        "id": "Y8kbspZB8V9Z",
        "outputId": "3f79b897-b2d5-48b4-b9e6-7d19a6a470cc"
      },
      "execution_count": 9,
      "outputs": [
        {
          "output_type": "stream",
          "name": "stdout",
          "text": [
            "Old Bonus: 500\n",
            "Old Salary: 6100\n",
            "New Bonus: 1400\n",
            "New Salary: 7000\n"
          ]
        }
      ]
    },
    {
      "cell_type": "markdown",
      "source": [
        "### **Instance vs Class variables**"
      ],
      "metadata": {
        "id": "jlxoOxjtBsww"
      }
    },
    {
      "cell_type": "code",
      "source": [
        "class Employee:\n",
        "    companyName = \"Apple\"  # Class attribute\n",
        "    noOfEmployees = 0      # Class attribute\n",
        "\n",
        "    def __init__(self, name):\n",
        "        self.name = name           # Instance attribute\n",
        "        self.raise_amount = 0.02   # Instance attribute\n",
        "        Employee.noOfEmployees += 1\n",
        "\n",
        "    def showDetails(self):\n",
        "        print(f\"The name of the Employee is {self.name} and the raise amount in {self.noOfEmployees} sized {self.companyName} is {self.raise_amount}\")\n",
        "\n",
        "# Defult\n",
        "emp0 = Employee(\"X\")\n",
        "emp0.showDetails()\n",
        "print(\"\\n\")\n",
        "\n",
        "\n",
        "# Creating and manipulating emp1\n",
        "emp1 = Employee(\"Jhon\")\n",
        "emp1.raise_amount = 0.3         # Modifying instance attribute\n",
        "emp1.companyName = \"Amazon USA\"  # Modifying instance attribute\n",
        "emp1.showDetails()              # Calling instance method\n",
        "print(\"\\n\")\n",
        "\n",
        "# Creating and manipulating emp2\n",
        "emp2 = Employee(\"Mike\")\n",
        "emp2.companyName = \"Yahoo\"     # Modifying instance attribute\n",
        "emp2.showDetails()             # Calling instance method"
      ],
      "metadata": {
        "colab": {
          "base_uri": "https://localhost:8080/"
        },
        "id": "wsQflAIj9KwM",
        "outputId": "75345993-6bd8-41d9-8de9-8d81d702a424"
      },
      "execution_count": 10,
      "outputs": [
        {
          "output_type": "stream",
          "name": "stdout",
          "text": [
            "The name of the Employee is X and the raise amount in 1 sized Apple is 0.02\n",
            "\n",
            "\n",
            "The name of the Employee is Jhon and the raise amount in 2 sized Amazon USA is 0.3\n",
            "\n",
            "\n",
            "The name of the Employee is Mike and the raise amount in 3 sized Yahoo is 0.02\n"
          ]
        }
      ]
    },
    {
      "cell_type": "markdown",
      "source": [
        "### **Static Methods**"
      ],
      "metadata": {
        "id": "Dox75OZiBpCg"
      }
    },
    {
      "cell_type": "markdown",
      "source": [
        "- **A static method is a function in a class that doesn't depend on specific instances of that class.**\n",
        "- They nither belong to the `class` nor `instance of class`.\n",
        "- Static Method dose'nt require the `self` argument.\n",
        "\n",
        "\n",
        "\n",
        "\n",
        "\n"
      ],
      "metadata": {
        "id": "Vq8WhfYMrT_M"
      }
    },
    {
      "cell_type": "code",
      "source": [
        "class Maths:\n",
        "\n",
        "    @staticmethod\n",
        "    def add(x, y):\n",
        "        return x + y\n",
        "\n",
        "    @staticmethod\n",
        "    def subtract(x, y):\n",
        "        return x - y\n",
        "\n",
        "# Calling static methods directly on the class\n",
        "sum_result = Maths.add(5, 3)\n",
        "difference_result = Maths.subtract(10, 4)\n",
        "\n",
        "print(\"Sum:\", sum_result)  # Output: Sum: 8\n",
        "print(\"Difference:\", difference_result)  # Output: Difference: 6"
      ],
      "metadata": {
        "colab": {
          "base_uri": "https://localhost:8080/"
        },
        "id": "_EGnDOMy9EcY",
        "outputId": "4379a1b0-bfb0-4f30-c5c8-5840ddbedcdd"
      },
      "execution_count": 11,
      "outputs": [
        {
          "output_type": "stream",
          "name": "stdout",
          "text": [
            "Sum: 8\n",
            "Difference: 6\n"
          ]
        }
      ]
    },
    {
      "cell_type": "markdown",
      "source": [
        "### **Class Methods**"
      ],
      "metadata": {
        "id": "ogSWQz3qBv1B"
      }
    },
    {
      "cell_type": "markdown",
      "source": [
        "- `@classmethod` in Python is for methods that operate on the class itself (**access class variables**, **modify class state**), taking the class as the first parameter (`cls`).\n",
        "\n",
        "- `@staticmethod` is for methods that don't depend on the class or its instances, acting like regular functions within the class."
      ],
      "metadata": {
        "id": "nnPdh6FI05ls"
      }
    },
    {
      "cell_type": "code",
      "source": [
        "class Employee:\n",
        "  company = \"Apple\" # Class Variable\n",
        "\n",
        "  def show(self):\n",
        "    print(f\"The name is {self.name} and company is {self.company}\")\n",
        "\n",
        "  @classmethod\n",
        "  def changeCompany(cls, newCompany):\n",
        "    cls.company = newCompany\n",
        "\n",
        "\n",
        "e1 = Employee()\n",
        "e1.name = \"Jhon\"\n",
        "e1.show()\n",
        "print(Employee.company)\n",
        "\n",
        "print(\"\\n\")\n",
        "\n",
        "e1.changeCompany(\"Tesla\") # here classmethod changes the class variable\n",
        "e1.show()\n",
        "\n",
        "print(Employee.company)"
      ],
      "metadata": {
        "colab": {
          "base_uri": "https://localhost:8080/"
        },
        "id": "3oWOT-De9dlZ",
        "outputId": "7fd1b4ad-53aa-47f3-ddad-ccbf4d363a1c"
      },
      "execution_count": 12,
      "outputs": [
        {
          "output_type": "stream",
          "name": "stdout",
          "text": [
            "The name is Jhon and company is Apple\n",
            "Apple\n",
            "\n",
            "\n",
            "The name is Jhon and company is Tesla\n",
            "Tesla\n"
          ]
        }
      ]
    },
    {
      "cell_type": "markdown",
      "source": [
        "### **Class Method as alternative constructors**"
      ],
      "metadata": {
        "id": "7egPL-_nB0nY"
      }
    },
    {
      "cell_type": "code",
      "source": [
        "class Employee:\n",
        "  def __init__(self, name, salary):\n",
        "    self.name = name\n",
        "    self.salary = salary\n",
        "\n",
        "  @classmethod\n",
        "  def fromStr(cls, string):\n",
        "    return cls(string.split(\"-\")[0], int(string.split(\"-\")[1]))\n",
        "\n",
        "e1 = Employee(\"Jhon\", 12000)\n",
        "print(e1.name, e1.salary)\n",
        "\n",
        "\n",
        "string = \"Smith-12000\"\n",
        "e2 = Employee.fromStr(string)\n",
        "print(e2.name, e2.salary)"
      ],
      "metadata": {
        "colab": {
          "base_uri": "https://localhost:8080/"
        },
        "id": "PzdFYVgY9ju8",
        "outputId": "01c0a968-fdf0-45a5-a318-6962cc574c48"
      },
      "execution_count": 13,
      "outputs": [
        {
          "output_type": "stream",
          "name": "stdout",
          "text": [
            "Jhon 12000\n",
            "Smith 12000\n"
          ]
        }
      ]
    },
    {
      "cell_type": "markdown",
      "source": [
        " The `fromStr`  `@classmethod` in the `Employee` `class` is used as a shorter, alternate constructor that creates an instance of the class based on a string input. It splits the string into `name` and `salary` parts and creates a new instance accordingly."
      ],
      "metadata": {
        "id": "TerOv4gDEH2V"
      }
    },
    {
      "cell_type": "code",
      "source": [
        "class Person:\n",
        "    def __init__(self, name, age):\n",
        "        self.name = name\n",
        "        self.age = age\n",
        "\n",
        "    @classmethod\n",
        "    def from_string(cls, string):\n",
        "        name, age = string.split(',')\n",
        "        return cls(name, int(age))\n",
        "\n",
        "person = Person.from_string(\"Mike, 30\")\n",
        "print(person.name, person.age)"
      ],
      "metadata": {
        "colab": {
          "base_uri": "https://localhost:8080/"
        },
        "id": "uliTrlSJDr2e",
        "outputId": "f2c49de5-c8a4-47fe-eeca-be2c2d251455"
      },
      "execution_count": 14,
      "outputs": [
        {
          "output_type": "stream",
          "name": "stdout",
          "text": [
            "Mike 30\n"
          ]
        }
      ]
    },
    {
      "cell_type": "markdown",
      "source": [
        "### **Dir, Dict and help Method**"
      ],
      "metadata": {
        "id": "5lz_1E8FB5pK"
      }
    },
    {
      "cell_type": "markdown",
      "source": [
        "**When to Use `__dict__`?**\n",
        "The `__dict__` attribute is particularly useful when you want to:\n",
        "- Access or modify an object’s attributes dynamically.\n",
        "- Inspect the attributes of an object programmatically.\n",
        "- Create a dictionary representation of an object’s attributes.\n",
        "\n",
        "**Here are some common scenarios where you might use ` __dict__`?**\n",
        "- **Serialization**: When converting an object to **JSON** or other formats, you can use __dict__ to extract its attributes.\n",
        "\n",
        "- **Dynamic Attribute Access**: If you need to access or modify an attribute based on a variable name, `__dict__` allows you to do so dynamically.\n",
        "\n",
        "- **Debugging and Inspection**: When debugging or inspecting an object, examining its `__dict__` can provide insights into its internal state."
      ],
      "metadata": {
        "id": "sNc5XrmyHKse"
      }
    },
    {
      "cell_type": "code",
      "source": [
        "class Books:\n",
        "  def __init__(self, title, author):\n",
        "    self.title = title\n",
        "    self.author = author\n",
        "\n",
        "  def get_info(self):\n",
        "    return f\"Title: {self.title}, Author: {self.author}\"\n",
        "\n",
        "# Create a Book object\n",
        "book1 = Books(\"The Hitchhiker's Guide to the Galaxy\", \"Douglas Adams\")\n",
        "print(book1.get_info())"
      ],
      "metadata": {
        "colab": {
          "base_uri": "https://localhost:8080/"
        },
        "id": "SUSVtJlSFiWZ",
        "outputId": "8ae99899-9c95-43a5-bd14-d0104c186f68"
      },
      "execution_count": 15,
      "outputs": [
        {
          "output_type": "stream",
          "name": "stdout",
          "text": [
            "Title: The Hitchhiker's Guide to the Galaxy, Author: Douglas Adams\n"
          ]
        }
      ]
    },
    {
      "cell_type": "code",
      "source": [
        "class Book:\n",
        "    def __init__(self, title, author):\n",
        "        self.title = title\n",
        "        self.author = author\n",
        "\n",
        "book1 = Book(\"The Hitchhiker's Guide to the Galaxy\", \"Douglas Adams\")\n",
        "print(book1.__dict__)\n",
        "print(help(Book))\n",
        "print(dir(Book))"
      ],
      "metadata": {
        "colab": {
          "base_uri": "https://localhost:8080/"
        },
        "id": "o1OL2NBHGXbT",
        "outputId": "1cd0c7ba-57c6-411e-f70a-d80de5b75c1a"
      },
      "execution_count": 16,
      "outputs": [
        {
          "output_type": "stream",
          "name": "stdout",
          "text": [
            "{'title': \"The Hitchhiker's Guide to the Galaxy\", 'author': 'Douglas Adams'}\n",
            "Help on class Book in module __main__:\n",
            "\n",
            "class Book(builtins.object)\n",
            " |  Book(title, author)\n",
            " |  \n",
            " |  Methods defined here:\n",
            " |  \n",
            " |  __init__(self, title, author)\n",
            " |      Initialize self.  See help(type(self)) for accurate signature.\n",
            " |  \n",
            " |  ----------------------------------------------------------------------\n",
            " |  Data descriptors defined here:\n",
            " |  \n",
            " |  __dict__\n",
            " |      dictionary for instance variables (if defined)\n",
            " |  \n",
            " |  __weakref__\n",
            " |      list of weak references to the object (if defined)\n",
            "\n",
            "None\n",
            "['__class__', '__delattr__', '__dict__', '__dir__', '__doc__', '__eq__', '__format__', '__ge__', '__getattribute__', '__gt__', '__hash__', '__init__', '__init_subclass__', '__le__', '__lt__', '__module__', '__ne__', '__new__', '__reduce__', '__reduce_ex__', '__repr__', '__setattr__', '__sizeof__', '__str__', '__subclasshook__', '__weakref__']\n"
          ]
        }
      ]
    },
    {
      "cell_type": "markdown",
      "source": [
        "### **`super()` Keywords**"
      ],
      "metadata": {
        "id": "jXW2y9gPCAOp"
      }
    },
    {
      "cell_type": "markdown",
      "source": [
        "- `super()` in Python is used to call methods and access attributes from a parent or superclass within a subclass. It helps in inheriting and utilizing functionality from the parent class while allowing for customization in the subclass."
      ],
      "metadata": {
        "id": "LxVXeiKNJlKP"
      }
    },
    {
      "cell_type": "code",
      "source": [
        "class Employee:\n",
        "  def __init__(self, name, emp_id):\n",
        "    self.name = name\n",
        "    self.emp_id = emp_id\n",
        "\n",
        "  def show_details(self):\n",
        "    print(f\"The name of Employee {self.emp_id} is {self.name}\")\n",
        "\n",
        "class Programmer(Employee):\n",
        "  def __init__(self, name, emp_id, language=\"Python\"):\n",
        "    super().__init__(name, emp_id)\n",
        "    self.language = language\n",
        "\n",
        "  def show_language(self):\n",
        "    print(f\"The preferred language for programmer {self.emp_id} is {self.language}\")\n",
        "\n",
        "# Example usage\n",
        "e1 = Employee(\"John\", 400)\n",
        "e1.show_details()\n",
        "print(\"\\n\")\n",
        "\n",
        "e2 = Programmer(\"David\", 4100, \"Java\")\n",
        "e2.show_details()\n",
        "e2.show_language()"
      ],
      "metadata": {
        "id": "ozALSeRNcd06",
        "outputId": "f434323a-86a1-4c8d-8f52-8d0e336b8a1d",
        "colab": {
          "base_uri": "https://localhost:8080/"
        }
      },
      "execution_count": 17,
      "outputs": [
        {
          "output_type": "stream",
          "name": "stdout",
          "text": [
            "The name of Employee 400 is John\n",
            "\n",
            "\n",
            "The name of Employee 4100 is David\n",
            "The preferred language for programmer 4100 is Java\n"
          ]
        }
      ]
    },
    {
      "cell_type": "markdown",
      "source": [
        "### **Magic/Dunder Methods**"
      ],
      "metadata": {
        "id": "JbszY-E4CH8A"
      }
    },
    {
      "cell_type": "code",
      "source": [
        "# Module\n",
        "class Employee:\n",
        "\n",
        "  def __init__(self, name):\n",
        "    self.name = name\n",
        "\n",
        "  def __len__(self):\n",
        "    i = 0\n",
        "    for c in self.name:\n",
        "      i = i + 1\n",
        "    return i\n",
        "\n",
        "  def __str__(self):\n",
        "    return f\"The name of the employee is {self.name} str\"\n",
        "\n",
        "  def __repr__(self):\n",
        "    return f\"Employee('{self.name}')\"\n",
        "\n",
        "  def __call__(self):\n",
        "    print(\"Hey I am good\")\n",
        "\n",
        "# # Module call\n",
        "# from emp import Employee\n",
        "\n",
        "# e = Employee(\"Harry\")\n",
        "# print(str(e))\n",
        "# print(repr(e))\n",
        "# # print(e.name)\n",
        "# # print(len(e))\n",
        "# e()"
      ],
      "metadata": {
        "id": "ZSmKchQH-Ewh"
      },
      "execution_count": 18,
      "outputs": []
    },
    {
      "cell_type": "markdown",
      "source": [
        "### **Method Overriding**"
      ],
      "metadata": {
        "id": "d8oNdd-RCLQg"
      }
    },
    {
      "cell_type": "markdown",
      "source": [
        "- **subclass** provides its own implementation of a **method** inherited from the superclass."
      ],
      "metadata": {
        "id": "Z-hOxeFfSOe4"
      }
    },
    {
      "cell_type": "code",
      "source": [
        "class Shape:\n",
        "  def __init__(self, x, y):\n",
        "    self.x = x\n",
        "    self.y = y\n",
        "\n",
        "  def area(self):\n",
        "      return self.x * self.y\n",
        "\n",
        "class Circle(Shape):\n",
        "    def __init__(self, radius):\n",
        "      self.radius = radius\n",
        "      super().__init__(radius, radius)\n",
        "\n",
        "    def area(self):\n",
        "        return 3.14 * super().area()\n",
        "\n",
        "rec = Shape(3, 5)\n",
        "print(rec.area())\n",
        "\n",
        "c = Circle(5)\n",
        "print(c.area())"
      ],
      "metadata": {
        "id": "86gJPi-2-bFA",
        "colab": {
          "base_uri": "https://localhost:8080/"
        },
        "outputId": "57b02029-34e9-46c1-e191-6ea250c31ae4"
      },
      "execution_count": 19,
      "outputs": [
        {
          "output_type": "stream",
          "name": "stdout",
          "text": [
            "15\n",
            "78.5\n"
          ]
        }
      ]
    },
    {
      "cell_type": "markdown",
      "source": [
        "### **Operator Overloading**"
      ],
      "metadata": {
        "id": "J6j1EuKRCPj5"
      }
    },
    {
      "cell_type": "markdown",
      "source": [
        "- Operator overloading lets you redefine the behavior of operators for user-defined types (**classes** or **structures**).\n",
        "    - **For example**, you can make the `+` operator concatenate strings or add complex numbers."
      ],
      "metadata": {
        "id": "ilTTKwD9VcLq"
      }
    },
    {
      "cell_type": "code",
      "source": [
        "class Vector:\n",
        "  def __init__(self, i, j, k):\n",
        "    self.i = i\n",
        "    self.j = j\n",
        "    self.k = k\n",
        "\n",
        "  def __str__(self):\n",
        "    return f\"{self.i}i + {self.j}j + {self.k}k\"\n",
        "\n",
        "  def __add__(self, x):\n",
        "    return Vector(self.i+x.i,  self.j+x.j, self.k+x.k)\n",
        "\n",
        "v1 = Vector(3, 5, 6)\n",
        "print(v1)\n",
        "\n",
        "v2 = Vector(1, 2, 9)\n",
        "print(v2)\n",
        "\n",
        "print(v1 + v2)\n",
        "print(type(v1 + v2))"
      ],
      "metadata": {
        "id": "SQmjevqA-zND",
        "colab": {
          "base_uri": "https://localhost:8080/"
        },
        "outputId": "6b5055a2-e224-40b6-9db5-309259dac5d3"
      },
      "execution_count": 20,
      "outputs": [
        {
          "output_type": "stream",
          "name": "stdout",
          "text": [
            "3i + 5j + 6k\n",
            "1i + 2j + 9k\n",
            "4i + 7j + 15k\n",
            "<class '__main__.Vector'>\n"
          ]
        }
      ]
    },
    {
      "cell_type": "markdown",
      "source": [
        "### **Single Inheritance**"
      ],
      "metadata": {
        "id": "9BBZU6kjCSWQ"
      }
    },
    {
      "cell_type": "code",
      "source": [
        "class Animal:\n",
        "    def __init__(self, name, species):\n",
        "        self.name = name\n",
        "        self.species = species\n",
        "\n",
        "    def make_sound(self):\n",
        "        print(\"Sound made by the animal\")\n",
        "\n",
        "class Dog(Animal):\n",
        "    def __init__(self, name, breed):\n",
        "        Animal.__init__(self, name, species=\"Dog\")\n",
        "        self.breed = breed\n",
        "\n",
        "    def make_sound(self):\n",
        "        print(\"Bark!\")\n",
        "\n",
        "d = Dog(\"Dog\", \"Rottweiler\")\n",
        "d.make_sound()\n",
        "\n",
        "a = Animal(\"Dog\", \"Dog\")\n",
        "a.make_sound()"
      ],
      "metadata": {
        "id": "kBIhjWJ5-47I",
        "colab": {
          "base_uri": "https://localhost:8080/"
        },
        "outputId": "e506742c-966e-4d7d-f0b6-5c10faaa3652"
      },
      "execution_count": 21,
      "outputs": [
        {
          "output_type": "stream",
          "name": "stdout",
          "text": [
            "Bark!\n",
            "Sound made by the animal\n"
          ]
        }
      ]
    },
    {
      "cell_type": "markdown",
      "source": [
        "### **Multiple Inheritance**"
      ],
      "metadata": {
        "id": "YsLxB8ieCW1A"
      }
    },
    {
      "cell_type": "code",
      "source": [
        "class Employee:\n",
        "  def __init__(self, name):\n",
        "    self.name = name\n",
        "  def show(self):\n",
        "    print(f\"The name is {self.name}\")\n",
        "\n",
        "class Dancer:\n",
        "  def __init__(self, dance):\n",
        "    self.dance = dance\n",
        "\n",
        "  def show(self):\n",
        "    print(f\"The dance is {self.dance}\")\n",
        "\n",
        "class DancerEmployee(Employee, Dancer):\n",
        "  def __init__(self, name, dance):\n",
        "    self.name = name\n",
        "    self.dance = dance\n",
        "\n",
        "o  = DancerEmployee(\"Hip-Hop\", \"Mike\")\n",
        "print(o.name)\n",
        "print(o.dance)\n",
        "o.show()\n",
        "print(DancerEmployee.mro())"
      ],
      "metadata": {
        "id": "ZEFJ2dru_CY4",
        "colab": {
          "base_uri": "https://localhost:8080/"
        },
        "outputId": "63b41856-9dec-4a5f-9ff6-963da5d0269e"
      },
      "execution_count": 22,
      "outputs": [
        {
          "output_type": "stream",
          "name": "stdout",
          "text": [
            "Hip-Hop\n",
            "Mike\n",
            "The name is Hip-Hop\n",
            "[<class '__main__.DancerEmployee'>, <class '__main__.Employee'>, <class '__main__.Dancer'>, <class 'object'>]\n"
          ]
        }
      ]
    },
    {
      "cell_type": "markdown",
      "source": [
        "### **Multilevel Inheritance**"
      ],
      "metadata": {
        "id": "2LNr5h_KCbyQ"
      }
    },
    {
      "cell_type": "code",
      "source": [
        "class Animal:\n",
        "    def __init__(self, name, species):\n",
        "        self.name = name\n",
        "        self.species = species\n",
        "\n",
        "    def show_details(self):\n",
        "        print(f\"Name: {self.name}\")\n",
        "        print(f\"Species: {self.species}\")\n",
        "\n",
        "class Dog(Animal):\n",
        "    def __init__(self, name, breed):\n",
        "        Animal.__init__(self, name, species=\"Dog\")\n",
        "        self.breed = breed\n",
        "\n",
        "    def show_details(self):\n",
        "        Animal.show_details(self)\n",
        "        print(f\"Breed: {self.breed}\")\n",
        "\n",
        "class GoldenRetriever(Dog):\n",
        "    def __init__(self, name, color):\n",
        "        Dog.__init__(self, name, breed=\"Golden Retriever\")\n",
        "        self.color = color\n",
        "\n",
        "    def show_details(self):\n",
        "        Dog.show_details(self)\n",
        "        print(f\"Color: {self.color}\")\n",
        "\n",
        "o = Dog(\"tommy\", \"Black\")\n",
        "o.show_details()\n",
        "print(GoldenRetriever.mro())"
      ],
      "metadata": {
        "id": "gcmqx5JA_Gx9",
        "colab": {
          "base_uri": "https://localhost:8080/"
        },
        "outputId": "a1791fdb-f6fa-43db-8190-86e28141d081"
      },
      "execution_count": 23,
      "outputs": [
        {
          "output_type": "stream",
          "name": "stdout",
          "text": [
            "Name: tommy\n",
            "Species: Dog\n",
            "Breed: Black\n",
            "[<class '__main__.GoldenRetriever'>, <class '__main__.Dog'>, <class '__main__.Animal'>, <class 'object'>]\n"
          ]
        }
      ]
    },
    {
      "cell_type": "markdown",
      "source": [
        "### **Hybrid and Hierarchical Inheritane**"
      ],
      "metadata": {
        "id": "Fe6xqUd6CewP"
      }
    },
    {
      "cell_type": "code",
      "source": [
        "# Example of Hybrid Inheritance\n",
        "class BaseClass:\n",
        "  pass\n",
        "\n",
        "class Derived1(BaseClass):\n",
        "  pass\n",
        "\n",
        "class Derived2(BaseClass):\n",
        "  pass\n",
        "\n",
        "class Derived3(Derived1, Derived2):\n",
        "  pass\n",
        "\n",
        "# Hierarchical Inheritance\n",
        "class BaseClass:\n",
        "  pass\n",
        "\n",
        "class D1(BaseClass):\n",
        "  pass\n",
        "\n",
        "class D2(BaseClass):\n",
        "  pass\n",
        "\n",
        "class D3(D1):\n",
        "  pass"
      ],
      "metadata": {
        "id": "JizxFnFb_OuA"
      },
      "execution_count": 24,
      "outputs": []
    }
  ]
}