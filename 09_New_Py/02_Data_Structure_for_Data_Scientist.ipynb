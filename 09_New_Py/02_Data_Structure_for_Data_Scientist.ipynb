{
  "cells": [
    {
      "cell_type": "markdown",
      "metadata": {
        "id": "alytE0DXA3_z"
      },
      "source": [
        "# Python List Comprehensions"
      ]
    },
    {
      "cell_type": "code",
      "execution_count": 1,
      "metadata": {
        "ExecuteTime": {
          "end_time": "2020-03-13T07:42:43.537915Z",
          "start_time": "2020-03-13T07:42:43.534917Z"
        },
        "id": "Fxs66vBVA4AC"
      },
      "outputs": [],
      "source": [
        "import random"
      ]
    },
    {
      "cell_type": "markdown",
      "metadata": {
        "id": "zBwSO1ahA4AE"
      },
      "source": [
        "**get values within a range**"
      ]
    },
    {
      "cell_type": "code",
      "execution_count": 2,
      "metadata": {
        "ExecuteTime": {
          "end_time": "2020-03-13T07:42:44.486830Z",
          "start_time": "2020-03-13T07:42:44.478836Z"
        },
        "colab": {
          "base_uri": "https://localhost:8080/"
        },
        "id": "pmSTv5sVA4AF",
        "outputId": "c3a07acf-aafc-4108-ac99-70fe4a553e62"
      },
      "outputs": [
        {
          "output_type": "stream",
          "name": "stdout",
          "text": [
            "under_10: [0, 1, 2, 3, 4, 5, 6, 7, 8, 9]\n"
          ]
        }
      ],
      "source": [
        "under_10 = [x for x in range(10)]\n",
        "print('under_10: ' + str(under_10))"
      ]
    },
    {
      "cell_type": "markdown",
      "metadata": {
        "id": "I_JkDn0BA4AH"
      },
      "source": [
        "**get squared values**"
      ]
    },
    {
      "cell_type": "code",
      "execution_count": 3,
      "metadata": {
        "ExecuteTime": {
          "end_time": "2020-03-13T07:42:45.474725Z",
          "start_time": "2020-03-13T07:42:45.470728Z"
        },
        "colab": {
          "base_uri": "https://localhost:8080/"
        },
        "id": "HTWMjrnrA4AI",
        "outputId": "a7bdd534-81fe-4aa0-ccc4-6adf614c1308"
      },
      "outputs": [
        {
          "output_type": "stream",
          "name": "stdout",
          "text": [
            "squares: [0, 1, 4, 9, 16, 25, 36, 49, 64, 81]\n"
          ]
        }
      ],
      "source": [
        "squares = [x**2 for x in under_10]\n",
        "print('squares: ' + str(squares))"
      ]
    },
    {
      "cell_type": "markdown",
      "metadata": {
        "id": "n5FeJcLSA4AJ"
      },
      "source": [
        "**get odd numbers using mod**"
      ]
    },
    {
      "cell_type": "code",
      "execution_count": 4,
      "metadata": {
        "ExecuteTime": {
          "end_time": "2020-03-13T07:42:46.401654Z",
          "start_time": "2020-03-13T07:42:46.395658Z"
        },
        "colab": {
          "base_uri": "https://localhost:8080/"
        },
        "id": "MScFWEgzA4AK",
        "outputId": "363031e7-7b2a-4b85-cd6f-4bcde9519eea"
      },
      "outputs": [
        {
          "output_type": "stream",
          "name": "stdout",
          "text": [
            "odds: [1, 3, 5, 7, 9]\n"
          ]
        }
      ],
      "source": [
        "odds =  [x for x in range(10) if x%2 == 1]\n",
        "print('odds: ' + str(odds))"
      ]
    },
    {
      "cell_type": "markdown",
      "metadata": {
        "id": "bFVHIFJmA4AL"
      },
      "source": [
        "**get multiples of 10**"
      ]
    },
    {
      "cell_type": "code",
      "execution_count": 5,
      "metadata": {
        "ExecuteTime": {
          "end_time": "2020-03-13T07:42:47.352078Z",
          "start_time": "2020-03-13T07:42:47.347083Z"
        },
        "colab": {
          "base_uri": "https://localhost:8080/"
        },
        "id": "KrDxc7IyA4AM",
        "outputId": "af2d0152-58e2-4583-9935-9dc84e24316d"
      },
      "outputs": [
        {
          "output_type": "stream",
          "name": "stdout",
          "text": [
            "ten_x: [0, 10, 20, 30, 40, 50, 60, 70, 80, 90]\n"
          ]
        }
      ],
      "source": [
        "ten_x = [x * 10 for x in range(10)]\n",
        "print('ten_x: ' + str(ten_x))"
      ]
    },
    {
      "cell_type": "markdown",
      "metadata": {
        "id": "IGsgxDYHA4AO"
      },
      "source": [
        "**get all numbers from a string**"
      ]
    },
    {
      "cell_type": "code",
      "execution_count": 6,
      "metadata": {
        "ExecuteTime": {
          "end_time": "2020-03-13T07:42:48.682262Z",
          "start_time": "2020-03-13T07:42:48.677267Z"
        },
        "colab": {
          "base_uri": "https://localhost:8080/"
        },
        "id": "cBzMG2gKA4AP",
        "outputId": "6f5e439d-03cd-4607-fa9c-6f2c18934bac"
      },
      "outputs": [
        {
          "output_type": "stream",
          "name": "stdout",
          "text": [
            "nums: 2073\n"
          ]
        }
      ],
      "source": [
        "s = 'I love 2 go t0 the store 7 times a w3ek.'\n",
        "nums = [x for x in s if x.isnumeric()]\n",
        "print('nums: ' + ''.join(nums))"
      ]
    },
    {
      "cell_type": "markdown",
      "metadata": {
        "id": "6GTSy_9OA4AQ"
      },
      "source": [
        "**get index of a list item**"
      ]
    },
    {
      "cell_type": "code",
      "execution_count": 7,
      "metadata": {
        "ExecuteTime": {
          "end_time": "2020-03-13T07:42:49.711127Z",
          "start_time": "2020-03-13T07:42:49.705133Z"
        },
        "colab": {
          "base_uri": "https://localhost:8080/"
        },
        "id": "n30cURJ6A4AQ",
        "outputId": "5776a686-5861-469a-db6a-0ae31ba2bf10"
      },
      "outputs": [
        {
          "output_type": "stream",
          "name": "stdout",
          "text": [
            "index = 2\n"
          ]
        }
      ],
      "source": [
        "names = ['Cosmo', 'Pedro', 'Anu', 'Ray']\n",
        "idx = [k for k, v in enumerate(names) if v == 'Anu']\n",
        "print('index = ' + str(idx[0]))"
      ]
    },
    {
      "cell_type": "markdown",
      "metadata": {
        "id": "C2JrlLAaA4AR"
      },
      "source": [
        "**delete an item from a list**"
      ]
    },
    {
      "cell_type": "code",
      "execution_count": 8,
      "metadata": {
        "ExecuteTime": {
          "end_time": "2020-03-13T07:42:50.621068Z",
          "start_time": "2020-03-13T07:42:50.616073Z"
        },
        "colab": {
          "base_uri": "https://localhost:8080/"
        },
        "id": "QpGjhVlPA4AR",
        "outputId": "8a73de68-36cd-4105-81d2-4f27d96389ed"
      },
      "outputs": [
        {
          "output_type": "stream",
          "name": "stdout",
          "text": [
            "['B', 'F', 'A', 'E', 'C', 'D'] ['B', 'F', 'A', 'E', 'D']\n"
          ]
        }
      ],
      "source": [
        "letters = [x for x in 'ABCDEF']\n",
        "random.shuffle(letters)\n",
        "letrs = [a for a in letters if a != 'C']\n",
        "print(letters, letrs)"
      ]
    },
    {
      "cell_type": "markdown",
      "metadata": {
        "id": "LNBOFEsYA4AS"
      },
      "source": [
        "**if-else condition in a comprehension**  \n",
        "must come before iteration."
      ]
    },
    {
      "cell_type": "code",
      "execution_count": 9,
      "metadata": {
        "ExecuteTime": {
          "end_time": "2020-03-13T07:42:51.540002Z",
          "start_time": "2020-03-13T07:42:51.535007Z"
        },
        "colab": {
          "base_uri": "https://localhost:8080/"
        },
        "id": "BLqcsmDhA4AT",
        "outputId": "40326aaa-7749-4cf7-bdb7-899a4a34a1b6"
      },
      "outputs": [
        {
          "output_type": "stream",
          "name": "stdout",
          "text": [
            "new list: [50, 30, 10, 18, 6, 70]\n"
          ]
        }
      ],
      "source": [
        "nums = [5, 3, 10, 18, 6, 7]\n",
        "new_list = [x if x%2 == 0 else 10*x for x in nums]\n",
        "print('new list: ' + str(new_list))"
      ]
    },
    {
      "cell_type": "markdown",
      "metadata": {
        "id": "69HfpyT5A4AT"
      },
      "source": [
        "**nested loop iteration for 2D list**  \n",
        "b is the subsets, x is the values."
      ]
    },
    {
      "cell_type": "code",
      "execution_count": 10,
      "metadata": {
        "ExecuteTime": {
          "end_time": "2020-03-13T07:42:52.446942Z",
          "start_time": "2020-03-13T07:42:52.441947Z"
        },
        "colab": {
          "base_uri": "https://localhost:8080/"
        },
        "id": "vEC8BOUxA4AU",
        "outputId": "2393160f-d95d-4d79-a52a-8dfc8a991121"
      },
      "outputs": [
        {
          "output_type": "stream",
          "name": "stdout",
          "text": [
            "[1, 2, 3, 4]\n"
          ]
        }
      ],
      "source": [
        "a = [[1,2],[3,4]]\n",
        "new_list = [x for b in a for x in b]\n",
        "print(new_list)"
      ]
    },
    {
      "cell_type": "markdown",
      "metadata": {
        "id": "dUezjKS-A4AV"
      },
      "source": [
        "# Intro to Python Data Structures\n",
        "Strings, Lists, Tuples, Sets, Dicts  \n",
        "Created in Python 3.7  \n",
        "\n",
        "## Sequences: String, List, Tuple\n",
        "****\n",
        "[Documentation](https://docs.python.org/3/library/stdtypes.html#sequence-types-list-tuple-range)  \n",
        "**indexing** - access any item in the sequence using its index.  \n",
        "Indexing starts with 0 for the first element."
      ]
    },
    {
      "cell_type": "code",
      "execution_count": 11,
      "metadata": {
        "ExecuteTime": {
          "end_time": "2020-03-13T07:42:53.373874Z",
          "start_time": "2020-03-13T07:42:53.367879Z"
        },
        "colab": {
          "base_uri": "https://localhost:8080/"
        },
        "id": "khw-YoL0A4AV",
        "outputId": "4f06ed7d-69f7-4f1c-85ab-63f51236e434"
      },
      "outputs": [
        {
          "output_type": "stream",
          "name": "stdout",
          "text": [
            "g\n",
            "cow\n",
            "Kevin\n"
          ]
        }
      ],
      "source": [
        "# string\n",
        "x = 'frog'\n",
        "print (x[3])\n",
        "\n",
        "# list\n",
        "x = ['pig', 'cow', 'horse']\n",
        "print (x[1])\n",
        "\n",
        "# tuple\n",
        "x = ('Kevin', 'Niklas', 'Jenny', 'Craig')\n",
        "print(x[0])"
      ]
    },
    {
      "cell_type": "markdown",
      "metadata": {
        "id": "70dBMOFKA4AW"
      },
      "source": [
        "**slicing** - slice out substrings, sublists, subtuples using indexes.  \n",
        "[start : end+1 : step]"
      ]
    },
    {
      "cell_type": "code",
      "execution_count": 12,
      "metadata": {
        "ExecuteTime": {
          "end_time": "2020-03-13T07:42:54.284811Z",
          "start_time": "2020-03-13T07:42:54.277818Z"
        },
        "colab": {
          "base_uri": "https://localhost:8080/"
        },
        "id": "UKscEr3EA4AX",
        "outputId": "a05c5024-6aa3-4778-e2c7-1b030d092c6f"
      },
      "outputs": [
        {
          "output_type": "stream",
          "name": "stdout",
          "text": [
            "omp\n",
            "opt\n",
            "puter\n",
            "compu\n",
            "r\n",
            "ter\n",
            "comput\n"
          ]
        }
      ],
      "source": [
        "x = 'computer'\n",
        "print(x[1:4])\n",
        "print(x[1:6:2])\n",
        "print(x[3:])\n",
        "print(x[:5])\n",
        "print(x[-1])\n",
        "print(x[-3:])\n",
        "print(x[:-2])"
      ]
    },
    {
      "cell_type": "markdown",
      "metadata": {
        "id": "d_9U9GlCA4AX"
      },
      "source": [
        "**adding / concatenating** - combine 2 sequences of the same type by using +"
      ]
    },
    {
      "cell_type": "code",
      "execution_count": 13,
      "metadata": {
        "ExecuteTime": {
          "end_time": "2020-03-13T07:42:55.203748Z",
          "start_time": "2020-03-13T07:42:55.198751Z"
        },
        "colab": {
          "base_uri": "https://localhost:8080/"
        },
        "id": "219mymo4A4AY",
        "outputId": "e8534edb-df10-4bf2-c117-7e5023c263d5"
      },
      "outputs": [
        {
          "output_type": "stream",
          "name": "stdout",
          "text": [
            "horseshoe\n",
            "['pig', 'cow', 'horse']\n",
            "('Kevin', 'Niklas', 'Jenny', 'Craig')\n"
          ]
        }
      ],
      "source": [
        "# string\n",
        "x = 'horse' + 'shoe'\n",
        "print(x)\n",
        "\n",
        "# list\n",
        "y = ['pig', 'cow'] + ['horse']\n",
        "print(y)\n",
        "\n",
        "# tuple\n",
        "z = ('Kevin', 'Niklas', 'Jenny') + ('Craig',)\n",
        "print(z)"
      ]
    },
    {
      "cell_type": "markdown",
      "metadata": {
        "id": "0-ZYY_w-A4AY"
      },
      "source": [
        "**multiplying** - multiply a sequence using *"
      ]
    },
    {
      "cell_type": "code",
      "execution_count": 14,
      "metadata": {
        "ExecuteTime": {
          "end_time": "2020-03-13T07:42:56.132677Z",
          "start_time": "2020-03-13T07:42:56.126684Z"
        },
        "colab": {
          "base_uri": "https://localhost:8080/"
        },
        "id": "UtoTP-GdA4AY",
        "outputId": "d42d11a2-4b2b-4913-aeec-331400e063a7"
      },
      "outputs": [
        {
          "output_type": "stream",
          "name": "stdout",
          "text": [
            "bugbugbug\n",
            "[8, 5, 8, 5, 8, 5]\n",
            "(2, 4, 2, 4, 2, 4)\n"
          ]
        }
      ],
      "source": [
        "# string\n",
        "x = 'bug' * 3\n",
        "print(x)\n",
        "\n",
        "# list\n",
        "y = [8, 5] * 3\n",
        "print(y)\n",
        "\n",
        "# tuple\n",
        "z = (2, 4) * 3\n",
        "print(z)"
      ]
    },
    {
      "cell_type": "markdown",
      "metadata": {
        "id": "WKoAqkTmA4AZ"
      },
      "source": [
        "**checking membership** - test whether an item is or is not in a sequence."
      ]
    },
    {
      "cell_type": "code",
      "execution_count": 15,
      "metadata": {
        "ExecuteTime": {
          "end_time": "2020-03-13T07:42:57.066106Z",
          "start_time": "2020-03-13T07:42:57.060111Z"
        },
        "colab": {
          "base_uri": "https://localhost:8080/"
        },
        "id": "MAuHsurmA4AZ",
        "outputId": "ceae5837-900f-4fae-cfc2-5ba601c34ac3"
      },
      "outputs": [
        {
          "output_type": "stream",
          "name": "stdout",
          "text": [
            "True\n",
            "False\n",
            "True\n"
          ]
        }
      ],
      "source": [
        "# string\n",
        "x = 'bug'\n",
        "print('u' in x)\n",
        "\n",
        "# list\n",
        "y = ['pig', 'cow', 'horse']\n",
        "print('cow' not in y)\n",
        "\n",
        "# tuple\n",
        "z = ('Kevin', 'Niklas', 'Jenny', 'Craig')\n",
        "print('Niklas' in z)"
      ]
    },
    {
      "cell_type": "markdown",
      "metadata": {
        "id": "qqrbfrEVA4Aa"
      },
      "source": [
        "**iterating** - iterating through the items in a sequence"
      ]
    },
    {
      "cell_type": "code",
      "execution_count": 16,
      "metadata": {
        "ExecuteTime": {
          "end_time": "2020-03-13T07:42:58.021018Z",
          "start_time": "2020-03-13T07:42:58.015023Z"
        },
        "colab": {
          "base_uri": "https://localhost:8080/"
        },
        "id": "9Sv9eOPiA4Aa",
        "outputId": "883c2b78-47a9-4dd5-b579-3203193b99e9"
      },
      "outputs": [
        {
          "output_type": "stream",
          "name": "stdout",
          "text": [
            "7\n",
            "8\n",
            "3\n",
            "0 7\n",
            "1 8\n",
            "2 3\n"
          ]
        }
      ],
      "source": [
        "# item\n",
        "x = [7, 8, 3]\n",
        "for item in x:\n",
        "    print(item)\n",
        "\n",
        "# index & item\n",
        "y = [7, 8, 3]\n",
        "for index, item in enumerate(y):\n",
        "    print(index, item)"
      ]
    },
    {
      "cell_type": "markdown",
      "metadata": {
        "id": "5PfvTx05A4Ab"
      },
      "source": [
        "**number of items** - count the number of items in a sequence"
      ]
    },
    {
      "cell_type": "code",
      "execution_count": 17,
      "metadata": {
        "ExecuteTime": {
          "end_time": "2020-03-13T07:42:59.343702Z",
          "start_time": "2020-03-13T07:42:59.337707Z"
        },
        "colab": {
          "base_uri": "https://localhost:8080/"
        },
        "id": "I7zE07qlA4Ab",
        "outputId": "9cb71295-294a-4c36-81aa-8f65ea7cecc9"
      },
      "outputs": [
        {
          "output_type": "stream",
          "name": "stdout",
          "text": [
            "3\n",
            "3\n",
            "4\n"
          ]
        }
      ],
      "source": [
        "# string\n",
        "x = 'bug'\n",
        "print(len(x))\n",
        "\n",
        "# list\n",
        "y = ['pig', 'cow', 'horse']\n",
        "print(len(y))\n",
        "\n",
        "# tuple\n",
        "z = ('Kevin', 'Niklas', 'Jenny', 'Craig')\n",
        "print(len(z))"
      ]
    },
    {
      "cell_type": "markdown",
      "metadata": {
        "id": "w-FxOy_1A4Ab"
      },
      "source": [
        "**minimum** - find the minimum item in a sequence lexicographically.  \n",
        "Alpha or numeric types, but cannot mix types."
      ]
    },
    {
      "cell_type": "code",
      "execution_count": 18,
      "metadata": {
        "ExecuteTime": {
          "end_time": "2020-03-13T07:43:00.283623Z",
          "start_time": "2020-03-13T07:43:00.277628Z"
        },
        "colab": {
          "base_uri": "https://localhost:8080/"
        },
        "id": "yNRfwwTsA4Ac",
        "outputId": "4e4a8893-631a-49e1-d96c-2fc1b3c83b15"
      },
      "outputs": [
        {
          "output_type": "stream",
          "name": "stdout",
          "text": [
            "b\n",
            "cow\n",
            "Craig\n"
          ]
        }
      ],
      "source": [
        "# string\n",
        "x = 'bug'\n",
        "print(min(x))\n",
        "\n",
        "# list\n",
        "y = ['pig', 'cow', 'horse']\n",
        "print(min(y))\n",
        "\n",
        "# tuple\n",
        "z = ('Kevin', 'Niklas', 'Jenny', 'Craig')\n",
        "print(min(z))"
      ]
    },
    {
      "cell_type": "markdown",
      "metadata": {
        "id": "DXHTL-dpA4Ac"
      },
      "source": [
        "**maximum** - find the maximum item in a sequence lexicographically.  \n",
        "Alpha or numeric types, but cannot mix types."
      ]
    },
    {
      "cell_type": "code",
      "execution_count": 19,
      "metadata": {
        "ExecuteTime": {
          "end_time": "2020-03-13T07:43:01.223051Z",
          "start_time": "2020-03-13T07:43:01.218056Z"
        },
        "colab": {
          "base_uri": "https://localhost:8080/"
        },
        "id": "VhbSg-cxA4Ad",
        "outputId": "a1423e9f-2fa4-4f0a-a1bf-9489df4e1516"
      },
      "outputs": [
        {
          "output_type": "stream",
          "name": "stdout",
          "text": [
            "u\n",
            "pig\n",
            "Niklas\n"
          ]
        }
      ],
      "source": [
        "# string\n",
        "x = 'bug'\n",
        "print(max(x))\n",
        "\n",
        "# list\n",
        "y = ['pig', 'cow', 'horse']\n",
        "print(max(y))\n",
        "\n",
        "# tuple\n",
        "z = ('Kevin', 'Niklas', 'Jenny', 'Craig')\n",
        "print(max(z))"
      ]
    },
    {
      "cell_type": "markdown",
      "metadata": {
        "id": "pT4Ms1R4A4Ad"
      },
      "source": [
        "**sum** - find the sum of items in a sequence.  \n",
        "Entire sequence must be numeric."
      ]
    },
    {
      "cell_type": "code",
      "execution_count": 20,
      "metadata": {
        "ExecuteTime": {
          "end_time": "2020-03-13T07:43:02.255916Z",
          "start_time": "2020-03-13T07:43:02.249921Z"
        },
        "colab": {
          "base_uri": "https://localhost:8080/"
        },
        "id": "OR3FnLyhA4Ae",
        "outputId": "61118bf8-5a7b-4ada-833f-b327366d1b42"
      },
      "outputs": [
        {
          "output_type": "stream",
          "name": "stdout",
          "text": [
            "27\n",
            "20\n",
            "80\n"
          ]
        }
      ],
      "source": [
        "# string -> error\n",
        "# x = [5, 7, 'bug']\n",
        "# print(sum(x))    # generates an error\n",
        "\n",
        "# list\n",
        "y = [2, 5, 8, 12]\n",
        "print(sum(y))\n",
        "print(sum(y[-2:]))\n",
        "\n",
        "# tuple\n",
        "z = (50, 4, 7, 19)\n",
        "print(sum(z))"
      ]
    },
    {
      "cell_type": "markdown",
      "metadata": {
        "id": "wKlHc5USA4Ae"
      },
      "source": [
        "**sorting** - returns a new list of items in sorted order.  \n",
        "Does not change the original list."
      ]
    },
    {
      "cell_type": "code",
      "execution_count": 21,
      "metadata": {
        "ExecuteTime": {
          "end_time": "2020-03-13T07:43:03.212826Z",
          "start_time": "2020-03-13T07:43:03.206834Z"
        },
        "colab": {
          "base_uri": "https://localhost:8080/"
        },
        "id": "eqUzlcRyA4Ae",
        "outputId": "e5df5dcf-5fb2-4f96-949e-df1c368f40b8"
      },
      "outputs": [
        {
          "output_type": "stream",
          "name": "stdout",
          "text": [
            "['b', 'g', 'u']\n",
            "['cow', 'horse', 'pig']\n",
            "['Craig', 'Jenny', 'Kevin', 'Niklas']\n"
          ]
        }
      ],
      "source": [
        "# string\n",
        "x = 'bug'\n",
        "print(sorted(x))\n",
        "\n",
        "# list\n",
        "y = ['pig', 'cow', 'horse']\n",
        "print(sorted(y))\n",
        "\n",
        "# tuple\n",
        "z = ('Kevin', 'Niklas', 'Jenny', 'Craig')\n",
        "print(sorted(z))"
      ]
    },
    {
      "cell_type": "markdown",
      "metadata": {
        "ExecuteTime": {
          "end_time": "2020-03-13T07:06:34.040947Z",
          "start_time": "2020-03-13T07:06:34.035953Z"
        },
        "id": "9RnXjvwCA4Af"
      },
      "source": [
        "**sorting** - sort by second letter  \n",
        "Add a key parameter and a lambda function to return the second character.  \n",
        "(the word *key* here is a defined parameter name, *k* is an arbitrary variable name).m"
      ]
    },
    {
      "cell_type": "code",
      "execution_count": 22,
      "metadata": {
        "ExecuteTime": {
          "end_time": "2020-03-13T07:43:04.151748Z",
          "start_time": "2020-03-13T07:43:04.146752Z"
        },
        "colab": {
          "base_uri": "https://localhost:8080/"
        },
        "id": "70FZC-b7A4Af",
        "outputId": "84d2d5f5-044b-4484-d59d-55b242f06c08"
      },
      "outputs": [
        {
          "output_type": "stream",
          "name": "stdout",
          "text": [
            "['Kevin', 'Jenny', 'Niklas', 'Craig']\n"
          ]
        }
      ],
      "source": [
        "z = ('Kevin', 'Niklas', 'Jenny', 'Craig')\n",
        "print(sorted(z, key=lambda k: k[1]))"
      ]
    },
    {
      "cell_type": "markdown",
      "metadata": {
        "id": "rXWn0wZxA4Ag"
      },
      "source": [
        "**count(item)** - returns count of an item"
      ]
    },
    {
      "cell_type": "code",
      "execution_count": 23,
      "metadata": {
        "ExecuteTime": {
          "end_time": "2020-03-13T07:43:05.106660Z",
          "start_time": "2020-03-13T07:43:05.099666Z"
        },
        "colab": {
          "base_uri": "https://localhost:8080/"
        },
        "id": "Zyx9_tg-A4Ag",
        "outputId": "23e36570-a2b9-473f-9677-1a591432f82b"
      },
      "outputs": [
        {
          "output_type": "stream",
          "name": "stdout",
          "text": [
            "2\n",
            "2\n",
            "1\n"
          ]
        }
      ],
      "source": [
        "# string\n",
        "x = 'hippo'\n",
        "print(x.count('p'))\n",
        "\n",
        "# list\n",
        "y = ['pig', 'cow', 'horse', 'cow']\n",
        "print(y.count('cow'))\n",
        "\n",
        "# tuple\n",
        "z = ('Kevin', 'Niklas', 'Jenny', 'Craig')\n",
        "print(z.count('Kevin'))"
      ]
    },
    {
      "cell_type": "markdown",
      "metadata": {
        "id": "mwdN-1vgA4Ag"
      },
      "source": [
        "**index(item)** - returns the index of the first occurence of an item."
      ]
    },
    {
      "cell_type": "code",
      "execution_count": 24,
      "metadata": {
        "ExecuteTime": {
          "end_time": "2020-03-13T07:43:06.060574Z",
          "start_time": "2020-03-13T07:43:06.054579Z"
        },
        "colab": {
          "base_uri": "https://localhost:8080/"
        },
        "id": "iU-2TUCtA4Ah",
        "outputId": "f17fdb85-1019-4ca2-8aa6-4162cc62ca26"
      },
      "outputs": [
        {
          "output_type": "stream",
          "name": "stdout",
          "text": [
            "2\n",
            "1\n",
            "2\n"
          ]
        }
      ],
      "source": [
        "# string\n",
        "x = 'hippo'\n",
        "print(x.index('p'))\n",
        "\n",
        "# list\n",
        "y = ['pig', 'cow', 'horse', 'cow']\n",
        "print(y.index('cow'))\n",
        "\n",
        "# tuple\n",
        "z = ('Kevin', 'Niklas', 'Jenny', 'Craig')\n",
        "print(z.index('Jenny'))"
      ]
    },
    {
      "cell_type": "markdown",
      "metadata": {
        "id": "A28Zs5SAA4Ah"
      },
      "source": [
        "**unpacking** - unpack the n items of a sequence into n variables"
      ]
    },
    {
      "cell_type": "code",
      "execution_count": 25,
      "metadata": {
        "ExecuteTime": {
          "end_time": "2020-03-13T07:43:07.010993Z",
          "start_time": "2020-03-13T07:43:07.005998Z"
        },
        "colab": {
          "base_uri": "https://localhost:8080/"
        },
        "id": "fEuUZXueA4Ai",
        "outputId": "a8a3a2ba-97eb-4136-d0bd-d2028c5d98c0"
      },
      "outputs": [
        {
          "output_type": "stream",
          "name": "stdout",
          "text": [
            "pig cow horse\n"
          ]
        }
      ],
      "source": [
        "x = ['pig', 'cow', 'horse']\n",
        "a, b, c = x\n",
        "print(a, b, c)"
      ]
    },
    {
      "cell_type": "markdown",
      "metadata": {
        "id": "uo46ByS3A4Aj"
      },
      "source": [
        "## Lists  \n",
        "****\n",
        "- General purpose\n",
        "- Most widely used data structure \n",
        "- Grow and shrink size as needed\n",
        "- Sequence type\n",
        "- Sortable  \n",
        "\n",
        "**constructors** - creating a new list"
      ]
    },
    {
      "cell_type": "code",
      "execution_count": 26,
      "metadata": {
        "ExecuteTime": {
          "end_time": "2020-03-13T07:43:07.989889Z",
          "start_time": "2020-03-13T07:43:07.982895Z"
        },
        "colab": {
          "base_uri": "https://localhost:8080/"
        },
        "id": "YrlEyhUcA4Aj",
        "outputId": "22b14ea9-ec68-4484-a7c7-e3fdca3c5dd1"
      },
      "outputs": [
        {
          "output_type": "stream",
          "name": "stdout",
          "text": [
            "[0, 1, 2, 3, 4, 5, 6, 7]\n",
            "[25, 36, 49, 64, 81]\n"
          ]
        }
      ],
      "source": [
        "x = list()\n",
        "y = ['a', 25, 'dog', 8.43]\n",
        "tuple1 = (10, 20)\n",
        "z = list(tuple1)\n",
        "\n",
        "# list comprehension\n",
        "a = [m for m in range(8)]\n",
        "print(a)\n",
        "b = [i**2 for i in range(10) if i > 4]\n",
        "print(b)"
      ]
    },
    {
      "cell_type": "markdown",
      "metadata": {
        "id": "IlZocVPBA4Ak"
      },
      "source": [
        "**delete** - delete a list or an item in a list"
      ]
    },
    {
      "cell_type": "code",
      "execution_count": 27,
      "metadata": {
        "ExecuteTime": {
          "end_time": "2020-03-13T07:43:08.960793Z",
          "start_time": "2020-03-13T07:43:08.956797Z"
        },
        "colab": {
          "base_uri": "https://localhost:8080/"
        },
        "id": "XwknhiZcA4Ak",
        "outputId": "af9bc33d-c847-4436-cd6a-30d46a5b0dad"
      },
      "outputs": [
        {
          "output_type": "stream",
          "name": "stdout",
          "text": [
            "[5, 8, 6]\n"
          ]
        }
      ],
      "source": [
        "x = [5, 3, 8, 6]\n",
        "del(x[1])\n",
        "print(x)\n",
        "del(x)    # list x no longer exists"
      ]
    },
    {
      "cell_type": "markdown",
      "metadata": {
        "id": "mMfSSMPVA4Ak"
      },
      "source": [
        "**append** - append an item to a list"
      ]
    },
    {
      "cell_type": "code",
      "execution_count": 28,
      "metadata": {
        "ExecuteTime": {
          "end_time": "2020-03-13T07:43:09.931694Z",
          "start_time": "2020-03-13T07:43:09.926698Z"
        },
        "colab": {
          "base_uri": "https://localhost:8080/"
        },
        "id": "6GK2CD8gA4Al",
        "outputId": "d73eb780-8617-4061-bbf9-e2e719a363f8"
      },
      "outputs": [
        {
          "output_type": "stream",
          "name": "stdout",
          "text": [
            "[5, 3, 8, 6, 7]\n"
          ]
        }
      ],
      "source": [
        "x = [5, 3, 8, 6]\n",
        "x.append(7)\n",
        "print(x)"
      ]
    },
    {
      "cell_type": "markdown",
      "metadata": {
        "id": "yJlMFycTA4Al"
      },
      "source": [
        "**extend** - append a sequence to a list"
      ]
    },
    {
      "cell_type": "code",
      "execution_count": 29,
      "metadata": {
        "ExecuteTime": {
          "end_time": "2020-03-13T07:43:11.289864Z",
          "start_time": "2020-03-13T07:43:11.284870Z"
        },
        "colab": {
          "base_uri": "https://localhost:8080/"
        },
        "id": "6fb9ILlQA4Al",
        "outputId": "ea4a6e4d-e1db-4646-8604-5444a0c7a929"
      },
      "outputs": [
        {
          "output_type": "stream",
          "name": "stdout",
          "text": [
            "[5, 3, 8, 6, 12, 13]\n"
          ]
        }
      ],
      "source": [
        "x = [5, 3, 8, 6]\n",
        "y = [12, 13]\n",
        "x.extend(y)\n",
        "print(x)"
      ]
    },
    {
      "cell_type": "markdown",
      "metadata": {
        "id": "KSrNMAa8A4Am"
      },
      "source": [
        "**insert** - insert an item at a given index"
      ]
    },
    {
      "cell_type": "code",
      "execution_count": 30,
      "metadata": {
        "ExecuteTime": {
          "end_time": "2020-03-13T07:43:12.257767Z",
          "start_time": "2020-03-13T07:43:12.252773Z"
        },
        "colab": {
          "base_uri": "https://localhost:8080/"
        },
        "id": "WeSwjs6eA4Am",
        "outputId": "4fbde395-783b-4af4-dc08-79ad71f3971f"
      },
      "outputs": [
        {
          "output_type": "stream",
          "name": "stdout",
          "text": [
            "[5, 7, 3, 8, 6]\n",
            "[5, ['a', 'm'], 7, 3, 8, 6]\n"
          ]
        }
      ],
      "source": [
        "x = [5, 3, 8, 6]\n",
        "x.insert(1, 7)\n",
        "print(x)\n",
        "x.insert(1, ['a', 'm'])\n",
        "print(x)"
      ]
    },
    {
      "cell_type": "markdown",
      "metadata": {
        "ExecuteTime": {
          "end_time": "2020-03-13T07:08:31.783372Z",
          "start_time": "2020-03-13T07:08:31.778373Z"
        },
        "id": "EWE3iH5tA4Am"
      },
      "source": [
        "**pop** - pops last item off list and returns item"
      ]
    },
    {
      "cell_type": "code",
      "execution_count": 31,
      "metadata": {
        "ExecuteTime": {
          "end_time": "2020-03-13T07:43:13.260650Z",
          "start_time": "2020-03-13T07:43:13.254656Z"
        },
        "colab": {
          "base_uri": "https://localhost:8080/"
        },
        "id": "Z7Kt8OoCA4An",
        "outputId": "bde9d01b-5e69-4b38-acf8-b5c8b7fbfa07"
      },
      "outputs": [
        {
          "output_type": "stream",
          "name": "stdout",
          "text": [
            "[5, 3, 8]\n",
            "8\n"
          ]
        }
      ],
      "source": [
        "x = [5, 3, 8, 6]\n",
        "x.pop()    # pop off the 6\n",
        "print(x)\n",
        "print(x.pop())"
      ]
    },
    {
      "cell_type": "markdown",
      "metadata": {
        "id": "_ej3hj3RA4An"
      },
      "source": [
        "**remove** - remove first instance of an item"
      ]
    },
    {
      "cell_type": "code",
      "execution_count": 32,
      "metadata": {
        "ExecuteTime": {
          "end_time": "2020-03-13T07:43:14.446918Z",
          "start_time": "2020-03-13T07:43:14.442920Z"
        },
        "colab": {
          "base_uri": "https://localhost:8080/"
        },
        "id": "PvWUiHMcA4An",
        "outputId": "1d12d5ff-45bf-409d-b405-1aca9a23ad25"
      },
      "outputs": [
        {
          "output_type": "stream",
          "name": "stdout",
          "text": [
            "[5, 8, 6, 3]\n"
          ]
        }
      ],
      "source": [
        "x = [5, 3, 8, 6, 3]\n",
        "x.remove(3)\n",
        "print(x)"
      ]
    },
    {
      "cell_type": "markdown",
      "metadata": {
        "id": "mHAxg2lbA4Ao"
      },
      "source": [
        "**reverse** - reverse the order of the list. It is an in-place sort, meaning it changes the original list."
      ]
    },
    {
      "cell_type": "code",
      "execution_count": 33,
      "metadata": {
        "ExecuteTime": {
          "end_time": "2020-03-13T07:43:15.462285Z",
          "start_time": "2020-03-13T07:43:15.458290Z"
        },
        "colab": {
          "base_uri": "https://localhost:8080/"
        },
        "id": "27W2ZMrAA4Ao",
        "outputId": "d3f9a153-2f7f-44b4-c1e1-c0bddce4f04f"
      },
      "outputs": [
        {
          "output_type": "stream",
          "name": "stdout",
          "text": [
            "[6, 8, 3, 5]\n"
          ]
        }
      ],
      "source": [
        "x = [5, 3, 8, 6]\n",
        "x.reverse()\n",
        "print(x)"
      ]
    },
    {
      "cell_type": "markdown",
      "metadata": {
        "ExecuteTime": {
          "end_time": "2020-03-13T07:12:41.430644Z",
          "start_time": "2020-03-13T07:12:41.424647Z"
        },
        "id": "QMbmo1PLA4Ao"
      },
      "source": [
        "**sort** - sort the list in place.  \n",
        "Note:  \n",
        "sorted(x) returns a new sorted list without changing the original list x.  \n",
        "x.sort() puts the items of x in sorted order (sorts in place).m"
      ]
    },
    {
      "cell_type": "code",
      "execution_count": 34,
      "metadata": {
        "ExecuteTime": {
          "end_time": "2020-03-13T07:43:16.447178Z",
          "start_time": "2020-03-13T07:43:16.442180Z"
        },
        "colab": {
          "base_uri": "https://localhost:8080/"
        },
        "id": "-Hg16FXoA4Ap",
        "outputId": "4ac2d752-03b1-483f-ebfa-8b477d21474e"
      },
      "outputs": [
        {
          "output_type": "stream",
          "name": "stdout",
          "text": [
            "[3, 5, 6, 8]\n"
          ]
        }
      ],
      "source": [
        "x = [5, 3, 8, 6]\n",
        "x.sort()\n",
        "print(x)"
      ]
    },
    {
      "cell_type": "markdown",
      "metadata": {
        "id": "kmFm-EdPA4Ap"
      },
      "source": [
        "**reverse sort** - sort items descending.  \n",
        "Use *reverse=True* parameter to the sort function."
      ]
    },
    {
      "cell_type": "code",
      "execution_count": 35,
      "metadata": {
        "ExecuteTime": {
          "end_time": "2020-03-13T07:43:17.458055Z",
          "start_time": "2020-03-13T07:43:17.454059Z"
        },
        "colab": {
          "base_uri": "https://localhost:8080/"
        },
        "id": "bDBE2tLpA4Ap",
        "outputId": "d685f458-5fc3-4b16-f2bd-ce2d0c1a97fa"
      },
      "outputs": [
        {
          "output_type": "stream",
          "name": "stdout",
          "text": [
            "[8, 6, 5, 3]\n"
          ]
        }
      ],
      "source": [
        "x = [5, 3, 8, 6]\n",
        "x.sort(reverse=True)\n",
        "print(x)"
      ]
    },
    {
      "cell_type": "markdown",
      "metadata": {
        "id": "qSIzB8fNA4Aq"
      },
      "source": [
        "## Tuples\n",
        "****\n",
        "- Immutable (can’t add/change)\n",
        "- Useful for fixed data\n",
        "- Faster than Lists\n",
        "- Sequence type  \n",
        "  \n",
        "**constructors** - creating new tuples."
      ]
    },
    {
      "cell_type": "code",
      "execution_count": 36,
      "metadata": {
        "ExecuteTime": {
          "end_time": "2020-03-13T07:43:18.523900Z",
          "start_time": "2020-03-13T07:43:18.517906Z"
        },
        "colab": {
          "base_uri": "https://localhost:8080/"
        },
        "id": "FfSqC82fA4Aq",
        "outputId": "5b3922c1-fa20-4bf6-8375-d05f445fbe00"
      },
      "outputs": [
        {
          "output_type": "stream",
          "name": "stdout",
          "text": [
            "(2,) <class 'tuple'>\n",
            "(2, 4, 6) <class 'tuple'>\n"
          ]
        }
      ],
      "source": [
        "x = ()\n",
        "x = (1, 2, 3)\n",
        "x = 1, 2, 3\n",
        "x = 2,    # the comma tells Python it's a tuple\n",
        "print(x, type(x))\n",
        "\n",
        "list1 = [2, 4, 6]\n",
        "x = tuple(list1)\n",
        "print(x, type(x))"
      ]
    },
    {
      "cell_type": "markdown",
      "metadata": {
        "id": "GeTnD-MNA4Aq"
      },
      "source": [
        "**tuples are immutable**, but member objects may be mutable."
      ]
    },
    {
      "cell_type": "code",
      "execution_count": 37,
      "metadata": {
        "ExecuteTime": {
          "end_time": "2020-03-13T07:43:19.539277Z",
          "start_time": "2020-03-13T07:43:19.533281Z"
        },
        "colab": {
          "base_uri": "https://localhost:8080/"
        },
        "id": "2IFUxq5PA4Ar",
        "outputId": "08acd598-b2c8-4707-87a2-ef994adebd01"
      },
      "outputs": [
        {
          "output_type": "stream",
          "name": "stdout",
          "text": [
            "(1, 2, 3)\n",
            "([1], 3)\n",
            "([1], 3, 4)\n"
          ]
        }
      ],
      "source": [
        "x = (1, 2, 3)\n",
        "# del(x[1])       # fails\n",
        "# x[1] = 8        # fails\n",
        "print(x)\n",
        "\n",
        "y = ([1, 2], 3)   # a tuple where the first item is a list\n",
        "del(y[0][1])      # delete the 2\n",
        "print(y)          # the list within the tuple is mutable\n",
        "\n",
        "y += (4,)         # concatenating two tuples works\n",
        "print(y)"
      ]
    },
    {
      "cell_type": "markdown",
      "metadata": {
        "ExecuteTime": {
          "end_time": "2020-03-13T07:13:46.109499Z",
          "start_time": "2020-03-13T07:13:46.103504Z"
        },
        "id": "fnyLHh90A4Ar"
      },
      "source": [
        "## Sets\n",
        "****\n",
        "- Store non-duplicate items  \n",
        "- Very fast access vs Lists  \n",
        "- Math Set ops (union, intersect)  \n",
        "- Sets are Unordered  \n",
        "  \n",
        "**constructors** - creating new sets"
      ]
    },
    {
      "cell_type": "code",
      "execution_count": 38,
      "metadata": {
        "ExecuteTime": {
          "end_time": "2020-03-13T07:43:20.559148Z",
          "start_time": "2020-03-13T07:43:20.553153Z"
        },
        "colab": {
          "base_uri": "https://localhost:8080/"
        },
        "id": "QfHapjwvA4Ar",
        "outputId": "477799c3-d1ee-4ca9-935c-73bea6a3a07e"
      },
      "outputs": [
        {
          "output_type": "stream",
          "name": "stdout",
          "text": [
            "{3, 5}\n",
            "set()\n",
            "{2, 3, 4}\n"
          ]
        }
      ],
      "source": [
        "x = {3, 5, 3, 5}\n",
        "print(x)\n",
        "\n",
        "y = set()\n",
        "print(y)\n",
        "\n",
        "list1 = [2, 3, 4]\n",
        "z = set(list1)\n",
        "print(z)"
      ]
    },
    {
      "cell_type": "markdown",
      "metadata": {
        "id": "X6G3xaKvA4As"
      },
      "source": [
        "**set operations**"
      ]
    },
    {
      "cell_type": "code",
      "execution_count": 39,
      "metadata": {
        "ExecuteTime": {
          "end_time": "2020-03-13T07:43:21.562031Z",
          "start_time": "2020-03-13T07:43:21.556037Z"
        },
        "colab": {
          "base_uri": "https://localhost:8080/"
        },
        "id": "pObusxhJA4As",
        "outputId": "f3e2b36c-0742-42b0-a83c-d286186847ea"
      },
      "outputs": [
        {
          "output_type": "stream",
          "name": "stdout",
          "text": [
            "{8, 3, 5}\n",
            "{8, 3, 5, 7}\n",
            "{8, 5, 7}\n",
            "3\n",
            "True\n",
            "8 {5, 7}\n",
            "set()\n"
          ]
        }
      ],
      "source": [
        "x = {3, 8, 5}\n",
        "print(x)\n",
        "x.add(7)\n",
        "print(x)\n",
        "\n",
        "x.remove(3)\n",
        "print(x)\n",
        "\n",
        "# get length of set x\n",
        "print(len(x))\n",
        "\n",
        "# check membership in x\n",
        "print(5 in x)\n",
        "\n",
        "# pop random item from set x\n",
        "print(x.pop(), x)\n",
        "\n",
        "# delete all items from set x\n",
        "x.clear()\n",
        "print(x)"
      ]
    },
    {
      "cell_type": "markdown",
      "metadata": {
        "id": "G1adpn5NA4At"
      },
      "source": [
        "**Mathematical set operations**  \n",
        "intersection (AND): set1 & set2  \n",
        "union (OR): set1 | set2  \n",
        "symmetric difference (XOR): set1 ^ set2  \n",
        "difference (in set1 but not set2): set1 - set2  \n",
        "subset (set2 contains set1): set1 <= set2  \n",
        "superset (set1 contains set2): set1 >= set2"
      ]
    },
    {
      "cell_type": "code",
      "execution_count": 40,
      "metadata": {
        "ExecuteTime": {
          "end_time": "2020-03-13T07:43:22.562918Z",
          "start_time": "2020-03-13T07:43:22.556925Z"
        },
        "colab": {
          "base_uri": "https://localhost:8080/"
        },
        "id": "-g1psiWTA4At",
        "outputId": "7badbeb6-6935-4674-c88f-0ea82b8150d0"
      },
      "outputs": [
        {
          "output_type": "stream",
          "name": "stdout",
          "text": [
            "{3}\n",
            "{1, 2, 3, 4, 5}\n",
            "{1, 2, 4, 5}\n",
            "{1, 2}\n",
            "False\n",
            "False\n"
          ]
        }
      ],
      "source": [
        "s1 = {1, 2, 3}\n",
        "s2 = {3, 4, 5}\n",
        "print(s1 & s2)\n",
        "print(s1 | s2)\n",
        "print(s1 ^ s2)\n",
        "print(s1 - s2)\n",
        "print(s1 <= s2)\n",
        "print(s1 >= s2)"
      ]
    },
    {
      "cell_type": "markdown",
      "metadata": {
        "id": "--QUN1cQA4At"
      },
      "source": [
        "## Dictionaries (dict)\n",
        "****\n",
        "- Key/Value pairs\n",
        "- Associative array, like Java HashMap\n",
        "- Dicts are Unordered  \n",
        "\n",
        "**constructors** - creating new dictionaries"
      ]
    },
    {
      "cell_type": "code",
      "execution_count": 41,
      "metadata": {
        "ExecuteTime": {
          "end_time": "2020-03-13T07:43:23.874115Z",
          "start_time": "2020-03-13T07:43:23.868121Z"
        },
        "colab": {
          "base_uri": "https://localhost:8080/"
        },
        "id": "W3-um4P1A4Au",
        "outputId": "0298342c-5644-488e-9913-7919acfa987b"
      },
      "outputs": [
        {
          "output_type": "stream",
          "name": "stdout",
          "text": [
            "{'fish': 25.3, 'prawns': 33.8, 'chicken': 22.7}\n",
            "{'fish': 25.3, 'prawns': 33.8, 'chicken': 22.7}\n",
            "{'pork': 25.3, 'beef': 33.8, 'chicken': 22.7}\n"
          ]
        }
      ],
      "source": [
        "x = {'fish':25.3, 'prawns':33.8, 'chicken':22.7}\n",
        "print(x)\n",
        "x = dict([('fish', 25.3),('prawns', 33.8),('chicken', 22.7)])\n",
        "print(x)\n",
        "x = dict(pork=25.3, beef=33.8, chicken=22.7)\n",
        "print(x)"
      ]
    },
    {
      "cell_type": "markdown",
      "metadata": {
        "id": "CuCT7p0YA4Au"
      },
      "source": [
        "**dict operations**"
      ]
    },
    {
      "cell_type": "code",
      "execution_count": 42,
      "metadata": {
        "ExecuteTime": {
          "end_time": "2020-03-13T07:43:24.906977Z",
          "start_time": "2020-03-13T07:43:24.900983Z"
        },
        "colab": {
          "base_uri": "https://localhost:8080/"
        },
        "id": "wxxv8P4vA4Au",
        "outputId": "a9db6401-1126-453a-c399-76353a2b7429"
      },
      "outputs": [
        {
          "output_type": "stream",
          "name": "stdout",
          "text": [
            "{'pork': 25.3, 'beef': 33.8, 'chicken': 22.7, 'shrimp': 38.2}\n",
            "{'pork': 25.3, 'beef': 33.8, 'chicken': 22.7}\n",
            "3\n",
            "{}\n"
          ]
        }
      ],
      "source": [
        "x['shrimp'] = 38.2    # add or update\n",
        "print(x)\n",
        "\n",
        "# delete an item\n",
        "del(x['shrimp'])\n",
        "print(x)\n",
        "\n",
        "# get length of dict x\n",
        "print(len(x))\n",
        "\n",
        "# delete all items from dict x\n",
        "x.clear()\n",
        "print(x)\n",
        "\n",
        "# delete dict x\n",
        "del(x)"
      ]
    },
    {
      "cell_type": "markdown",
      "metadata": {
        "id": "c1JamSgvA4Av"
      },
      "source": [
        "**accessing keys and values in a dict**  \n",
        "Not compatible with Python 2."
      ]
    },
    {
      "cell_type": "code",
      "execution_count": 43,
      "metadata": {
        "ExecuteTime": {
          "end_time": "2020-03-13T07:43:26.093259Z",
          "start_time": "2020-03-13T07:43:26.086265Z"
        },
        "colab": {
          "base_uri": "https://localhost:8080/"
        },
        "id": "ilErzvqYA4Av",
        "outputId": "31c4a3a9-650f-4bf8-9fcf-23fc76761205"
      },
      "outputs": [
        {
          "output_type": "stream",
          "name": "stdout",
          "text": [
            "dict_keys(['fish', 'prawns', 'chicken'])\n",
            "dict_values([25.3, 33.8, 22.7])\n",
            "dict_items([('fish', 25.3), ('prawns', 33.8), ('chicken', 22.7)])\n",
            "True\n",
            "False\n"
          ]
        }
      ],
      "source": [
        "y = {'fish':25.3, 'prawns':33.8, 'chicken':22.7}\n",
        "print(y.keys())\n",
        "print(y.values())\n",
        "print(y.items())      # key-value pairs\n",
        "\n",
        "# check membership in y_keys (only looks in keys, not values)\n",
        "print('prawns' in y)\n",
        "\n",
        "# check membership in y_values\n",
        "print('clams' in y.values())"
      ]
    },
    {
      "cell_type": "markdown",
      "metadata": {
        "id": "XheJOLSpA4Av"
      },
      "source": [
        "**iterating a dict** - note, items are in random order."
      ]
    },
    {
      "cell_type": "code",
      "execution_count": 44,
      "metadata": {
        "ExecuteTime": {
          "end_time": "2020-03-13T07:43:27.328996Z",
          "start_time": "2020-03-13T07:43:27.322005Z"
        },
        "colab": {
          "base_uri": "https://localhost:8080/"
        },
        "id": "4pwt9GKEA4Aw",
        "outputId": "a1aa9dd0-7d06-4d7d-fc2b-192f5689a377"
      },
      "outputs": [
        {
          "output_type": "stream",
          "name": "stdout",
          "text": [
            "fish 25.3\n",
            "prawns 33.8\n",
            "chicken 22.7\n",
            "fish 25.3\n",
            "prawns 33.8\n",
            "chicken 22.7\n"
          ]
        }
      ],
      "source": [
        "for key in y:\n",
        "    print(key, y[key])\n",
        "    \n",
        "for k, v in y.items():\n",
        "    print(k, v)"
      ]
    },
    {
      "cell_type": "markdown",
      "metadata": {
        "id": "4-c95c-EA4Aw"
      },
      "source": [
        "# Stacks, Queues & Heaps\n",
        "\n",
        "### Stack using Python List\n",
        "Stack is a LIFO data structure -- last-in, first-out.  \n",
        "Use append() to push an item onto the stack.  \n",
        "Use pop() to remove an item."
      ]
    },
    {
      "cell_type": "code",
      "execution_count": 45,
      "metadata": {
        "ExecuteTime": {
          "end_time": "2020-03-13T07:43:28.464799Z",
          "start_time": "2020-03-13T07:43:28.459805Z"
        },
        "colab": {
          "base_uri": "https://localhost:8080/"
        },
        "id": "86vwYYL-A4Aw",
        "outputId": "598756e7-193c-46f9-cedb-05311e285ab0"
      },
      "outputs": [
        {
          "output_type": "stream",
          "name": "stdout",
          "text": [
            "[4, 7, 12, 19]\n"
          ]
        }
      ],
      "source": [
        "my_stack = list()\n",
        "my_stack.append(4)\n",
        "my_stack.append(7)\n",
        "my_stack.append(12)\n",
        "my_stack.append(19)\n",
        "print(my_stack)"
      ]
    },
    {
      "cell_type": "code",
      "execution_count": 46,
      "metadata": {
        "ExecuteTime": {
          "end_time": "2020-03-13T07:43:28.535263Z",
          "start_time": "2020-03-13T07:43:28.530268Z"
        },
        "colab": {
          "base_uri": "https://localhost:8080/"
        },
        "id": "H5cwFF1vA4Ax",
        "outputId": "c715e418-2b94-460c-f1f5-188aa2f40ed4"
      },
      "outputs": [
        {
          "output_type": "stream",
          "name": "stdout",
          "text": [
            "19\n",
            "12\n",
            "[4, 7]\n"
          ]
        }
      ],
      "source": [
        "print(my_stack.pop())\n",
        "print(my_stack.pop())\n",
        "print(my_stack)"
      ]
    },
    {
      "cell_type": "markdown",
      "metadata": {
        "id": "rb58q9NGA4Ay"
      },
      "source": [
        "### Stack using List with a Wrapper Class\n",
        "We create a Stack class and a full set of Stack methods.  \n",
        "But the underlying data structure is really a Python List.  \n",
        "For pop and peek methods we first check whether the stack is empty, to avoid exceptions."
      ]
    },
    {
      "cell_type": "code",
      "execution_count": 47,
      "metadata": {
        "ExecuteTime": {
          "end_time": "2020-03-13T07:43:29.602107Z",
          "start_time": "2020-03-13T07:43:29.596112Z"
        },
        "id": "NEY88eTxA4Ay"
      },
      "outputs": [],
      "source": [
        "class Stack():\n",
        "    def __init__(self):\n",
        "        self.stack = list()\n",
        "    def push(self, item):\n",
        "        self.stack.append(item)\n",
        "    def pop(self):\n",
        "        if len(self.stack) > 0:\n",
        "            return self.stack.pop()\n",
        "        else:\n",
        "            return None\n",
        "    def peek(self):\n",
        "        if len(self.stack) > 0:\n",
        "            return self.stack[len(self.stack)-1]\n",
        "        else:\n",
        "            return None\n",
        "    def __str__(self):\n",
        "        return str(self.stack)"
      ]
    },
    {
      "cell_type": "markdown",
      "metadata": {
        "id": "8MMyzky8A4Az"
      },
      "source": [
        "### Test Code for Stack Wrapper Class"
      ]
    },
    {
      "cell_type": "code",
      "execution_count": 48,
      "metadata": {
        "ExecuteTime": {
          "end_time": "2020-03-13T07:43:30.663951Z",
          "start_time": "2020-03-13T07:43:30.657957Z"
        },
        "colab": {
          "base_uri": "https://localhost:8080/"
        },
        "id": "fJZVYKkaA4Az",
        "outputId": "b5c4e6de-a2ff-4884-a96f-50d72cdf5919"
      },
      "outputs": [
        {
          "output_type": "stream",
          "name": "stdout",
          "text": [
            "[1, 3]\n",
            "3\n",
            "1\n",
            "1\n",
            "None\n"
          ]
        }
      ],
      "source": [
        "my_stack = Stack()\n",
        "my_stack.push(1)\n",
        "my_stack.push(3)\n",
        "print(my_stack)\n",
        "print(my_stack.pop())\n",
        "print(my_stack.peek())\n",
        "print(my_stack.pop())\n",
        "print(my_stack.pop())"
      ]
    },
    {
      "cell_type": "markdown",
      "metadata": {
        "id": "OkTJ4GiEA4A0"
      },
      "source": [
        "---\n",
        "### Queue using Python Deque\n",
        "Queue is a FIFO data structure -- first-in, first-out.  \n",
        "Deque is a double-ended queue, but we can use it for our queue.  \n",
        "We use append() to enqueue an item, and popleft() to dequeue an item.  \n",
        "See [Python docs](https://docs.python.org/3/library/collections.html#collections.deque) for deque."
      ]
    },
    {
      "cell_type": "code",
      "execution_count": 49,
      "metadata": {
        "ExecuteTime": {
          "end_time": "2020-03-13T07:43:31.736793Z",
          "start_time": "2020-03-13T07:43:31.731798Z"
        },
        "colab": {
          "base_uri": "https://localhost:8080/"
        },
        "id": "4gPZyz9AA4A0",
        "outputId": "aa4d018a-0e31-411f-c0f2-2347dad6773a"
      },
      "outputs": [
        {
          "output_type": "stream",
          "name": "stdout",
          "text": [
            "deque([5, 10])\n",
            "5\n"
          ]
        }
      ],
      "source": [
        "from collections import deque\n",
        "my_queue = deque()\n",
        "my_queue.append(5)\n",
        "my_queue.append(10)\n",
        "print(my_queue)\n",
        "print(my_queue.popleft())"
      ]
    },
    {
      "cell_type": "markdown",
      "metadata": {
        "id": "0eWr9-FiA4A1"
      },
      "source": [
        "### Fun exercise:\n",
        "Write a wrapper class for the Queue class, similar to what we did for Stack, but using Python deque.  \n",
        "Try adding enqueue, dequeue, and get_size methods."
      ]
    },
    {
      "cell_type": "markdown",
      "metadata": {
        "id": "spxlV_qeA4A3"
      },
      "source": [
        "### Python Single-ended Queue Wrapper Class using Deque\n",
        "We rename the append method to enqueue, and popleft to dequeue.  \n",
        "We also add peek and get_size operations."
      ]
    },
    {
      "cell_type": "code",
      "execution_count": 50,
      "metadata": {
        "ExecuteTime": {
          "end_time": "2020-03-13T07:43:33.894970Z",
          "start_time": "2020-03-13T07:43:33.886976Z"
        },
        "id": "ozA5CMSaA4A4"
      },
      "outputs": [],
      "source": [
        "from collections import deque\n",
        "\n",
        "class Queue():\n",
        "    def __init__(self):\n",
        "        self.queue = deque()\n",
        "        self.size = 0\n",
        "    def enqueue(self, item):\n",
        "        self.queue.append(item)\n",
        "        self.size += 1\n",
        "    def dequeue(self, item):\n",
        "        if self.size > 0:\n",
        "            self.size -= 1\n",
        "            return self.queue.popleft()\n",
        "        else: \n",
        "            return None\n",
        "    def peek(self):\n",
        "        if self.size > 0:\n",
        "            ret_val = self.queue.popleft()\n",
        "            queue.appendleft(ret_val)\n",
        "            return ret_val\n",
        "        else:\n",
        "            return None\n",
        "    def get_size(self):\n",
        "        return self.size"
      ]
    },
    {
      "cell_type": "markdown",
      "metadata": {
        "id": "qd-rQ2n2A4A6"
      },
      "source": [
        "### Python MaxHeap\n",
        "A MaxHeap always bubbles the highest value to the top, so it can be removed instantly.  \n",
        "Public functions: push, peek, pop  \n",
        "Private functions: __swap, __floatUp, __bubbleDown, __str__."
      ]
    },
    {
      "cell_type": "code",
      "execution_count": 51,
      "metadata": {
        "ExecuteTime": {
          "end_time": "2020-03-13T07:43:35.225156Z",
          "start_time": "2020-03-13T07:43:35.207169Z"
        },
        "id": "71VwBWmJA4A7"
      },
      "outputs": [],
      "source": [
        "class MaxHeap:\n",
        "    def __init__(self, items=[]):\n",
        "        super().__init__()\n",
        "        self.heap = [0]\n",
        "        for item in items:\n",
        "            self.heap.append(item)\n",
        "            self.__floatUp(len(self.heap) - 1)\n",
        "\n",
        "    def push(self, data):\n",
        "        self.heap.append(data)\n",
        "        self.__floatUp(len(self.heap) - 1)\n",
        "\n",
        "    def peek(self):\n",
        "        if self.heap[1]:\n",
        "            return self.heap[1]\n",
        "        else:\n",
        "            return False\n",
        "            \n",
        "    def pop(self):\n",
        "        if len(self.heap) > 2:\n",
        "            self.__swap(1, len(self.heap) - 1)\n",
        "            max = self.heap.pop()\n",
        "            self.__bubbleDown(1)\n",
        "        elif len(self.heap) == 2:\n",
        "            max = self.heap.pop()\n",
        "        else: \n",
        "            max = False\n",
        "        return max\n",
        "\n",
        "    def __swap(self, i, j):\n",
        "        self.heap[i], self.heap[j] = self.heap[j], self.heap[i]\n",
        "\n",
        "    def __floatUp(self, index):\n",
        "        parent = index//2\n",
        "        if index <= 1:\n",
        "            return\n",
        "        elif self.heap[index] > self.heap[parent]:\n",
        "            self.__swap(index, parent)\n",
        "            self.__floatUp(parent)\n",
        "\n",
        "    def __bubbleDown(self, index):\n",
        "        left = index * 2\n",
        "        right = index * 2 + 1\n",
        "        largest = index\n",
        "        if len(self.heap) > left and self.heap[largest] < self.heap[left]:\n",
        "            largest = left\n",
        "        if len(self.heap) > right and self.heap[largest] < self.heap[right]:\n",
        "            largest = right\n",
        "        if largest != index:\n",
        "            self.__swap(index, largest)\n",
        "            self.__bubbleDown(largest)\n",
        "            \n",
        "    def __str__(self):\n",
        "        return str(self.heap)"
      ]
    },
    {
      "cell_type": "markdown",
      "metadata": {
        "id": "AJNe-6ahA4A8"
      },
      "source": [
        "### MaxHeap Test Code"
      ]
    },
    {
      "cell_type": "code",
      "execution_count": 52,
      "metadata": {
        "ExecuteTime": {
          "end_time": "2020-03-13T07:43:36.645282Z",
          "start_time": "2020-03-13T07:43:36.639287Z"
        },
        "colab": {
          "base_uri": "https://localhost:8080/"
        },
        "id": "mEdem9cjA4A8",
        "outputId": "ccf706ff-0d86-4ab2-ec08-975ccad436f7"
      },
      "outputs": [
        {
          "output_type": "stream",
          "name": "stdout",
          "text": [
            "[0, 95, 10, 21, 3]\n",
            "95\n",
            "21\n"
          ]
        }
      ],
      "source": [
        "m = MaxHeap([95, 3, 21])\n",
        "m.push(10)\n",
        "print(m)\n",
        "print(m.pop())\n",
        "print(m.peek())"
      ]
    },
    {
      "cell_type": "markdown",
      "metadata": {
        "id": "A6libK_sA4A8"
      },
      "source": [
        "# Python Linked Lists"
      ]
    },
    {
      "cell_type": "markdown",
      "metadata": {
        "id": "xdAdIUgRA4A9"
      },
      "source": [
        "### Node Class\n",
        "Node class has a constructor that sets the data passed in, and optionally can set the next_node and prev_node.  \n",
        "It also has a str method to give a string representation for printing.  \n",
        "Note that prev_node is only used for Doubly Linked Lists."
      ]
    },
    {
      "cell_type": "code",
      "execution_count": 53,
      "metadata": {
        "ExecuteTime": {
          "end_time": "2020-03-13T07:43:38.955856Z",
          "start_time": "2020-03-13T07:43:38.949863Z"
        },
        "id": "z1x3jWj2A4A9"
      },
      "outputs": [],
      "source": [
        "class Node:\n",
        "\n",
        "    def __init__ (self, d, n=None, p=None):\n",
        "        self.data = d\n",
        "        self.next_node = n\n",
        "        self.prev_node = p\n",
        "        \n",
        "    def __str__ (self):\n",
        "        return ('(' + str(self.data) + ')')"
      ]
    },
    {
      "cell_type": "markdown",
      "metadata": {
        "id": "yFqYFQxhA4A9"
      },
      "source": [
        "### LinkedList Class\n",
        "A LinkedList object has two attributes: a root node that defaults to None, and size that defaults to 0.\n",
        "    \n",
        "**Add** - method receives a piece of data, creates a new Node, setting the root as its next_node, changes the LL's root pointer to the new node, and increments size.\n",
        "\n",
        "**Find** - iterates through the nodes until it finds the data passed in. If if finds the data it will return it, otherwise returns None.\n",
        "\n",
        "**Remove** - needs pointers to this_node and prev_node. If it finds the data, it needs to check if it is in the root node (prev_node is None) before deciding how to bypass the deleted node.\n",
        "\n",
        "**Print_list** - iterates the list and prints each node."
      ]
    },
    {
      "cell_type": "code",
      "execution_count": 54,
      "metadata": {
        "ExecuteTime": {
          "end_time": "2020-03-13T07:43:40.306030Z",
          "start_time": "2020-03-13T07:43:40.294040Z"
        },
        "id": "Zyc1CtVYA4A-"
      },
      "outputs": [],
      "source": [
        "class LinkedList:\n",
        "\n",
        "    def __init__(self, r=None):\n",
        "        self.root = r\n",
        "        self.size = 0\n",
        "\n",
        "    def add(self, d):\n",
        "        new_node = Node(d, self.root)\n",
        "        self.root = new_node\n",
        "        self.size += 1\n",
        "\n",
        "    def find(self, d):\n",
        "        this_node = self.root\n",
        "        while this_node is not None:\n",
        "            if this_node.data == d:\n",
        "                return d\n",
        "            else:\n",
        "                this_node = this_node.next_node\n",
        "        return None\n",
        "\n",
        "    def remove(self, d):\n",
        "        this_node = self.root\n",
        "        prev_node = None\n",
        "\n",
        "        while this_node is not None:\n",
        "            if this_node.data == d:\n",
        "                if prev_node is not None:  # data is in non-root\n",
        "                    prev_node.next_node = this_node.next_node\n",
        "                else:  # data is in root node\n",
        "                    self.root = this_node.next_node\n",
        "                self.size -= 1\n",
        "                return True    # data removed\n",
        "            else:\n",
        "                prev_node = this_node\n",
        "                this_node = this_node.next_node\n",
        "        return False  # data not found\n",
        "\n",
        "    def print_list(self):\n",
        "        this_node = self.root\n",
        "        while this_node is not None:\n",
        "            print(this_node, end='->')\n",
        "            this_node = this_node.next_node\n",
        "        print('None')"
      ]
    },
    {
      "cell_type": "markdown",
      "metadata": {
        "id": "cSDrfNZZA4A-"
      },
      "source": [
        "### Linked List Test Code\n",
        "This test code adds nodes to the LinkedList, Prints the list, prints the size, removes an item, and finds an item."
      ]
    },
    {
      "cell_type": "code",
      "execution_count": 55,
      "metadata": {
        "ExecuteTime": {
          "end_time": "2020-03-13T07:43:41.642216Z",
          "start_time": "2020-03-13T07:43:41.636221Z"
        },
        "colab": {
          "base_uri": "https://localhost:8080/"
        },
        "id": "XlN7DAvWA4A-",
        "outputId": "7318c297-1c22-47b1-967d-9f93b3ea87ec"
      },
      "outputs": [
        {
          "output_type": "stream",
          "name": "stdout",
          "text": [
            "(12)->(8)->(5)->None\n",
            "size=3\n",
            "size=2\n",
            "5\n",
            "(12)\n"
          ]
        }
      ],
      "source": [
        "myList = LinkedList()\n",
        "myList.add(5)\n",
        "myList.add(8)\n",
        "myList.add(12)\n",
        "myList.print_list()\n",
        "\n",
        "print(\"size=\"+str(myList.size))\n",
        "myList.remove(8)\n",
        "print(\"size=\"+str(myList.size))\n",
        "print(myList.find(5))\n",
        "print(myList.root)"
      ]
    },
    {
      "cell_type": "markdown",
      "metadata": {
        "id": "T5tfEaD-A4A_"
      },
      "source": [
        "-----\n",
        "### Circular Linked List\n",
        "Includes attributes root and size.  \n",
        "Includes methods add, find, remove, and print_list."
      ]
    },
    {
      "cell_type": "code",
      "execution_count": 56,
      "metadata": {
        "ExecuteTime": {
          "end_time": "2020-03-13T07:43:42.778525Z",
          "start_time": "2020-03-13T07:43:42.763535Z"
        },
        "id": "QBulb7mXA4A_"
      },
      "outputs": [],
      "source": [
        "class CircularLinkedList:\n",
        "\n",
        "    def __init__ (self, r = None):\n",
        "        self.root = r\n",
        "        self.size = 0\n",
        "\n",
        "    def add (self, d):\n",
        "        if self.size == 0:\n",
        "            self.root = Node(d)\n",
        "            self.root.next_node = self.root\n",
        "        else:\n",
        "            new_node = Node (d, self.root.next_node)\n",
        "            self.root.next_node = new_node\n",
        "        self.size += 1\n",
        "\n",
        "    def find (self, d):\n",
        "        this_node = self.root\n",
        "        while True:\n",
        "            if this_node.data == d:\n",
        "                return d\n",
        "            elif this_node.next_node == self.root:\n",
        "                return False\n",
        "            this_node = this_node.next_node\n",
        "\n",
        "    def remove (self, d):\n",
        "        this_node = self.root\n",
        "        prev_node = None\n",
        "\n",
        "        while True:\n",
        "            if this_node.data == d:   # found\n",
        "                if prev_node is not None:\n",
        "                    prev_node.next_node = this_node.next_node\n",
        "                else:\n",
        "                    while this_node.next_node != self.root:\n",
        "                        this_node = this_node.next_node\n",
        "                    this_node.next_node = self.root.next_node\n",
        "                    self.root = self.root.next_node\n",
        "                self.size -= 1\n",
        "                return True     # data removed\n",
        "            elif this_node.next_node == self.root:\n",
        "                return False    # data not found\n",
        "            prev_node = this_node\n",
        "            this_node = this_node.next_node\n",
        "        \n",
        "    def print_list (self):\n",
        "        if self.root is None:\n",
        "            return\n",
        "        this_node = self.root\n",
        "        print (this_node, end='->')\n",
        "        while this_node.next_node != self.root:\n",
        "            this_node = this_node.next_node\n",
        "            print (this_node, end='->')\n",
        "        print()"
      ]
    },
    {
      "cell_type": "markdown",
      "metadata": {
        "id": "-10ISlEVA4BA"
      },
      "source": [
        "### Circular Linked List Test Code"
      ]
    },
    {
      "cell_type": "code",
      "execution_count": 57,
      "metadata": {
        "ExecuteTime": {
          "end_time": "2020-03-13T07:43:44.188156Z",
          "start_time": "2020-03-13T07:43:44.180162Z"
        },
        "colab": {
          "base_uri": "https://localhost:8080/"
        },
        "id": "g7sbXcplA4BA",
        "outputId": "42be17d5-2559-4cda-82a3-1f604fb3105a"
      },
      "outputs": [
        {
          "output_type": "stream",
          "name": "stdout",
          "text": [
            "size=5\n",
            "8\n",
            "False\n",
            "(5)->(9)->(8)->(3)->(7)->(5)->(9)->(8)->(3)->\n"
          ]
        }
      ],
      "source": [
        "cll = CircularLinkedList()\n",
        "for i in [5, 7, 3, 8, 9]:\n",
        "    cll.add(i)\n",
        "\n",
        "print(\"size=\"+str(cll.size))\n",
        "print(cll.find(8))\n",
        "print(cll.find(12))\n",
        "\n",
        "my_node = cll.root\n",
        "print (my_node, end='->')\n",
        "for i in range(8):\n",
        "    my_node = my_node.next_node\n",
        "    print (my_node, end='->')\n",
        "print()"
      ]
    },
    {
      "cell_type": "code",
      "execution_count": 58,
      "metadata": {
        "ExecuteTime": {
          "end_time": "2020-03-13T07:43:44.273613Z",
          "start_time": "2020-03-13T07:43:44.267107Z"
        },
        "colab": {
          "base_uri": "https://localhost:8080/"
        },
        "id": "MDbjGPc9A4BA",
        "outputId": "f020bcd9-5c06-40e4-b57e-3bd196879400"
      },
      "outputs": [
        {
          "output_type": "stream",
          "name": "stdout",
          "text": [
            "(5)->(9)->(8)->(3)->(7)->\n",
            "False\n",
            "size=4\n",
            "(9)->(3)->(7)->\n"
          ]
        }
      ],
      "source": [
        "cll.print_list()\n",
        "cll.remove(8)\n",
        "print(cll.remove(15))\n",
        "print(\"size=\"+str(cll.size))\n",
        "cll.remove(5)    # delete root node\n",
        "cll.print_list()"
      ]
    },
    {
      "cell_type": "markdown",
      "metadata": {
        "id": "E291R7uWA4BB"
      },
      "source": [
        "-----\n",
        "### Doubly Linked List"
      ]
    },
    {
      "cell_type": "code",
      "execution_count": 59,
      "metadata": {
        "ExecuteTime": {
          "end_time": "2020-03-13T07:43:45.458386Z",
          "start_time": "2020-03-13T07:43:45.443396Z"
        },
        "id": "eCJo8JtPA4BB"
      },
      "outputs": [],
      "source": [
        "class DoublyLinkedList:\n",
        "\n",
        "    def __init__ (self, r = None):\n",
        "        self.root = r\n",
        "        self.last = r\n",
        "        self.size = 0\n",
        "\n",
        "    def add (self, d):\n",
        "        if self.size == 0:\n",
        "            self.root = Node(d)\n",
        "            self.last = self.root\n",
        "        else:\n",
        "            new_node = Node(d, self.root)\n",
        "            self.root.prev_node = new_node\n",
        "            self.root = new_node\n",
        "        self.size += 1\n",
        "\n",
        "    def find (self, d):\n",
        "        this_node = self.root\n",
        "        while this_node is not None:\n",
        "            if this_node.data == d:\n",
        "                return d\n",
        "            elif this_node.next_node == None:\n",
        "                return False\n",
        "            else:\n",
        "                this_node = this_node.next_node\n",
        "\n",
        "    def remove (self, d):\n",
        "        this_node = self.root\n",
        "        while this_node is not None:\n",
        "            if this_node.data == d:\n",
        "                if this_node.prev_node is not None:\n",
        "                    if this_node.next_node is not None: # delete a middle node\n",
        "                        this_node.prev_node.next_node = this_node.next_node\n",
        "                        this_node.next_node.prev_node = this_node.prev_node\n",
        "                    else:   # delete last node\n",
        "                        this_node.prev_node.next_node = None\n",
        "                        self.last = this_node.prev_node\n",
        "                else: # delete root node\n",
        "                    self.root = this_node.next_node\n",
        "                    this_node.next_node.prev_node = self.root\n",
        "                self.size -= 1\n",
        "                return True     # data removed\n",
        "            else:\n",
        "                this_node = this_node.next_node\n",
        "        return False  # data not found\n",
        "    \n",
        "    def print_list (self):\n",
        "        if self.root is None:\n",
        "            return\n",
        "        this_node = self.root\n",
        "        print (this_node, end='->')\n",
        "        while this_node.next_node is not None:\n",
        "            this_node = this_node.next_node\n",
        "            print (this_node, end='->')\n",
        "        print()"
      ]
    },
    {
      "cell_type": "markdown",
      "metadata": {
        "id": "Jn8y_uHxA4BC"
      },
      "source": [
        "### Doubly Linked List Test Code"
      ]
    },
    {
      "cell_type": "code",
      "execution_count": 60,
      "metadata": {
        "ExecuteTime": {
          "end_time": "2020-03-13T07:43:46.668139Z",
          "start_time": "2020-03-13T07:43:46.662145Z"
        },
        "colab": {
          "base_uri": "https://localhost:8080/"
        },
        "id": "oN8ezCusA4BC",
        "outputId": "d401abb3-95f0-4ebf-8b42-c9d96c0c7a01"
      },
      "outputs": [
        {
          "output_type": "stream",
          "name": "stdout",
          "text": [
            "size=5\n",
            "(9)->(8)->(3)->(9)->(5)->\n",
            "size=4\n"
          ]
        }
      ],
      "source": [
        "dll = DoublyLinkedList()\n",
        "for i in [5, 9, 3, 8, 9]:\n",
        "    dll.add(i)\n",
        "\n",
        "print(\"size=\"+str(dll.size))\n",
        "dll.print_list()\n",
        "dll.remove(8)\n",
        "print(\"size=\"+str(dll.size))"
      ]
    },
    {
      "cell_type": "code",
      "execution_count": 61,
      "metadata": {
        "ExecuteTime": {
          "end_time": "2020-03-13T07:43:46.758083Z",
          "start_time": "2020-03-13T07:43:46.752089Z"
        },
        "colab": {
          "base_uri": "https://localhost:8080/"
        },
        "id": "Ww4LxoOeA4BD",
        "outputId": "3a83814f-06bd-496d-f475-17a6ea9f3467"
      },
      "outputs": [
        {
          "output_type": "stream",
          "name": "stdout",
          "text": [
            "False\n",
            "False\n",
            "(22)->(21)->(9)->(3)->(9)->\n",
            "(3)\n"
          ]
        }
      ],
      "source": [
        "print(dll.remove(15))\n",
        "print(dll.find(15))\n",
        "dll.add(21)\n",
        "dll.add(22)\n",
        "dll.remove(5)\n",
        "dll.print_list()\n",
        "print(dll.last.prev_node)"
      ]
    },
    {
      "cell_type": "markdown",
      "metadata": {
        "id": "tJnf8B4DA4BD"
      },
      "source": [
        "# Binary Search Tree\n",
        "**Constructor** - sets three attributes: data, left subtree and right subtree.   \n",
        "**Insert** - inserts a new subtree into the proper location.    \n",
        "**Find** - finds a value. If value not found, returns False.    \n",
        "**Get_size** - returns the number of nodes in the tree (excluding None nodes).  \n",
        "**Preorder** - prints a preorder traversal of the tree.  \n",
        "**Inorder** - prints an inorder traversal of the tree."
      ]
    },
    {
      "cell_type": "code",
      "execution_count": 62,
      "metadata": {
        "ExecuteTime": {
          "end_time": "2020-03-13T07:43:48.190209Z",
          "start_time": "2020-03-13T07:43:48.173221Z"
        },
        "id": "ZDtxhlW3A4BE"
      },
      "outputs": [],
      "source": [
        "class Tree:\n",
        "    def __init__(self, data, left=None, right=None):\n",
        "        self.data = data\n",
        "        self.left = left\n",
        "        self.right = right\n",
        "\n",
        "    def insert(self, data):\n",
        "        if self.data == data:\n",
        "            return False  # duplicate value\n",
        "        elif self.data > data:\n",
        "            if self.left is not None:\n",
        "                return self.left.insert(data)\n",
        "            else:\n",
        "                self.left = Tree(data)\n",
        "                return True\n",
        "        else:\n",
        "            if self.right is not None:\n",
        "                return self.right.insert(data)\n",
        "            else:\n",
        "                self.right = Tree(data)\n",
        "                return True\n",
        "\n",
        "    def find(self, data):\n",
        "        if self.data == data:\n",
        "            return data\n",
        "        elif self.data > data:\n",
        "            if self.left is None:\n",
        "                return False\n",
        "            else:\n",
        "                return self.left.find(data)\n",
        "        elif self.data < data:\n",
        "            if self.right is None:\n",
        "                return False\n",
        "            else:\n",
        "                return self.right.find(data)\n",
        "\n",
        "    def get_size(self):\n",
        "        if self.left is not None and self.right is not None:\n",
        "            return 1 + self.left.get_size() + self.right.get_size()\n",
        "        elif self.left:\n",
        "            return 1 + self.left.get_size()\n",
        "        elif self.right:\n",
        "            return 1 + self.right.get_size()\n",
        "        else:\n",
        "            return 1\n",
        "\n",
        "    def preorder(self):\n",
        "        if self is not None:\n",
        "            print(self.data, end=' ')\n",
        "            if self.left is not None:\n",
        "                self.left.preorder()\n",
        "            if self.right:\n",
        "                self.right.preorder()\n",
        "\n",
        "    def inorder(self):\n",
        "        if self is not None:\n",
        "            if self.left is not None:\n",
        "                self.left.inorder()\n",
        "            print(self.data, end=' ')\n",
        "            if self.right is not None:\n",
        "                self.right.inorder()"
      ]
    },
    {
      "cell_type": "markdown",
      "metadata": {
        "id": "yFBYUuD3A4BE"
      },
      "source": [
        "### Test Code\n",
        "We create a new tree, insert one value, insert a whole list of values, find all values from 1 to 15 (False for 0, 5 and 8 shows that those values are not in the tree), print the size of the tree, print preorder and postorder traversals."
      ]
    },
    {
      "cell_type": "code",
      "execution_count": 63,
      "metadata": {
        "ExecuteTime": {
          "end_time": "2020-03-13T07:43:49.783230Z",
          "start_time": "2020-03-13T07:43:49.774236Z"
        },
        "colab": {
          "base_uri": "https://localhost:8080/"
        },
        "id": "4vb7AWXvA4BE",
        "outputId": "69b058f4-2631-4f60-db7c-443c475ae2f6"
      },
      "outputs": [
        {
          "output_type": "stream",
          "name": "stdout",
          "text": [
            "False 1 2 3 4 False 6 7 False 9 10 11 12 13 14 15 \n",
            " 13\n",
            "7 2 1 3 6 4 9 15 10 12 11 13 14 \n",
            "1 2 3 4 6 7 9 10 11 12 13 14 15 \n"
          ]
        }
      ],
      "source": [
        "tree = Tree(7)\n",
        "tree.insert(9)\n",
        "for i in [15, 10, 2, 12, 3, 1, 13, 6, 11, 4, 14, 9]:\n",
        "    tree.insert(i)\n",
        "for i in range(16):\n",
        "    print(tree.find(i), end=' ')\n",
        "print('\\n', tree.get_size())\n",
        "\n",
        "tree.preorder()\n",
        "print()\n",
        "tree.inorder()\n",
        "print()"
      ]
    },
    {
      "cell_type": "markdown",
      "metadata": {
        "id": "2UTdCal5A4BF"
      },
      "source": [
        "# Graph Implementation Using Adjacency Lists\n",
        "for an undirected graph.  "
      ]
    },
    {
      "cell_type": "markdown",
      "metadata": {
        "id": "6anXwRbtA4BG"
      },
      "source": [
        "### Vertex Class\n",
        "The Vertex class has a constructor that sets the name of the vertex (in our example, just a letter), and creates a new empty set to store neighbors.\n",
        "\n",
        "The add_neighbor method adds the name of a neighboring vertex to the neighbors set. This set automatically eliminates duplicates."
      ]
    },
    {
      "cell_type": "code",
      "execution_count": 64,
      "metadata": {
        "ExecuteTime": {
          "end_time": "2020-03-13T07:43:51.987381Z",
          "start_time": "2020-03-13T07:43:51.981388Z"
        },
        "id": "jHbJvip4A4BG"
      },
      "outputs": [],
      "source": [
        "class Vertex:\n",
        "    def __init__(self, n):\n",
        "        self.name = n\n",
        "        self.neighbors = set()\n",
        "    \n",
        "    def add_neighbor(self, v):\n",
        "        self.neighbors.add(v)"
      ]
    },
    {
      "cell_type": "markdown",
      "metadata": {
        "id": "JK7ISs8kA4BH"
      },
      "source": [
        "### Graph Class\n",
        "The Graph class uses a dictionary to store vertices in the format, vertex_name:vertex_object.\n",
        "    \n",
        "Adding a new vertex to the graph, we first check if the object passed in is a vertex object, then we check if it already exists in the graph. If both checks pass, then we add the vertex to the graph's vertices dictionary.\n",
        "\n",
        "When adding an edge, we receive two vertex names, we first check if both vertex names are valid, then we add each to the other's neighbors set.\n",
        "\n",
        "To print the graph, we iterate through the vertices, and print each vertex name (the key) followed by its sorted neighbors list."
      ]
    },
    {
      "cell_type": "code",
      "execution_count": 65,
      "metadata": {
        "ExecuteTime": {
          "end_time": "2020-03-13T07:43:53.245107Z",
          "start_time": "2020-03-13T07:43:53.238112Z"
        },
        "id": "iUNoZ3iBA4BI"
      },
      "outputs": [],
      "source": [
        "class Graph:\n",
        "    vertices = {}\n",
        "    \n",
        "    def add_vertex(self, vertex):\n",
        "        if isinstance(vertex, Vertex) and vertex.name not in self.vertices:\n",
        "            self.vertices[vertex.name] = vertex\n",
        "            return True\n",
        "        else:\n",
        "            return False\n",
        "    \n",
        "    def add_edge(self, u, v):\n",
        "        if u in self.vertices and v in self.vertices:\n",
        "            self.vertices[u].add_neighbor(v)\n",
        "            self.vertices[v].add_neighbor(u)\n",
        "            return True\n",
        "        else:\n",
        "            return False\n",
        "            \n",
        "    def print_graph(self):\n",
        "        for key in sorted(list(self.vertices.keys())):\n",
        "            print(key, sorted(list(self.vertices[key].neighbors)))"
      ]
    },
    {
      "cell_type": "markdown",
      "metadata": {
        "id": "khweCIVdA4BJ"
      },
      "source": [
        "### Test Code\n",
        "Here we create a new Graph object. We create a new vertex named A. We add A to the graph. Then we add new vertex B to the graph. Then we iterate from A to K and add a bunch of vertices to the graph. Since the add_vertex method checks for duplicates, A and B are not added twice."
      ]
    },
    {
      "cell_type": "code",
      "execution_count": 66,
      "metadata": {
        "ExecuteTime": {
          "end_time": "2020-03-13T07:43:54.409398Z",
          "start_time": "2020-03-13T07:43:54.403404Z"
        },
        "id": "vpcvCtRdA4BJ"
      },
      "outputs": [],
      "source": [
        "g = Graph()\n",
        "a = Vertex('A')\n",
        "g.add_vertex(a)\n",
        "g.add_vertex(Vertex('B'))\n",
        "for i in range(ord('A'), ord('K')):\n",
        "    g.add_vertex(Vertex(chr(i)))"
      ]
    },
    {
      "cell_type": "markdown",
      "metadata": {
        "id": "oTlWkyJnA4BK"
      },
      "source": [
        "An edge consists of two vertex names. Here we iterate through a list of edges and add each to the graph. \n",
        "\n",
        "This print_graph method doesn't give a very good visualization of the graph, but it does show the neighbors for each vertex."
      ]
    },
    {
      "cell_type": "code",
      "execution_count": 67,
      "metadata": {
        "ExecuteTime": {
          "end_time": "2020-03-13T07:43:55.537203Z",
          "start_time": "2020-03-13T07:43:55.531209Z"
        },
        "colab": {
          "base_uri": "https://localhost:8080/"
        },
        "id": "0-XTiWbAA4BK",
        "outputId": "46c3b3b4-54a3-48a6-9346-eee464acc1e7"
      },
      "outputs": [
        {
          "output_type": "stream",
          "name": "stdout",
          "text": [
            "A ['B', 'E']\n",
            "B ['A', 'F']\n",
            "C ['G']\n",
            "D ['E', 'H']\n",
            "E ['A', 'D', 'H']\n",
            "F ['B', 'G', 'I', 'J']\n",
            "G ['C', 'F', 'J']\n",
            "H ['D', 'E', 'I']\n",
            "I ['F', 'H']\n",
            "J ['F', 'G']\n"
          ]
        }
      ],
      "source": [
        "edges = ['AB', 'AE', 'BF', 'CG', 'DE', 'DH', 'EH', 'FG', 'FI', 'FJ', 'GJ', 'HI']\n",
        "for edge in edges:\n",
        "    g.add_edge(edge[0], edge[1])\n",
        "\n",
        "g.print_graph()"
      ]
    },
    {
      "cell_type": "markdown",
      "metadata": {
        "id": "FDBXZmTNA4BK"
      },
      "source": [
        "# Graph Implementation Using Adjacency Matrix\n",
        "for undirected graph, with weighted or unweighted edges.  "
      ]
    },
    {
      "cell_type": "markdown",
      "metadata": {
        "id": "O3E51a9CA4BL"
      },
      "source": [
        "### Vertex Class\n",
        "A vertex object only needs to store its name. "
      ]
    },
    {
      "cell_type": "code",
      "execution_count": 68,
      "metadata": {
        "ExecuteTime": {
          "end_time": "2020-03-13T07:43:57.660899Z",
          "start_time": "2020-03-13T07:43:57.656904Z"
        },
        "id": "wVPnSMTcA4BL"
      },
      "outputs": [],
      "source": [
        "class Vertex:\n",
        "    def __init__(self, n):\n",
        "        self.name = n"
      ]
    },
    {
      "cell_type": "markdown",
      "metadata": {
        "id": "cNn7Hi4AA4BL"
      },
      "source": [
        "### Graph Class\n",
        "A graph object has three attributes:  \n",
        "**vertices** - a dictionary with vertex_name:vertex_object.  \n",
        "**edges** - a 2-dimensional list (ie. a matrix) of edges. for an unweighted graph it will contain 0 for no edge and 1 for edge.  \n",
        "**edge_indices** - a dictionary with vertex_name:list_index (eg. A:0) to access edges.  \n",
        "add_vertex updates all three of these attributes.  \n",
        "add_edge only needs to update the edges matrix."
      ]
    },
    {
      "cell_type": "code",
      "execution_count": 69,
      "metadata": {
        "ExecuteTime": {
          "end_time": "2020-03-13T07:43:58.798205Z",
          "start_time": "2020-03-13T07:43:58.786212Z"
        },
        "id": "2P2x2MqMA4BM"
      },
      "outputs": [],
      "source": [
        "class Graph:\n",
        "    vertices = {}\n",
        "    edges = []\n",
        "    edge_indices = {}\n",
        "    \n",
        "    def add_vertex(self, vertex):\n",
        "        if isinstance(vertex, Vertex) and vertex.name not in self.vertices:\n",
        "            self.vertices[vertex.name] = vertex\n",
        "            # for loop appends a column of zeros to the edges matrix\n",
        "            for row in self.edges:\n",
        "                row.append(0)\n",
        "            # append a row of zeros to the bottom of the edges matrix\n",
        "            self.edges.append([0] * (len(self.edges)+1))\n",
        "            self.edge_indices[vertex.name] = len(self.edge_indices)\n",
        "            return True\n",
        "        else:\n",
        "            return False\n",
        "    \n",
        "    def add_edge(self, u, v, weight=1):\n",
        "        if u in self.vertices and v in self.vertices:\n",
        "            self.edges[self.edge_indices[u]][self.edge_indices[v]] = weight\n",
        "            self.edges[self.edge_indices[v]][self.edge_indices[u]] = weight\n",
        "            return True\n",
        "        else:\n",
        "            return False\n",
        "            \n",
        "    def print_graph(self):\n",
        "        for v, i in sorted(self.edge_indices.items()):\n",
        "            print(v + ' ', end='')\n",
        "            for j in range(len(self.edges)):\n",
        "                print(self.edges[i][j], end=' ')\n",
        "            print(' ')"
      ]
    },
    {
      "cell_type": "markdown",
      "metadata": {
        "ExecuteTime": {
          "end_time": "2020-03-13T07:33:49.714478Z",
          "start_time": "2020-03-13T07:33:49.707483Z"
        },
        "id": "Nv6MSZA8A4BM"
      },
      "source": [
        "# Test Code\n",
        "Here we create a new Graph object. We create a new vertex named A. We add A to the graph. Then we add new vertex B to the graph. Then we iterate from A to K and add a bunch of vertices to the graph. Since the add_vertex method checks for duplicates, A and B are not added twice.\n",
        "This is exactly the same test code we used for the graph with adjacency lists."
      ]
    },
    {
      "cell_type": "code",
      "execution_count": 70,
      "metadata": {
        "ExecuteTime": {
          "end_time": "2020-03-13T07:43:59.916015Z",
          "start_time": "2020-03-13T07:43:59.911018Z"
        },
        "id": "9vQKoLjQA4BM"
      },
      "outputs": [],
      "source": [
        "g = Graph()\n",
        "a = Vertex('A')\n",
        "g.add_vertex(a)\n",
        "g.add_vertex(Vertex('B'))\n",
        "for i in range(ord('A'), ord('K')):\n",
        "    g.add_vertex(Vertex(chr(i)))"
      ]
    },
    {
      "cell_type": "markdown",
      "metadata": {
        "id": "CApxUECwA4BN"
      },
      "source": [
        "An edge consists of two vertex names. Here we iterate through a list of edges and add each to the graph. \n",
        "\n",
        "This print_graph method doesn't give a very good visualization of the graph, but it does show the adjacency matrix so we can see each vertex's neighbors."
      ]
    },
    {
      "cell_type": "code",
      "execution_count": 71,
      "metadata": {
        "ExecuteTime": {
          "end_time": "2020-03-13T07:44:01.019338Z",
          "start_time": "2020-03-13T07:44:01.011344Z"
        },
        "colab": {
          "base_uri": "https://localhost:8080/"
        },
        "id": "X18lUIqDA4BN",
        "outputId": "a99718bf-9007-4c0d-d34f-8e57e4f199f3"
      },
      "outputs": [
        {
          "output_type": "stream",
          "name": "stdout",
          "text": [
            "A 0 1 0 0 1 0 0 0 0 0  \n",
            "B 1 0 0 0 0 1 0 0 0 0  \n",
            "C 0 0 0 0 0 0 1 0 0 0  \n",
            "D 0 0 0 0 1 0 0 1 0 0  \n",
            "E 1 0 0 1 0 0 0 1 0 0  \n",
            "F 0 1 0 0 0 0 1 0 1 1  \n",
            "G 0 0 1 0 0 1 0 0 0 1  \n",
            "H 0 0 0 1 1 0 0 0 1 0  \n",
            "I 0 0 0 0 0 1 0 1 0 0  \n",
            "J 0 0 0 0 0 1 1 0 0 0  \n"
          ]
        }
      ],
      "source": [
        "edges = ['AB', 'AE', 'BF', 'CG', 'DE', 'DH', 'EH', 'FG', 'FI', 'FJ', 'GJ', 'HI']\n",
        "for edge in edges:\n",
        "    g.add_edge(edge[0], edge[1])\n",
        "\n",
        "g.print_graph()"
      ]
    },
    {
      "cell_type": "markdown",
      "source": [
        "### Connect with me:\n",
        "\n",
        "\n",
        "[<img align=\"left\" alt=\"codeSTACKr | Twitter\" width=\"22px\" src=\"https://cdn.jsdelivr.net/npm/simple-icons@v3/icons/twitter.svg\" />][twitter]\n",
        "[<img align=\"left\" alt=\"codeSTACKr | LinkedIn\" width=\"22px\" src=\"https://cdn.jsdelivr.net/npm/simple-icons@v3/icons/linkedin.svg\" />][linkedin]\n",
        "[<img align=\"left\" alt=\"codeSTACKr.com\" width=\"22px\" src=\"https://raw.githubusercontent.com/iconic/open-iconic/master/svg/globe.svg\" />][StackExchange AI]\n",
        "\n",
        "[twitter]: https://twitter.com/F4izy\n",
        "[linkedin]: https://www.linkedin.com/in/mohd-faizy/\n",
        "[StackExchange AI]: https://ai.stackexchange.com/users/36737/cypher\n",
        "\n",
        "\n",
        "---\n",
        "\n",
        "\n"
      ],
      "metadata": {
        "id": "zipCEkRaCTPW"
      }
    }
  ],
  "metadata": {
    "hide_input": false,
    "kernelspec": {
      "display_name": "Python 3",
      "language": "python",
      "name": "python3"
    },
    "language_info": {
      "codemirror_mode": {
        "name": "ipython",
        "version": 3
      },
      "file_extension": ".py",
      "mimetype": "text/x-python",
      "name": "python",
      "nbconvert_exporter": "python",
      "pygments_lexer": "ipython3",
      "version": "3.7.6"
    },
    "latex_envs": {
      "LaTeX_envs_menu_present": true,
      "autoclose": false,
      "autocomplete": true,
      "bibliofile": "biblio.bib",
      "cite_by": "apalike",
      "current_citInitial": 1,
      "eqLabelWithNumbers": true,
      "eqNumInitial": 1,
      "hotkeys": {
        "equation": "Ctrl-E",
        "itemize": "Ctrl-I"
      },
      "labels_anchors": false,
      "latex_user_defs": false,
      "report_style_numbering": false,
      "user_envs_cfg": false
    },
    "nbTranslate": {
      "displayLangs": [
        "*"
      ],
      "hotkey": "alt-t",
      "langInMainMenu": true,
      "sourceLang": "en",
      "targetLang": "fr",
      "useGoogleTranslate": true
    },
    "toc": {
      "base_numbering": 1,
      "nav_menu": {},
      "number_sections": true,
      "sideBar": true,
      "skip_h1_title": false,
      "title_cell": "Table of Contents",
      "title_sidebar": "Contents",
      "toc_cell": false,
      "toc_position": {
        "height": "calc(100% - 180px)",
        "left": "10px",
        "top": "150px",
        "width": "299.675px"
      },
      "toc_section_display": true,
      "toc_window_display": false
    },
    "varInspector": {
      "cols": {
        "lenName": 16,
        "lenType": 16,
        "lenVar": 40
      },
      "kernels_config": {
        "python": {
          "delete_cmd_postfix": "",
          "delete_cmd_prefix": "del ",
          "library": "var_list.py",
          "varRefreshCmd": "print(var_dic_list())"
        },
        "r": {
          "delete_cmd_postfix": ") ",
          "delete_cmd_prefix": "rm(",
          "library": "var_list.r",
          "varRefreshCmd": "cat(var_dic_list()) "
        }
      },
      "types_to_exclude": [
        "module",
        "function",
        "builtin_function_or_method",
        "instance",
        "_Feature"
      ],
      "window_display": false
    },
    "colab": {
      "name": "Data Structure for Data Scientist.ipynb",
      "provenance": [],
      "toc_visible": true
    }
  },
  "nbformat": 4,
  "nbformat_minor": 0
}