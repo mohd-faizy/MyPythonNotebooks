{
  "nbformat": 4,
  "nbformat_minor": 0,
  "metadata": {
    "colab": {
      "name": "SpeedComparison.ipynb",
      "provenance": [],
      "toc_visible": true
    },
    "kernelspec": {
      "name": "python3",
      "display_name": "Python 3"
    }
  },
  "cells": [
    {
      "metadata": {
        "id": "OK0YyVunripT"
      },
      "cell_type": "markdown",
      "source": [
        "#CREATION \n"
      ]
    },
    {
      "metadata": {
        "id": "7R1sV-R0rnNK"
      },
      "cell_type": "markdown",
      "source": [
        "## LIST"
      ]
    },
    {
      "metadata": {
        "id": "FD80-eE6rzE7"
      },
      "cell_type": "markdown",
      "source": [
        "for our list, we will first create a dummy list which will in turn be use to map the list which is put under the speed test"
      ]
    },
    {
      "metadata": {
        "id": "yo3y39UzsBJB"
      },
      "cell_type": "code",
      "source": [
        "my_list=list(range(1000))"
      ],
      "execution_count": 1,
      "outputs": []
    },
    {
      "metadata": {
        "id": "ZTeQ_En_sKsi"
      },
      "cell_type": "markdown",
      "source": [
        "For a suitable end result we are going to take average of time for 10000 lists"
      ]
    },
    {
      "metadata": {
        "id": "wP4Lf7v-sH8H"
      },
      "cell_type": "code",
      "source": [
        "sumlist=0 #to save the final result"
      ],
      "execution_count": 2,
      "outputs": []
    },
    {
      "metadata": {
        "id": "uqP57G1ls4Qh"
      },
      "cell_type": "markdown",
      "source": [
        "to calculate time we are going to use the help of package \"time\""
      ]
    },
    {
      "metadata": {
        "id": "ZO5zxPR3s3sP"
      },
      "cell_type": "code",
      "source": [
        "import time"
      ],
      "execution_count": 3,
      "outputs": []
    },
    {
      "metadata": {
        "id": "4_yY943atxu7"
      },
      "cell_type": "markdown",
      "source": [
        "Now we will create the list which is put under the speed test with the help of \"map\" function,  the*** tic value*** marks the start of time and*** toc value*** marks the end of observation time"
      ]
    },
    {
      "metadata": {
        "id": "ccxFw0XSs-Ob",
        "outputId": "9f48b2ab-45bd-4808-d2fd-6f21bb7fb65e",
        "colab": {
          "base_uri": "https://localhost:8080/"
        }
      },
      "cell_type": "code",
      "source": [
        "for i in range(10000):\n",
        "  tic=time.time()\n",
        "  my_ls=list(map(lambda x:x**2,my_list))\n",
        "  toc=time.time()\n",
        "  sumlist+=toc-tic\n",
        "print(\"value for list is : \",sumlist/10000)"
      ],
      "execution_count": 4,
      "outputs": [
        {
          "output_type": "stream",
          "name": "stdout",
          "text": [
            "value for list is :  0.0003192671537399292\n"
          ]
        }
      ]
    },
    {
      "metadata": {
        "id": "VSf-dTcztJhM"
      },
      "cell_type": "markdown",
      "source": [
        "##Tuple"
      ]
    },
    {
      "metadata": {
        "id": "ZwoqWTa8tMEI"
      },
      "cell_type": "markdown",
      "source": [
        "Similarly for tuple"
      ]
    },
    {
      "metadata": {
        "id": "X4yroIF_tCzP"
      },
      "cell_type": "code",
      "source": [
        "sumtuple=0\n",
        "my_tuple=tuple(range(1000))"
      ],
      "execution_count": 5,
      "outputs": []
    },
    {
      "metadata": {
        "id": "9GKgprPYtQY_",
        "outputId": "bcb68156-f9cd-4d0e-e160-33c3ea4501c9",
        "colab": {
          "base_uri": "https://localhost:8080/"
        }
      },
      "cell_type": "code",
      "source": [
        "for i in range(10000):\n",
        "  tic=time.time()\n",
        "  myt=tuple(map(lambda x:x**2,my_tuple))\n",
        "  toc=time.time()\n",
        "  sumtuple+=toc-tic\n",
        "print(\"value for tuple is : \",sumtuple/10000)"
      ],
      "execution_count": 6,
      "outputs": [
        {
          "output_type": "stream",
          "name": "stdout",
          "text": [
            "value for tuple is :  0.0003726994037628174\n"
          ]
        }
      ]
    },
    {
      "metadata": {
        "id": "W40lbD-FzE3I"
      },
      "cell_type": "markdown",
      "source": [
        "#Membership Testing"
      ]
    },
    {
      "metadata": {
        "id": "pGrpp7gqz7dc"
      },
      "cell_type": "markdown",
      "source": [
        "## LIST"
      ]
    },
    {
      "metadata": {
        "id": "pLJJgmShtSkD"
      },
      "cell_type": "code",
      "source": [
        "sumlist=0\n",
        "mylist=list(range(1000000))"
      ],
      "execution_count": 7,
      "outputs": []
    },
    {
      "metadata": {
        "id": "Jbx0AHSn0Bos",
        "outputId": "0f8eb4fa-28e6-4b06-a1e8-b841784f0cbf",
        "colab": {
          "base_uri": "https://localhost:8080/"
        }
      },
      "cell_type": "code",
      "source": [
        "for i in range(1000):\n",
        "  tic=time.time()\n",
        "  x=6666 in mylist\n",
        "  x=(11111 in mylist)\n",
        "  x=(1111111 in mylist)\n",
        "  toc=time.time()\n",
        "  sumlist+=toc-tic\n",
        "print(\"LIST TIME : \",sumlist/1000)"
      ],
      "execution_count": 8,
      "outputs": [
        {
          "output_type": "stream",
          "name": "stdout",
          "text": [
            "LIST TIME :  0.015630522966384886\n"
          ]
        }
      ]
    },
    {
      "metadata": {
        "id": "fSc7e_iI1H4f"
      },
      "cell_type": "markdown",
      "source": [
        "##SET"
      ]
    },
    {
      "metadata": {
        "id": "IruMtv9Y0aet"
      },
      "cell_type": "code",
      "source": [
        "myset=set(range(1000000))\n",
        "sumset=0"
      ],
      "execution_count": 9,
      "outputs": []
    },
    {
      "metadata": {
        "id": "0cs5GA_O0xAF",
        "outputId": "0aa7ebeb-c2a8-4675-9a4f-36677f2ffff6",
        "colab": {
          "base_uri": "https://localhost:8080/"
        }
      },
      "cell_type": "code",
      "source": [
        "for i in range(1000):\n",
        "  tic=time.time()\n",
        "  x=6666 in myset\n",
        "  x=(11111 in myset)\n",
        "  x=(1111111 in myset)\n",
        "  toc=time.time()\n",
        "  sumset+=toc-tic\n",
        "print(\"SET TIME : \",sumset/1000)"
      ],
      "execution_count": 10,
      "outputs": [
        {
          "output_type": "stream",
          "name": "stdout",
          "text": [
            "SET TIME :  8.132457733154297e-07\n"
          ]
        }
      ]
    }
  ]
}